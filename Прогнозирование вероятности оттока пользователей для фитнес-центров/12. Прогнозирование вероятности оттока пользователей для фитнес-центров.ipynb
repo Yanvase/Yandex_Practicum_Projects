{
 "cells": [
  {
   "cell_type": "code",
   "execution_count": 1,
   "metadata": {},
   "outputs": [
    {
     "data": {
      "text/html": [
       "<style>.container { width:90% !important; }</style>"
      ],
      "text/plain": [
       "<IPython.core.display.HTML object>"
      ]
     },
     "metadata": {},
     "output_type": "display_data"
    }
   ],
   "source": [
    "# Адаптируем размер тетрадки\n",
    "from IPython.display import display, HTML\n",
    "display(HTML(\"<style>.container { width:90% !important; }</style>\"))"
   ]
  },
  {
   "cell_type": "markdown",
   "metadata": {},
   "source": [
    "<a id='31-bullet'></a>\n",
    "\n",
    "<b> Название проекта: </b>\n",
    "    \n",
    "Стратегия взаимодействия с клиентами на основе аналитических данных сети фитнес-центров «Культурист-датасаентист»\n",
    "\n",
    "<b> Цель проекта: </b>\n",
    "\n",
    "Подготовить план действий по удержанию клиентов.\n",
    "\n",
    "\n",
    "    \n",
    "В данном исследовании представлены данные клиента за предыдущий до проверки факта оттока месяц и информация на основе журнала посещений, покупок и информация о текущем статусе абонемента клиента.\n",
    "    \n",
    "\n",
    "<b> Данное исследование разделим на несколько частей:<b/>\n",
    "\n",
    "##### Часть 1. Изучение общей информации:\n",
    "* [1. Изучение файлов с данными, получение общей информации, загрузка библиотек.](#1-bullet)\n",
    "\n",
    "##### Часть 2. Подготка данных и (EDA):\n",
    "* [1. Посмотрите на датасет: есть ли в нем отсутствующие признаки, изучите средние значения и стандартные отклонения (пригодится метод describe());](#2.1-bullet)\n",
    "* [2. Посмотрите на средние значения признаков в двух группах — тех, кто ушел в отток и тех, кто остался (воспользуйтесь методом groupby());](#2.2-bullet)\n",
    "* [3. Постройте столбчатые гистограммы и распределения признаков для тех, кто ушёл (отток) и тех, кто остался (не попали в отток);](#2.3-bullet)\n",
    "* [4. Постройте матрицу корреляций и отобразите её.](#2.4-bullet)\n",
    "\n",
    "\n",
    "##### Часть 3. Постройте модель прогнозирования оттока клиентов:\n",
    "* [1. Разбейте данные на обучающую и валидационную выборку функцией train_test_split().](#3.1-bullet)\n",
    "* [2. Обучите модель на train-выборке двумя способами:](#3.2-bullet)\n",
    "    * [3. Логистической регрессией,](#3.3-bullet)\n",
    "    * [4. Случайным лесом.](#3.4-bullet)\n",
    "* [5. Оцените метрики accuracy, precision и recall для обеих моделей на валидационной выборке. Сравните по ним модели. Какая модель показала себя лучше на основании метрик?](#3.5-bullet)\n",
    "\n",
    "\n",
    "##### Часть 4. Сделайте кластеризацию клиентов:\n",
    "* [1. Стандартизируйте данные.](#4.1-bullet)\n",
    "* [2. Постройте матрицу расстояний функцией linkage() на стандартизованной матрице признаков и нарисуйте дендрограмму. Внимание: отрисовка дендрограммы может занять время! На основании полученного графика предположите, какое количество кластеров можно выделить.](#4.2-bullet)\n",
    "* [3. Обучите модель кластеризации на основании алгоритма K-Means и спрогнозируйте кластеры клиентов. Договоримся за число кластеров принять n=5, чтобы ваши результаты можно было сравнивать с результатами остальных студентов. Однако, конечно, в жизни никто не скажет вам правильный ответ, и решение остаётся за вами (на основании изучения графика из предыдущего пункта).](#4.3-bullet)\n",
    "* [4. Посмотрите на средние значения признаков для кластеров. Можно ли сразу что-то заметить?](#4.4-bullet)\n",
    "* [5. Постройте распределения признаков для кластеров. Можно ли что-то заметить по ним?](#4.5-bullet)\n",
    "* [6. Для каждого полученного кластера посчитайте долю оттока (методом groupby()). Отличаются ли они по доле оттока? Какие кластеры склонны к оттоку, а какие — надёжны?](#4.6-bullet)\n",
    "  \n",
    "    \n",
    "##### Часть 5. Общий вывод:\n",
    "* [1. Общий вывод и рекомендации.](#5-bullet)  \n",
    "   \n",
    "\n",
    "    \n",
    "\n",
    "<b> Описание проекта:</b>\n",
    "    \n",
    "Чтобы бороться с оттоком, отдел по работе с клиентами «Культуриста-датасаентиста» перевёл в электронный вид множество клиентских анкет. Ваша задача — провести анализ и подготовить план действий по удержанию клиентов.\n",
    "    \n",
    "<b> Описание данных проекта:</b>\n",
    "\n",
    "* Данные клиента за предыдущий до проверки факта оттока месяц:\n",
    "    * 'gender' — пол;\n",
    "    * 'Near_Location' — проживание или работа в районе, где находится фитнес-центр;\n",
    "    * 'Partner' — сотрудник компании-партнёра клуба (сотрудничество с компаниями, чьи сотрудники могут получать скидки на абонемент — в таком случае фитнес-центр хранит информацию о работодателе клиента);\n",
    "    * 'Promo_friends' — факт первоначальной записи в рамках акции «приведи друга» (использовал промо-код от знакомого при оплате первого абонемента);\n",
    "    * 'Phone' — наличие контактного телефона;\n",
    "    * 'Age' — возраст;\n",
    "    * 'Lifetime' — время с момента первого обращения в фитнес-центр (в месяцах).\n",
    "    \n",
    "* Информация на основе журнала посещений, покупок и информация о текущем статусе абонемента клиента:\n",
    "    * 'Contract_period' — длительность текущего действующего абонемента (месяц, 6 месяцев, год);\n",
    "    * 'Month_to_end_contract' — срок до окончания текущего действующего абонемента (в месяцах);\n",
    "    * 'Group_visits' — факт посещения групповых занятий;\n",
    "    * 'Avg_class_frequency_total' — средняя частота посещений в неделю за все время с начала действия абонемента;\n",
    "    * 'Avg_class_frequency_current_month' — средняя частота посещений в неделю за предыдущий месяц;\n",
    "    * 'Avg_additional_charges_total' — суммарная выручка от других услуг фитнес-центра: кафе, спорттовары, косметический и массажный салон.\n",
    "    * 'Churn' — факт оттока в текущем месяце."
   ]
  },
  {
   "cell_type": "markdown",
   "metadata": {},
   "source": [
    "<a id= '1-bullet'></a>\n",
    "# Изучение общей информации:"
   ]
  },
  {
   "cell_type": "code",
   "execution_count": 2,
   "metadata": {},
   "outputs": [],
   "source": [
    "# импортируем библиотеки\n",
    "import pandas as pd\n",
    "\n",
    "import seaborn as sns\n",
    "import matplotlib.pyplot as plt\n",
    "import plotly.express as px\n",
    "import itertools\n",
    "\n",
    "from sklearn.preprocessing import StandardScaler\n",
    "from sklearn.model_selection import train_test_split\n",
    "from sklearn.linear_model import Lasso \n",
    "from sklearn.linear_model import Ridge\n",
    "from sklearn.linear_model import LogisticRegression\n",
    "from sklearn.tree import DecisionTreeRegressor\n",
    "from sklearn.ensemble import RandomForestRegressor\n",
    "from sklearn.ensemble import GradientBoostingRegressor\n",
    "from sklearn.ensemble import RandomForestClassifier\n",
    "from sklearn.metrics import mean_absolute_error\n",
    "from sklearn.metrics import mean_squared_error\n",
    "from sklearn.metrics import r2_score\n",
    "from sklearn.metrics import accuracy_score\n",
    "from sklearn.metrics import precision_score\n",
    "from sklearn.metrics import recall_score\n",
    "from sklearn.metrics import f1_score\n",
    "from sklearn.cluster import KMeans\n",
    "\n",
    "from scipy.cluster.hierarchy import dendrogram\n",
    "from scipy.cluster.hierarchy import linkage \n",
    "\n"
   ]
  },
  {
   "cell_type": "code",
   "execution_count": 3,
   "metadata": {},
   "outputs": [],
   "source": [
    "# прочитаем из csv-файла данные\n",
    "import os\n",
    "\n",
    "pth1 = '/datasets/gym_churn.csv'\n",
    "pth2 = 'gym_churn.csv'\n",
    "\n",
    "if os.path.exists(pth1):\n",
    "    gym_churn = pd.read_csv(pth1)\n",
    "elif os.path.exists(pth2):\n",
    "    gym_churn = pd.read_csv(pth2)\n",
    "else:\n",
    "    print('Something is wrong')\n",
    "\n"
   ]
  },
  {
   "cell_type": "code",
   "execution_count": 4,
   "metadata": {
    "scrolled": false
   },
   "outputs": [
    {
     "name": "stdout",
     "output_type": "stream",
     "text": [
      "<class 'pandas.core.frame.DataFrame'>\n",
      "RangeIndex: 4000 entries, 0 to 3999\n",
      "Data columns (total 14 columns):\n",
      " #   Column                             Non-Null Count  Dtype  \n",
      "---  ------                             --------------  -----  \n",
      " 0   gender                             4000 non-null   int64  \n",
      " 1   Near_Location                      4000 non-null   int64  \n",
      " 2   Partner                            4000 non-null   int64  \n",
      " 3   Promo_friends                      4000 non-null   int64  \n",
      " 4   Phone                              4000 non-null   int64  \n",
      " 5   Contract_period                    4000 non-null   int64  \n",
      " 6   Group_visits                       4000 non-null   int64  \n",
      " 7   Age                                4000 non-null   int64  \n",
      " 8   Avg_additional_charges_total       4000 non-null   float64\n",
      " 9   Month_to_end_contract              4000 non-null   float64\n",
      " 10  Lifetime                           4000 non-null   int64  \n",
      " 11  Avg_class_frequency_total          4000 non-null   float64\n",
      " 12  Avg_class_frequency_current_month  4000 non-null   float64\n",
      " 13  Churn                              4000 non-null   int64  \n",
      "dtypes: float64(4), int64(10)\n",
      "memory usage: 437.6 KB\n"
     ]
    },
    {
     "data": {
      "text/html": [
       "<div>\n",
       "<style scoped>\n",
       "    .dataframe tbody tr th:only-of-type {\n",
       "        vertical-align: middle;\n",
       "    }\n",
       "\n",
       "    .dataframe tbody tr th {\n",
       "        vertical-align: top;\n",
       "    }\n",
       "\n",
       "    .dataframe thead th {\n",
       "        text-align: right;\n",
       "    }\n",
       "</style>\n",
       "<table border=\"1\" class=\"dataframe\">\n",
       "  <thead>\n",
       "    <tr style=\"text-align: right;\">\n",
       "      <th></th>\n",
       "      <th>gender</th>\n",
       "      <th>Near_Location</th>\n",
       "      <th>Partner</th>\n",
       "      <th>Promo_friends</th>\n",
       "      <th>Phone</th>\n",
       "      <th>Contract_period</th>\n",
       "      <th>Group_visits</th>\n",
       "      <th>Age</th>\n",
       "      <th>Avg_additional_charges_total</th>\n",
       "      <th>Month_to_end_contract</th>\n",
       "      <th>Lifetime</th>\n",
       "      <th>Avg_class_frequency_total</th>\n",
       "      <th>Avg_class_frequency_current_month</th>\n",
       "      <th>Churn</th>\n",
       "    </tr>\n",
       "  </thead>\n",
       "  <tbody>\n",
       "    <tr>\n",
       "      <th>0</th>\n",
       "      <td>1</td>\n",
       "      <td>1</td>\n",
       "      <td>1</td>\n",
       "      <td>1</td>\n",
       "      <td>0</td>\n",
       "      <td>6</td>\n",
       "      <td>1</td>\n",
       "      <td>29</td>\n",
       "      <td>14.227470</td>\n",
       "      <td>5.0</td>\n",
       "      <td>3</td>\n",
       "      <td>0.020398</td>\n",
       "      <td>0.000000</td>\n",
       "      <td>0</td>\n",
       "    </tr>\n",
       "    <tr>\n",
       "      <th>1</th>\n",
       "      <td>0</td>\n",
       "      <td>1</td>\n",
       "      <td>0</td>\n",
       "      <td>0</td>\n",
       "      <td>1</td>\n",
       "      <td>12</td>\n",
       "      <td>1</td>\n",
       "      <td>31</td>\n",
       "      <td>113.202938</td>\n",
       "      <td>12.0</td>\n",
       "      <td>7</td>\n",
       "      <td>1.922936</td>\n",
       "      <td>1.910244</td>\n",
       "      <td>0</td>\n",
       "    </tr>\n",
       "    <tr>\n",
       "      <th>2</th>\n",
       "      <td>0</td>\n",
       "      <td>1</td>\n",
       "      <td>1</td>\n",
       "      <td>0</td>\n",
       "      <td>1</td>\n",
       "      <td>1</td>\n",
       "      <td>0</td>\n",
       "      <td>28</td>\n",
       "      <td>129.448479</td>\n",
       "      <td>1.0</td>\n",
       "      <td>2</td>\n",
       "      <td>1.859098</td>\n",
       "      <td>1.736502</td>\n",
       "      <td>0</td>\n",
       "    </tr>\n",
       "    <tr>\n",
       "      <th>3</th>\n",
       "      <td>0</td>\n",
       "      <td>1</td>\n",
       "      <td>1</td>\n",
       "      <td>1</td>\n",
       "      <td>1</td>\n",
       "      <td>12</td>\n",
       "      <td>1</td>\n",
       "      <td>33</td>\n",
       "      <td>62.669863</td>\n",
       "      <td>12.0</td>\n",
       "      <td>2</td>\n",
       "      <td>3.205633</td>\n",
       "      <td>3.357215</td>\n",
       "      <td>0</td>\n",
       "    </tr>\n",
       "    <tr>\n",
       "      <th>4</th>\n",
       "      <td>1</td>\n",
       "      <td>1</td>\n",
       "      <td>1</td>\n",
       "      <td>1</td>\n",
       "      <td>1</td>\n",
       "      <td>1</td>\n",
       "      <td>0</td>\n",
       "      <td>26</td>\n",
       "      <td>198.362265</td>\n",
       "      <td>1.0</td>\n",
       "      <td>3</td>\n",
       "      <td>1.113884</td>\n",
       "      <td>1.120078</td>\n",
       "      <td>0</td>\n",
       "    </tr>\n",
       "  </tbody>\n",
       "</table>\n",
       "</div>"
      ],
      "text/plain": [
       "   gender  Near_Location  Partner  Promo_friends  Phone  Contract_period  \\\n",
       "0       1              1        1              1      0                6   \n",
       "1       0              1        0              0      1               12   \n",
       "2       0              1        1              0      1                1   \n",
       "3       0              1        1              1      1               12   \n",
       "4       1              1        1              1      1                1   \n",
       "\n",
       "   Group_visits  Age  Avg_additional_charges_total  Month_to_end_contract  \\\n",
       "0             1   29                     14.227470                    5.0   \n",
       "1             1   31                    113.202938                   12.0   \n",
       "2             0   28                    129.448479                    1.0   \n",
       "3             1   33                     62.669863                   12.0   \n",
       "4             0   26                    198.362265                    1.0   \n",
       "\n",
       "   Lifetime  Avg_class_frequency_total  Avg_class_frequency_current_month  \\\n",
       "0         3                   0.020398                           0.000000   \n",
       "1         7                   1.922936                           1.910244   \n",
       "2         2                   1.859098                           1.736502   \n",
       "3         2                   3.205633                           3.357215   \n",
       "4         3                   1.113884                           1.120078   \n",
       "\n",
       "   Churn  \n",
       "0      0  \n",
       "1      0  \n",
       "2      0  \n",
       "3      0  \n",
       "4      0  "
      ]
     },
     "execution_count": 4,
     "metadata": {},
     "output_type": "execute_result"
    }
   ],
   "source": [
    "# посмотрим на данные\n",
    "gym_churn.info()\n",
    "gym_churn.head()"
   ]
  },
  {
   "cell_type": "code",
   "execution_count": 5,
   "metadata": {
    "scrolled": false
   },
   "outputs": [
    {
     "name": "stdout",
     "output_type": "stream",
     "text": [
      "0\n"
     ]
    }
   ],
   "source": [
    "# Проверка на полные дубликаты:\n",
    "print(gym_churn.duplicated().sum())"
   ]
  },
  {
   "cell_type": "code",
   "execution_count": 6,
   "metadata": {},
   "outputs": [
    {
     "name": "stdout",
     "output_type": "stream",
     "text": [
      "gender                               0\n",
      "Near_Location                        0\n",
      "Partner                              0\n",
      "Promo_friends                        0\n",
      "Phone                                0\n",
      "Contract_period                      0\n",
      "Group_visits                         0\n",
      "Age                                  0\n",
      "Avg_additional_charges_total         0\n",
      "Month_to_end_contract                0\n",
      "Lifetime                             0\n",
      "Avg_class_frequency_total            0\n",
      "Avg_class_frequency_current_month    0\n",
      "Churn                                0\n",
      "dtype: int64\n"
     ]
    }
   ],
   "source": [
    "# Проверка на пропуски:\n",
    "print(gym_churn.isna().sum())"
   ]
  },
  {
   "cell_type": "markdown",
   "metadata": {},
   "source": [
    "<b> Вывод:\n",
    "    В датасете 14 столбцов содержащие 4000 записей. Данные чистые, без пропусков и дубликатов. Все данные числовые и удобные для использования. Для удобства, стоит привести все названия к нижнему регистру."
   ]
  },
  {
   "cell_type": "markdown",
   "metadata": {},
   "source": [
    "<a id= '2.1-bullet'></a>\n",
    "# Подготка данных и (EDA):"
   ]
  },
  {
   "cell_type": "code",
   "execution_count": 7,
   "metadata": {},
   "outputs": [
    {
     "data": {
      "text/html": [
       "<div>\n",
       "<style scoped>\n",
       "    .dataframe tbody tr th:only-of-type {\n",
       "        vertical-align: middle;\n",
       "    }\n",
       "\n",
       "    .dataframe tbody tr th {\n",
       "        vertical-align: top;\n",
       "    }\n",
       "\n",
       "    .dataframe thead th {\n",
       "        text-align: right;\n",
       "    }\n",
       "</style>\n",
       "<table border=\"1\" class=\"dataframe\">\n",
       "  <thead>\n",
       "    <tr style=\"text-align: right;\">\n",
       "      <th></th>\n",
       "      <th>gender</th>\n",
       "      <th>near_location</th>\n",
       "      <th>partner</th>\n",
       "      <th>promo_friends</th>\n",
       "      <th>phone</th>\n",
       "      <th>contract_period</th>\n",
       "      <th>group_visits</th>\n",
       "      <th>age</th>\n",
       "      <th>avg_additional_charges_total</th>\n",
       "      <th>month_to_end_contract</th>\n",
       "      <th>lifetime</th>\n",
       "      <th>avg_class_frequency_total</th>\n",
       "      <th>avg_class_frequency_current_month</th>\n",
       "      <th>churn</th>\n",
       "    </tr>\n",
       "  </thead>\n",
       "  <tbody>\n",
       "    <tr>\n",
       "      <th>0</th>\n",
       "      <td>1</td>\n",
       "      <td>1</td>\n",
       "      <td>1</td>\n",
       "      <td>1</td>\n",
       "      <td>0</td>\n",
       "      <td>6</td>\n",
       "      <td>1</td>\n",
       "      <td>29</td>\n",
       "      <td>14.227470</td>\n",
       "      <td>5.0</td>\n",
       "      <td>3</td>\n",
       "      <td>0.020398</td>\n",
       "      <td>0.000000</td>\n",
       "      <td>0</td>\n",
       "    </tr>\n",
       "    <tr>\n",
       "      <th>1</th>\n",
       "      <td>0</td>\n",
       "      <td>1</td>\n",
       "      <td>0</td>\n",
       "      <td>0</td>\n",
       "      <td>1</td>\n",
       "      <td>12</td>\n",
       "      <td>1</td>\n",
       "      <td>31</td>\n",
       "      <td>113.202938</td>\n",
       "      <td>12.0</td>\n",
       "      <td>7</td>\n",
       "      <td>1.922936</td>\n",
       "      <td>1.910244</td>\n",
       "      <td>0</td>\n",
       "    </tr>\n",
       "    <tr>\n",
       "      <th>2</th>\n",
       "      <td>0</td>\n",
       "      <td>1</td>\n",
       "      <td>1</td>\n",
       "      <td>0</td>\n",
       "      <td>1</td>\n",
       "      <td>1</td>\n",
       "      <td>0</td>\n",
       "      <td>28</td>\n",
       "      <td>129.448479</td>\n",
       "      <td>1.0</td>\n",
       "      <td>2</td>\n",
       "      <td>1.859098</td>\n",
       "      <td>1.736502</td>\n",
       "      <td>0</td>\n",
       "    </tr>\n",
       "    <tr>\n",
       "      <th>3</th>\n",
       "      <td>0</td>\n",
       "      <td>1</td>\n",
       "      <td>1</td>\n",
       "      <td>1</td>\n",
       "      <td>1</td>\n",
       "      <td>12</td>\n",
       "      <td>1</td>\n",
       "      <td>33</td>\n",
       "      <td>62.669863</td>\n",
       "      <td>12.0</td>\n",
       "      <td>2</td>\n",
       "      <td>3.205633</td>\n",
       "      <td>3.357215</td>\n",
       "      <td>0</td>\n",
       "    </tr>\n",
       "    <tr>\n",
       "      <th>4</th>\n",
       "      <td>1</td>\n",
       "      <td>1</td>\n",
       "      <td>1</td>\n",
       "      <td>1</td>\n",
       "      <td>1</td>\n",
       "      <td>1</td>\n",
       "      <td>0</td>\n",
       "      <td>26</td>\n",
       "      <td>198.362265</td>\n",
       "      <td>1.0</td>\n",
       "      <td>3</td>\n",
       "      <td>1.113884</td>\n",
       "      <td>1.120078</td>\n",
       "      <td>0</td>\n",
       "    </tr>\n",
       "  </tbody>\n",
       "</table>\n",
       "</div>"
      ],
      "text/plain": [
       "   gender  near_location  partner  promo_friends  phone  contract_period  \\\n",
       "0       1              1        1              1      0                6   \n",
       "1       0              1        0              0      1               12   \n",
       "2       0              1        1              0      1                1   \n",
       "3       0              1        1              1      1               12   \n",
       "4       1              1        1              1      1                1   \n",
       "\n",
       "   group_visits  age  avg_additional_charges_total  month_to_end_contract  \\\n",
       "0             1   29                     14.227470                    5.0   \n",
       "1             1   31                    113.202938                   12.0   \n",
       "2             0   28                    129.448479                    1.0   \n",
       "3             1   33                     62.669863                   12.0   \n",
       "4             0   26                    198.362265                    1.0   \n",
       "\n",
       "   lifetime  avg_class_frequency_total  avg_class_frequency_current_month  \\\n",
       "0         3                   0.020398                           0.000000   \n",
       "1         7                   1.922936                           1.910244   \n",
       "2         2                   1.859098                           1.736502   \n",
       "3         2                   3.205633                           3.357215   \n",
       "4         3                   1.113884                           1.120078   \n",
       "\n",
       "   churn  \n",
       "0      0  \n",
       "1      0  \n",
       "2      0  \n",
       "3      0  \n",
       "4      0  "
      ]
     },
     "execution_count": 7,
     "metadata": {},
     "output_type": "execute_result"
    }
   ],
   "source": [
    "# приведем названия столбцов к нижнему регистру\n",
    "gym_churn.columns = gym_churn.columns.str.lower()\n",
    "\n",
    "gym_churn.head()"
   ]
  },
  {
   "cell_type": "markdown",
   "metadata": {},
   "source": [
    "<a id= '2.1-bullet'></a>\n",
    "## Посмотрите на датасет: есть ли в нем отсутствующие признаки, изучите средние значения и стандартные отклонения (пригодится метод describe());"
   ]
  },
  {
   "cell_type": "code",
   "execution_count": 8,
   "metadata": {
    "scrolled": false
   },
   "outputs": [
    {
     "data": {
      "text/html": [
       "<div>\n",
       "<style scoped>\n",
       "    .dataframe tbody tr th:only-of-type {\n",
       "        vertical-align: middle;\n",
       "    }\n",
       "\n",
       "    .dataframe tbody tr th {\n",
       "        vertical-align: top;\n",
       "    }\n",
       "\n",
       "    .dataframe thead th {\n",
       "        text-align: right;\n",
       "    }\n",
       "</style>\n",
       "<table border=\"1\" class=\"dataframe\">\n",
       "  <thead>\n",
       "    <tr style=\"text-align: right;\">\n",
       "      <th></th>\n",
       "      <th>gender</th>\n",
       "      <th>near_location</th>\n",
       "      <th>partner</th>\n",
       "      <th>promo_friends</th>\n",
       "      <th>phone</th>\n",
       "      <th>contract_period</th>\n",
       "      <th>group_visits</th>\n",
       "      <th>age</th>\n",
       "      <th>avg_additional_charges_total</th>\n",
       "      <th>month_to_end_contract</th>\n",
       "      <th>lifetime</th>\n",
       "      <th>avg_class_frequency_total</th>\n",
       "      <th>avg_class_frequency_current_month</th>\n",
       "      <th>churn</th>\n",
       "    </tr>\n",
       "  </thead>\n",
       "  <tbody>\n",
       "    <tr>\n",
       "      <th>count</th>\n",
       "      <td>4000.000000</td>\n",
       "      <td>4000.000000</td>\n",
       "      <td>4000.000000</td>\n",
       "      <td>4000.000000</td>\n",
       "      <td>4000.000000</td>\n",
       "      <td>4000.000000</td>\n",
       "      <td>4000.000000</td>\n",
       "      <td>4000.000000</td>\n",
       "      <td>4000.000000</td>\n",
       "      <td>4000.000000</td>\n",
       "      <td>4000.000000</td>\n",
       "      <td>4000.000000</td>\n",
       "      <td>4000.000000</td>\n",
       "      <td>4000.000000</td>\n",
       "    </tr>\n",
       "    <tr>\n",
       "      <th>mean</th>\n",
       "      <td>0.510250</td>\n",
       "      <td>0.845250</td>\n",
       "      <td>0.486750</td>\n",
       "      <td>0.308500</td>\n",
       "      <td>0.903500</td>\n",
       "      <td>4.681250</td>\n",
       "      <td>0.412250</td>\n",
       "      <td>29.184250</td>\n",
       "      <td>146.943728</td>\n",
       "      <td>4.322750</td>\n",
       "      <td>3.724750</td>\n",
       "      <td>1.879020</td>\n",
       "      <td>1.767052</td>\n",
       "      <td>0.265250</td>\n",
       "    </tr>\n",
       "    <tr>\n",
       "      <th>std</th>\n",
       "      <td>0.499957</td>\n",
       "      <td>0.361711</td>\n",
       "      <td>0.499887</td>\n",
       "      <td>0.461932</td>\n",
       "      <td>0.295313</td>\n",
       "      <td>4.549706</td>\n",
       "      <td>0.492301</td>\n",
       "      <td>3.258367</td>\n",
       "      <td>96.355602</td>\n",
       "      <td>4.191297</td>\n",
       "      <td>3.749267</td>\n",
       "      <td>0.972245</td>\n",
       "      <td>1.052906</td>\n",
       "      <td>0.441521</td>\n",
       "    </tr>\n",
       "    <tr>\n",
       "      <th>min</th>\n",
       "      <td>0.000000</td>\n",
       "      <td>0.000000</td>\n",
       "      <td>0.000000</td>\n",
       "      <td>0.000000</td>\n",
       "      <td>0.000000</td>\n",
       "      <td>1.000000</td>\n",
       "      <td>0.000000</td>\n",
       "      <td>18.000000</td>\n",
       "      <td>0.148205</td>\n",
       "      <td>1.000000</td>\n",
       "      <td>0.000000</td>\n",
       "      <td>0.000000</td>\n",
       "      <td>0.000000</td>\n",
       "      <td>0.000000</td>\n",
       "    </tr>\n",
       "    <tr>\n",
       "      <th>25%</th>\n",
       "      <td>0.000000</td>\n",
       "      <td>1.000000</td>\n",
       "      <td>0.000000</td>\n",
       "      <td>0.000000</td>\n",
       "      <td>1.000000</td>\n",
       "      <td>1.000000</td>\n",
       "      <td>0.000000</td>\n",
       "      <td>27.000000</td>\n",
       "      <td>68.868830</td>\n",
       "      <td>1.000000</td>\n",
       "      <td>1.000000</td>\n",
       "      <td>1.180875</td>\n",
       "      <td>0.963003</td>\n",
       "      <td>0.000000</td>\n",
       "    </tr>\n",
       "    <tr>\n",
       "      <th>50%</th>\n",
       "      <td>1.000000</td>\n",
       "      <td>1.000000</td>\n",
       "      <td>0.000000</td>\n",
       "      <td>0.000000</td>\n",
       "      <td>1.000000</td>\n",
       "      <td>1.000000</td>\n",
       "      <td>0.000000</td>\n",
       "      <td>29.000000</td>\n",
       "      <td>136.220159</td>\n",
       "      <td>1.000000</td>\n",
       "      <td>3.000000</td>\n",
       "      <td>1.832768</td>\n",
       "      <td>1.719574</td>\n",
       "      <td>0.000000</td>\n",
       "    </tr>\n",
       "    <tr>\n",
       "      <th>75%</th>\n",
       "      <td>1.000000</td>\n",
       "      <td>1.000000</td>\n",
       "      <td>1.000000</td>\n",
       "      <td>1.000000</td>\n",
       "      <td>1.000000</td>\n",
       "      <td>6.000000</td>\n",
       "      <td>1.000000</td>\n",
       "      <td>31.000000</td>\n",
       "      <td>210.949625</td>\n",
       "      <td>6.000000</td>\n",
       "      <td>5.000000</td>\n",
       "      <td>2.536078</td>\n",
       "      <td>2.510336</td>\n",
       "      <td>1.000000</td>\n",
       "    </tr>\n",
       "    <tr>\n",
       "      <th>max</th>\n",
       "      <td>1.000000</td>\n",
       "      <td>1.000000</td>\n",
       "      <td>1.000000</td>\n",
       "      <td>1.000000</td>\n",
       "      <td>1.000000</td>\n",
       "      <td>12.000000</td>\n",
       "      <td>1.000000</td>\n",
       "      <td>41.000000</td>\n",
       "      <td>552.590740</td>\n",
       "      <td>12.000000</td>\n",
       "      <td>31.000000</td>\n",
       "      <td>6.023668</td>\n",
       "      <td>6.146783</td>\n",
       "      <td>1.000000</td>\n",
       "    </tr>\n",
       "  </tbody>\n",
       "</table>\n",
       "</div>"
      ],
      "text/plain": [
       "            gender  near_location      partner  promo_friends        phone  \\\n",
       "count  4000.000000    4000.000000  4000.000000    4000.000000  4000.000000   \n",
       "mean      0.510250       0.845250     0.486750       0.308500     0.903500   \n",
       "std       0.499957       0.361711     0.499887       0.461932     0.295313   \n",
       "min       0.000000       0.000000     0.000000       0.000000     0.000000   \n",
       "25%       0.000000       1.000000     0.000000       0.000000     1.000000   \n",
       "50%       1.000000       1.000000     0.000000       0.000000     1.000000   \n",
       "75%       1.000000       1.000000     1.000000       1.000000     1.000000   \n",
       "max       1.000000       1.000000     1.000000       1.000000     1.000000   \n",
       "\n",
       "       contract_period  group_visits          age  \\\n",
       "count      4000.000000   4000.000000  4000.000000   \n",
       "mean          4.681250      0.412250    29.184250   \n",
       "std           4.549706      0.492301     3.258367   \n",
       "min           1.000000      0.000000    18.000000   \n",
       "25%           1.000000      0.000000    27.000000   \n",
       "50%           1.000000      0.000000    29.000000   \n",
       "75%           6.000000      1.000000    31.000000   \n",
       "max          12.000000      1.000000    41.000000   \n",
       "\n",
       "       avg_additional_charges_total  month_to_end_contract     lifetime  \\\n",
       "count                   4000.000000            4000.000000  4000.000000   \n",
       "mean                     146.943728               4.322750     3.724750   \n",
       "std                       96.355602               4.191297     3.749267   \n",
       "min                        0.148205               1.000000     0.000000   \n",
       "25%                       68.868830               1.000000     1.000000   \n",
       "50%                      136.220159               1.000000     3.000000   \n",
       "75%                      210.949625               6.000000     5.000000   \n",
       "max                      552.590740              12.000000    31.000000   \n",
       "\n",
       "       avg_class_frequency_total  avg_class_frequency_current_month  \\\n",
       "count                4000.000000                        4000.000000   \n",
       "mean                    1.879020                           1.767052   \n",
       "std                     0.972245                           1.052906   \n",
       "min                     0.000000                           0.000000   \n",
       "25%                     1.180875                           0.963003   \n",
       "50%                     1.832768                           1.719574   \n",
       "75%                     2.536078                           2.510336   \n",
       "max                     6.023668                           6.146783   \n",
       "\n",
       "             churn  \n",
       "count  4000.000000  \n",
       "mean      0.265250  \n",
       "std       0.441521  \n",
       "min       0.000000  \n",
       "25%       0.000000  \n",
       "50%       0.000000  \n",
       "75%       1.000000  \n",
       "max       1.000000  "
      ]
     },
     "execution_count": 8,
     "metadata": {},
     "output_type": "execute_result"
    }
   ],
   "source": [
    "gym_churn.describe()"
   ]
  },
  {
   "cell_type": "markdown",
   "metadata": {},
   "source": [
    "<b> Вывод:</b>\n",
    "Из таблицы можно сделать предворительные предположения:\n",
    "\n",
    "    * Большая часть из них проживает или работает в районе, где находится фитнес-центр.\n",
    "    * Очень мало людей пользуется акцией «приведи друга»\n",
    "    * Средний возраст 29 лет.\n",
    "    * Меньше половины ходять на групповые занялия.\n",
    "    * Средняя посещаемость ~2 раза в неделю."
   ]
  },
  {
   "cell_type": "markdown",
   "metadata": {},
   "source": [
    "<a id= '2.2-bullet'></a>\n",
    "## Посмотрите на средние значения признаков в двух группах — тех, кто ушел в отток и тех, кто остался (воспользуйтесь методом groupby());"
   ]
  },
  {
   "cell_type": "code",
   "execution_count": 9,
   "metadata": {},
   "outputs": [
    {
     "data": {
      "text/html": [
       "<div>\n",
       "<style scoped>\n",
       "    .dataframe tbody tr th:only-of-type {\n",
       "        vertical-align: middle;\n",
       "    }\n",
       "\n",
       "    .dataframe tbody tr th {\n",
       "        vertical-align: top;\n",
       "    }\n",
       "\n",
       "    .dataframe thead th {\n",
       "        text-align: right;\n",
       "    }\n",
       "</style>\n",
       "<table border=\"1\" class=\"dataframe\">\n",
       "  <thead>\n",
       "    <tr style=\"text-align: right;\">\n",
       "      <th>churn</th>\n",
       "      <th>0</th>\n",
       "      <th>1</th>\n",
       "    </tr>\n",
       "  </thead>\n",
       "  <tbody>\n",
       "    <tr>\n",
       "      <th>gender</th>\n",
       "      <td>0.510037</td>\n",
       "      <td>0.510839</td>\n",
       "    </tr>\n",
       "    <tr>\n",
       "      <th>near_location</th>\n",
       "      <td>0.873086</td>\n",
       "      <td>0.768143</td>\n",
       "    </tr>\n",
       "    <tr>\n",
       "      <th>partner</th>\n",
       "      <td>0.534195</td>\n",
       "      <td>0.355325</td>\n",
       "    </tr>\n",
       "    <tr>\n",
       "      <th>promo_friends</th>\n",
       "      <td>0.353522</td>\n",
       "      <td>0.183789</td>\n",
       "    </tr>\n",
       "    <tr>\n",
       "      <th>phone</th>\n",
       "      <td>0.903709</td>\n",
       "      <td>0.902922</td>\n",
       "    </tr>\n",
       "    <tr>\n",
       "      <th>contract_period</th>\n",
       "      <td>5.747193</td>\n",
       "      <td>1.728558</td>\n",
       "    </tr>\n",
       "    <tr>\n",
       "      <th>group_visits</th>\n",
       "      <td>0.464103</td>\n",
       "      <td>0.268615</td>\n",
       "    </tr>\n",
       "    <tr>\n",
       "      <th>age</th>\n",
       "      <td>29.976523</td>\n",
       "      <td>26.989632</td>\n",
       "    </tr>\n",
       "    <tr>\n",
       "      <th>avg_additional_charges_total</th>\n",
       "      <td>158.445715</td>\n",
       "      <td>115.082899</td>\n",
       "    </tr>\n",
       "    <tr>\n",
       "      <th>month_to_end_contract</th>\n",
       "      <td>5.283089</td>\n",
       "      <td>1.662582</td>\n",
       "    </tr>\n",
       "    <tr>\n",
       "      <th>lifetime</th>\n",
       "      <td>4.711807</td>\n",
       "      <td>0.990575</td>\n",
       "    </tr>\n",
       "    <tr>\n",
       "      <th>avg_class_frequency_total</th>\n",
       "      <td>2.024876</td>\n",
       "      <td>1.474995</td>\n",
       "    </tr>\n",
       "    <tr>\n",
       "      <th>avg_class_frequency_current_month</th>\n",
       "      <td>2.027882</td>\n",
       "      <td>1.044546</td>\n",
       "    </tr>\n",
       "  </tbody>\n",
       "</table>\n",
       "</div>"
      ],
      "text/plain": [
       "churn                                       0           1\n",
       "gender                               0.510037    0.510839\n",
       "near_location                        0.873086    0.768143\n",
       "partner                              0.534195    0.355325\n",
       "promo_friends                        0.353522    0.183789\n",
       "phone                                0.903709    0.902922\n",
       "contract_period                      5.747193    1.728558\n",
       "group_visits                         0.464103    0.268615\n",
       "age                                 29.976523   26.989632\n",
       "avg_additional_charges_total       158.445715  115.082899\n",
       "month_to_end_contract                5.283089    1.662582\n",
       "lifetime                             4.711807    0.990575\n",
       "avg_class_frequency_total            2.024876    1.474995\n",
       "avg_class_frequency_current_month    2.027882    1.044546"
      ]
     },
     "execution_count": 9,
     "metadata": {},
     "output_type": "execute_result"
    }
   ],
   "source": [
    "churn_query = gym_churn.groupby('churn').mean().T\n",
    "churn_query"
   ]
  },
  {
   "cell_type": "markdown",
   "metadata": {},
   "source": [
    "<a id= '2.3-bullet'></a>\n",
    "## Постройте столбчатые гистограммы и распределения признаков для тех, кто ушёл (отток) и тех, кто остался (не попали в отток);"
   ]
  },
  {
   "cell_type": "code",
   "execution_count": 10,
   "metadata": {
    "scrolled": false
   },
   "outputs": [
    {
     "data": {
      "image/png": "[encoded data removed]",
      "text/plain": [
       "<Figure size 432x288 with 1 Axes>"
      ]
     },
     "metadata": {
      "needs_background": "light"
     },
     "output_type": "display_data"
    },
    {
     "data": {
      "image/png": "[encoded data removed]",
      "text/plain": [
       "<Figure size 432x288 with 1 Axes>"
      ]
     },
     "metadata": {
      "needs_background": "light"
     },
     "output_type": "display_data"
    },
    {
     "data": {
      "image/png": "[encoded data removed]",
      "text/plain": [
       "<Figure size 432x288 with 1 Axes>"
      ]
     },
     "metadata": {
      "needs_background": "light"
     },
     "output_type": "display_data"
    },
    {
     "data": {
      "image/png": "[encoded data removed]",
      "text/plain": [
       "<Figure size 432x288 with 1 Axes>"
      ]
     },
     "metadata": {
      "needs_background": "light"
     },
     "output_type": "display_data"
    },
    {
     "data": {
      "image/png": "[encoded data removed]",
      "text/plain": [
       "<Figure size 432x288 with 1 Axes>"
      ]
     },
     "metadata": {
      "needs_background": "light"
     },
     "output_type": "display_data"
    },
    {
     "data": {
      "image/png": "[encoded data removed]",
      "text/plain": [
       "<Figure size 432x288 with 1 Axes>"
      ]
     },
     "metadata": {
      "needs_background": "light"
     },
     "output_type": "display_data"
    },
    {
     "data": {
      "image/png": "[encoded data removed]",
      "text/plain": [
       "<Figure size 432x288 with 1 Axes>"
      ]
     },
     "metadata": {
      "needs_background": "light"
     },
     "output_type": "display_data"
    },
    {
     "data": {
      "image/png": "[encoded data removed]",
      "text/plain": [
       "<Figure size 432x288 with 1 Axes>"
      ]
     },
     "metadata": {
      "needs_background": "light"
     },
     "output_type": "display_data"
    },
    {
     "data": {
      "image/png": "[encoded data removed]",
      "text/plain": [
       "<Figure size 432x288 with 1 Axes>"
      ]
     },
     "metadata": {
      "needs_background": "light"
     },
     "output_type": "display_data"
    },
    {
     "data": {
      "image/png": "[encoded data removed]",
      "text/plain": [
       "<Figure size 432x288 with 1 Axes>"
      ]
     },
     "metadata": {
      "needs_background": "light"
     },
     "output_type": "display_data"
    },
    {
     "data": {
      "image/png": "[encoded data removed]",
      "text/plain": [
       "<Figure size 432x288 with 1 Axes>"
      ]
     },
     "metadata": {
      "needs_background": "light"
     },
     "output_type": "display_data"
    },
    {
     "data": {
      "image/png": "[encoded data removed]",
      "text/plain": [
       "<Figure size 432x288 with 1 Axes>"
      ]
     },
     "metadata": {
      "needs_background": "light"
     },
     "output_type": "display_data"
    },
    {
     "data": {
      "image/png": "[encoded data removed]",
      "text/plain": [
       "<Figure size 432x288 with 1 Axes>"
      ]
     },
     "metadata": {
      "needs_background": "light"
     },
     "output_type": "display_data"
    }
   ],
   "source": [
    "\n",
    "for col in gym_churn.drop('churn', axis = 1).columns:\n",
    "    sns.countplot(data =gym_churn,  x = gym_churn[col], hue=gym_churn['churn'])\n",
    "    plt.show()"
   ]
  },
  {
   "cell_type": "markdown",
   "metadata": {},
   "source": [
    "<a id= '2.4-bullet'></a>\n",
    "## Постройте матрицу корреляций и отобразите её."
   ]
  },
  {
   "cell_type": "code",
   "execution_count": 11,
   "metadata": {
    "scrolled": false
   },
   "outputs": [
    {
     "data": {
      "image/png": "[encoded data removed]",
      "text/plain": [
       "<Figure size 1080x1080 with 2 Axes>"
      ]
     },
     "metadata": {
      "needs_background": "light"
     },
     "output_type": "display_data"
    }
   ],
   "source": [
    "gym_corr = round(gym_churn.corr(),2)\n",
    "plt.figure(figsize=(15,15))\n",
    "sns.heatmap(gym_corr, annot = True, square=True,)\n",
    "plt.show()"
   ]
  },
  {
   "cell_type": "markdown",
   "metadata": {},
   "source": [
    "<b> Вывод:\n",
    "    \n",
    "    Чаще всего люди уходять в первый месяц или когда срок до окончания текущего действующего абонемента 1 месяц. Также выше вероятность ухода, если человек не посещает группавые занятия, не приводит друзей и не является сотрудником компании-партнёра клуба.\n",
    "    В целом мы наюлюдаем очень низкую корреляцию между признаками кроме в близких по расчетам как 'Avg_class_frequency_current_month' - 'Avg_class_frequency_total' и 'Month_to_end_contract' - 'Contract_period'. "
   ]
  },
  {
   "cell_type": "markdown",
   "metadata": {},
   "source": [
    "<a id= '2.1-bullet'></a>\n",
    "# Постройте модель прогнозирования оттока клиентов:"
   ]
  },
  {
   "cell_type": "markdown",
   "metadata": {},
   "source": [
    "<a id= '2.1-bullet'></a>\n",
    "## Разбейте данные на обучающую и валидационную выборку функцией train_test_split()."
   ]
  },
  {
   "cell_type": "code",
   "execution_count": 12,
   "metadata": {},
   "outputs": [],
   "source": [
    "#разделим наши данные на признаки (матрица X) и целевую переменную (y)\n",
    "X = gym_churn.drop('churn', axis = 1)\n",
    "y = gym_churn['churn']\n",
    "\n",
    "#разделяем модель на обучающую и валидационную выборки\n",
    "X_train, X_test, y_train, y_test = train_test_split(X, y, test_size = 0.2, random_state=0)"
   ]
  },
  {
   "cell_type": "markdown",
   "metadata": {},
   "source": [
    "<a id= '3.2-bullet'></a>\n",
    "## Обучите модель на train-выборке двумя способами:"
   ]
  },
  {
   "cell_type": "code",
   "execution_count": 13,
   "metadata": {},
   "outputs": [],
   "source": [
    "# стандартизируем данные\n",
    "sc = StandardScaler()\n",
    "x_sc = sc.fit_transform(gym_churn)"
   ]
  },
  {
   "cell_type": "markdown",
   "metadata": {},
   "source": [
    "<a id= '3.3-bullet'></a>\n",
    "### Логистической регрессией,"
   ]
  },
  {
   "cell_type": "code",
   "execution_count": 14,
   "metadata": {},
   "outputs": [],
   "source": [
    "model_1 = LogisticRegression(solver='liblinear', random_state=0)\n",
    "model_1.fit(X_train, y_train)\n",
    "pred_1 = model_1.predict(X_test)\n",
    "prob_1 = model_1.predict_proba(X_test)[:,1]\n",
    "#print('Предсказание:', pred_1)\n",
    "#print('Возможность принадлежности объекта к первому или второму классу:', prob_1)"
   ]
  },
  {
   "cell_type": "markdown",
   "metadata": {},
   "source": [
    "<a id= '3.4-bullet'></a>\n",
    "### Случайным лесом."
   ]
  },
  {
   "cell_type": "code",
   "execution_count": 15,
   "metadata": {},
   "outputs": [],
   "source": [
    "model_2 = RandomForestClassifier(n_estimators = 100, random_state = 0)\n",
    "model_2.fit(X_train, y_train)\n",
    "pred_2 = model_2.predict(X_test)\n",
    "prob_2 = model_2.predict_proba(X_test)[:,1]"
   ]
  },
  {
   "cell_type": "markdown",
   "metadata": {},
   "source": [
    "<a id= '3.5-bullet'></a>\n",
    "## Оцените метрики accuracy, precision и recall для обеих моделей на валидационной выборке. Сравните по ним модели. Какая модель показала себя лучше на основании метрик?"
   ]
  },
  {
   "cell_type": "code",
   "execution_count": 16,
   "metadata": {},
   "outputs": [],
   "source": [
    "# определим функцию, которая будет выводить наши метрики\n",
    "def print_all_metrics(y_test, y_pred, y_prob, title='Метрики классификации'):\n",
    "    print(title)\n",
    "    print('\\tAccuracy: {:.2f}'.format(accuracy_score(y_test, y_pred)))\n",
    "    print('\\tPrecision: {:.2f}'.format(precision_score(y_test, y_pred)))\n",
    "    print('\\tRecall: {:.2f}'.format(recall_score(y_test, y_pred)))"
   ]
  },
  {
   "cell_type": "code",
   "execution_count": 17,
   "metadata": {
    "scrolled": true
   },
   "outputs": [
    {
     "name": "stdout",
     "output_type": "stream",
     "text": [
      "Метрики логистической регрессии\n",
      "\tAccuracy: 0.93\n",
      "\tPrecision: 0.86\n",
      "\tRecall: 0.83\n",
      "Метрики случайного леса\n",
      "\tAccuracy: 0.92\n",
      "\tPrecision: 0.84\n",
      "\tRecall: 0.82\n"
     ]
    }
   ],
   "source": [
    "# выведем все метрики\n",
    "print_all_metrics(y_test, pred_1, prob_1, title='Метрики логистической регрессии')\n",
    "print_all_metrics(y_test, pred_2, prob_2, title='Метрики случайного леса')"
   ]
  },
  {
   "cell_type": "markdown",
   "metadata": {},
   "source": [
    "<b>Вывод:\n",
    "    Исходя из метрик, модель логической регрессии показывает себя немного лучше случайного леса."
   ]
  },
  {
   "cell_type": "markdown",
   "metadata": {},
   "source": [
    "<a id= '4.1-bullet'></a>\n",
    "# Сделайте кластеризацию клиентов:"
   ]
  },
  {
   "cell_type": "markdown",
   "metadata": {},
   "source": [
    "<a id= '4.3-bullet'></a>\n",
    "## Постройте матрицу расстояний функцией linkage() на стандартизованной матрице признаков и нарисуйте дендрограмму. Внимание: отрисовка дендрограммы может занять время! На основании полученного графика предположите, какое количество кластеров можно выделить."
   ]
  },
  {
   "cell_type": "code",
   "execution_count": 21,
   "metadata": {
    "scrolled": false
   },
   "outputs": [
    {
     "data": {
      "image/png": "[encoded data removed]",
      "text/plain": [
       "<Figure size 1080x720 with 1 Axes>"
      ]
     },
     "metadata": {
      "needs_background": "light"
     },
     "output_type": "display_data"
    }
   ],
   "source": [
    "# Сохраняем таблицу связок между объектами в переменную linked и рисуем дендрограмму:\n",
    "linked = linkage(x_sc, method = 'ward') \n",
    "plt.figure(figsize=(15, 10))  \n",
    "dendrogram(linked, orientation='top', truncate_mode='lastp')\n",
    "plt.title('Дендрограмма GYM')\n",
    "plt.show() "
   ]
  },
  {
   "cell_type": "markdown",
   "metadata": {},
   "source": [
    "<b>Вывод:\n",
    "    Судя по дендрограмме, датасет мошно поделить на 5 кластеров. "
   ]
  },
  {
   "cell_type": "markdown",
   "metadata": {},
   "source": [
    "<a id= '4.4-bullet'></a>\n",
    "## Обучите модель кластеризации на основании алгоритма K-Means и спрогнозируйте кластеры клиентов. Договоримся за число кластеров принять n=5, чтобы ваши результаты можно было сравнивать с результатами остальных студентов. Однако, конечно, в жизни никто не скажет вам правильный ответ, и решение остаётся за вами (на основании изучения графика из предыдущего пункта)."
   ]
  },
  {
   "cell_type": "code",
   "execution_count": 19,
   "metadata": {},
   "outputs": [
    {
     "name": "stdout",
     "output_type": "stream",
     "text": [
      "              gender  near_location   partner  promo_friends     phone  \\\n",
      "cluster_km                                                               \n",
      "0           0.503676       0.000000  0.459559       0.075368  0.917279   \n",
      "1           0.492829       0.936115  0.764016       0.534550  0.919166   \n",
      "2           0.507917       1.000000  0.323995       0.213155  0.903776   \n",
      "3           0.521186       0.996610  0.282203       0.208475  0.904237   \n",
      "4           0.518895       0.968023  0.744186       0.526163  0.873547   \n",
      "\n",
      "            contract_period  group_visits        age  \\\n",
      "cluster_km                                             \n",
      "0                  2.069853      0.211397  28.522059   \n",
      "1                 10.447197      0.516297  29.962190   \n",
      "2                  1.546894      0.287454  26.926918   \n",
      "3                  1.882203      0.452542  30.237288   \n",
      "4                  8.859012      0.534884  29.728198   \n",
      "\n",
      "            avg_additional_charges_total  month_to_end_contract  lifetime  \\\n",
      "cluster_km                                                                  \n",
      "0                             132.741216               1.950368  2.757353   \n",
      "1                             161.853561               9.477184  4.833116   \n",
      "2                             113.173051               1.500609  1.031669   \n",
      "3                             157.988625               1.794915  4.923729   \n",
      "4                             162.907495               8.155523  4.411337   \n",
      "\n",
      "            avg_class_frequency_total  avg_class_frequency_current_month  \\\n",
      "cluster_km                                                                 \n",
      "0                            1.706629                           1.515890   \n",
      "1                            2.788103                           2.786919   \n",
      "2                            1.449720                           1.037592   \n",
      "3                            2.203432                           2.207359   \n",
      "4                            0.957744                           0.943967   \n",
      "\n",
      "               churn  \n",
      "cluster_km            \n",
      "0           0.450368  \n",
      "1           0.007823  \n",
      "2           0.961023  \n",
      "3           0.003390  \n",
      "4           0.024709  \n"
     ]
    }
   ],
   "source": [
    "# задаём число кластеров, равное 5, и фиксируем значение random_state для воспроизводимости результата\n",
    "km = KMeans(n_clusters=5, random_state=0)\n",
    "\n",
    "# применяем алгоритм к данным и формируем вектор кластеров\n",
    "labels = km.fit_predict(x_sc) \n",
    "\n",
    "# сохраняем метки кластера в поле нашего датасета\n",
    "gym_churn['cluster_km'] = labels\n",
    "\n",
    "# выводим статистику по средним значениям наших признаков по кластеру\n",
    "print(gym_churn.groupby('cluster_km').mean())\n"
   ]
  },
  {
   "cell_type": "markdown",
   "metadata": {},
   "source": [
    "<a id= '4.5-bullet'></a>\n",
    "## Посмотрите на средние значения признаков для кластеров. Можно ли сразу что-то заметить?"
   ]
  },
  {
   "cell_type": "code",
   "execution_count": 20,
   "metadata": {
    "scrolled": true
   },
   "outputs": [
    {
     "ename": "TypeError",
     "evalue": "scatterplot() takes from 0 to 1 positional arguments but 2 positional arguments (and 2 keyword-only arguments) were given",
     "output_type": "error",
     "traceback": [
      "\u001b[1;31m---------------------------------------------------------------------------\u001b[0m",
      "\u001b[1;31mTypeError\u001b[0m                                 Traceback (most recent call last)",
      "Input \u001b[1;32mIn [20]\u001b[0m, in \u001b[0;36m<module>\u001b[1;34m\u001b[0m\n\u001b[0;32m     11\u001b[0m col_pairs \u001b[38;5;241m=\u001b[39m \u001b[38;5;28mlist\u001b[39m(itertools\u001b[38;5;241m.\u001b[39mcombinations(gym_churn\u001b[38;5;241m.\u001b[39mdrop(\u001b[38;5;124m'\u001b[39m\u001b[38;5;124mchurn\u001b[39m\u001b[38;5;124m'\u001b[39m, axis\u001b[38;5;241m=\u001b[39m\u001b[38;5;241m1\u001b[39m)\u001b[38;5;241m.\u001b[39mcolumns, \u001b[38;5;241m2\u001b[39m))\n\u001b[0;32m     12\u001b[0m \u001b[38;5;28;01mfor\u001b[39;00m pair \u001b[38;5;129;01min\u001b[39;00m col_pairs:\n\u001b[1;32m---> 13\u001b[0m     \u001b[43mshow_clusters_on_plot\u001b[49m\u001b[43m(\u001b[49m\u001b[43mgym_churn\u001b[49m\u001b[43m,\u001b[49m\u001b[43m \u001b[49m\u001b[43mpair\u001b[49m\u001b[43m[\u001b[49m\u001b[38;5;241;43m0\u001b[39;49m\u001b[43m]\u001b[49m\u001b[43m,\u001b[49m\u001b[43m \u001b[49m\u001b[43mpair\u001b[49m\u001b[43m[\u001b[49m\u001b[38;5;241;43m1\u001b[39;49m\u001b[43m]\u001b[49m\u001b[43m,\u001b[49m\u001b[43m \u001b[49m\u001b[38;5;124;43m'\u001b[39;49m\u001b[38;5;124;43mchurn\u001b[39;49m\u001b[38;5;124;43m'\u001b[39;49m\u001b[43m)\u001b[49m\n",
      "Input \u001b[1;32mIn [20]\u001b[0m, in \u001b[0;36mshow_clusters_on_plot\u001b[1;34m(df, x_name, y_name, cluster_name)\u001b[0m\n\u001b[0;32m      2\u001b[0m \u001b[38;5;28;01mdef\u001b[39;00m \u001b[38;5;21mshow_clusters_on_plot\u001b[39m(df, x_name, y_name, cluster_name):\n\u001b[0;32m      3\u001b[0m     plt\u001b[38;5;241m.\u001b[39mfigure(figsize\u001b[38;5;241m=\u001b[39m(\u001b[38;5;241m5\u001b[39m, \u001b[38;5;241m5\u001b[39m))\n\u001b[1;32m----> 4\u001b[0m     \u001b[43msns\u001b[49m\u001b[38;5;241;43m.\u001b[39;49m\u001b[43mscatterplot\u001b[49m\u001b[43m(\u001b[49m\n\u001b[0;32m      5\u001b[0m \u001b[43m        \u001b[49m\u001b[43mdf\u001b[49m\u001b[43m[\u001b[49m\u001b[43mx_name\u001b[49m\u001b[43m]\u001b[49m\u001b[43m,\u001b[49m\u001b[43m \u001b[49m\u001b[43mdf\u001b[49m\u001b[43m[\u001b[49m\u001b[43my_name\u001b[49m\u001b[43m]\u001b[49m\u001b[43m,\u001b[49m\u001b[43m \u001b[49m\u001b[43mhue\u001b[49m\u001b[38;5;241;43m=\u001b[39;49m\u001b[43mdf\u001b[49m\u001b[43m[\u001b[49m\u001b[43mcluster_name\u001b[49m\u001b[43m]\u001b[49m\u001b[43m,\u001b[49m\u001b[43m \u001b[49m\u001b[43mpalette\u001b[49m\u001b[38;5;241;43m=\u001b[39;49m\u001b[38;5;124;43m'\u001b[39;49m\u001b[38;5;124;43mPaired\u001b[39;49m\u001b[38;5;124;43m'\u001b[39;49m\n\u001b[0;32m      6\u001b[0m \u001b[43m    \u001b[49m\u001b[43m)\u001b[49m\n\u001b[0;32m      7\u001b[0m     plt\u001b[38;5;241m.\u001b[39mtitle(\u001b[38;5;124m'\u001b[39m\u001b[38;5;132;01m{}\u001b[39;00m\u001b[38;5;124m vs \u001b[39m\u001b[38;5;132;01m{}\u001b[39;00m\u001b[38;5;124m'\u001b[39m\u001b[38;5;241m.\u001b[39mformat(x_name, y_name))\n\u001b[0;32m      8\u001b[0m     plt\u001b[38;5;241m.\u001b[39mshow()\n",
      "\u001b[1;31mTypeError\u001b[0m: scatterplot() takes from 0 to 1 positional arguments but 2 positional arguments (and 2 keyword-only arguments) were given"
     ]
    },
    {
     "data": {
      "text/plain": [
       "<Figure size 360x360 with 0 Axes>"
      ]
     },
     "metadata": {},
     "output_type": "display_data"
    }
   ],
   "source": [
    "# определим функцию отрисовки графиков попарных признаков для кластеров\n",
    "def show_clusters_on_plot(df, x_name, y_name, cluster_name):\n",
    "    plt.figure(figsize=(5, 5))\n",
    "    sns.scatterplot(\n",
    "        df[x_name], df[y_name], hue=df[cluster_name], palette='Paired'\n",
    "    )\n",
    "    plt.title('{} vs {}'.format(x_name, y_name))\n",
    "    plt.show()\n",
    "\n",
    "# отрисуем графики для попарных сочетаний признаков с разметкой по кластерам\n",
    "col_pairs = list(itertools.combinations(gym_churn.drop('churn', axis=1).columns, 2))\n",
    "for pair in col_pairs:\n",
    "    show_clusters_on_plot(gym_churn, pair[0], pair[1], 'churn')"
   ]
  },
  {
   "cell_type": "markdown",
   "metadata": {},
   "source": [
    "Из статистики по средним значениям наших признаков по кластеру можно заметить:\n",
    "\n",
    "    * Большее количество оттока наблюдается во 2 кластере и среднее в 0. Меньше всего в 3 и 1.\n",
    "    * В 0 кластере никто не проживает или работает в районе, где находится фитнес-центр. Во 2 кластере все местные.\n",
    "    * У кластеров 1 и 4 все имеют срок до окончания текущего действующего абонемента больше 8 при том, что остальные не больше 2\n"
   ]
  },
  {
   "cell_type": "markdown",
   "metadata": {},
   "source": [
    "<a id= '4.6-bullet'></a>\n",
    "## Для каждого полученного кластера посчитайте долю оттока (методом groupby()). Отличаются ли они по доле оттока? Какие кластеры склонны к оттоку, а какие — надёжны?"
   ]
  },
  {
   "cell_type": "code",
   "execution_count": 22,
   "metadata": {},
   "outputs": [
    {
     "data": {
      "text/plain": [
       "cluster_km\n",
       "0    0.450368\n",
       "1    0.007823\n",
       "2    0.961023\n",
       "3    0.003390\n",
       "4    0.024709\n",
       "Name: churn, dtype: float64"
      ]
     },
     "execution_count": 22,
     "metadata": {},
     "output_type": "execute_result"
    }
   ],
   "source": [
    "gym_churn.groupby('cluster_km')['churn'].mean()"
   ]
  },
  {
   "cell_type": "markdown",
   "metadata": {},
   "source": [
    "<b>\n",
    "Больше всего оттока в кластерах 2, 0 и 4.\n",
    "Самые надежные кластеры 3 и 1"
   ]
  },
  {
   "cell_type": "markdown",
   "metadata": {},
   "source": [
    "<a id= '5-bullet'></a>\n",
    "# Общий вывод:"
   ]
  },
  {
   "cell_type": "markdown",
   "metadata": {},
   "source": [
    "<b>\n",
    "1 - Чаще всего люди уходять в первый месяц или когда срок до окончания текущего действующего абонемента 1 месяц.\n",
    "    \n",
    "   * Возможно человек потерял интерес, можно в это время предложить 1 бесплатную консультацию с тренером или 1 бесплатное пользование какой-нибудь платной опцией."
   ]
  },
  {
   "cell_type": "markdown",
   "metadata": {},
   "source": [
    "<b>\n",
    "2 - Выше вероятность ухода если человек:\n",
    "    \n",
    "* Не посещает группавые занятия\n",
    "    * Возможно не следит за расписанием или просто не знает когда занятия, можно присылать напоминания с актуальным графиком групповых занятии.\n",
    "* Не приводит друзей \n",
    "    * Возможно нет мотивации. Можно разработать систему поощрении за друга + напоминать о такой опции.\n",
    "* Не является сотрудником компании-партнёра клуба.\n",
    "    * Возможно компании не знают о такой опции или не видят в ней выгоды для себя и своих сотрудниках. Стоит развивать сеть партнеров. Можно обратится с предложением и взаимовыгодными условиями к компаниям по близости."
   ]
  },
  {
   "cell_type": "markdown",
   "metadata": {},
   "source": [
    "<b>\n",
    "3- Почти все люди со второво кластера ушли в текущем месяце.\n",
    "    \n",
    "   * Стоит провести опрос и выяснить, что послужило причиной.\n",
    "   * Также стоит включить в опрос кластеры 0 и 4."
   ]
  },
  {
   "cell_type": "markdown",
   "metadata": {},
   "source": [
    "<b>\n",
    "4- Повысить удержание поможет мотивация, как со стороны тренеров так и со стороны самих посетителей. Стоит создать отдельные группы в месенджерах или раздел на сайте где посетители смогут общаться, делится достижениями, планировать общие тренировки и мотивировать друг друга. Сильно поможет собственное приложение где помимо возможности продавать дополнительные опции как личный план тренировок, доступ к полной енциклопедии знании о тренировках и диетах для достижения разных результатов; можно геймифицировать процесс спорта и ввести свою валюту внутри приложения которую можно потратить на платные опции. Это поможет сильно увеличить привязанность к продукту. Плюс есть возможность прямой передачи информации через пуш уведомления."
   ]
  },
  {
   "cell_type": "markdown",
   "metadata": {},
   "source": [
    "# [Вернуться к началу.](#31-bullet)"
   ]
  },
  {
   "cell_type": "code",
   "execution_count": null,
   "metadata": {},
   "outputs": [],
   "source": []
  }
 ],
 "metadata": {
  "ExecuteTimeLog": [
   {
    "duration": 116,
    "start_time": "2022-09-19T06:38:25.326Z"
   },
   {
    "duration": 51,
    "start_time": "2022-09-19T06:59:41.241Z"
   },
   {
    "duration": 1707,
    "start_time": "2022-09-19T08:05:42.938Z"
   },
   {
    "duration": 91,
    "start_time": "2022-09-19T08:05:44.648Z"
   },
   {
    "duration": 125,
    "start_time": "2022-09-19T08:05:58.608Z"
   },
   {
    "duration": 24,
    "start_time": "2022-09-19T08:06:06.927Z"
   },
   {
    "duration": 19,
    "start_time": "2022-09-19T08:12:49.799Z"
   },
   {
    "duration": 9,
    "start_time": "2022-09-19T08:12:58.141Z"
   },
   {
    "duration": 20,
    "start_time": "2022-09-19T08:13:02.916Z"
   },
   {
    "duration": 3,
    "start_time": "2022-09-19T08:13:08.102Z"
   },
   {
    "duration": 23,
    "start_time": "2022-09-19T08:13:12.164Z"
   },
   {
    "duration": 20,
    "start_time": "2022-09-19T08:13:28.029Z"
   },
   {
    "duration": 17,
    "start_time": "2022-09-19T08:13:32.219Z"
   },
   {
    "duration": 19,
    "start_time": "2022-09-19T08:14:02.405Z"
   },
   {
    "duration": 7,
    "start_time": "2022-09-19T08:14:09.422Z"
   },
   {
    "duration": 7,
    "start_time": "2022-09-19T08:14:30.911Z"
   },
   {
    "duration": 11,
    "start_time": "2022-09-19T08:16:11.641Z"
   },
   {
    "duration": 13,
    "start_time": "2022-09-19T08:16:42.909Z"
   },
   {
    "duration": 1383,
    "start_time": "2022-09-19T08:21:20.934Z"
   },
   {
    "duration": 1609,
    "start_time": "2022-09-19T08:21:29.361Z"
   },
   {
    "duration": 12,
    "start_time": "2022-09-19T08:22:13.785Z"
   },
   {
    "duration": 9,
    "start_time": "2022-09-19T08:22:56.339Z"
   },
   {
    "duration": 5,
    "start_time": "2022-09-19T08:23:03.346Z"
   },
   {
    "duration": 4,
    "start_time": "2022-09-19T08:24:24.213Z"
   },
   {
    "duration": 41,
    "start_time": "2022-09-19T08:24:24.219Z"
   },
   {
    "duration": 32,
    "start_time": "2022-09-19T08:24:24.262Z"
   },
   {
    "duration": 10,
    "start_time": "2022-09-19T08:24:24.295Z"
   },
   {
    "duration": 4,
    "start_time": "2022-09-19T08:24:24.307Z"
   },
   {
    "duration": 44,
    "start_time": "2022-09-19T08:26:26.063Z"
   },
   {
    "duration": 5,
    "start_time": "2022-09-19T08:42:51.720Z"
   },
   {
    "duration": 53,
    "start_time": "2022-09-19T08:42:51.728Z"
   },
   {
    "duration": 21,
    "start_time": "2022-09-19T08:42:51.782Z"
   },
   {
    "duration": 22,
    "start_time": "2022-09-19T08:42:51.804Z"
   },
   {
    "duration": 6,
    "start_time": "2022-09-19T08:42:51.828Z"
   },
   {
    "duration": 32,
    "start_time": "2022-09-19T08:42:51.836Z"
   },
   {
    "duration": 55,
    "start_time": "2022-09-19T08:42:51.870Z"
   },
   {
    "duration": 43,
    "start_time": "2022-09-19T08:42:57.823Z"
   },
   {
    "duration": 33,
    "start_time": "2022-09-19T08:43:07.967Z"
   },
   {
    "duration": 74,
    "start_time": "2022-09-19T08:43:18.959Z"
   },
   {
    "duration": 14,
    "start_time": "2022-09-19T08:43:40.737Z"
   },
   {
    "duration": 5,
    "start_time": "2022-09-19T08:49:09.116Z"
   },
   {
    "duration": 6,
    "start_time": "2022-09-19T08:49:14.113Z"
   },
   {
    "duration": 15,
    "start_time": "2022-09-19T08:49:19.845Z"
   },
   {
    "duration": 105,
    "start_time": "2022-09-19T08:52:50.376Z"
   },
   {
    "duration": 3,
    "start_time": "2022-09-19T08:57:25.719Z"
   },
   {
    "duration": 36,
    "start_time": "2022-09-19T08:57:25.724Z"
   },
   {
    "duration": 18,
    "start_time": "2022-09-19T08:57:25.762Z"
   },
   {
    "duration": 6,
    "start_time": "2022-09-19T08:57:25.782Z"
   },
   {
    "duration": 9,
    "start_time": "2022-09-19T08:57:25.790Z"
   },
   {
    "duration": 37,
    "start_time": "2022-09-19T08:57:25.800Z"
   },
   {
    "duration": 49,
    "start_time": "2022-09-19T08:57:25.838Z"
   },
   {
    "duration": 15,
    "start_time": "2022-09-19T08:57:25.889Z"
   },
   {
    "duration": 15,
    "start_time": "2022-09-19T08:57:28.254Z"
   },
   {
    "duration": 14,
    "start_time": "2022-09-19T08:59:28.101Z"
   },
   {
    "duration": 20,
    "start_time": "2022-09-19T08:59:53.422Z"
   },
   {
    "duration": 14,
    "start_time": "2022-09-19T09:00:58.214Z"
   },
   {
    "duration": 15,
    "start_time": "2022-09-19T09:02:05.203Z"
   },
   {
    "duration": 12,
    "start_time": "2022-09-19T09:02:20.562Z"
   },
   {
    "duration": 15,
    "start_time": "2022-09-19T09:06:41.420Z"
   },
   {
    "duration": 963,
    "start_time": "2022-09-19T09:07:25.067Z"
   },
   {
    "duration": 1112,
    "start_time": "2022-09-19T09:09:18.321Z"
   },
   {
    "duration": 970,
    "start_time": "2022-09-19T09:09:37.711Z"
   },
   {
    "duration": 1075,
    "start_time": "2022-09-19T09:10:27.759Z"
   },
   {
    "duration": 689,
    "start_time": "2022-09-19T09:14:04.418Z"
   },
   {
    "duration": 12,
    "start_time": "2022-09-19T09:17:28.218Z"
   },
   {
    "duration": 11,
    "start_time": "2022-09-19T09:22:27.410Z"
   },
   {
    "duration": 9,
    "start_time": "2022-09-19T09:22:34.014Z"
   },
   {
    "duration": 890,
    "start_time": "2022-09-19T09:30:27.106Z"
   },
   {
    "duration": 10,
    "start_time": "2022-09-19T09:30:52.615Z"
   },
   {
    "duration": 12,
    "start_time": "2022-09-19T09:33:14.759Z"
   },
   {
    "duration": 1753,
    "start_time": "2022-09-19T09:34:22.113Z"
   },
   {
    "duration": 3021,
    "start_time": "2022-09-19T09:35:51.914Z"
   },
   {
    "duration": 1506,
    "start_time": "2022-09-19T09:37:55.388Z"
   },
   {
    "duration": 38,
    "start_time": "2022-09-19T09:37:56.896Z"
   },
   {
    "duration": 21,
    "start_time": "2022-09-19T09:37:56.936Z"
   },
   {
    "duration": 5,
    "start_time": "2022-09-19T09:37:56.959Z"
   },
   {
    "duration": 4,
    "start_time": "2022-09-19T09:37:56.966Z"
   },
   {
    "duration": 12,
    "start_time": "2022-09-19T09:37:56.971Z"
   },
   {
    "duration": 71,
    "start_time": "2022-09-19T09:37:56.984Z"
   },
   {
    "duration": 10,
    "start_time": "2022-09-19T09:37:57.057Z"
   },
   {
    "duration": 1391,
    "start_time": "2022-09-19T09:40:28.131Z"
   },
   {
    "duration": 33,
    "start_time": "2022-09-19T09:40:29.523Z"
   },
   {
    "duration": 22,
    "start_time": "2022-09-19T09:40:29.558Z"
   },
   {
    "duration": 7,
    "start_time": "2022-09-19T09:40:29.582Z"
   },
   {
    "duration": 9,
    "start_time": "2022-09-19T09:40:29.591Z"
   },
   {
    "duration": 16,
    "start_time": "2022-09-19T09:40:29.602Z"
   },
   {
    "duration": 51,
    "start_time": "2022-09-19T09:40:29.620Z"
   },
   {
    "duration": 29,
    "start_time": "2022-09-19T09:40:29.672Z"
   },
   {
    "duration": 1568,
    "start_time": "2022-09-19T09:41:39.052Z"
   },
   {
    "duration": 39,
    "start_time": "2022-09-19T09:41:40.623Z"
   },
   {
    "duration": 25,
    "start_time": "2022-09-19T09:41:40.663Z"
   },
   {
    "duration": 8,
    "start_time": "2022-09-19T09:41:40.689Z"
   },
   {
    "duration": 16,
    "start_time": "2022-09-19T09:41:40.700Z"
   },
   {
    "duration": 46,
    "start_time": "2022-09-19T09:41:40.718Z"
   },
   {
    "duration": 58,
    "start_time": "2022-09-19T09:41:40.765Z"
   },
   {
    "duration": 12,
    "start_time": "2022-09-19T09:41:40.824Z"
   },
   {
    "duration": 1570,
    "start_time": "2022-09-19T09:43:02.060Z"
   },
   {
    "duration": 36,
    "start_time": "2022-09-19T09:43:03.633Z"
   },
   {
    "duration": 27,
    "start_time": "2022-09-19T09:43:03.672Z"
   },
   {
    "duration": 26,
    "start_time": "2022-09-19T09:43:03.702Z"
   },
   {
    "duration": 25,
    "start_time": "2022-09-19T09:43:03.730Z"
   },
   {
    "duration": 36,
    "start_time": "2022-09-19T09:43:03.757Z"
   },
   {
    "duration": 72,
    "start_time": "2022-09-19T09:43:03.795Z"
   },
   {
    "duration": 13,
    "start_time": "2022-09-19T09:43:03.869Z"
   },
   {
    "duration": 128,
    "start_time": "2022-09-19T09:43:03.884Z"
   },
   {
    "duration": 1076,
    "start_time": "2022-09-19T09:43:30.415Z"
   },
   {
    "duration": 121,
    "start_time": "2022-09-19T09:44:41.023Z"
   },
   {
    "duration": 65,
    "start_time": "2022-09-19T09:44:46.559Z"
   },
   {
    "duration": 1798,
    "start_time": "2022-09-19T09:45:01.145Z"
   },
   {
    "duration": 35,
    "start_time": "2022-09-19T09:45:02.945Z"
   },
   {
    "duration": 30,
    "start_time": "2022-09-19T09:45:02.985Z"
   },
   {
    "duration": 7,
    "start_time": "2022-09-19T09:45:03.018Z"
   },
   {
    "duration": 5,
    "start_time": "2022-09-19T09:45:03.027Z"
   },
   {
    "duration": 16,
    "start_time": "2022-09-19T09:45:03.033Z"
   },
   {
    "duration": 87,
    "start_time": "2022-09-19T09:45:03.050Z"
   },
   {
    "duration": 14,
    "start_time": "2022-09-19T09:45:03.139Z"
   },
   {
    "duration": 161,
    "start_time": "2022-09-19T09:45:03.155Z"
   },
   {
    "duration": 125,
    "start_time": "2022-09-19T09:45:50.159Z"
   },
   {
    "duration": 1429,
    "start_time": "2022-09-19T09:48:45.483Z"
   },
   {
    "duration": 33,
    "start_time": "2022-09-19T09:48:46.915Z"
   },
   {
    "duration": 26,
    "start_time": "2022-09-19T09:48:46.950Z"
   },
   {
    "duration": 6,
    "start_time": "2022-09-19T09:48:46.977Z"
   },
   {
    "duration": 4,
    "start_time": "2022-09-19T09:48:46.985Z"
   },
   {
    "duration": 14,
    "start_time": "2022-09-19T09:48:47.000Z"
   },
   {
    "duration": 55,
    "start_time": "2022-09-19T09:48:47.016Z"
   },
   {
    "duration": 10,
    "start_time": "2022-09-19T09:48:47.072Z"
   },
   {
    "duration": 4008,
    "start_time": "2022-09-19T09:51:13.223Z"
   },
   {
    "duration": 33,
    "start_time": "2022-09-19T09:51:17.233Z"
   },
   {
    "duration": 22,
    "start_time": "2022-09-19T09:51:17.267Z"
   },
   {
    "duration": 10,
    "start_time": "2022-09-19T09:51:17.291Z"
   },
   {
    "duration": 13,
    "start_time": "2022-09-19T09:51:17.303Z"
   },
   {
    "duration": 12,
    "start_time": "2022-09-19T09:51:17.317Z"
   },
   {
    "duration": 43,
    "start_time": "2022-09-19T09:51:17.330Z"
   },
   {
    "duration": 28,
    "start_time": "2022-09-19T09:51:17.375Z"
   },
   {
    "duration": 238764,
    "start_time": "2022-09-19T09:51:17.405Z"
   },
   {
    "duration": 1495,
    "start_time": "2022-09-19T09:55:19.273Z"
   },
   {
    "duration": 6,
    "start_time": "2022-09-19T10:06:31.267Z"
   },
   {
    "duration": 4,
    "start_time": "2022-09-19T10:11:42.597Z"
   },
   {
    "duration": 3,
    "start_time": "2022-09-19T10:12:01.706Z"
   },
   {
    "duration": 318,
    "start_time": "2022-09-19T10:13:42.193Z"
   },
   {
    "duration": 30,
    "start_time": "2022-09-19T10:17:42.810Z"
   },
   {
    "duration": 24,
    "start_time": "2022-09-19T10:19:07.763Z"
   },
   {
    "duration": 268,
    "start_time": "2022-09-19T10:19:16.222Z"
   },
   {
    "duration": 54,
    "start_time": "2022-09-19T10:20:29.323Z"
   },
   {
    "duration": 199,
    "start_time": "2022-09-19T10:20:41.502Z"
   },
   {
    "duration": 32,
    "start_time": "2022-09-19T10:21:00.809Z"
   },
   {
    "duration": 172,
    "start_time": "2022-09-19T10:21:27.728Z"
   },
   {
    "duration": 30,
    "start_time": "2022-09-19T10:21:47.447Z"
   },
   {
    "duration": 10,
    "start_time": "2022-09-19T10:48:45.750Z"
   },
   {
    "duration": 12,
    "start_time": "2022-09-19T10:50:35.352Z"
   },
   {
    "duration": 4,
    "start_time": "2022-09-19T10:50:39.760Z"
   },
   {
    "duration": 338,
    "start_time": "2022-09-19T10:50:43.500Z"
   },
   {
    "duration": 4,
    "start_time": "2022-09-19T10:52:29.034Z"
   },
   {
    "duration": 9,
    "start_time": "2022-09-19T10:57:14.658Z"
   },
   {
    "duration": 3,
    "start_time": "2022-09-19T10:57:17.338Z"
   },
   {
    "duration": 9,
    "start_time": "2022-09-19T10:57:17.806Z"
   },
   {
    "duration": 27,
    "start_time": "2022-09-19T10:57:24.752Z"
   },
   {
    "duration": 344,
    "start_time": "2022-09-19T10:57:25.266Z"
   },
   {
    "duration": 4,
    "start_time": "2022-09-19T10:57:25.754Z"
   },
   {
    "duration": 15,
    "start_time": "2022-09-19T10:57:26.065Z"
   },
   {
    "duration": 4,
    "start_time": "2022-09-19T10:58:14.067Z"
   },
   {
    "duration": 13,
    "start_time": "2022-09-19T10:58:24.355Z"
   },
   {
    "duration": 3,
    "start_time": "2022-09-19T10:58:56.652Z"
   },
   {
    "duration": 10,
    "start_time": "2022-09-19T10:58:57.093Z"
   },
   {
    "duration": 8,
    "start_time": "2022-09-19T11:04:12.708Z"
   },
   {
    "duration": 12,
    "start_time": "2022-09-19T11:07:24.826Z"
   },
   {
    "duration": 6,
    "start_time": "2022-09-19T11:07:29.720Z"
   },
   {
    "duration": 12,
    "start_time": "2022-09-19T11:07:33.984Z"
   },
   {
    "duration": 485,
    "start_time": "2022-09-19T11:07:43.457Z"
   },
   {
    "duration": 104570,
    "start_time": "2022-09-19T11:09:50.759Z"
   },
   {
    "duration": 17,
    "start_time": "2022-09-19T11:11:35.330Z"
   },
   {
    "duration": 81,
    "start_time": "2022-09-19T11:18:46.072Z"
   },
   {
    "duration": 1451,
    "start_time": "2022-09-19T11:25:40.755Z"
   },
   {
    "duration": 1719,
    "start_time": "2022-09-19T11:26:39.291Z"
   },
   {
    "duration": 1468,
    "start_time": "2022-09-19T11:26:52.236Z"
   },
   {
    "duration": 10,
    "start_time": "2022-09-19T11:31:14.658Z"
   },
   {
    "duration": 5,
    "start_time": "2022-09-19T11:31:40.251Z"
   },
   {
    "duration": 11,
    "start_time": "2022-09-19T11:31:43.729Z"
   },
   {
    "duration": 35103,
    "start_time": "2022-09-19T11:32:54.401Z"
   },
   {
    "duration": 13,
    "start_time": "2022-09-19T11:47:29.272Z"
   },
   {
    "duration": 5,
    "start_time": "2022-09-19T11:48:06.793Z"
   },
   {
    "duration": 7,
    "start_time": "2022-09-19T11:48:15.154Z"
   },
   {
    "duration": 71,
    "start_time": "2022-09-19T11:49:48.443Z"
   },
   {
    "duration": 60,
    "start_time": "2022-09-19T12:10:05.038Z"
   },
   {
    "duration": 201,
    "start_time": "2022-09-19T14:40:55.204Z"
   },
   {
    "duration": 793,
    "start_time": "2022-09-19T15:26:20.943Z"
   },
   {
    "duration": 278,
    "start_time": "2022-09-19T15:26:54.699Z"
   },
   {
    "duration": 372,
    "start_time": "2022-09-19T15:27:08.318Z"
   },
   {
    "duration": 5,
    "start_time": "2022-09-19T15:27:39.911Z"
   },
   {
    "duration": 15,
    "start_time": "2022-09-19T15:50:30.518Z"
   },
   {
    "duration": 13,
    "start_time": "2022-09-19T15:51:23.063Z"
   },
   {
    "duration": 0,
    "start_time": "2022-09-19T15:52:50.462Z"
   },
   {
    "duration": 494,
    "start_time": "2022-09-19T15:54:35.262Z"
   },
   {
    "duration": 432,
    "start_time": "2022-09-19T15:54:51.630Z"
   },
   {
    "duration": 515,
    "start_time": "2022-09-19T15:55:24.231Z"
   },
   {
    "duration": 1457,
    "start_time": "2022-09-19T15:57:11.883Z"
   },
   {
    "duration": 251,
    "start_time": "2022-09-19T16:19:40.617Z"
   },
   {
    "duration": 754,
    "start_time": "2022-09-19T16:19:53.593Z"
   },
   {
    "duration": 608,
    "start_time": "2022-09-19T16:20:17.236Z"
   },
   {
    "duration": 694,
    "start_time": "2022-09-19T16:20:25.786Z"
   },
   {
    "duration": 1081,
    "start_time": "2022-09-19T16:22:14.600Z"
   },
   {
    "duration": 1182,
    "start_time": "2022-09-19T16:22:35.015Z"
   },
   {
    "duration": 1674,
    "start_time": "2022-09-19T16:25:43.153Z"
   },
   {
    "duration": 2328,
    "start_time": "2022-09-19T16:26:39.637Z"
   },
   {
    "duration": 1547,
    "start_time": "2022-09-19T16:27:09.438Z"
   },
   {
    "duration": 1594,
    "start_time": "2022-09-19T16:27:21.997Z"
   },
   {
    "duration": 232299,
    "start_time": "2022-09-19T16:28:46.569Z"
   },
   {
    "duration": 40,
    "start_time": "2022-09-19T16:34:45.584Z"
   },
   {
    "duration": 150,
    "start_time": "2022-09-19T16:35:23.595Z"
   },
   {
    "duration": 1085,
    "start_time": "2022-09-19T16:36:09.435Z"
   },
   {
    "duration": 1035,
    "start_time": "2022-09-19T16:36:26.068Z"
   },
   {
    "duration": 936,
    "start_time": "2022-09-19T16:39:28.883Z"
   },
   {
    "duration": 37290,
    "start_time": "2022-09-19T16:39:48.377Z"
   },
   {
    "duration": 1650,
    "start_time": "2022-09-19T16:44:01.927Z"
   },
   {
    "duration": 1700,
    "start_time": "2022-09-19T16:44:13.127Z"
   },
   {
    "duration": 1243,
    "start_time": "2022-09-19T16:44:19.975Z"
   },
   {
    "duration": 1646,
    "start_time": "2022-09-19T16:44:40.776Z"
   },
   {
    "duration": 3293,
    "start_time": "2022-09-19T16:45:03.337Z"
   },
   {
    "duration": 2269,
    "start_time": "2022-09-19T16:45:15.656Z"
   },
   {
    "duration": 1724,
    "start_time": "2022-09-19T16:45:53.655Z"
   },
   {
    "duration": 37580,
    "start_time": "2022-09-19T16:54:51.053Z"
   },
   {
    "duration": 1,
    "start_time": "2022-09-19T17:05:44.630Z"
   },
   {
    "duration": 1984,
    "start_time": "2022-09-19T17:20:29.292Z"
   },
   {
    "duration": 140,
    "start_time": "2022-09-19T17:21:04.798Z"
   },
   {
    "duration": 184,
    "start_time": "2022-09-19T17:21:35.766Z"
   },
   {
    "duration": 151,
    "start_time": "2022-09-19T17:22:01.904Z"
   },
   {
    "duration": 149,
    "start_time": "2022-09-19T17:23:29.761Z"
   },
   {
    "duration": 129,
    "start_time": "2022-09-19T17:24:08.178Z"
   },
   {
    "duration": 7,
    "start_time": "2022-09-19T17:38:02.288Z"
   },
   {
    "duration": 33,
    "start_time": "2022-09-19T17:38:06.310Z"
   },
   {
    "duration": 347,
    "start_time": "2022-09-19T17:38:07.942Z"
   },
   {
    "duration": 3,
    "start_time": "2022-09-19T17:38:09.142Z"
   },
   {
    "duration": 11,
    "start_time": "2022-09-19T17:38:15.774Z"
   },
   {
    "duration": 17,
    "start_time": "2022-09-19T17:43:22.375Z"
   },
   {
    "duration": 27028,
    "start_time": "2022-09-19T17:43:39.590Z"
   },
   {
    "duration": 26237,
    "start_time": "2022-09-19T17:46:06.701Z"
   },
   {
    "duration": 153935,
    "start_time": "2022-09-19T17:46:44.482Z"
   },
   {
    "duration": 6,
    "start_time": "2022-09-20T14:25:39.062Z"
   },
   {
    "duration": 35,
    "start_time": "2022-09-20T14:25:40.339Z"
   },
   {
    "duration": 21,
    "start_time": "2022-09-20T14:25:40.844Z"
   },
   {
    "duration": 8,
    "start_time": "2022-09-20T14:25:41.031Z"
   },
   {
    "duration": 5,
    "start_time": "2022-09-20T14:25:41.394Z"
   },
   {
    "duration": 14,
    "start_time": "2022-09-20T14:25:41.944Z"
   },
   {
    "duration": 54,
    "start_time": "2022-09-20T14:25:42.880Z"
   },
   {
    "duration": 12,
    "start_time": "2022-09-20T14:25:43.751Z"
   },
   {
    "duration": 0,
    "start_time": "2022-09-20T14:29:06.395Z"
   },
   {
    "duration": 89,
    "start_time": "2022-09-20T14:30:24.588Z"
   },
   {
    "duration": 6,
    "start_time": "2022-09-20T14:30:31.737Z"
   },
   {
    "duration": 0,
    "start_time": "2022-09-20T14:30:59.841Z"
   },
   {
    "duration": 126986,
    "start_time": "2022-09-20T14:31:03.747Z"
   },
   {
    "duration": 1849,
    "start_time": "2022-09-20T14:33:27.468Z"
   },
   {
    "duration": 35,
    "start_time": "2022-09-20T14:33:29.407Z"
   },
   {
    "duration": 26,
    "start_time": "2022-09-20T14:33:30.291Z"
   },
   {
    "duration": 9,
    "start_time": "2022-09-20T14:33:30.533Z"
   },
   {
    "duration": 5,
    "start_time": "2022-09-20T14:33:30.945Z"
   },
   {
    "duration": 13,
    "start_time": "2022-09-20T14:33:31.524Z"
   },
   {
    "duration": 46,
    "start_time": "2022-09-20T14:33:32.197Z"
   },
   {
    "duration": 12,
    "start_time": "2022-09-20T14:33:33.120Z"
   },
   {
    "duration": 70008,
    "start_time": "2022-09-20T14:33:34.277Z"
   },
   {
    "duration": 28416,
    "start_time": "2022-09-20T14:34:46.525Z"
   },
   {
    "duration": 365,
    "start_time": "2022-09-20T14:35:27.489Z"
   },
   {
    "duration": 1709,
    "start_time": "2022-09-20T15:29:37.179Z"
   },
   {
    "duration": 238,
    "start_time": "2022-09-20T15:29:38.890Z"
   },
   {
    "duration": 26,
    "start_time": "2022-09-20T15:29:39.130Z"
   },
   {
    "duration": 8,
    "start_time": "2022-09-20T15:29:39.157Z"
   },
   {
    "duration": 6,
    "start_time": "2022-09-20T15:29:39.167Z"
   },
   {
    "duration": 14,
    "start_time": "2022-09-20T15:29:39.174Z"
   },
   {
    "duration": 46,
    "start_time": "2022-09-20T15:29:39.190Z"
   },
   {
    "duration": 11,
    "start_time": "2022-09-20T15:29:39.237Z"
   },
   {
    "duration": 145,
    "start_time": "2022-09-20T15:31:13.899Z"
   },
   {
    "duration": 15,
    "start_time": "2022-09-20T15:34:32.400Z"
   },
   {
    "duration": 18,
    "start_time": "2022-09-20T15:34:48.358Z"
   },
   {
    "duration": 10,
    "start_time": "2022-09-20T15:35:45.449Z"
   },
   {
    "duration": 16,
    "start_time": "2022-09-20T15:35:52.199Z"
   },
   {
    "duration": 17,
    "start_time": "2022-09-20T15:38:06.484Z"
   },
   {
    "duration": 1526,
    "start_time": "2022-09-20T15:41:18.753Z"
   },
   {
    "duration": 34,
    "start_time": "2022-09-20T15:41:20.282Z"
   },
   {
    "duration": 25,
    "start_time": "2022-09-20T15:41:20.318Z"
   },
   {
    "duration": 6,
    "start_time": "2022-09-20T15:41:20.346Z"
   },
   {
    "duration": 6,
    "start_time": "2022-09-20T15:41:20.354Z"
   },
   {
    "duration": 16,
    "start_time": "2022-09-20T15:41:20.362Z"
   },
   {
    "duration": 68,
    "start_time": "2022-09-20T15:41:20.380Z"
   },
   {
    "duration": 18,
    "start_time": "2022-09-20T15:41:20.450Z"
   },
   {
    "duration": 178394,
    "start_time": "2022-09-20T15:41:20.470Z"
   },
   {
    "duration": 1567,
    "start_time": "2022-09-20T15:47:34.563Z"
   },
   {
    "duration": 33,
    "start_time": "2022-09-20T15:47:36.132Z"
   },
   {
    "duration": 25,
    "start_time": "2022-09-20T15:47:36.167Z"
   },
   {
    "duration": 7,
    "start_time": "2022-09-20T15:47:36.194Z"
   },
   {
    "duration": 5,
    "start_time": "2022-09-20T15:47:36.203Z"
   },
   {
    "duration": 16,
    "start_time": "2022-09-20T15:47:36.210Z"
   },
   {
    "duration": 70,
    "start_time": "2022-09-20T15:47:36.227Z"
   },
   {
    "duration": 14,
    "start_time": "2022-09-20T15:47:36.298Z"
   },
   {
    "duration": 0,
    "start_time": "2022-09-20T15:51:13.613Z"
   },
   {
    "duration": 0,
    "start_time": "2022-09-20T15:51:13.616Z"
   },
   {
    "duration": 1661,
    "start_time": "2022-09-29T19:51:07.873Z"
   },
   {
    "duration": 86,
    "start_time": "2022-09-29T19:51:09.536Z"
   },
   {
    "duration": 34,
    "start_time": "2022-09-29T19:51:09.627Z"
   },
   {
    "duration": 6,
    "start_time": "2022-09-29T19:51:09.663Z"
   },
   {
    "duration": 10,
    "start_time": "2022-09-29T19:51:09.671Z"
   },
   {
    "duration": 12,
    "start_time": "2022-09-29T19:51:09.683Z"
   },
   {
    "duration": 52,
    "start_time": "2022-09-29T19:51:09.697Z"
   },
   {
    "duration": 13,
    "start_time": "2022-09-29T19:51:09.750Z"
   },
   {
    "duration": 194367,
    "start_time": "2022-09-29T19:51:09.764Z"
   },
   {
    "duration": 194,
    "start_time": "2022-09-29T19:54:24.137Z"
   },
   {
    "duration": 0,
    "start_time": "2022-09-29T19:54:24.333Z"
   },
   {
    "duration": 0,
    "start_time": "2022-09-29T19:54:24.335Z"
   },
   {
    "duration": 0,
    "start_time": "2022-09-29T19:54:24.336Z"
   },
   {
    "duration": 0,
    "start_time": "2022-09-29T19:54:24.337Z"
   },
   {
    "duration": 0,
    "start_time": "2022-09-29T19:54:24.338Z"
   },
   {
    "duration": 0,
    "start_time": "2022-09-29T19:54:24.340Z"
   },
   {
    "duration": 0,
    "start_time": "2022-09-29T19:54:24.342Z"
   },
   {
    "duration": 0,
    "start_time": "2022-09-29T19:54:24.343Z"
   },
   {
    "duration": 0,
    "start_time": "2022-09-29T19:54:24.344Z"
   },
   {
    "duration": 0,
    "start_time": "2022-09-29T19:54:24.345Z"
   },
   {
    "duration": 0,
    "start_time": "2022-09-29T19:54:24.346Z"
   },
   {
    "duration": 0,
    "start_time": "2022-09-29T19:54:24.348Z"
   },
   {
    "duration": 1549,
    "start_time": "2022-09-30T08:35:21.705Z"
   },
   {
    "duration": 70,
    "start_time": "2022-09-30T08:35:23.256Z"
   },
   {
    "duration": 27,
    "start_time": "2022-09-30T08:35:23.327Z"
   },
   {
    "duration": 9,
    "start_time": "2022-09-30T08:35:23.356Z"
   },
   {
    "duration": 6,
    "start_time": "2022-09-30T08:35:23.367Z"
   },
   {
    "duration": 18,
    "start_time": "2022-09-30T08:35:23.374Z"
   },
   {
    "duration": 66,
    "start_time": "2022-09-30T08:35:23.394Z"
   },
   {
    "duration": 11,
    "start_time": "2022-09-30T08:35:23.462Z"
   },
   {
    "duration": 1684,
    "start_time": "2022-09-30T08:37:03.051Z"
   },
   {
    "duration": 35,
    "start_time": "2022-09-30T08:37:04.737Z"
   },
   {
    "duration": 27,
    "start_time": "2022-09-30T08:37:04.773Z"
   },
   {
    "duration": 8,
    "start_time": "2022-09-30T08:37:04.802Z"
   },
   {
    "duration": 15,
    "start_time": "2022-09-30T08:37:04.813Z"
   },
   {
    "duration": 21,
    "start_time": "2022-09-30T08:37:04.830Z"
   },
   {
    "duration": 66,
    "start_time": "2022-09-30T08:37:04.852Z"
   },
   {
    "duration": 14,
    "start_time": "2022-09-30T08:37:04.920Z"
   },
   {
    "duration": 217662,
    "start_time": "2022-09-30T08:37:04.936Z"
   },
   {
    "duration": 153,
    "start_time": "2022-09-30T08:40:42.601Z"
   },
   {
    "duration": 0,
    "start_time": "2022-09-30T08:40:42.756Z"
   },
   {
    "duration": 0,
    "start_time": "2022-09-30T08:40:42.758Z"
   },
   {
    "duration": 0,
    "start_time": "2022-09-30T08:40:42.759Z"
   },
   {
    "duration": 0,
    "start_time": "2022-09-30T08:40:42.760Z"
   },
   {
    "duration": 0,
    "start_time": "2022-09-30T08:40:42.761Z"
   },
   {
    "duration": 0,
    "start_time": "2022-09-30T08:40:42.762Z"
   },
   {
    "duration": 0,
    "start_time": "2022-09-30T08:40:42.764Z"
   },
   {
    "duration": 0,
    "start_time": "2022-09-30T08:40:42.765Z"
   },
   {
    "duration": 0,
    "start_time": "2022-09-30T08:40:42.766Z"
   },
   {
    "duration": 1,
    "start_time": "2022-09-30T08:40:42.767Z"
   },
   {
    "duration": 0,
    "start_time": "2022-09-30T08:40:42.769Z"
   },
   {
    "duration": 0,
    "start_time": "2022-09-30T08:40:42.770Z"
   },
   {
    "duration": 1543,
    "start_time": "2022-10-04T14:11:59.780Z"
   },
   {
    "duration": 72,
    "start_time": "2022-10-04T14:12:01.325Z"
   },
   {
    "duration": 23,
    "start_time": "2022-10-04T14:12:01.399Z"
   },
   {
    "duration": 5,
    "start_time": "2022-10-04T14:12:01.424Z"
   },
   {
    "duration": 6,
    "start_time": "2022-10-04T14:12:01.431Z"
   },
   {
    "duration": 14,
    "start_time": "2022-10-04T14:12:01.439Z"
   },
   {
    "duration": 55,
    "start_time": "2022-10-04T14:12:01.455Z"
   },
   {
    "duration": 10,
    "start_time": "2022-10-04T14:12:01.511Z"
   },
   {
    "duration": 0,
    "start_time": "2022-10-04T14:13:43.672Z"
   },
   {
    "duration": 0,
    "start_time": "2022-10-04T14:13:43.673Z"
   },
   {
    "duration": 0,
    "start_time": "2022-10-04T14:13:43.674Z"
   },
   {
    "duration": 0,
    "start_time": "2022-10-04T14:13:43.675Z"
   },
   {
    "duration": 0,
    "start_time": "2022-10-04T14:13:43.675Z"
   },
   {
    "duration": 0,
    "start_time": "2022-10-04T14:13:43.677Z"
   },
   {
    "duration": 0,
    "start_time": "2022-10-04T14:13:43.678Z"
   },
   {
    "duration": 0,
    "start_time": "2022-10-04T14:13:43.679Z"
   },
   {
    "duration": 0,
    "start_time": "2022-10-04T14:13:43.680Z"
   },
   {
    "duration": 0,
    "start_time": "2022-10-04T14:13:43.681Z"
   },
   {
    "duration": 0,
    "start_time": "2022-10-04T14:13:43.682Z"
   },
   {
    "duration": 0,
    "start_time": "2022-10-04T14:13:43.682Z"
   },
   {
    "duration": 0,
    "start_time": "2022-10-04T14:13:43.684Z"
   },
   {
    "duration": 0,
    "start_time": "2022-10-04T14:13:43.685Z"
   },
   {
    "duration": 184468,
    "start_time": "2022-10-04T14:13:48.259Z"
   },
   {
    "duration": 1720,
    "start_time": "2022-10-11T15:41:26.160Z"
   },
   {
    "duration": 133,
    "start_time": "2022-10-11T15:41:27.882Z"
   },
   {
    "duration": 26,
    "start_time": "2022-10-11T15:41:28.017Z"
   },
   {
    "duration": 8,
    "start_time": "2022-10-11T15:41:28.045Z"
   },
   {
    "duration": 6,
    "start_time": "2022-10-11T15:41:28.055Z"
   },
   {
    "duration": 15,
    "start_time": "2022-10-11T15:41:28.062Z"
   },
   {
    "duration": 47,
    "start_time": "2022-10-11T15:41:28.090Z"
   },
   {
    "duration": 13,
    "start_time": "2022-10-11T15:41:28.139Z"
   },
   {
    "duration": 223183,
    "start_time": "2022-10-11T15:41:28.154Z"
   },
   {
    "duration": 143,
    "start_time": "2022-10-11T15:45:11.339Z"
   },
   {
    "duration": 0,
    "start_time": "2022-10-11T15:45:11.484Z"
   },
   {
    "duration": 0,
    "start_time": "2022-10-11T15:45:11.485Z"
   },
   {
    "duration": 0,
    "start_time": "2022-10-11T15:45:11.489Z"
   },
   {
    "duration": 0,
    "start_time": "2022-10-11T15:45:11.490Z"
   },
   {
    "duration": 0,
    "start_time": "2022-10-11T15:45:11.491Z"
   },
   {
    "duration": 1,
    "start_time": "2022-10-11T15:45:11.492Z"
   },
   {
    "duration": 0,
    "start_time": "2022-10-11T15:45:11.493Z"
   },
   {
    "duration": 0,
    "start_time": "2022-10-11T15:45:11.494Z"
   },
   {
    "duration": 0,
    "start_time": "2022-10-11T15:45:11.496Z"
   },
   {
    "duration": 0,
    "start_time": "2022-10-11T15:45:11.497Z"
   },
   {
    "duration": 0,
    "start_time": "2022-10-11T15:45:11.498Z"
   },
   {
    "duration": 0,
    "start_time": "2022-10-11T15:45:11.499Z"
   }
  ],
  "kernelspec": {
   "display_name": "Python 3 (ipykernel)",
   "language": "python",
   "name": "python3"
  },
  "language_info": {
   "codemirror_mode": {
    "name": "ipython",
    "version": 3
   },
   "file_extension": ".py",
   "mimetype": "text/x-python",
   "name": "python",
   "nbconvert_exporter": "python",
   "pygments_lexer": "ipython3",
   "version": "3.10.1"
  },
  "toc": {
   "base_numbering": 1,
   "nav_menu": {},
   "number_sections": true,
   "sideBar": true,
   "skip_h1_title": true,
   "title_cell": "Table of Contents",
   "title_sidebar": "Contents",
   "toc_cell": false,
   "toc_position": {},
   "toc_section_display": true,
   "toc_window_display": false
  }
 },
 "nbformat": 4,
 "nbformat_minor": 2
}
