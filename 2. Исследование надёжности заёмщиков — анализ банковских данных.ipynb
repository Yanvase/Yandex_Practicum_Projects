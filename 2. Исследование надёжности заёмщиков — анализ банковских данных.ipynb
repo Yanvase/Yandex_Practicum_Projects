{
 "cells": [
  {
   "cell_type": "code",
   "execution_count": 1,
   "id": "50236ac5",
   "metadata": {},
   "outputs": [
    {
     "data": {
      "text/html": [
       "<style>.container { width:90% !important; }</style>"
      ],
      "text/plain": [
       "<IPython.core.display.HTML object>"
      ]
     },
     "metadata": {},
     "output_type": "display_data"
    }
   ],
   "source": [
    "# Адаптируем размер тетрадки\n",
    "from IPython.display import display, HTML\n",
    "display(HTML(\"<style>.container { width:90% !important; }</style>\"))"
   ]
  },
  {
   "cell_type": "markdown",
   "id": "5d590992",
   "metadata": {},
   "source": [
    "<a id='31-bullet'></a>\n",
    "\n",
    "## Название проекта: \n",
    "<b>  Исследование надёжности заёмщиков — анализ банковских данных <b/>\n",
    "\n",
    "## Цель проекта: \n",
    "<b> Нужно разобраться, влияет ли семейное положение и количество детей клиента на факт погашения кредита в срок. <b/>\n",
    "\n",
    "   \n",
    "\n",
    "<b> Данное исследование разделим на несколько частей:<b/>\n",
    "\n",
    "##### Часть 1. Изучение общей информации:\n",
    "* [1. Изучение файлов с данными, получение общей информации, загрузка библиотек.](#1-bullet)\n",
    "* [2. Промежуточный вывод](#1.1-bullet)\n",
    "\n",
    "##### Часть 2. Предобработка данных:\n",
    "* [1. Работа с пропусками](#2.1-bullet)\n",
    "* [2. Работа с аномальными значениями](#2.2-bullet)\n",
    "* [3. Работа с типом данных](#2.3-bullet)\n",
    "* [4. Работа с дубликатами](#2.4-bullet)\n",
    "* [5. Создание новых столбцов в датафрейме](#2.5-bullet)\n",
    "* [6. Промежуточный вывод](#2.6-bullet)\n",
    "\n",
    "\n",
    "##### Часть 3. Ответьте на вопросы:\n",
    "* [1. Есть ли зависимость между количеством детей и возвратом кредита в срок?](#3.1-bullet)\n",
    "* [2. Есть ли зависимость между семейным положением и возвратом кредита в срок?](#3.2-bullet)\n",
    "* [3. Есть ли зависимость между уровнем дохода и возвратом кредита в срок?](#3.3-bullet)\n",
    "* [4. Как разные цели кредита влияют на его возврат в срок?](#3.4-bullet)\n",
    "\n",
    "    \n",
    "##### Часть 4. общий вывод:\n",
    "* [1. Общий вывод и рекомендации.](#4-bullet)\n",
    "    \n",
    "\n",
    "## Описание проекта:\n",
    "Заказчик — кредитный отдел банка. Нужно разобраться, влияет ли семейное положение и количество детей клиента на факт погашения кредита в срок. Входные данные от банка — статистика о платёжеспособности клиентов.\n",
    "Результаты исследования будут учтены при построении модели кредитного скоринга — специальной системы, которая оценивает способность потенциального заёмщика вернуть кредит банку.\n",
    "    \n",
    "## Описание данных проекта: \n",
    "В данном исследовании представлены данные от банка — статистика о платёжеспособности клиентов.\n",
    "    \n",
    "Таблица data.csv:\n",
    "* children — количество детей в семье\n",
    "* days_employed — общий трудовой стаж в днях\n",
    "* dob_years — возраст клиента в годах\n",
    "* education — уровень образования клиента\n",
    "* education_id — идентификатор уровня образования\n",
    "* family_status — семейное положение\n",
    "* family_status_id — идентификатор семейного положения\n",
    "* gender — пол клиента\n",
    "* income_type — тип занятости\n",
    "* debt — имел ли задолженность по возврату кредитов\n",
    "* total_income — ежемесячный доход\n",
    "* purpose — цель получения кредита"
   ]
  },
  {
   "cell_type": "markdown",
   "id": "ef6b5c25",
   "metadata": {},
   "source": [
    "<a id= '1-bullet'></a>\n",
    "# Шаг 1. Изучение общей информации"
   ]
  },
  {
   "cell_type": "code",
   "execution_count": 2,
   "id": "497d33e3",
   "metadata": {},
   "outputs": [],
   "source": [
    "import pandas as pd"
   ]
  },
  {
   "cell_type": "code",
   "execution_count": 3,
   "id": "e11d4428",
   "metadata": {
    "scrolled": false
   },
   "outputs": [],
   "source": [
    "try:\n",
    "    df=pd.read_csv('/datasets/data.csv')\n",
    "except:\n",
    "    df=pd.read_csv('data.csv')\n"
   ]
  },
  {
   "cell_type": "code",
   "execution_count": 4,
   "id": "cddcddf1",
   "metadata": {},
   "outputs": [
    {
     "data": {
      "text/html": [
       "<div>\n",
       "<style scoped>\n",
       "    .dataframe tbody tr th:only-of-type {\n",
       "        vertical-align: middle;\n",
       "    }\n",
       "\n",
       "    .dataframe tbody tr th {\n",
       "        vertical-align: top;\n",
       "    }\n",
       "\n",
       "    .dataframe thead th {\n",
       "        text-align: right;\n",
       "    }\n",
       "</style>\n",
       "<table border=\"1\" class=\"dataframe\">\n",
       "  <thead>\n",
       "    <tr style=\"text-align: right;\">\n",
       "      <th></th>\n",
       "      <th>children</th>\n",
       "      <th>days_employed</th>\n",
       "      <th>dob_years</th>\n",
       "      <th>education</th>\n",
       "      <th>education_id</th>\n",
       "      <th>family_status</th>\n",
       "      <th>family_status_id</th>\n",
       "      <th>gender</th>\n",
       "      <th>income_type</th>\n",
       "      <th>debt</th>\n",
       "      <th>total_income</th>\n",
       "      <th>purpose</th>\n",
       "    </tr>\n",
       "  </thead>\n",
       "  <tbody>\n",
       "    <tr>\n",
       "      <th>0</th>\n",
       "      <td>1</td>\n",
       "      <td>-8437.673028</td>\n",
       "      <td>42</td>\n",
       "      <td>высшее</td>\n",
       "      <td>0</td>\n",
       "      <td>женат / замужем</td>\n",
       "      <td>0</td>\n",
       "      <td>F</td>\n",
       "      <td>сотрудник</td>\n",
       "      <td>0</td>\n",
       "      <td>253875.639453</td>\n",
       "      <td>покупка жилья</td>\n",
       "    </tr>\n",
       "    <tr>\n",
       "      <th>1</th>\n",
       "      <td>1</td>\n",
       "      <td>-4024.803754</td>\n",
       "      <td>36</td>\n",
       "      <td>среднее</td>\n",
       "      <td>1</td>\n",
       "      <td>женат / замужем</td>\n",
       "      <td>0</td>\n",
       "      <td>F</td>\n",
       "      <td>сотрудник</td>\n",
       "      <td>0</td>\n",
       "      <td>112080.014102</td>\n",
       "      <td>приобретение автомобиля</td>\n",
       "    </tr>\n",
       "    <tr>\n",
       "      <th>2</th>\n",
       "      <td>0</td>\n",
       "      <td>-5623.422610</td>\n",
       "      <td>33</td>\n",
       "      <td>Среднее</td>\n",
       "      <td>1</td>\n",
       "      <td>женат / замужем</td>\n",
       "      <td>0</td>\n",
       "      <td>M</td>\n",
       "      <td>сотрудник</td>\n",
       "      <td>0</td>\n",
       "      <td>145885.952297</td>\n",
       "      <td>покупка жилья</td>\n",
       "    </tr>\n",
       "    <tr>\n",
       "      <th>3</th>\n",
       "      <td>3</td>\n",
       "      <td>-4124.747207</td>\n",
       "      <td>32</td>\n",
       "      <td>среднее</td>\n",
       "      <td>1</td>\n",
       "      <td>женат / замужем</td>\n",
       "      <td>0</td>\n",
       "      <td>M</td>\n",
       "      <td>сотрудник</td>\n",
       "      <td>0</td>\n",
       "      <td>267628.550329</td>\n",
       "      <td>дополнительное образование</td>\n",
       "    </tr>\n",
       "    <tr>\n",
       "      <th>4</th>\n",
       "      <td>0</td>\n",
       "      <td>340266.072047</td>\n",
       "      <td>53</td>\n",
       "      <td>среднее</td>\n",
       "      <td>1</td>\n",
       "      <td>гражданский брак</td>\n",
       "      <td>1</td>\n",
       "      <td>F</td>\n",
       "      <td>пенсионер</td>\n",
       "      <td>0</td>\n",
       "      <td>158616.077870</td>\n",
       "      <td>сыграть свадьбу</td>\n",
       "    </tr>\n",
       "    <tr>\n",
       "      <th>...</th>\n",
       "      <td>...</td>\n",
       "      <td>...</td>\n",
       "      <td>...</td>\n",
       "      <td>...</td>\n",
       "      <td>...</td>\n",
       "      <td>...</td>\n",
       "      <td>...</td>\n",
       "      <td>...</td>\n",
       "      <td>...</td>\n",
       "      <td>...</td>\n",
       "      <td>...</td>\n",
       "      <td>...</td>\n",
       "    </tr>\n",
       "    <tr>\n",
       "      <th>21520</th>\n",
       "      <td>1</td>\n",
       "      <td>-4529.316663</td>\n",
       "      <td>43</td>\n",
       "      <td>среднее</td>\n",
       "      <td>1</td>\n",
       "      <td>гражданский брак</td>\n",
       "      <td>1</td>\n",
       "      <td>F</td>\n",
       "      <td>компаньон</td>\n",
       "      <td>0</td>\n",
       "      <td>224791.862382</td>\n",
       "      <td>операции с жильем</td>\n",
       "    </tr>\n",
       "    <tr>\n",
       "      <th>21521</th>\n",
       "      <td>0</td>\n",
       "      <td>343937.404131</td>\n",
       "      <td>67</td>\n",
       "      <td>среднее</td>\n",
       "      <td>1</td>\n",
       "      <td>женат / замужем</td>\n",
       "      <td>0</td>\n",
       "      <td>F</td>\n",
       "      <td>пенсионер</td>\n",
       "      <td>0</td>\n",
       "      <td>155999.806512</td>\n",
       "      <td>сделка с автомобилем</td>\n",
       "    </tr>\n",
       "    <tr>\n",
       "      <th>21522</th>\n",
       "      <td>1</td>\n",
       "      <td>-2113.346888</td>\n",
       "      <td>38</td>\n",
       "      <td>среднее</td>\n",
       "      <td>1</td>\n",
       "      <td>гражданский брак</td>\n",
       "      <td>1</td>\n",
       "      <td>M</td>\n",
       "      <td>сотрудник</td>\n",
       "      <td>1</td>\n",
       "      <td>89672.561153</td>\n",
       "      <td>недвижимость</td>\n",
       "    </tr>\n",
       "    <tr>\n",
       "      <th>21523</th>\n",
       "      <td>3</td>\n",
       "      <td>-3112.481705</td>\n",
       "      <td>38</td>\n",
       "      <td>среднее</td>\n",
       "      <td>1</td>\n",
       "      <td>женат / замужем</td>\n",
       "      <td>0</td>\n",
       "      <td>M</td>\n",
       "      <td>сотрудник</td>\n",
       "      <td>1</td>\n",
       "      <td>244093.050500</td>\n",
       "      <td>на покупку своего автомобиля</td>\n",
       "    </tr>\n",
       "    <tr>\n",
       "      <th>21524</th>\n",
       "      <td>2</td>\n",
       "      <td>-1984.507589</td>\n",
       "      <td>40</td>\n",
       "      <td>среднее</td>\n",
       "      <td>1</td>\n",
       "      <td>женат / замужем</td>\n",
       "      <td>0</td>\n",
       "      <td>F</td>\n",
       "      <td>сотрудник</td>\n",
       "      <td>0</td>\n",
       "      <td>82047.418899</td>\n",
       "      <td>на покупку автомобиля</td>\n",
       "    </tr>\n",
       "  </tbody>\n",
       "</table>\n",
       "<p>21525 rows × 12 columns</p>\n",
       "</div>"
      ],
      "text/plain": [
       "       children  days_employed  dob_years education  education_id  \\\n",
       "0             1   -8437.673028         42    высшее             0   \n",
       "1             1   -4024.803754         36   среднее             1   \n",
       "2             0   -5623.422610         33   Среднее             1   \n",
       "3             3   -4124.747207         32   среднее             1   \n",
       "4             0  340266.072047         53   среднее             1   \n",
       "...         ...            ...        ...       ...           ...   \n",
       "21520         1   -4529.316663         43   среднее             1   \n",
       "21521         0  343937.404131         67   среднее             1   \n",
       "21522         1   -2113.346888         38   среднее             1   \n",
       "21523         3   -3112.481705         38   среднее             1   \n",
       "21524         2   -1984.507589         40   среднее             1   \n",
       "\n",
       "          family_status  family_status_id gender income_type  debt  \\\n",
       "0       женат / замужем                 0      F   сотрудник     0   \n",
       "1       женат / замужем                 0      F   сотрудник     0   \n",
       "2       женат / замужем                 0      M   сотрудник     0   \n",
       "3       женат / замужем                 0      M   сотрудник     0   \n",
       "4      гражданский брак                 1      F   пенсионер     0   \n",
       "...                 ...               ...    ...         ...   ...   \n",
       "21520  гражданский брак                 1      F   компаньон     0   \n",
       "21521   женат / замужем                 0      F   пенсионер     0   \n",
       "21522  гражданский брак                 1      M   сотрудник     1   \n",
       "21523   женат / замужем                 0      M   сотрудник     1   \n",
       "21524   женат / замужем                 0      F   сотрудник     0   \n",
       "\n",
       "        total_income                       purpose  \n",
       "0      253875.639453                 покупка жилья  \n",
       "1      112080.014102       приобретение автомобиля  \n",
       "2      145885.952297                 покупка жилья  \n",
       "3      267628.550329    дополнительное образование  \n",
       "4      158616.077870               сыграть свадьбу  \n",
       "...              ...                           ...  \n",
       "21520  224791.862382             операции с жильем  \n",
       "21521  155999.806512          сделка с автомобилем  \n",
       "21522   89672.561153                  недвижимость  \n",
       "21523  244093.050500  на покупку своего автомобиля  \n",
       "21524   82047.418899         на покупку автомобиля  \n",
       "\n",
       "[21525 rows x 12 columns]"
      ]
     },
     "metadata": {},
     "output_type": "display_data"
    },
    {
     "name": "stdout",
     "output_type": "stream",
     "text": [
      "<class 'pandas.core.frame.DataFrame'>\n",
      "RangeIndex: 21525 entries, 0 to 21524\n",
      "Data columns (total 12 columns):\n",
      " #   Column            Non-Null Count  Dtype  \n",
      "---  ------            --------------  -----  \n",
      " 0   children          21525 non-null  int64  \n",
      " 1   days_employed     19351 non-null  float64\n",
      " 2   dob_years         21525 non-null  int64  \n",
      " 3   education         21525 non-null  object \n",
      " 4   education_id      21525 non-null  int64  \n",
      " 5   family_status     21525 non-null  object \n",
      " 6   family_status_id  21525 non-null  int64  \n",
      " 7   gender            21525 non-null  object \n",
      " 8   income_type       21525 non-null  object \n",
      " 9   debt              21525 non-null  int64  \n",
      " 10  total_income      19351 non-null  float64\n",
      " 11  purpose           21525 non-null  object \n",
      "dtypes: float64(2), int64(5), object(5)\n",
      "memory usage: 2.0+ MB\n"
     ]
    }
   ],
   "source": [
    "display(df)\n",
    "df.info() # для наглядности, вывожу информацию + первые строки таблицы."
   ]
  },
  {
   "cell_type": "markdown",
   "id": "289805af",
   "metadata": {},
   "source": [
    "<a id= '1.1-bullet'></a>\n",
    "# вывод\n",
    "Изучая данные датасета, выявил некоторые проблемы в данных:\\\n",
    "1- Столбец 'days_employed' выражает дни, а они не могут быть отрицательными, или больше лет в 'dob_years' \\\n",
    "2- Столбец 'education' имеет значения с разным регистром. (заглавные и прописные буквы)\\\n",
    "3- В столбцах 'days_employed' и 'total_income' есть пропуски в данных."
   ]
  },
  {
   "cell_type": "markdown",
   "id": "0ada3b56",
   "metadata": {},
   "source": [
    "# Часть 2. Предобработка данных"
   ]
  },
  {
   "cell_type": "markdown",
   "id": "69790a6c",
   "metadata": {},
   "source": [
    "<a id= '2.1-bullet'></a>\n",
    "## Шаг 2.1 Заполнение пропусков"
   ]
  },
  {
   "cell_type": "code",
   "execution_count": 5,
   "id": "87f17f34",
   "metadata": {
    "scrolled": false
   },
   "outputs": [
    {
     "data": {
      "text/html": [
       "<div>\n",
       "<style scoped>\n",
       "    .dataframe tbody tr th:only-of-type {\n",
       "        vertical-align: middle;\n",
       "    }\n",
       "\n",
       "    .dataframe tbody tr th {\n",
       "        vertical-align: top;\n",
       "    }\n",
       "\n",
       "    .dataframe thead th {\n",
       "        text-align: right;\n",
       "    }\n",
       "</style>\n",
       "<table border=\"1\" class=\"dataframe\">\n",
       "  <thead>\n",
       "    <tr style=\"text-align: right;\">\n",
       "      <th></th>\n",
       "      <th>children</th>\n",
       "      <th>days_employed</th>\n",
       "      <th>dob_years</th>\n",
       "      <th>education</th>\n",
       "      <th>education_id</th>\n",
       "      <th>family_status</th>\n",
       "      <th>family_status_id</th>\n",
       "      <th>gender</th>\n",
       "      <th>income_type</th>\n",
       "      <th>debt</th>\n",
       "      <th>total_income</th>\n",
       "      <th>purpose</th>\n",
       "    </tr>\n",
       "  </thead>\n",
       "  <tbody>\n",
       "    <tr>\n",
       "      <th>12</th>\n",
       "      <td>0</td>\n",
       "      <td>NaN</td>\n",
       "      <td>65</td>\n",
       "      <td>среднее</td>\n",
       "      <td>1</td>\n",
       "      <td>гражданский брак</td>\n",
       "      <td>1</td>\n",
       "      <td>M</td>\n",
       "      <td>пенсионер</td>\n",
       "      <td>0</td>\n",
       "      <td>NaN</td>\n",
       "      <td>сыграть свадьбу</td>\n",
       "    </tr>\n",
       "    <tr>\n",
       "      <th>26</th>\n",
       "      <td>0</td>\n",
       "      <td>NaN</td>\n",
       "      <td>41</td>\n",
       "      <td>среднее</td>\n",
       "      <td>1</td>\n",
       "      <td>женат / замужем</td>\n",
       "      <td>0</td>\n",
       "      <td>M</td>\n",
       "      <td>госслужащий</td>\n",
       "      <td>0</td>\n",
       "      <td>NaN</td>\n",
       "      <td>образование</td>\n",
       "    </tr>\n",
       "    <tr>\n",
       "      <th>29</th>\n",
       "      <td>0</td>\n",
       "      <td>NaN</td>\n",
       "      <td>63</td>\n",
       "      <td>среднее</td>\n",
       "      <td>1</td>\n",
       "      <td>Не женат / не замужем</td>\n",
       "      <td>4</td>\n",
       "      <td>F</td>\n",
       "      <td>пенсионер</td>\n",
       "      <td>0</td>\n",
       "      <td>NaN</td>\n",
       "      <td>строительство жилой недвижимости</td>\n",
       "    </tr>\n",
       "    <tr>\n",
       "      <th>41</th>\n",
       "      <td>0</td>\n",
       "      <td>NaN</td>\n",
       "      <td>50</td>\n",
       "      <td>среднее</td>\n",
       "      <td>1</td>\n",
       "      <td>женат / замужем</td>\n",
       "      <td>0</td>\n",
       "      <td>F</td>\n",
       "      <td>госслужащий</td>\n",
       "      <td>0</td>\n",
       "      <td>NaN</td>\n",
       "      <td>сделка с подержанным автомобилем</td>\n",
       "    </tr>\n",
       "    <tr>\n",
       "      <th>55</th>\n",
       "      <td>0</td>\n",
       "      <td>NaN</td>\n",
       "      <td>54</td>\n",
       "      <td>среднее</td>\n",
       "      <td>1</td>\n",
       "      <td>гражданский брак</td>\n",
       "      <td>1</td>\n",
       "      <td>F</td>\n",
       "      <td>пенсионер</td>\n",
       "      <td>1</td>\n",
       "      <td>NaN</td>\n",
       "      <td>сыграть свадьбу</td>\n",
       "    </tr>\n",
       "    <tr>\n",
       "      <th>...</th>\n",
       "      <td>...</td>\n",
       "      <td>...</td>\n",
       "      <td>...</td>\n",
       "      <td>...</td>\n",
       "      <td>...</td>\n",
       "      <td>...</td>\n",
       "      <td>...</td>\n",
       "      <td>...</td>\n",
       "      <td>...</td>\n",
       "      <td>...</td>\n",
       "      <td>...</td>\n",
       "      <td>...</td>\n",
       "    </tr>\n",
       "    <tr>\n",
       "      <th>21489</th>\n",
       "      <td>2</td>\n",
       "      <td>NaN</td>\n",
       "      <td>47</td>\n",
       "      <td>среднее</td>\n",
       "      <td>1</td>\n",
       "      <td>женат / замужем</td>\n",
       "      <td>0</td>\n",
       "      <td>M</td>\n",
       "      <td>компаньон</td>\n",
       "      <td>0</td>\n",
       "      <td>NaN</td>\n",
       "      <td>сделка с автомобилем</td>\n",
       "    </tr>\n",
       "    <tr>\n",
       "      <th>21495</th>\n",
       "      <td>1</td>\n",
       "      <td>NaN</td>\n",
       "      <td>50</td>\n",
       "      <td>среднее</td>\n",
       "      <td>1</td>\n",
       "      <td>гражданский брак</td>\n",
       "      <td>1</td>\n",
       "      <td>F</td>\n",
       "      <td>сотрудник</td>\n",
       "      <td>0</td>\n",
       "      <td>NaN</td>\n",
       "      <td>свадьба</td>\n",
       "    </tr>\n",
       "    <tr>\n",
       "      <th>21497</th>\n",
       "      <td>0</td>\n",
       "      <td>NaN</td>\n",
       "      <td>48</td>\n",
       "      <td>высшее</td>\n",
       "      <td>0</td>\n",
       "      <td>женат / замужем</td>\n",
       "      <td>0</td>\n",
       "      <td>F</td>\n",
       "      <td>компаньон</td>\n",
       "      <td>0</td>\n",
       "      <td>NaN</td>\n",
       "      <td>строительство недвижимости</td>\n",
       "    </tr>\n",
       "    <tr>\n",
       "      <th>21502</th>\n",
       "      <td>1</td>\n",
       "      <td>NaN</td>\n",
       "      <td>42</td>\n",
       "      <td>среднее</td>\n",
       "      <td>1</td>\n",
       "      <td>женат / замужем</td>\n",
       "      <td>0</td>\n",
       "      <td>F</td>\n",
       "      <td>сотрудник</td>\n",
       "      <td>0</td>\n",
       "      <td>NaN</td>\n",
       "      <td>строительство жилой недвижимости</td>\n",
       "    </tr>\n",
       "    <tr>\n",
       "      <th>21510</th>\n",
       "      <td>2</td>\n",
       "      <td>NaN</td>\n",
       "      <td>28</td>\n",
       "      <td>среднее</td>\n",
       "      <td>1</td>\n",
       "      <td>женат / замужем</td>\n",
       "      <td>0</td>\n",
       "      <td>F</td>\n",
       "      <td>сотрудник</td>\n",
       "      <td>0</td>\n",
       "      <td>NaN</td>\n",
       "      <td>приобретение автомобиля</td>\n",
       "    </tr>\n",
       "  </tbody>\n",
       "</table>\n",
       "<p>2174 rows × 12 columns</p>\n",
       "</div>"
      ],
      "text/plain": [
       "       children  days_employed  dob_years education  education_id  \\\n",
       "12            0            NaN         65   среднее             1   \n",
       "26            0            NaN         41   среднее             1   \n",
       "29            0            NaN         63   среднее             1   \n",
       "41            0            NaN         50   среднее             1   \n",
       "55            0            NaN         54   среднее             1   \n",
       "...         ...            ...        ...       ...           ...   \n",
       "21489         2            NaN         47   среднее             1   \n",
       "21495         1            NaN         50   среднее             1   \n",
       "21497         0            NaN         48    высшее             0   \n",
       "21502         1            NaN         42   среднее             1   \n",
       "21510         2            NaN         28   среднее             1   \n",
       "\n",
       "               family_status  family_status_id gender  income_type  debt  \\\n",
       "12          гражданский брак                 1      M    пенсионер     0   \n",
       "26           женат / замужем                 0      M  госслужащий     0   \n",
       "29     Не женат / не замужем                 4      F    пенсионер     0   \n",
       "41           женат / замужем                 0      F  госслужащий     0   \n",
       "55          гражданский брак                 1      F    пенсионер     1   \n",
       "...                      ...               ...    ...          ...   ...   \n",
       "21489        женат / замужем                 0      M    компаньон     0   \n",
       "21495       гражданский брак                 1      F    сотрудник     0   \n",
       "21497        женат / замужем                 0      F    компаньон     0   \n",
       "21502        женат / замужем                 0      F    сотрудник     0   \n",
       "21510        женат / замужем                 0      F    сотрудник     0   \n",
       "\n",
       "       total_income                           purpose  \n",
       "12              NaN                   сыграть свадьбу  \n",
       "26              NaN                       образование  \n",
       "29              NaN  строительство жилой недвижимости  \n",
       "41              NaN  сделка с подержанным автомобилем  \n",
       "55              NaN                   сыграть свадьбу  \n",
       "...             ...                               ...  \n",
       "21489           NaN              сделка с автомобилем  \n",
       "21495           NaN                           свадьба  \n",
       "21497           NaN        строительство недвижимости  \n",
       "21502           NaN  строительство жилой недвижимости  \n",
       "21510           NaN           приобретение автомобиля  \n",
       "\n",
       "[2174 rows x 12 columns]"
      ]
     },
     "metadata": {},
     "output_type": "display_data"
    },
    {
     "name": "stdout",
     "output_type": "stream",
     "text": [
      "Пропусков в датасете: 2174\n",
      "Доля пропусков в столбцах составляет: 10.099883855981417 %\n"
     ]
    },
    {
     "data": {
      "text/html": [
       "<div>\n",
       "<style scoped>\n",
       "    .dataframe tbody tr th:only-of-type {\n",
       "        vertical-align: middle;\n",
       "    }\n",
       "\n",
       "    .dataframe tbody tr th {\n",
       "        vertical-align: top;\n",
       "    }\n",
       "\n",
       "    .dataframe thead th {\n",
       "        text-align: right;\n",
       "    }\n",
       "</style>\n",
       "<table border=\"1\" class=\"dataframe\">\n",
       "  <thead>\n",
       "    <tr style=\"text-align: right;\">\n",
       "      <th></th>\n",
       "      <th>children</th>\n",
       "      <th>days_employed</th>\n",
       "      <th>dob_years</th>\n",
       "      <th>education</th>\n",
       "      <th>education_id</th>\n",
       "      <th>family_status</th>\n",
       "      <th>family_status_id</th>\n",
       "      <th>gender</th>\n",
       "      <th>income_type</th>\n",
       "      <th>debt</th>\n",
       "      <th>total_income</th>\n",
       "      <th>purpose</th>\n",
       "    </tr>\n",
       "  </thead>\n",
       "  <tbody>\n",
       "  </tbody>\n",
       "</table>\n",
       "</div>"
      ],
      "text/plain": [
       "Empty DataFrame\n",
       "Columns: [children, days_employed, dob_years, education, education_id, family_status, family_status_id, gender, income_type, debt, total_income, purpose]\n",
       "Index: []"
      ]
     },
     "metadata": {},
     "output_type": "display_data"
    }
   ],
   "source": [
    "# В датасете 21525 записей (клиентов) разбитых на 12 столбцов, 4 количественных, 8 категориальных.\n",
    "# приведем 'education_level' к нижнему регистру\n",
    "df['education'] = df['education'].str.lower()\n",
    "\n",
    "# ищем долю пропусков:\n",
    "display(df[df['days_employed'].isnull()])\n",
    "print('Пропусков в датасете:',21525-19351)\n",
    "print('Доля пропусков в столбцах составляет:',2174/21525*100,'%')\n",
    "\n",
    "#проверяю и заменяю нулевые значения dob_years:\n",
    "df.loc[df['dob_years']==0, 'dob_years']=df['dob_years'].median()\n",
    "display(df[df['dob_years']==0])\n",
    "\n",
    "# возможно при выгрузке данных произошли ошибки\n",
    "# лучше заполнить пропуски медианным значением для конкретной категории клиентов. Для этого подойдет столбец 'income_type'."
   ]
  },
  {
   "cell_type": "code",
   "execution_count": 6,
   "id": "22fe691c",
   "metadata": {},
   "outputs": [
    {
     "data": {
      "text/plain": [
       "сотрудник          1105\n",
       "компаньон           508\n",
       "пенсионер           413\n",
       "госслужащий         147\n",
       "предприниматель       1\n",
       "Name: income_type, dtype: int64"
      ]
     },
     "metadata": {},
     "output_type": "display_data"
    }
   ],
   "source": [
    "# исправлю отрицательное значение.\n",
    "df.loc[df['days_employed']<0,'days_employed']=df['days_employed'].abs()\n",
    "\n",
    "#получаю значения 'income_type' для которых есть пропущенные значения в 'days_employed'\n",
    "display(df.loc[df['days_employed'].isna(), 'income_type'].value_counts())"
   ]
  },
  {
   "cell_type": "code",
   "execution_count": 7,
   "id": "653a8a33",
   "metadata": {},
   "outputs": [
    {
     "data": {
      "text/plain": [
       "0"
      ]
     },
     "execution_count": 7,
     "metadata": {},
     "output_type": "execute_result"
    }
   ],
   "source": [
    "# заменяю значение 'total_income' на медианное по категориям граждан:\n",
    "total_income_median= df.groupby('income_type')['total_income'].median()\n",
    "df.loc[(df['total_income'].isna()) & (df['income_type']=='сотрудник'), 'total_income'] = total_income_median[6]\n",
    "df.loc[(df['total_income'].isna()) & (df['income_type']=='компаньон'), 'total_income'] = total_income_median[3]\n",
    "df.loc[(df['total_income'].isna()) & (df['income_type']=='пенсионер'), 'total_income'] = total_income_median[4]\n",
    "df.loc[(df['total_income'].isna()) & (df['income_type']=='госслужащий'), 'total_income'] = total_income_median[2]\n",
    "df.loc[(df['total_income'].isna()) & (df['income_type']=='предприниматель'), 'total_income'] = total_income_median[5]\n",
    "df['total_income'].isna().sum()"
   ]
  },
  {
   "cell_type": "code",
   "execution_count": 8,
   "id": "b14c3bc6",
   "metadata": {},
   "outputs": [
    {
     "name": "stdout",
     "output_type": "stream",
     "text": [
      "797.5918331374241\n",
      "1350.995299700644\n",
      "2288.0411993739845\n",
      "347542.4835635039\n"
     ]
    },
    {
     "data": {
      "text/plain": [
       "children            0\n",
       "days_employed       0\n",
       "dob_years           0\n",
       "education           0\n",
       "education_id        0\n",
       "family_status       0\n",
       "family_status_id    0\n",
       "gender              0\n",
       "income_type         0\n",
       "debt                0\n",
       "total_income        0\n",
       "purpose             0\n",
       "dtype: int64"
      ]
     },
     "execution_count": 8,
     "metadata": {},
     "output_type": "execute_result"
    }
   ],
   "source": [
    "\n",
    "# для 'days_employed' лучше подойдет мединное значение по возрастным категориям:\n",
    "median_25= df.loc[df['dob_years']<=25]['days_employed'].median()\n",
    "median_25_35= df.loc[(df['dob_years']>25) & (df['dob_years']<=35)]['days_employed'].median()\n",
    "median_35_55= df.loc[(df['dob_years']>35) & (df['dob_years']<=55)]['days_employed'].median()\n",
    "median_55= df.loc[df['dob_years'] > 55]['days_employed'].median()\n",
    "print(median_25)\n",
    "print(median_25_35)\n",
    "print(median_35_55)\n",
    "print(median_55)\n",
    "df.loc[((df['days_employed'].isna()) & (df['dob_years']<=25)) ,'days_employed']=median_25\n",
    "df.loc[((df['days_employed'].isna()) & (df['dob_years']>25) & (df['dob_years']<=35)),'days_employed']=median_25_35\n",
    "df.loc[((df['days_employed'].isna()) & (df['dob_years']>35) & (df['dob_years']<=55)),'days_employed']=median_35_55\n",
    "df.loc[((df['days_employed'].isna()) & (df['dob_years'] > 55)),'days_employed']=median_55\n",
    "\n",
    "#проверю если остались пропуски:\n",
    "df.isna().sum()\n",
    "\n",
    "#использование медианных значении, в данном случае, исключит возможные ошибки, погрешности."
   ]
  },
  {
   "cell_type": "code",
   "execution_count": 9,
   "id": "676b6ed9",
   "metadata": {},
   "outputs": [
    {
     "data": {
      "text/plain": [
       "array([253875.6394526 , 112080.01410244, 145885.95229686, ...,\n",
       "        89672.56115303, 244093.05050043,  82047.41889948])"
      ]
     },
     "metadata": {},
     "output_type": "display_data"
    },
    {
     "data": {
      "text/plain": [
       "array([8437.67302776, 4024.80375385, 5623.42261023, ..., 2113.3468877 ,\n",
       "       3112.4817052 , 1984.50758853])"
      ]
     },
     "execution_count": 9,
     "metadata": {},
     "output_type": "execute_result"
    }
   ],
   "source": [
    "display(df.total_income.unique())\n",
    "\n",
    "df.days_employed.unique()"
   ]
  },
  {
   "cell_type": "markdown",
   "id": "35f973ab",
   "metadata": {},
   "source": [
    "<a id= '2.2-bullet'></a>\n",
    "## Шаг 2.2 Проверка данных на аномалии и исправления."
   ]
  },
  {
   "cell_type": "code",
   "execution_count": 10,
   "id": "24ca0a3c",
   "metadata": {
    "scrolled": false
   },
   "outputs": [
    {
     "data": {
      "text/html": [
       "<div>\n",
       "<style scoped>\n",
       "    .dataframe tbody tr th:only-of-type {\n",
       "        vertical-align: middle;\n",
       "    }\n",
       "\n",
       "    .dataframe tbody tr th {\n",
       "        vertical-align: top;\n",
       "    }\n",
       "\n",
       "    .dataframe thead th {\n",
       "        text-align: right;\n",
       "    }\n",
       "</style>\n",
       "<table border=\"1\" class=\"dataframe\">\n",
       "  <thead>\n",
       "    <tr style=\"text-align: right;\">\n",
       "      <th></th>\n",
       "      <th>children</th>\n",
       "      <th>days_employed</th>\n",
       "      <th>dob_years</th>\n",
       "      <th>education</th>\n",
       "      <th>education_id</th>\n",
       "      <th>family_status</th>\n",
       "      <th>family_status_id</th>\n",
       "      <th>gender</th>\n",
       "      <th>income_type</th>\n",
       "      <th>debt</th>\n",
       "      <th>total_income</th>\n",
       "      <th>purpose</th>\n",
       "    </tr>\n",
       "  </thead>\n",
       "  <tbody>\n",
       "    <tr>\n",
       "      <th>6954</th>\n",
       "      <td>0</td>\n",
       "      <td>401755.400475</td>\n",
       "      <td>56</td>\n",
       "      <td>среднее</td>\n",
       "      <td>1</td>\n",
       "      <td>вдовец / вдова</td>\n",
       "      <td>2</td>\n",
       "      <td>F</td>\n",
       "      <td>пенсионер</td>\n",
       "      <td>0</td>\n",
       "      <td>176278.441171</td>\n",
       "      <td>ремонт жилью</td>\n",
       "    </tr>\n",
       "    <tr>\n",
       "      <th>10006</th>\n",
       "      <td>0</td>\n",
       "      <td>401715.811749</td>\n",
       "      <td>69</td>\n",
       "      <td>высшее</td>\n",
       "      <td>0</td>\n",
       "      <td>Не женат / не замужем</td>\n",
       "      <td>4</td>\n",
       "      <td>F</td>\n",
       "      <td>пенсионер</td>\n",
       "      <td>0</td>\n",
       "      <td>57390.256908</td>\n",
       "      <td>получение образования</td>\n",
       "    </tr>\n",
       "    <tr>\n",
       "      <th>7664</th>\n",
       "      <td>1</td>\n",
       "      <td>401675.093434</td>\n",
       "      <td>61</td>\n",
       "      <td>среднее</td>\n",
       "      <td>1</td>\n",
       "      <td>женат / замужем</td>\n",
       "      <td>0</td>\n",
       "      <td>F</td>\n",
       "      <td>пенсионер</td>\n",
       "      <td>0</td>\n",
       "      <td>126214.519212</td>\n",
       "      <td>операции с жильем</td>\n",
       "    </tr>\n",
       "    <tr>\n",
       "      <th>2156</th>\n",
       "      <td>0</td>\n",
       "      <td>401674.466633</td>\n",
       "      <td>60</td>\n",
       "      <td>среднее</td>\n",
       "      <td>1</td>\n",
       "      <td>женат / замужем</td>\n",
       "      <td>0</td>\n",
       "      <td>M</td>\n",
       "      <td>пенсионер</td>\n",
       "      <td>0</td>\n",
       "      <td>325395.724541</td>\n",
       "      <td>автомобили</td>\n",
       "    </tr>\n",
       "    <tr>\n",
       "      <th>7794</th>\n",
       "      <td>0</td>\n",
       "      <td>401663.850046</td>\n",
       "      <td>61</td>\n",
       "      <td>среднее</td>\n",
       "      <td>1</td>\n",
       "      <td>гражданский брак</td>\n",
       "      <td>1</td>\n",
       "      <td>F</td>\n",
       "      <td>пенсионер</td>\n",
       "      <td>0</td>\n",
       "      <td>48286.441362</td>\n",
       "      <td>свадьба</td>\n",
       "    </tr>\n",
       "    <tr>\n",
       "      <th>...</th>\n",
       "      <td>...</td>\n",
       "      <td>...</td>\n",
       "      <td>...</td>\n",
       "      <td>...</td>\n",
       "      <td>...</td>\n",
       "      <td>...</td>\n",
       "      <td>...</td>\n",
       "      <td>...</td>\n",
       "      <td>...</td>\n",
       "      <td>...</td>\n",
       "      <td>...</td>\n",
       "      <td>...</td>\n",
       "    </tr>\n",
       "    <tr>\n",
       "      <th>2127</th>\n",
       "      <td>1</td>\n",
       "      <td>34.701045</td>\n",
       "      <td>31</td>\n",
       "      <td>высшее</td>\n",
       "      <td>0</td>\n",
       "      <td>женат / замужем</td>\n",
       "      <td>0</td>\n",
       "      <td>F</td>\n",
       "      <td>компаньон</td>\n",
       "      <td>0</td>\n",
       "      <td>90557.994311</td>\n",
       "      <td>получение образования</td>\n",
       "    </tr>\n",
       "    <tr>\n",
       "      <th>9683</th>\n",
       "      <td>0</td>\n",
       "      <td>33.520665</td>\n",
       "      <td>43</td>\n",
       "      <td>среднее</td>\n",
       "      <td>1</td>\n",
       "      <td>Не женат / не замужем</td>\n",
       "      <td>4</td>\n",
       "      <td>M</td>\n",
       "      <td>сотрудник</td>\n",
       "      <td>1</td>\n",
       "      <td>128555.897209</td>\n",
       "      <td>приобретение автомобиля</td>\n",
       "    </tr>\n",
       "    <tr>\n",
       "      <th>6157</th>\n",
       "      <td>2</td>\n",
       "      <td>30.195337</td>\n",
       "      <td>47</td>\n",
       "      <td>среднее</td>\n",
       "      <td>1</td>\n",
       "      <td>гражданский брак</td>\n",
       "      <td>1</td>\n",
       "      <td>M</td>\n",
       "      <td>компаньон</td>\n",
       "      <td>0</td>\n",
       "      <td>231461.185606</td>\n",
       "      <td>свадьба</td>\n",
       "    </tr>\n",
       "    <tr>\n",
       "      <th>8336</th>\n",
       "      <td>0</td>\n",
       "      <td>24.240695</td>\n",
       "      <td>32</td>\n",
       "      <td>высшее</td>\n",
       "      <td>0</td>\n",
       "      <td>Не женат / не замужем</td>\n",
       "      <td>4</td>\n",
       "      <td>M</td>\n",
       "      <td>сотрудник</td>\n",
       "      <td>0</td>\n",
       "      <td>124115.373655</td>\n",
       "      <td>получение дополнительного образования</td>\n",
       "    </tr>\n",
       "    <tr>\n",
       "      <th>17437</th>\n",
       "      <td>1</td>\n",
       "      <td>24.141633</td>\n",
       "      <td>31</td>\n",
       "      <td>среднее</td>\n",
       "      <td>1</td>\n",
       "      <td>женат / замужем</td>\n",
       "      <td>0</td>\n",
       "      <td>F</td>\n",
       "      <td>сотрудник</td>\n",
       "      <td>1</td>\n",
       "      <td>166952.415427</td>\n",
       "      <td>высшее образование</td>\n",
       "    </tr>\n",
       "  </tbody>\n",
       "</table>\n",
       "<p>21525 rows × 12 columns</p>\n",
       "</div>"
      ],
      "text/plain": [
       "       children  days_employed  dob_years education  education_id  \\\n",
       "6954          0  401755.400475         56   среднее             1   \n",
       "10006         0  401715.811749         69    высшее             0   \n",
       "7664          1  401675.093434         61   среднее             1   \n",
       "2156          0  401674.466633         60   среднее             1   \n",
       "7794          0  401663.850046         61   среднее             1   \n",
       "...         ...            ...        ...       ...           ...   \n",
       "2127          1      34.701045         31    высшее             0   \n",
       "9683          0      33.520665         43   среднее             1   \n",
       "6157          2      30.195337         47   среднее             1   \n",
       "8336          0      24.240695         32    высшее             0   \n",
       "17437         1      24.141633         31   среднее             1   \n",
       "\n",
       "               family_status  family_status_id gender income_type  debt  \\\n",
       "6954          вдовец / вдова                 2      F   пенсионер     0   \n",
       "10006  Не женат / не замужем                 4      F   пенсионер     0   \n",
       "7664         женат / замужем                 0      F   пенсионер     0   \n",
       "2156         женат / замужем                 0      M   пенсионер     0   \n",
       "7794        гражданский брак                 1      F   пенсионер     0   \n",
       "...                      ...               ...    ...         ...   ...   \n",
       "2127         женат / замужем                 0      F   компаньон     0   \n",
       "9683   Не женат / не замужем                 4      M   сотрудник     1   \n",
       "6157        гражданский брак                 1      M   компаньон     0   \n",
       "8336   Не женат / не замужем                 4      M   сотрудник     0   \n",
       "17437        женат / замужем                 0      F   сотрудник     1   \n",
       "\n",
       "        total_income                                purpose  \n",
       "6954   176278.441171                           ремонт жилью  \n",
       "10006   57390.256908                  получение образования  \n",
       "7664   126214.519212                      операции с жильем  \n",
       "2156   325395.724541                             автомобили  \n",
       "7794    48286.441362                                свадьба  \n",
       "...              ...                                    ...  \n",
       "2127    90557.994311                  получение образования  \n",
       "9683   128555.897209                приобретение автомобиля  \n",
       "6157   231461.185606                                свадьба  \n",
       "8336   124115.373655  получение дополнительного образования  \n",
       "17437  166952.415427                     высшее образование  \n",
       "\n",
       "[21525 rows x 12 columns]"
      ]
     },
     "execution_count": 10,
     "metadata": {},
     "output_type": "execute_result"
    }
   ],
   "source": [
    "df.sort_values(by=['days_employed'],ascending=False)"
   ]
  },
  {
   "cell_type": "markdown",
   "id": "40cce919",
   "metadata": {},
   "source": [
    "<b> Вывод\n",
    "* От нулевых и отрицательных значении избавился на этапе обработки пропусков\n",
    "* Возможна ошибка при выгрузке данных.\n"
   ]
  },
  {
   "cell_type": "markdown",
   "id": "8f1f7801",
   "metadata": {},
   "source": [
    "<a id= '2.3-bullet'></a>\n",
    "## Шаг 2.3. Изменение типов данных."
   ]
  },
  {
   "cell_type": "code",
   "execution_count": 11,
   "id": "bdf90f5c",
   "metadata": {},
   "outputs": [
    {
     "data": {
      "text/plain": [
       "children              int64\n",
       "days_employed       float64\n",
       "dob_years             int64\n",
       "education            object\n",
       "education_id          int64\n",
       "family_status        object\n",
       "family_status_id      int64\n",
       "gender               object\n",
       "income_type          object\n",
       "debt                  int64\n",
       "total_income        float64\n",
       "purpose              object\n",
       "dtype: object"
      ]
     },
     "execution_count": 11,
     "metadata": {},
     "output_type": "execute_result"
    }
   ],
   "source": [
    "# Для начала проверим обий тип данных по столбцам\n",
    "df.dtypes"
   ]
  },
  {
   "cell_type": "code",
   "execution_count": 12,
   "id": "fd84e85a",
   "metadata": {},
   "outputs": [],
   "source": [
    "# теперь поменяем тип данных в нужном столбце\n",
    "df['total_income']=df['total_income'].astype(int)"
   ]
  },
  {
   "cell_type": "code",
   "execution_count": 13,
   "id": "86035bd5",
   "metadata": {},
   "outputs": [
    {
     "data": {
      "text/plain": [
       "children              int64\n",
       "days_employed       float64\n",
       "dob_years             int64\n",
       "education            object\n",
       "education_id          int64\n",
       "family_status        object\n",
       "family_status_id      int64\n",
       "gender               object\n",
       "income_type          object\n",
       "debt                  int64\n",
       "total_income          int32\n",
       "purpose              object\n",
       "dtype: object"
      ]
     },
     "execution_count": 13,
     "metadata": {},
     "output_type": "execute_result"
    }
   ],
   "source": [
    "# убедимся, что правильно изменили\n",
    "df.dtypes"
   ]
  },
  {
   "cell_type": "markdown",
   "id": "f7828eda",
   "metadata": {},
   "source": [
    "<a id= '2.4-bullet'></a>\n",
    "## Шаг 2.4. Удаление дубликатов."
   ]
  },
  {
   "cell_type": "code",
   "execution_count": 14,
   "id": "13ad6c29",
   "metadata": {
    "scrolled": true
   },
   "outputs": [
    {
     "name": "stdout",
     "output_type": "stream",
     "text": [
      "72\n"
     ]
    },
    {
     "data": {
      "text/html": [
       "<div>\n",
       "<style scoped>\n",
       "    .dataframe tbody tr th:only-of-type {\n",
       "        vertical-align: middle;\n",
       "    }\n",
       "\n",
       "    .dataframe tbody tr th {\n",
       "        vertical-align: top;\n",
       "    }\n",
       "\n",
       "    .dataframe thead th {\n",
       "        text-align: right;\n",
       "    }\n",
       "</style>\n",
       "<table border=\"1\" class=\"dataframe\">\n",
       "  <thead>\n",
       "    <tr style=\"text-align: right;\">\n",
       "      <th></th>\n",
       "      <th>children</th>\n",
       "      <th>days_employed</th>\n",
       "      <th>dob_years</th>\n",
       "      <th>education</th>\n",
       "      <th>education_id</th>\n",
       "      <th>family_status</th>\n",
       "      <th>family_status_id</th>\n",
       "      <th>gender</th>\n",
       "      <th>income_type</th>\n",
       "      <th>debt</th>\n",
       "      <th>total_income</th>\n",
       "      <th>purpose</th>\n",
       "    </tr>\n",
       "  </thead>\n",
       "  <tbody>\n",
       "    <tr>\n",
       "      <th>9604</th>\n",
       "      <td>0</td>\n",
       "      <td>347542.483564</td>\n",
       "      <td>71</td>\n",
       "      <td>среднее</td>\n",
       "      <td>1</td>\n",
       "      <td>гражданский брак</td>\n",
       "      <td>1</td>\n",
       "      <td>F</td>\n",
       "      <td>пенсионер</td>\n",
       "      <td>0</td>\n",
       "      <td>118514</td>\n",
       "      <td>на проведение свадьбы</td>\n",
       "    </tr>\n",
       "    <tr>\n",
       "      <th>7938</th>\n",
       "      <td>0</td>\n",
       "      <td>347542.483564</td>\n",
       "      <td>71</td>\n",
       "      <td>среднее</td>\n",
       "      <td>1</td>\n",
       "      <td>гражданский брак</td>\n",
       "      <td>1</td>\n",
       "      <td>F</td>\n",
       "      <td>пенсионер</td>\n",
       "      <td>0</td>\n",
       "      <td>118514</td>\n",
       "      <td>на проведение свадьбы</td>\n",
       "    </tr>\n",
       "    <tr>\n",
       "      <th>9528</th>\n",
       "      <td>0</td>\n",
       "      <td>347542.483564</td>\n",
       "      <td>66</td>\n",
       "      <td>среднее</td>\n",
       "      <td>1</td>\n",
       "      <td>вдовец / вдова</td>\n",
       "      <td>2</td>\n",
       "      <td>F</td>\n",
       "      <td>пенсионер</td>\n",
       "      <td>0</td>\n",
       "      <td>118514</td>\n",
       "      <td>операции со своей недвижимостью</td>\n",
       "    </tr>\n",
       "    <tr>\n",
       "      <th>20187</th>\n",
       "      <td>0</td>\n",
       "      <td>347542.483564</td>\n",
       "      <td>65</td>\n",
       "      <td>среднее</td>\n",
       "      <td>1</td>\n",
       "      <td>гражданский брак</td>\n",
       "      <td>1</td>\n",
       "      <td>F</td>\n",
       "      <td>пенсионер</td>\n",
       "      <td>0</td>\n",
       "      <td>118514</td>\n",
       "      <td>сыграть свадьбу</td>\n",
       "    </tr>\n",
       "    <tr>\n",
       "      <th>18428</th>\n",
       "      <td>0</td>\n",
       "      <td>347542.483564</td>\n",
       "      <td>64</td>\n",
       "      <td>среднее</td>\n",
       "      <td>1</td>\n",
       "      <td>женат / замужем</td>\n",
       "      <td>0</td>\n",
       "      <td>F</td>\n",
       "      <td>пенсионер</td>\n",
       "      <td>0</td>\n",
       "      <td>118514</td>\n",
       "      <td>жилье</td>\n",
       "    </tr>\n",
       "    <tr>\n",
       "      <th>13639</th>\n",
       "      <td>0</td>\n",
       "      <td>347542.483564</td>\n",
       "      <td>64</td>\n",
       "      <td>среднее</td>\n",
       "      <td>1</td>\n",
       "      <td>женат / замужем</td>\n",
       "      <td>0</td>\n",
       "      <td>F</td>\n",
       "      <td>пенсионер</td>\n",
       "      <td>0</td>\n",
       "      <td>118514</td>\n",
       "      <td>автомобиль</td>\n",
       "    </tr>\n",
       "    <tr>\n",
       "      <th>20702</th>\n",
       "      <td>0</td>\n",
       "      <td>347542.483564</td>\n",
       "      <td>64</td>\n",
       "      <td>среднее</td>\n",
       "      <td>1</td>\n",
       "      <td>женат / замужем</td>\n",
       "      <td>0</td>\n",
       "      <td>F</td>\n",
       "      <td>пенсионер</td>\n",
       "      <td>0</td>\n",
       "      <td>118514</td>\n",
       "      <td>дополнительное образование</td>\n",
       "    </tr>\n",
       "    <tr>\n",
       "      <th>7921</th>\n",
       "      <td>0</td>\n",
       "      <td>347542.483564</td>\n",
       "      <td>64</td>\n",
       "      <td>высшее</td>\n",
       "      <td>0</td>\n",
       "      <td>гражданский брак</td>\n",
       "      <td>1</td>\n",
       "      <td>F</td>\n",
       "      <td>пенсионер</td>\n",
       "      <td>0</td>\n",
       "      <td>118514</td>\n",
       "      <td>на проведение свадьбы</td>\n",
       "    </tr>\n",
       "    <tr>\n",
       "      <th>17338</th>\n",
       "      <td>0</td>\n",
       "      <td>347542.483564</td>\n",
       "      <td>64</td>\n",
       "      <td>среднее</td>\n",
       "      <td>1</td>\n",
       "      <td>гражданский брак</td>\n",
       "      <td>1</td>\n",
       "      <td>F</td>\n",
       "      <td>пенсионер</td>\n",
       "      <td>0</td>\n",
       "      <td>118514</td>\n",
       "      <td>сыграть свадьбу</td>\n",
       "    </tr>\n",
       "    <tr>\n",
       "      <th>10864</th>\n",
       "      <td>0</td>\n",
       "      <td>347542.483564</td>\n",
       "      <td>62</td>\n",
       "      <td>среднее</td>\n",
       "      <td>1</td>\n",
       "      <td>женат / замужем</td>\n",
       "      <td>0</td>\n",
       "      <td>F</td>\n",
       "      <td>пенсионер</td>\n",
       "      <td>0</td>\n",
       "      <td>118514</td>\n",
       "      <td>ремонт жилью</td>\n",
       "    </tr>\n",
       "    <tr>\n",
       "      <th>10462</th>\n",
       "      <td>0</td>\n",
       "      <td>347542.483564</td>\n",
       "      <td>62</td>\n",
       "      <td>среднее</td>\n",
       "      <td>1</td>\n",
       "      <td>женат / замужем</td>\n",
       "      <td>0</td>\n",
       "      <td>F</td>\n",
       "      <td>пенсионер</td>\n",
       "      <td>0</td>\n",
       "      <td>118514</td>\n",
       "      <td>покупка коммерческой недвижимости</td>\n",
       "    </tr>\n",
       "    <tr>\n",
       "      <th>9855</th>\n",
       "      <td>0</td>\n",
       "      <td>347542.483564</td>\n",
       "      <td>62</td>\n",
       "      <td>среднее</td>\n",
       "      <td>1</td>\n",
       "      <td>женат / замужем</td>\n",
       "      <td>0</td>\n",
       "      <td>F</td>\n",
       "      <td>пенсионер</td>\n",
       "      <td>0</td>\n",
       "      <td>118514</td>\n",
       "      <td>получение дополнительного образования</td>\n",
       "    </tr>\n",
       "    <tr>\n",
       "      <th>10994</th>\n",
       "      <td>0</td>\n",
       "      <td>347542.483564</td>\n",
       "      <td>62</td>\n",
       "      <td>среднее</td>\n",
       "      <td>1</td>\n",
       "      <td>женат / замужем</td>\n",
       "      <td>0</td>\n",
       "      <td>F</td>\n",
       "      <td>пенсионер</td>\n",
       "      <td>0</td>\n",
       "      <td>118514</td>\n",
       "      <td>ремонт жилью</td>\n",
       "    </tr>\n",
       "    <tr>\n",
       "      <th>19688</th>\n",
       "      <td>0</td>\n",
       "      <td>347542.483564</td>\n",
       "      <td>61</td>\n",
       "      <td>среднее</td>\n",
       "      <td>1</td>\n",
       "      <td>женат / замужем</td>\n",
       "      <td>0</td>\n",
       "      <td>F</td>\n",
       "      <td>пенсионер</td>\n",
       "      <td>0</td>\n",
       "      <td>118514</td>\n",
       "      <td>операции с недвижимостью</td>\n",
       "    </tr>\n",
       "    <tr>\n",
       "      <th>15188</th>\n",
       "      <td>0</td>\n",
       "      <td>347542.483564</td>\n",
       "      <td>60</td>\n",
       "      <td>среднее</td>\n",
       "      <td>1</td>\n",
       "      <td>женат / замужем</td>\n",
       "      <td>0</td>\n",
       "      <td>M</td>\n",
       "      <td>сотрудник</td>\n",
       "      <td>0</td>\n",
       "      <td>142594</td>\n",
       "      <td>покупка недвижимости</td>\n",
       "    </tr>\n",
       "  </tbody>\n",
       "</table>\n",
       "</div>"
      ],
      "text/plain": [
       "       children  days_employed  dob_years education  education_id  \\\n",
       "9604          0  347542.483564         71   среднее             1   \n",
       "7938          0  347542.483564         71   среднее             1   \n",
       "9528          0  347542.483564         66   среднее             1   \n",
       "20187         0  347542.483564         65   среднее             1   \n",
       "18428         0  347542.483564         64   среднее             1   \n",
       "13639         0  347542.483564         64   среднее             1   \n",
       "20702         0  347542.483564         64   среднее             1   \n",
       "7921          0  347542.483564         64    высшее             0   \n",
       "17338         0  347542.483564         64   среднее             1   \n",
       "10864         0  347542.483564         62   среднее             1   \n",
       "10462         0  347542.483564         62   среднее             1   \n",
       "9855          0  347542.483564         62   среднее             1   \n",
       "10994         0  347542.483564         62   среднее             1   \n",
       "19688         0  347542.483564         61   среднее             1   \n",
       "15188         0  347542.483564         60   среднее             1   \n",
       "\n",
       "          family_status  family_status_id gender income_type  debt  \\\n",
       "9604   гражданский брак                 1      F   пенсионер     0   \n",
       "7938   гражданский брак                 1      F   пенсионер     0   \n",
       "9528     вдовец / вдова                 2      F   пенсионер     0   \n",
       "20187  гражданский брак                 1      F   пенсионер     0   \n",
       "18428   женат / замужем                 0      F   пенсионер     0   \n",
       "13639   женат / замужем                 0      F   пенсионер     0   \n",
       "20702   женат / замужем                 0      F   пенсионер     0   \n",
       "7921   гражданский брак                 1      F   пенсионер     0   \n",
       "17338  гражданский брак                 1      F   пенсионер     0   \n",
       "10864   женат / замужем                 0      F   пенсионер     0   \n",
       "10462   женат / замужем                 0      F   пенсионер     0   \n",
       "9855    женат / замужем                 0      F   пенсионер     0   \n",
       "10994   женат / замужем                 0      F   пенсионер     0   \n",
       "19688   женат / замужем                 0      F   пенсионер     0   \n",
       "15188   женат / замужем                 0      M   сотрудник     0   \n",
       "\n",
       "       total_income                                purpose  \n",
       "9604         118514                  на проведение свадьбы  \n",
       "7938         118514                  на проведение свадьбы  \n",
       "9528         118514        операции со своей недвижимостью  \n",
       "20187        118514                        сыграть свадьбу  \n",
       "18428        118514                                  жилье  \n",
       "13639        118514                             автомобиль  \n",
       "20702        118514             дополнительное образование  \n",
       "7921         118514                  на проведение свадьбы  \n",
       "17338        118514                        сыграть свадьбу  \n",
       "10864        118514                           ремонт жилью  \n",
       "10462        118514      покупка коммерческой недвижимости  \n",
       "9855         118514  получение дополнительного образования  \n",
       "10994        118514                           ремонт жилью  \n",
       "19688        118514               операции с недвижимостью  \n",
       "15188        142594                   покупка недвижимости  "
      ]
     },
     "execution_count": 14,
     "metadata": {},
     "output_type": "execute_result"
    }
   ],
   "source": [
    "# находим общее количество дубликатов\n",
    "print(df.duplicated().sum())\n",
    "#выводим первые строки датафрейма для изучения\n",
    "df[df.duplicated()].sort_values('dob_years', ascending = False).head(15)"
   ]
  },
  {
   "cell_type": "code",
   "execution_count": 15,
   "id": "656730b7",
   "metadata": {},
   "outputs": [
    {
     "data": {
      "text/plain": [
       "0"
      ]
     },
     "execution_count": 15,
     "metadata": {},
     "output_type": "execute_result"
    }
   ],
   "source": [
    "df = df.drop_duplicates().reset_index(drop=True) \n",
    "\n",
    "df.duplicated().sum()"
   ]
  },
  {
   "cell_type": "markdown",
   "id": "ab32dff9",
   "metadata": {},
   "source": [
    "<b> Вывод\n",
    "* Выбрал данный метод поиска и удаления так как нужно было искать именно дупликаты для их дальнейшей обработки или удаления.\n",
    "* Возможно появление дубликатов связано с человеческим фактором. \n",
    "* Возможно один человек направлял несколько заявок"
   ]
  },
  {
   "cell_type": "markdown",
   "id": "385360c7",
   "metadata": {},
   "source": [
    "<a id= '2.5-bullet'></a>\n",
    "## Шаг 2.5. Формирование дополнительных датафреймов словарей, декомпозиция исходного датафрейма."
   ]
  },
  {
   "cell_type": "code",
   "execution_count": 16,
   "id": "f230948b",
   "metadata": {},
   "outputs": [
    {
     "data": {
      "text/html": [
       "<div>\n",
       "<style scoped>\n",
       "    .dataframe tbody tr th:only-of-type {\n",
       "        vertical-align: middle;\n",
       "    }\n",
       "\n",
       "    .dataframe tbody tr th {\n",
       "        vertical-align: top;\n",
       "    }\n",
       "\n",
       "    .dataframe thead th {\n",
       "        text-align: right;\n",
       "    }\n",
       "</style>\n",
       "<table border=\"1\" class=\"dataframe\">\n",
       "  <thead>\n",
       "    <tr style=\"text-align: right;\">\n",
       "      <th></th>\n",
       "      <th>education</th>\n",
       "      <th>education_id</th>\n",
       "    </tr>\n",
       "  </thead>\n",
       "  <tbody>\n",
       "    <tr>\n",
       "      <th>0</th>\n",
       "      <td>высшее</td>\n",
       "      <td>0</td>\n",
       "    </tr>\n",
       "    <tr>\n",
       "      <th>1</th>\n",
       "      <td>среднее</td>\n",
       "      <td>1</td>\n",
       "    </tr>\n",
       "    <tr>\n",
       "      <th>2</th>\n",
       "      <td>неоконченное высшее</td>\n",
       "      <td>2</td>\n",
       "    </tr>\n",
       "    <tr>\n",
       "      <th>3</th>\n",
       "      <td>начальное</td>\n",
       "      <td>3</td>\n",
       "    </tr>\n",
       "    <tr>\n",
       "      <th>4</th>\n",
       "      <td>ученая степень</td>\n",
       "      <td>4</td>\n",
       "    </tr>\n",
       "  </tbody>\n",
       "</table>\n",
       "</div>"
      ],
      "text/plain": [
       "             education  education_id\n",
       "0               высшее             0\n",
       "1              среднее             1\n",
       "2  неоконченное высшее             2\n",
       "3            начальное             3\n",
       "4       ученая степень             4"
      ]
     },
     "execution_count": 16,
     "metadata": {},
     "output_type": "execute_result"
    }
   ],
   "source": [
    "# создаем датафрейм для уникальных значении 'education' которому соответствуют уникальные значение 'education_id'\n",
    "df_education_unique=df[['education','education_id']]\n",
    "df_education_unique = df_education_unique.drop_duplicates().reset_index(drop=True)\n",
    "df_education_unique"
   ]
  },
  {
   "cell_type": "code",
   "execution_count": 17,
   "id": "801e9603",
   "metadata": {},
   "outputs": [
    {
     "data": {
      "text/html": [
       "<div>\n",
       "<style scoped>\n",
       "    .dataframe tbody tr th:only-of-type {\n",
       "        vertical-align: middle;\n",
       "    }\n",
       "\n",
       "    .dataframe tbody tr th {\n",
       "        vertical-align: top;\n",
       "    }\n",
       "\n",
       "    .dataframe thead th {\n",
       "        text-align: right;\n",
       "    }\n",
       "</style>\n",
       "<table border=\"1\" class=\"dataframe\">\n",
       "  <thead>\n",
       "    <tr style=\"text-align: right;\">\n",
       "      <th></th>\n",
       "      <th>family_status</th>\n",
       "      <th>family_status_id</th>\n",
       "    </tr>\n",
       "  </thead>\n",
       "  <tbody>\n",
       "    <tr>\n",
       "      <th>0</th>\n",
       "      <td>женат / замужем</td>\n",
       "      <td>0</td>\n",
       "    </tr>\n",
       "    <tr>\n",
       "      <th>1</th>\n",
       "      <td>гражданский брак</td>\n",
       "      <td>1</td>\n",
       "    </tr>\n",
       "    <tr>\n",
       "      <th>2</th>\n",
       "      <td>вдовец / вдова</td>\n",
       "      <td>2</td>\n",
       "    </tr>\n",
       "    <tr>\n",
       "      <th>3</th>\n",
       "      <td>в разводе</td>\n",
       "      <td>3</td>\n",
       "    </tr>\n",
       "    <tr>\n",
       "      <th>4</th>\n",
       "      <td>Не женат / не замужем</td>\n",
       "      <td>4</td>\n",
       "    </tr>\n",
       "  </tbody>\n",
       "</table>\n",
       "</div>"
      ],
      "text/plain": [
       "           family_status  family_status_id\n",
       "0        женат / замужем                 0\n",
       "1       гражданский брак                 1\n",
       "2         вдовец / вдова                 2\n",
       "3              в разводе                 3\n",
       "4  Не женат / не замужем                 4"
      ]
     },
     "execution_count": 17,
     "metadata": {},
     "output_type": "execute_result"
    }
   ],
   "source": [
    "# повторяем для family_status и family_status_id\n",
    "df_family_status_unique=df[['family_status','family_status_id']]\n",
    "df_family_status_unique = df_family_status_unique.drop_duplicates().reset_index(drop=True)\n",
    "df_family_status_unique"
   ]
  },
  {
   "cell_type": "code",
   "execution_count": 18,
   "id": "7b78ea21",
   "metadata": {},
   "outputs": [
    {
     "data": {
      "text/html": [
       "<div>\n",
       "<style scoped>\n",
       "    .dataframe tbody tr th:only-of-type {\n",
       "        vertical-align: middle;\n",
       "    }\n",
       "\n",
       "    .dataframe tbody tr th {\n",
       "        vertical-align: top;\n",
       "    }\n",
       "\n",
       "    .dataframe thead th {\n",
       "        text-align: right;\n",
       "    }\n",
       "</style>\n",
       "<table border=\"1\" class=\"dataframe\">\n",
       "  <thead>\n",
       "    <tr style=\"text-align: right;\">\n",
       "      <th></th>\n",
       "      <th>children</th>\n",
       "      <th>days_employed</th>\n",
       "      <th>dob_years</th>\n",
       "      <th>education_id</th>\n",
       "      <th>family_status_id</th>\n",
       "      <th>gender</th>\n",
       "      <th>income_type</th>\n",
       "      <th>debt</th>\n",
       "      <th>total_income</th>\n",
       "      <th>purpose</th>\n",
       "    </tr>\n",
       "  </thead>\n",
       "  <tbody>\n",
       "    <tr>\n",
       "      <th>0</th>\n",
       "      <td>1</td>\n",
       "      <td>8437.673028</td>\n",
       "      <td>42</td>\n",
       "      <td>0</td>\n",
       "      <td>0</td>\n",
       "      <td>F</td>\n",
       "      <td>сотрудник</td>\n",
       "      <td>0</td>\n",
       "      <td>253875</td>\n",
       "      <td>покупка жилья</td>\n",
       "    </tr>\n",
       "    <tr>\n",
       "      <th>1</th>\n",
       "      <td>1</td>\n",
       "      <td>4024.803754</td>\n",
       "      <td>36</td>\n",
       "      <td>1</td>\n",
       "      <td>0</td>\n",
       "      <td>F</td>\n",
       "      <td>сотрудник</td>\n",
       "      <td>0</td>\n",
       "      <td>112080</td>\n",
       "      <td>приобретение автомобиля</td>\n",
       "    </tr>\n",
       "    <tr>\n",
       "      <th>2</th>\n",
       "      <td>0</td>\n",
       "      <td>5623.422610</td>\n",
       "      <td>33</td>\n",
       "      <td>1</td>\n",
       "      <td>0</td>\n",
       "      <td>M</td>\n",
       "      <td>сотрудник</td>\n",
       "      <td>0</td>\n",
       "      <td>145885</td>\n",
       "      <td>покупка жилья</td>\n",
       "    </tr>\n",
       "    <tr>\n",
       "      <th>3</th>\n",
       "      <td>3</td>\n",
       "      <td>4124.747207</td>\n",
       "      <td>32</td>\n",
       "      <td>1</td>\n",
       "      <td>0</td>\n",
       "      <td>M</td>\n",
       "      <td>сотрудник</td>\n",
       "      <td>0</td>\n",
       "      <td>267628</td>\n",
       "      <td>дополнительное образование</td>\n",
       "    </tr>\n",
       "    <tr>\n",
       "      <th>4</th>\n",
       "      <td>0</td>\n",
       "      <td>340266.072047</td>\n",
       "      <td>53</td>\n",
       "      <td>1</td>\n",
       "      <td>1</td>\n",
       "      <td>F</td>\n",
       "      <td>пенсионер</td>\n",
       "      <td>0</td>\n",
       "      <td>158616</td>\n",
       "      <td>сыграть свадьбу</td>\n",
       "    </tr>\n",
       "    <tr>\n",
       "      <th>...</th>\n",
       "      <td>...</td>\n",
       "      <td>...</td>\n",
       "      <td>...</td>\n",
       "      <td>...</td>\n",
       "      <td>...</td>\n",
       "      <td>...</td>\n",
       "      <td>...</td>\n",
       "      <td>...</td>\n",
       "      <td>...</td>\n",
       "      <td>...</td>\n",
       "    </tr>\n",
       "    <tr>\n",
       "      <th>21448</th>\n",
       "      <td>1</td>\n",
       "      <td>4529.316663</td>\n",
       "      <td>43</td>\n",
       "      <td>1</td>\n",
       "      <td>1</td>\n",
       "      <td>F</td>\n",
       "      <td>компаньон</td>\n",
       "      <td>0</td>\n",
       "      <td>224791</td>\n",
       "      <td>операции с жильем</td>\n",
       "    </tr>\n",
       "    <tr>\n",
       "      <th>21449</th>\n",
       "      <td>0</td>\n",
       "      <td>343937.404131</td>\n",
       "      <td>67</td>\n",
       "      <td>1</td>\n",
       "      <td>0</td>\n",
       "      <td>F</td>\n",
       "      <td>пенсионер</td>\n",
       "      <td>0</td>\n",
       "      <td>155999</td>\n",
       "      <td>сделка с автомобилем</td>\n",
       "    </tr>\n",
       "    <tr>\n",
       "      <th>21450</th>\n",
       "      <td>1</td>\n",
       "      <td>2113.346888</td>\n",
       "      <td>38</td>\n",
       "      <td>1</td>\n",
       "      <td>1</td>\n",
       "      <td>M</td>\n",
       "      <td>сотрудник</td>\n",
       "      <td>1</td>\n",
       "      <td>89672</td>\n",
       "      <td>недвижимость</td>\n",
       "    </tr>\n",
       "    <tr>\n",
       "      <th>21451</th>\n",
       "      <td>3</td>\n",
       "      <td>3112.481705</td>\n",
       "      <td>38</td>\n",
       "      <td>1</td>\n",
       "      <td>0</td>\n",
       "      <td>M</td>\n",
       "      <td>сотрудник</td>\n",
       "      <td>1</td>\n",
       "      <td>244093</td>\n",
       "      <td>на покупку своего автомобиля</td>\n",
       "    </tr>\n",
       "    <tr>\n",
       "      <th>21452</th>\n",
       "      <td>2</td>\n",
       "      <td>1984.507589</td>\n",
       "      <td>40</td>\n",
       "      <td>1</td>\n",
       "      <td>0</td>\n",
       "      <td>F</td>\n",
       "      <td>сотрудник</td>\n",
       "      <td>0</td>\n",
       "      <td>82047</td>\n",
       "      <td>на покупку автомобиля</td>\n",
       "    </tr>\n",
       "  </tbody>\n",
       "</table>\n",
       "<p>21453 rows × 10 columns</p>\n",
       "</div>"
      ],
      "text/plain": [
       "       children  days_employed  dob_years  education_id  family_status_id  \\\n",
       "0             1    8437.673028         42             0                 0   \n",
       "1             1    4024.803754         36             1                 0   \n",
       "2             0    5623.422610         33             1                 0   \n",
       "3             3    4124.747207         32             1                 0   \n",
       "4             0  340266.072047         53             1                 1   \n",
       "...         ...            ...        ...           ...               ...   \n",
       "21448         1    4529.316663         43             1                 1   \n",
       "21449         0  343937.404131         67             1                 0   \n",
       "21450         1    2113.346888         38             1                 1   \n",
       "21451         3    3112.481705         38             1                 0   \n",
       "21452         2    1984.507589         40             1                 0   \n",
       "\n",
       "      gender income_type  debt  total_income                       purpose  \n",
       "0          F   сотрудник     0        253875                 покупка жилья  \n",
       "1          F   сотрудник     0        112080       приобретение автомобиля  \n",
       "2          M   сотрудник     0        145885                 покупка жилья  \n",
       "3          M   сотрудник     0        267628    дополнительное образование  \n",
       "4          F   пенсионер     0        158616               сыграть свадьбу  \n",
       "...      ...         ...   ...           ...                           ...  \n",
       "21448      F   компаньон     0        224791             операции с жильем  \n",
       "21449      F   пенсионер     0        155999          сделка с автомобилем  \n",
       "21450      M   сотрудник     1         89672                  недвижимость  \n",
       "21451      M   сотрудник     1        244093  на покупку своего автомобиля  \n",
       "21452      F   сотрудник     0         82047         на покупку автомобиля  \n",
       "\n",
       "[21453 rows x 10 columns]"
      ]
     },
     "execution_count": 18,
     "metadata": {},
     "output_type": "execute_result"
    }
   ],
   "source": [
    "# удаляем столбцы education и family_status из датафрейма\n",
    "df= df.drop(columns=['education', 'family_status'])\n",
    "df"
   ]
  },
  {
   "cell_type": "markdown",
   "id": "57b09e8c",
   "metadata": {},
   "source": [
    "\n",
    "## Шаг 2.6. Категоризация дохода."
   ]
  },
  {
   "cell_type": "code",
   "execution_count": 19,
   "id": "b42afc05",
   "metadata": {},
   "outputs": [
    {
     "data": {
      "text/html": [
       "<div>\n",
       "<style scoped>\n",
       "    .dataframe tbody tr th:only-of-type {\n",
       "        vertical-align: middle;\n",
       "    }\n",
       "\n",
       "    .dataframe tbody tr th {\n",
       "        vertical-align: top;\n",
       "    }\n",
       "\n",
       "    .dataframe thead th {\n",
       "        text-align: right;\n",
       "    }\n",
       "</style>\n",
       "<table border=\"1\" class=\"dataframe\">\n",
       "  <thead>\n",
       "    <tr style=\"text-align: right;\">\n",
       "      <th></th>\n",
       "      <th>children</th>\n",
       "      <th>days_employed</th>\n",
       "      <th>dob_years</th>\n",
       "      <th>education_id</th>\n",
       "      <th>family_status_id</th>\n",
       "      <th>gender</th>\n",
       "      <th>income_type</th>\n",
       "      <th>debt</th>\n",
       "      <th>total_income</th>\n",
       "      <th>purpose</th>\n",
       "      <th>total_income_category</th>\n",
       "    </tr>\n",
       "  </thead>\n",
       "  <tbody>\n",
       "    <tr>\n",
       "      <th>0</th>\n",
       "      <td>1</td>\n",
       "      <td>8437.673028</td>\n",
       "      <td>42</td>\n",
       "      <td>0</td>\n",
       "      <td>0</td>\n",
       "      <td>F</td>\n",
       "      <td>сотрудник</td>\n",
       "      <td>0</td>\n",
       "      <td>253875</td>\n",
       "      <td>покупка жилья</td>\n",
       "      <td>B</td>\n",
       "    </tr>\n",
       "    <tr>\n",
       "      <th>1</th>\n",
       "      <td>1</td>\n",
       "      <td>4024.803754</td>\n",
       "      <td>36</td>\n",
       "      <td>1</td>\n",
       "      <td>0</td>\n",
       "      <td>F</td>\n",
       "      <td>сотрудник</td>\n",
       "      <td>0</td>\n",
       "      <td>112080</td>\n",
       "      <td>приобретение автомобиля</td>\n",
       "      <td>C</td>\n",
       "    </tr>\n",
       "    <tr>\n",
       "      <th>2</th>\n",
       "      <td>0</td>\n",
       "      <td>5623.422610</td>\n",
       "      <td>33</td>\n",
       "      <td>1</td>\n",
       "      <td>0</td>\n",
       "      <td>M</td>\n",
       "      <td>сотрудник</td>\n",
       "      <td>0</td>\n",
       "      <td>145885</td>\n",
       "      <td>покупка жилья</td>\n",
       "      <td>C</td>\n",
       "    </tr>\n",
       "    <tr>\n",
       "      <th>3</th>\n",
       "      <td>3</td>\n",
       "      <td>4124.747207</td>\n",
       "      <td>32</td>\n",
       "      <td>1</td>\n",
       "      <td>0</td>\n",
       "      <td>M</td>\n",
       "      <td>сотрудник</td>\n",
       "      <td>0</td>\n",
       "      <td>267628</td>\n",
       "      <td>дополнительное образование</td>\n",
       "      <td>B</td>\n",
       "    </tr>\n",
       "    <tr>\n",
       "      <th>4</th>\n",
       "      <td>0</td>\n",
       "      <td>340266.072047</td>\n",
       "      <td>53</td>\n",
       "      <td>1</td>\n",
       "      <td>1</td>\n",
       "      <td>F</td>\n",
       "      <td>пенсионер</td>\n",
       "      <td>0</td>\n",
       "      <td>158616</td>\n",
       "      <td>сыграть свадьбу</td>\n",
       "      <td>C</td>\n",
       "    </tr>\n",
       "  </tbody>\n",
       "</table>\n",
       "</div>"
      ],
      "text/plain": [
       "   children  days_employed  dob_years  education_id  family_status_id gender  \\\n",
       "0         1    8437.673028         42             0                 0      F   \n",
       "1         1    4024.803754         36             1                 0      F   \n",
       "2         0    5623.422610         33             1                 0      M   \n",
       "3         3    4124.747207         32             1                 0      M   \n",
       "4         0  340266.072047         53             1                 1      F   \n",
       "\n",
       "  income_type  debt  total_income                     purpose  \\\n",
       "0   сотрудник     0        253875               покупка жилья   \n",
       "1   сотрудник     0        112080     приобретение автомобиля   \n",
       "2   сотрудник     0        145885               покупка жилья   \n",
       "3   сотрудник     0        267628  дополнительное образование   \n",
       "4   пенсионер     0        158616             сыграть свадьбу   \n",
       "\n",
       "  total_income_category  \n",
       "0                     B  \n",
       "1                     C  \n",
       "2                     C  \n",
       "3                     B  \n",
       "4                     C  "
      ]
     },
     "execution_count": 19,
     "metadata": {},
     "output_type": "execute_result"
    }
   ],
   "source": [
    "#Для начала создадим функцию которая и будет распределять категории\n",
    "def total_income_category(total_income):\n",
    "    if total_income <= 30000:\n",
    "        return 'E'\n",
    "    elif 30001 < total_income <= 50000:\n",
    "        return 'D'\n",
    "    elif 50001 < total_income <= 200000:\n",
    "        return 'C'\n",
    "    elif 200001 < total_income <= 1000000:\n",
    "        return 'B'\n",
    "    return 'A'\n",
    "df['total_income_category']= df['total_income'].apply(total_income_category)\n",
    "df.head()"
   ]
  },
  {
   "cell_type": "markdown",
   "id": "30084783",
   "metadata": {},
   "source": [
    "\n",
    "## Шаг 2.7. Категоризация целей кредита."
   ]
  },
  {
   "cell_type": "code",
   "execution_count": 20,
   "id": "683241a9",
   "metadata": {},
   "outputs": [
    {
     "data": {
      "text/plain": [
       "array(['покупка жилья', 'приобретение автомобиля',\n",
       "       'дополнительное образование', 'сыграть свадьбу',\n",
       "       'операции с жильем', 'образование', 'на проведение свадьбы',\n",
       "       'покупка жилья для семьи', 'покупка недвижимости',\n",
       "       'покупка коммерческой недвижимости', 'покупка жилой недвижимости',\n",
       "       'строительство собственной недвижимости', 'недвижимость',\n",
       "       'строительство недвижимости', 'на покупку подержанного автомобиля',\n",
       "       'на покупку своего автомобиля',\n",
       "       'операции с коммерческой недвижимостью',\n",
       "       'строительство жилой недвижимости', 'жилье',\n",
       "       'операции со своей недвижимостью', 'автомобили',\n",
       "       'заняться образованием', 'сделка с подержанным автомобилем',\n",
       "       'получение образования', 'автомобиль', 'свадьба',\n",
       "       'получение дополнительного образования', 'покупка своего жилья',\n",
       "       'операции с недвижимостью', 'получение высшего образования',\n",
       "       'свой автомобиль', 'сделка с автомобилем',\n",
       "       'профильное образование', 'высшее образование',\n",
       "       'покупка жилья для сдачи', 'на покупку автомобиля', 'ремонт жилью',\n",
       "       'заняться высшим образованием'], dtype=object)"
      ]
     },
     "execution_count": 20,
     "metadata": {},
     "output_type": "execute_result"
    }
   ],
   "source": [
    "# для начала узнаем какие уникальные значения есть в столбце 'purpose'. Это поможет понять к какой категории их относить\n",
    "df['purpose'].unique()"
   ]
  },
  {
   "cell_type": "code",
   "execution_count": 21,
   "id": "d210653b",
   "metadata": {},
   "outputs": [],
   "source": [
    "# Создадим функцию, которая на основании данных из столбца 'purpose' сформирует новый столбец 'purpose_category'\n",
    "def purpose_category (purpose):\n",
    "    if 'авто' in purpose:\n",
    "        return 'операции с автомобилем'\n",
    "    elif 'свад' in purpose:\n",
    "        return 'проведение свадьбы'\n",
    "    elif 'образов' in purpose:\n",
    "        return 'получение образования'\n",
    "    else:\n",
    "        return 'операции с недвижимостью'"
   ]
  },
  {
   "cell_type": "code",
   "execution_count": 22,
   "id": "bf978d57",
   "metadata": {},
   "outputs": [
    {
     "data": {
      "text/html": [
       "<div>\n",
       "<style scoped>\n",
       "    .dataframe tbody tr th:only-of-type {\n",
       "        vertical-align: middle;\n",
       "    }\n",
       "\n",
       "    .dataframe tbody tr th {\n",
       "        vertical-align: top;\n",
       "    }\n",
       "\n",
       "    .dataframe thead th {\n",
       "        text-align: right;\n",
       "    }\n",
       "</style>\n",
       "<table border=\"1\" class=\"dataframe\">\n",
       "  <thead>\n",
       "    <tr style=\"text-align: right;\">\n",
       "      <th></th>\n",
       "      <th>children</th>\n",
       "      <th>days_employed</th>\n",
       "      <th>dob_years</th>\n",
       "      <th>education_id</th>\n",
       "      <th>family_status_id</th>\n",
       "      <th>gender</th>\n",
       "      <th>income_type</th>\n",
       "      <th>debt</th>\n",
       "      <th>total_income</th>\n",
       "      <th>purpose</th>\n",
       "      <th>total_income_category</th>\n",
       "      <th>purpose_category</th>\n",
       "    </tr>\n",
       "  </thead>\n",
       "  <tbody>\n",
       "    <tr>\n",
       "      <th>0</th>\n",
       "      <td>1</td>\n",
       "      <td>8437.673028</td>\n",
       "      <td>42</td>\n",
       "      <td>0</td>\n",
       "      <td>0</td>\n",
       "      <td>F</td>\n",
       "      <td>сотрудник</td>\n",
       "      <td>0</td>\n",
       "      <td>253875</td>\n",
       "      <td>покупка жилья</td>\n",
       "      <td>B</td>\n",
       "      <td>операции с недвижимостью</td>\n",
       "    </tr>\n",
       "    <tr>\n",
       "      <th>1</th>\n",
       "      <td>1</td>\n",
       "      <td>4024.803754</td>\n",
       "      <td>36</td>\n",
       "      <td>1</td>\n",
       "      <td>0</td>\n",
       "      <td>F</td>\n",
       "      <td>сотрудник</td>\n",
       "      <td>0</td>\n",
       "      <td>112080</td>\n",
       "      <td>приобретение автомобиля</td>\n",
       "      <td>C</td>\n",
       "      <td>операции с автомобилем</td>\n",
       "    </tr>\n",
       "    <tr>\n",
       "      <th>2</th>\n",
       "      <td>0</td>\n",
       "      <td>5623.422610</td>\n",
       "      <td>33</td>\n",
       "      <td>1</td>\n",
       "      <td>0</td>\n",
       "      <td>M</td>\n",
       "      <td>сотрудник</td>\n",
       "      <td>0</td>\n",
       "      <td>145885</td>\n",
       "      <td>покупка жилья</td>\n",
       "      <td>C</td>\n",
       "      <td>операции с недвижимостью</td>\n",
       "    </tr>\n",
       "    <tr>\n",
       "      <th>3</th>\n",
       "      <td>3</td>\n",
       "      <td>4124.747207</td>\n",
       "      <td>32</td>\n",
       "      <td>1</td>\n",
       "      <td>0</td>\n",
       "      <td>M</td>\n",
       "      <td>сотрудник</td>\n",
       "      <td>0</td>\n",
       "      <td>267628</td>\n",
       "      <td>дополнительное образование</td>\n",
       "      <td>B</td>\n",
       "      <td>получение образования</td>\n",
       "    </tr>\n",
       "    <tr>\n",
       "      <th>4</th>\n",
       "      <td>0</td>\n",
       "      <td>340266.072047</td>\n",
       "      <td>53</td>\n",
       "      <td>1</td>\n",
       "      <td>1</td>\n",
       "      <td>F</td>\n",
       "      <td>пенсионер</td>\n",
       "      <td>0</td>\n",
       "      <td>158616</td>\n",
       "      <td>сыграть свадьбу</td>\n",
       "      <td>C</td>\n",
       "      <td>проведение свадьбы</td>\n",
       "    </tr>\n",
       "    <tr>\n",
       "      <th>...</th>\n",
       "      <td>...</td>\n",
       "      <td>...</td>\n",
       "      <td>...</td>\n",
       "      <td>...</td>\n",
       "      <td>...</td>\n",
       "      <td>...</td>\n",
       "      <td>...</td>\n",
       "      <td>...</td>\n",
       "      <td>...</td>\n",
       "      <td>...</td>\n",
       "      <td>...</td>\n",
       "      <td>...</td>\n",
       "    </tr>\n",
       "    <tr>\n",
       "      <th>21448</th>\n",
       "      <td>1</td>\n",
       "      <td>4529.316663</td>\n",
       "      <td>43</td>\n",
       "      <td>1</td>\n",
       "      <td>1</td>\n",
       "      <td>F</td>\n",
       "      <td>компаньон</td>\n",
       "      <td>0</td>\n",
       "      <td>224791</td>\n",
       "      <td>операции с жильем</td>\n",
       "      <td>B</td>\n",
       "      <td>операции с недвижимостью</td>\n",
       "    </tr>\n",
       "    <tr>\n",
       "      <th>21449</th>\n",
       "      <td>0</td>\n",
       "      <td>343937.404131</td>\n",
       "      <td>67</td>\n",
       "      <td>1</td>\n",
       "      <td>0</td>\n",
       "      <td>F</td>\n",
       "      <td>пенсионер</td>\n",
       "      <td>0</td>\n",
       "      <td>155999</td>\n",
       "      <td>сделка с автомобилем</td>\n",
       "      <td>C</td>\n",
       "      <td>операции с автомобилем</td>\n",
       "    </tr>\n",
       "    <tr>\n",
       "      <th>21450</th>\n",
       "      <td>1</td>\n",
       "      <td>2113.346888</td>\n",
       "      <td>38</td>\n",
       "      <td>1</td>\n",
       "      <td>1</td>\n",
       "      <td>M</td>\n",
       "      <td>сотрудник</td>\n",
       "      <td>1</td>\n",
       "      <td>89672</td>\n",
       "      <td>недвижимость</td>\n",
       "      <td>C</td>\n",
       "      <td>операции с недвижимостью</td>\n",
       "    </tr>\n",
       "    <tr>\n",
       "      <th>21451</th>\n",
       "      <td>3</td>\n",
       "      <td>3112.481705</td>\n",
       "      <td>38</td>\n",
       "      <td>1</td>\n",
       "      <td>0</td>\n",
       "      <td>M</td>\n",
       "      <td>сотрудник</td>\n",
       "      <td>1</td>\n",
       "      <td>244093</td>\n",
       "      <td>на покупку своего автомобиля</td>\n",
       "      <td>B</td>\n",
       "      <td>операции с автомобилем</td>\n",
       "    </tr>\n",
       "    <tr>\n",
       "      <th>21452</th>\n",
       "      <td>2</td>\n",
       "      <td>1984.507589</td>\n",
       "      <td>40</td>\n",
       "      <td>1</td>\n",
       "      <td>0</td>\n",
       "      <td>F</td>\n",
       "      <td>сотрудник</td>\n",
       "      <td>0</td>\n",
       "      <td>82047</td>\n",
       "      <td>на покупку автомобиля</td>\n",
       "      <td>C</td>\n",
       "      <td>операции с автомобилем</td>\n",
       "    </tr>\n",
       "  </tbody>\n",
       "</table>\n",
       "<p>21453 rows × 12 columns</p>\n",
       "</div>"
      ],
      "text/plain": [
       "       children  days_employed  dob_years  education_id  family_status_id  \\\n",
       "0             1    8437.673028         42             0                 0   \n",
       "1             1    4024.803754         36             1                 0   \n",
       "2             0    5623.422610         33             1                 0   \n",
       "3             3    4124.747207         32             1                 0   \n",
       "4             0  340266.072047         53             1                 1   \n",
       "...         ...            ...        ...           ...               ...   \n",
       "21448         1    4529.316663         43             1                 1   \n",
       "21449         0  343937.404131         67             1                 0   \n",
       "21450         1    2113.346888         38             1                 1   \n",
       "21451         3    3112.481705         38             1                 0   \n",
       "21452         2    1984.507589         40             1                 0   \n",
       "\n",
       "      gender income_type  debt  total_income                       purpose  \\\n",
       "0          F   сотрудник     0        253875                 покупка жилья   \n",
       "1          F   сотрудник     0        112080       приобретение автомобиля   \n",
       "2          M   сотрудник     0        145885                 покупка жилья   \n",
       "3          M   сотрудник     0        267628    дополнительное образование   \n",
       "4          F   пенсионер     0        158616               сыграть свадьбу   \n",
       "...      ...         ...   ...           ...                           ...   \n",
       "21448      F   компаньон     0        224791             операции с жильем   \n",
       "21449      F   пенсионер     0        155999          сделка с автомобилем   \n",
       "21450      M   сотрудник     1         89672                  недвижимость   \n",
       "21451      M   сотрудник     1        244093  на покупку своего автомобиля   \n",
       "21452      F   сотрудник     0         82047         на покупку автомобиля   \n",
       "\n",
       "      total_income_category          purpose_category  \n",
       "0                         B  операции с недвижимостью  \n",
       "1                         C    операции с автомобилем  \n",
       "2                         C  операции с недвижимостью  \n",
       "3                         B     получение образования  \n",
       "4                         C        проведение свадьбы  \n",
       "...                     ...                       ...  \n",
       "21448                     B  операции с недвижимостью  \n",
       "21449                     C    операции с автомобилем  \n",
       "21450                     C  операции с недвижимостью  \n",
       "21451                     B    операции с автомобилем  \n",
       "21452                     C    операции с автомобилем  \n",
       "\n",
       "[21453 rows x 12 columns]"
      ]
     },
     "execution_count": 22,
     "metadata": {},
     "output_type": "execute_result"
    }
   ],
   "source": [
    "#Отфильтруем значения в новую категорию\n",
    "df['purpose_category']=df['purpose'].apply(purpose_category)\n",
    "#проверим результат\n",
    "df"
   ]
  },
  {
   "cell_type": "markdown",
   "id": "8faf469f",
   "metadata": {},
   "source": [
    "\n",
    "# Часть 3. Ответьте на вопросы:"
   ]
  },
  {
   "cell_type": "markdown",
   "id": "03a3c718",
   "metadata": {},
   "source": [
    "<a id= '3.1-bullet'></a>\n",
    "## Есть ли зависимость между наличием детей и возвратом кредита в срок?"
   ]
  },
  {
   "cell_type": "code",
   "execution_count": 23,
   "id": "1a350c99",
   "metadata": {},
   "outputs": [
    {
     "name": "stdout",
     "output_type": "stream",
     "text": [
      "[0 1]\n"
     ]
    },
    {
     "data": {
      "text/plain": [
       "array([ 1,  0,  3,  2, -1,  4, 20,  5], dtype=int64)"
      ]
     },
     "execution_count": 23,
     "metadata": {},
     "output_type": "execute_result"
    }
   ],
   "source": [
    "# изучим данные\n",
    "print(df['debt'].unique())\n",
    "df['children'].unique()"
   ]
  },
  {
   "cell_type": "code",
   "execution_count": 24,
   "id": "5fb5401a",
   "metadata": {},
   "outputs": [
    {
     "data": {
      "text/plain": [
       "array([1, 0, 3, 2, 4, 5], dtype=int64)"
      ]
     },
     "execution_count": 24,
     "metadata": {},
     "output_type": "execute_result"
    }
   ],
   "source": [
    "# значения детей -1 и 20, приму как опечатки и исправлю на 1 и 2\n",
    "df.loc[df['children']==20, 'children']=2\n",
    "df.loc[df['children']==-1, 'children']=1\n",
    "df['children'].unique()"
   ]
  },
  {
   "cell_type": "code",
   "execution_count": 25,
   "id": "c6893b99",
   "metadata": {},
   "outputs": [
    {
     "data": {
      "text/html": [
       "<div>\n",
       "<style scoped>\n",
       "    .dataframe tbody tr th:only-of-type {\n",
       "        vertical-align: middle;\n",
       "    }\n",
       "\n",
       "    .dataframe tbody tr th {\n",
       "        vertical-align: top;\n",
       "    }\n",
       "\n",
       "    .dataframe thead th {\n",
       "        text-align: right;\n",
       "    }\n",
       "</style>\n",
       "<table border=\"1\" class=\"dataframe\">\n",
       "  <thead>\n",
       "    <tr style=\"text-align: right;\">\n",
       "      <th></th>\n",
       "      <th>debt</th>\n",
       "    </tr>\n",
       "    <tr>\n",
       "      <th>children</th>\n",
       "      <th></th>\n",
       "    </tr>\n",
       "  </thead>\n",
       "  <tbody>\n",
       "    <tr>\n",
       "      <th>0</th>\n",
       "      <td>0.075444</td>\n",
       "    </tr>\n",
       "    <tr>\n",
       "      <th>1</th>\n",
       "      <td>0.091658</td>\n",
       "    </tr>\n",
       "    <tr>\n",
       "      <th>2</th>\n",
       "      <td>0.094925</td>\n",
       "    </tr>\n",
       "    <tr>\n",
       "      <th>3</th>\n",
       "      <td>0.081818</td>\n",
       "    </tr>\n",
       "    <tr>\n",
       "      <th>4</th>\n",
       "      <td>0.097561</td>\n",
       "    </tr>\n",
       "    <tr>\n",
       "      <th>5</th>\n",
       "      <td>0.000000</td>\n",
       "    </tr>\n",
       "  </tbody>\n",
       "</table>\n",
       "</div>"
      ],
      "text/plain": [
       "              debt\n",
       "children          \n",
       "0         0.075444\n",
       "1         0.091658\n",
       "2         0.094925\n",
       "3         0.081818\n",
       "4         0.097561\n",
       "5         0.000000"
      ]
     },
     "execution_count": 25,
     "metadata": {},
     "output_type": "execute_result"
    }
   ],
   "source": [
    "# построим таблицу зависимости кол. детей от долгов\n",
    "df_pivot_ch = df.pivot_table(index = 'children', values = 'debt')\n",
    "df_pivot_ch"
   ]
  },
  {
   "cell_type": "code",
   "execution_count": 26,
   "id": "6c5c81a1",
   "metadata": {},
   "outputs": [
    {
     "data": {
      "text/html": [
       "<div>\n",
       "<style scoped>\n",
       "    .dataframe tbody tr th:only-of-type {\n",
       "        vertical-align: middle;\n",
       "    }\n",
       "\n",
       "    .dataframe tbody tr th {\n",
       "        vertical-align: top;\n",
       "    }\n",
       "\n",
       "    .dataframe thead th {\n",
       "        text-align: right;\n",
       "    }\n",
       "</style>\n",
       "<table border=\"1\" class=\"dataframe\">\n",
       "  <thead>\n",
       "    <tr style=\"text-align: right;\">\n",
       "      <th></th>\n",
       "      <th>count</th>\n",
       "      <th>sum</th>\n",
       "      <th>mean</th>\n",
       "    </tr>\n",
       "    <tr>\n",
       "      <th>children</th>\n",
       "      <th></th>\n",
       "      <th></th>\n",
       "      <th></th>\n",
       "    </tr>\n",
       "  </thead>\n",
       "  <tbody>\n",
       "    <tr>\n",
       "      <th>0</th>\n",
       "      <td>14090</td>\n",
       "      <td>1063</td>\n",
       "      <td>0.075444</td>\n",
       "    </tr>\n",
       "    <tr>\n",
       "      <th>1</th>\n",
       "      <td>4855</td>\n",
       "      <td>445</td>\n",
       "      <td>0.091658</td>\n",
       "    </tr>\n",
       "    <tr>\n",
       "      <th>2</th>\n",
       "      <td>2128</td>\n",
       "      <td>202</td>\n",
       "      <td>0.094925</td>\n",
       "    </tr>\n",
       "    <tr>\n",
       "      <th>3</th>\n",
       "      <td>330</td>\n",
       "      <td>27</td>\n",
       "      <td>0.081818</td>\n",
       "    </tr>\n",
       "    <tr>\n",
       "      <th>4</th>\n",
       "      <td>41</td>\n",
       "      <td>4</td>\n",
       "      <td>0.097561</td>\n",
       "    </tr>\n",
       "    <tr>\n",
       "      <th>5</th>\n",
       "      <td>9</td>\n",
       "      <td>0</td>\n",
       "      <td>0.000000</td>\n",
       "    </tr>\n",
       "  </tbody>\n",
       "</table>\n",
       "</div>"
      ],
      "text/plain": [
       "          count   sum      mean\n",
       "children                       \n",
       "0         14090  1063  0.075444\n",
       "1          4855   445  0.091658\n",
       "2          2128   202  0.094925\n",
       "3           330    27  0.081818\n",
       "4            41     4  0.097561\n",
       "5             9     0  0.000000"
      ]
     },
     "execution_count": 26,
     "metadata": {},
     "output_type": "execute_result"
    }
   ],
   "source": [
    "df.groupby('children')['debt'].agg(['count','sum','mean'])"
   ]
  },
  {
   "cell_type": "markdown",
   "id": "1a285e10",
   "metadata": {},
   "source": [
    "\n",
    "<b> Вывод\n",
    "    \n",
    "Самые высокие показатели долгов среди тех заемщиков у которых 4 ребенка. Наименьшее у которых детей нет. Возможно обусловленно тем, что дети, сами по себе требуют больших трат, чот затрудняет возврат кредита.\n",
    " \n"
   ]
  },
  {
   "cell_type": "markdown",
   "id": "daf20a6e",
   "metadata": {},
   "source": [
    "<a id= '3.2-bullet'></a>\n",
    "## Есть ли зависимость между семейным положением и возвратом кредита в срок?"
   ]
  },
  {
   "cell_type": "code",
   "execution_count": 27,
   "id": "34dbea05",
   "metadata": {
    "scrolled": false
   },
   "outputs": [
    {
     "data": {
      "text/html": [
       "<div>\n",
       "<style scoped>\n",
       "    .dataframe tbody tr th:only-of-type {\n",
       "        vertical-align: middle;\n",
       "    }\n",
       "\n",
       "    .dataframe tbody tr th {\n",
       "        vertical-align: top;\n",
       "    }\n",
       "\n",
       "    .dataframe thead th {\n",
       "        text-align: right;\n",
       "    }\n",
       "</style>\n",
       "<table border=\"1\" class=\"dataframe\">\n",
       "  <thead>\n",
       "    <tr style=\"text-align: right;\">\n",
       "      <th>debt</th>\n",
       "      <th>0</th>\n",
       "      <th>1</th>\n",
       "    </tr>\n",
       "    <tr>\n",
       "      <th>family_status</th>\n",
       "      <th></th>\n",
       "      <th></th>\n",
       "    </tr>\n",
       "  </thead>\n",
       "  <tbody>\n",
       "    <tr>\n",
       "      <th>Не женат / не замужем</th>\n",
       "      <td>2536</td>\n",
       "      <td>274</td>\n",
       "    </tr>\n",
       "    <tr>\n",
       "      <th>в разводе</th>\n",
       "      <td>1110</td>\n",
       "      <td>85</td>\n",
       "    </tr>\n",
       "    <tr>\n",
       "      <th>вдовец / вдова</th>\n",
       "      <td>896</td>\n",
       "      <td>63</td>\n",
       "    </tr>\n",
       "    <tr>\n",
       "      <th>гражданский брак</th>\n",
       "      <td>3762</td>\n",
       "      <td>388</td>\n",
       "    </tr>\n",
       "    <tr>\n",
       "      <th>женат / замужем</th>\n",
       "      <td>11408</td>\n",
       "      <td>931</td>\n",
       "    </tr>\n",
       "  </tbody>\n",
       "</table>\n",
       "</div>"
      ],
      "text/plain": [
       "debt                       0    1\n",
       "family_status                    \n",
       "Не женат / не замужем   2536  274\n",
       "в разводе               1110   85\n",
       "вдовец / вдова           896   63\n",
       "гражданский брак        3762  388\n",
       "женат / замужем        11408  931"
      ]
     },
     "execution_count": 27,
     "metadata": {},
     "output_type": "execute_result"
    }
   ],
   "source": [
    "# возвращаем удаленный столбец\n",
    "df = df.merge(df_family_status_unique, on='family_status_id', how='left')\n",
    "# строим таблицу отношения семейного статуса к долгу\n",
    "df_pivot_f = df.pivot_table(index = 'family_status', columns = 'debt', values = 'gender', aggfunc = 'count')\n",
    "df_pivot_f"
   ]
  },
  {
   "cell_type": "code",
   "execution_count": 28,
   "id": "01236b33",
   "metadata": {
    "scrolled": true
   },
   "outputs": [
    {
     "data": {
      "text/html": [
       "<div>\n",
       "<style scoped>\n",
       "    .dataframe tbody tr th:only-of-type {\n",
       "        vertical-align: middle;\n",
       "    }\n",
       "\n",
       "    .dataframe tbody tr th {\n",
       "        vertical-align: top;\n",
       "    }\n",
       "\n",
       "    .dataframe thead th {\n",
       "        text-align: right;\n",
       "    }\n",
       "</style>\n",
       "<table border=\"1\" class=\"dataframe\">\n",
       "  <thead>\n",
       "    <tr style=\"text-align: right;\">\n",
       "      <th>debt</th>\n",
       "      <th>0</th>\n",
       "      <th>1</th>\n",
       "      <th>ratio</th>\n",
       "    </tr>\n",
       "    <tr>\n",
       "      <th>family_status</th>\n",
       "      <th></th>\n",
       "      <th></th>\n",
       "      <th></th>\n",
       "    </tr>\n",
       "  </thead>\n",
       "  <tbody>\n",
       "    <tr>\n",
       "      <th>Не женат / не замужем</th>\n",
       "      <td>2536</td>\n",
       "      <td>274</td>\n",
       "      <td>0.097509</td>\n",
       "    </tr>\n",
       "    <tr>\n",
       "      <th>в разводе</th>\n",
       "      <td>1110</td>\n",
       "      <td>85</td>\n",
       "      <td>0.071130</td>\n",
       "    </tr>\n",
       "    <tr>\n",
       "      <th>вдовец / вдова</th>\n",
       "      <td>896</td>\n",
       "      <td>63</td>\n",
       "      <td>0.065693</td>\n",
       "    </tr>\n",
       "    <tr>\n",
       "      <th>гражданский брак</th>\n",
       "      <td>3762</td>\n",
       "      <td>388</td>\n",
       "      <td>0.093494</td>\n",
       "    </tr>\n",
       "    <tr>\n",
       "      <th>женат / замужем</th>\n",
       "      <td>11408</td>\n",
       "      <td>931</td>\n",
       "      <td>0.075452</td>\n",
       "    </tr>\n",
       "  </tbody>\n",
       "</table>\n",
       "</div>"
      ],
      "text/plain": [
       "debt                       0    1     ratio\n",
       "family_status                              \n",
       "Не женат / не замужем   2536  274  0.097509\n",
       "в разводе               1110   85  0.071130\n",
       "вдовец / вдова           896   63  0.065693\n",
       "гражданский брак        3762  388  0.093494\n",
       "женат / замужем        11408  931  0.075452"
      ]
     },
     "execution_count": 28,
     "metadata": {},
     "output_type": "execute_result"
    }
   ],
   "source": [
    "# узнаем долю людей с долгами от общей\n",
    "df_pivot_f['ratio']= (df_pivot_f[1] / (df_pivot_f[0] + df_pivot_f[1]))\n",
    "df_pivot_f"
   ]
  },
  {
   "cell_type": "markdown",
   "id": "710f7101",
   "metadata": {},
   "source": [
    "Наименьшее количество долгов имеют люди в разводе, вдовец / вдова. \\\n",
    "Наибольшую люди в гражданском браке"
   ]
  },
  {
   "cell_type": "markdown",
   "id": "3bd0e212",
   "metadata": {},
   "source": [
    "<a id= '3.2-bullet'></a>\n",
    "## Есть ли зависимость между уровнем дохода и возвратом кредита в срок?"
   ]
  },
  {
   "cell_type": "code",
   "execution_count": 29,
   "id": "9e3571d7",
   "metadata": {},
   "outputs": [
    {
     "data": {
      "text/html": [
       "<div>\n",
       "<style scoped>\n",
       "    .dataframe tbody tr th:only-of-type {\n",
       "        vertical-align: middle;\n",
       "    }\n",
       "\n",
       "    .dataframe tbody tr th {\n",
       "        vertical-align: top;\n",
       "    }\n",
       "\n",
       "    .dataframe thead th {\n",
       "        text-align: right;\n",
       "    }\n",
       "</style>\n",
       "<table border=\"1\" class=\"dataframe\">\n",
       "  <thead>\n",
       "    <tr style=\"text-align: right;\">\n",
       "      <th>debt</th>\n",
       "      <th>0</th>\n",
       "      <th>1</th>\n",
       "      <th>ratio</th>\n",
       "    </tr>\n",
       "    <tr>\n",
       "      <th>total_income_category</th>\n",
       "      <th></th>\n",
       "      <th></th>\n",
       "      <th></th>\n",
       "    </tr>\n",
       "  </thead>\n",
       "  <tbody>\n",
       "    <tr>\n",
       "      <th>A</th>\n",
       "      <td>24</td>\n",
       "      <td>2</td>\n",
       "      <td>0.076923</td>\n",
       "    </tr>\n",
       "    <tr>\n",
       "      <th>B</th>\n",
       "      <td>4685</td>\n",
       "      <td>356</td>\n",
       "      <td>0.070621</td>\n",
       "    </tr>\n",
       "    <tr>\n",
       "      <th>C</th>\n",
       "      <td>14654</td>\n",
       "      <td>1360</td>\n",
       "      <td>0.084926</td>\n",
       "    </tr>\n",
       "    <tr>\n",
       "      <th>D</th>\n",
       "      <td>329</td>\n",
       "      <td>21</td>\n",
       "      <td>0.060000</td>\n",
       "    </tr>\n",
       "    <tr>\n",
       "      <th>E</th>\n",
       "      <td>20</td>\n",
       "      <td>2</td>\n",
       "      <td>0.090909</td>\n",
       "    </tr>\n",
       "  </tbody>\n",
       "</table>\n",
       "</div>"
      ],
      "text/plain": [
       "debt                       0     1     ratio\n",
       "total_income_category                       \n",
       "A                         24     2  0.076923\n",
       "B                       4685   356  0.070621\n",
       "C                      14654  1360  0.084926\n",
       "D                        329    21  0.060000\n",
       "E                         20     2  0.090909"
      ]
     },
     "execution_count": 29,
     "metadata": {},
     "output_type": "execute_result"
    }
   ],
   "source": [
    "df_pivot_total_income = df.pivot_table(index = ['total_income_category'], columns = 'debt', values = 'gender', aggfunc = 'count')\n",
    "\n",
    "# посчитаем вероятность задолженности для каждой группы доходов\n",
    "df_pivot_total_income['ratio']= df_pivot_total_income[1] / (df_pivot_total_income[0] + df_pivot_total_income[1])\n",
    "df_pivot_total_income"
   ]
  },
  {
   "cell_type": "markdown",
   "id": "a9959685",
   "metadata": {},
   "source": [
    "<b> Вывод\n",
    "\n",
    "Чаще всего долги берут люди со средним достатком"
   ]
  },
  {
   "cell_type": "markdown",
   "id": "3f477eef",
   "metadata": {},
   "source": [
    "<a id= '3.4-bullet'></a>\n",
    "## Как разные цели кредита влияют на его возврат в срок?"
   ]
  },
  {
   "cell_type": "code",
   "execution_count": 30,
   "id": "3379bf5f",
   "metadata": {
    "scrolled": true
   },
   "outputs": [
    {
     "data": {
      "text/html": [
       "<div>\n",
       "<style scoped>\n",
       "    .dataframe tbody tr th:only-of-type {\n",
       "        vertical-align: middle;\n",
       "    }\n",
       "\n",
       "    .dataframe tbody tr th {\n",
       "        vertical-align: top;\n",
       "    }\n",
       "\n",
       "    .dataframe thead th {\n",
       "        text-align: right;\n",
       "    }\n",
       "</style>\n",
       "<table border=\"1\" class=\"dataframe\">\n",
       "  <thead>\n",
       "    <tr style=\"text-align: right;\">\n",
       "      <th></th>\n",
       "      <th>debt</th>\n",
       "    </tr>\n",
       "    <tr>\n",
       "      <th>purpose_category</th>\n",
       "      <th></th>\n",
       "    </tr>\n",
       "  </thead>\n",
       "  <tbody>\n",
       "    <tr>\n",
       "      <th>операции с автомобилем</th>\n",
       "      <td>4306</td>\n",
       "    </tr>\n",
       "    <tr>\n",
       "      <th>операции с недвижимостью</th>\n",
       "      <td>10811</td>\n",
       "    </tr>\n",
       "    <tr>\n",
       "      <th>получение образования</th>\n",
       "      <td>4013</td>\n",
       "    </tr>\n",
       "    <tr>\n",
       "      <th>проведение свадьбы</th>\n",
       "      <td>2323</td>\n",
       "    </tr>\n",
       "  </tbody>\n",
       "</table>\n",
       "</div>"
      ],
      "text/plain": [
       "                           debt\n",
       "purpose_category               \n",
       "операции с автомобилем     4306\n",
       "операции с недвижимостью  10811\n",
       "получение образования      4013\n",
       "проведение свадьбы         2323"
      ]
     },
     "execution_count": 30,
     "metadata": {},
     "output_type": "execute_result"
    }
   ],
   "source": [
    "# построим сводную таблицу для ответа на вопрос\n",
    "df_pivot = df.pivot_table(index='purpose_category', values='debt', aggfunc='count')\n",
    "df_pivot"
   ]
  },
  {
   "cell_type": "code",
   "execution_count": 31,
   "id": "ed3301ae",
   "metadata": {
    "scrolled": true
   },
   "outputs": [
    {
     "data": {
      "text/html": [
       "<div>\n",
       "<style scoped>\n",
       "    .dataframe tbody tr th:only-of-type {\n",
       "        vertical-align: middle;\n",
       "    }\n",
       "\n",
       "    .dataframe tbody tr th {\n",
       "        vertical-align: top;\n",
       "    }\n",
       "\n",
       "    .dataframe thead th {\n",
       "        text-align: right;\n",
       "    }\n",
       "</style>\n",
       "<table border=\"1\" class=\"dataframe\">\n",
       "  <thead>\n",
       "    <tr style=\"text-align: right;\">\n",
       "      <th>debt</th>\n",
       "      <th>0</th>\n",
       "      <th>1</th>\n",
       "      <th>ratio</th>\n",
       "    </tr>\n",
       "    <tr>\n",
       "      <th>purpose_category</th>\n",
       "      <th></th>\n",
       "      <th></th>\n",
       "      <th></th>\n",
       "    </tr>\n",
       "  </thead>\n",
       "  <tbody>\n",
       "    <tr>\n",
       "      <th>операции с автомобилем</th>\n",
       "      <td>3903</td>\n",
       "      <td>403</td>\n",
       "      <td>0.093590</td>\n",
       "    </tr>\n",
       "    <tr>\n",
       "      <th>операции с недвижимостью</th>\n",
       "      <td>10029</td>\n",
       "      <td>782</td>\n",
       "      <td>0.072334</td>\n",
       "    </tr>\n",
       "    <tr>\n",
       "      <th>получение образования</th>\n",
       "      <td>3643</td>\n",
       "      <td>370</td>\n",
       "      <td>0.092200</td>\n",
       "    </tr>\n",
       "    <tr>\n",
       "      <th>проведение свадьбы</th>\n",
       "      <td>2137</td>\n",
       "      <td>186</td>\n",
       "      <td>0.080069</td>\n",
       "    </tr>\n",
       "  </tbody>\n",
       "</table>\n",
       "</div>"
      ],
      "text/plain": [
       "debt                          0    1     ratio\n",
       "purpose_category                              \n",
       "операции с автомобилем     3903  403  0.093590\n",
       "операции с недвижимостью  10029  782  0.072334\n",
       "получение образования      3643  370  0.092200\n",
       "проведение свадьбы         2137  186  0.080069"
      ]
     },
     "execution_count": 31,
     "metadata": {},
     "output_type": "execute_result"
    }
   ],
   "source": [
    "df_pivot_purpose = df.pivot_table(index='purpose_category',values='purpose', columns = 'debt', aggfunc='count')\n",
    "df_pivot_purpose['ratio']= df_pivot_purpose[1] / (df_pivot_purpose[0] + df_pivot_purpose[1])\n",
    "df_pivot_purpose"
   ]
  },
  {
   "cell_type": "markdown",
   "id": "a7eb6cc1",
   "metadata": {},
   "source": [
    "Чаще всего кредит берут на операции с недвижимостью. Реже всего на проведение свадьбы. "
   ]
  },
  {
   "cell_type": "markdown",
   "id": "b0c95a7b",
   "metadata": {},
   "source": [
    "<a id= '4-bullet'></a>\n",
    "# Часть 4. общий вывод:"
   ]
  },
  {
   "cell_type": "markdown",
   "id": "041a0d54",
   "metadata": {},
   "source": [
    "\n",
    "<b> Для банка, лучший заемщик это человек который берет кредит на операции с недвижимостью, при этом имеет высокий доход. Состоит в гражданском браке но не имеет детей. \n"
   ]
  },
  {
   "cell_type": "code",
   "execution_count": null,
   "id": "7f64f024",
   "metadata": {},
   "outputs": [],
   "source": []
  }
 ],
 "metadata": {
  "ExecuteTimeLog": [
   {
    "duration": 749,
    "start_time": "2022-03-10T14:07:27.965Z"
   },
   {
    "duration": 99,
    "start_time": "2022-03-10T14:08:12.175Z"
   },
   {
    "duration": 103,
    "start_time": "2022-03-10T14:08:22.439Z"
   },
   {
    "duration": 67,
    "start_time": "2022-03-10T14:08:46.734Z"
   },
   {
    "duration": 31,
    "start_time": "2022-03-11T15:49:02.215Z"
   },
   {
    "duration": 85,
    "start_time": "2022-03-11T15:49:47.341Z"
   },
   {
    "duration": 78,
    "start_time": "2022-03-11T15:50:11.834Z"
   },
   {
    "duration": 6156,
    "start_time": "2022-03-15T09:55:43.592Z"
   },
   {
    "duration": 1793,
    "start_time": "2022-03-15T09:56:45.150Z"
   },
   {
    "duration": 297,
    "start_time": "2022-03-15T09:56:55.293Z"
   },
   {
    "duration": 84,
    "start_time": "2022-03-15T09:57:05.334Z"
   },
   {
    "duration": 87,
    "start_time": "2022-03-15T09:57:43.847Z"
   },
   {
    "duration": 83,
    "start_time": "2022-03-15T09:58:19.655Z"
   },
   {
    "duration": 85,
    "start_time": "2022-03-15T09:58:35.482Z"
   },
   {
    "duration": 85,
    "start_time": "2022-03-15T09:59:18.945Z"
   },
   {
    "duration": 331,
    "start_time": "2022-03-15T10:00:45.251Z"
   },
   {
    "duration": 313,
    "start_time": "2022-03-15T10:00:59.579Z"
   },
   {
    "duration": 83,
    "start_time": "2022-03-15T10:01:09.564Z"
   },
   {
    "duration": 79,
    "start_time": "2022-03-15T10:01:13.250Z"
   },
   {
    "duration": 82,
    "start_time": "2022-03-15T10:01:23.267Z"
   },
   {
    "duration": 85,
    "start_time": "2022-03-15T10:08:41.276Z"
   },
   {
    "duration": 84,
    "start_time": "2022-03-15T10:08:47.095Z"
   },
   {
    "duration": 87,
    "start_time": "2022-03-15T10:08:59.631Z"
   },
   {
    "duration": 91,
    "start_time": "2022-03-15T10:09:19.751Z"
   },
   {
    "duration": 311,
    "start_time": "2022-03-15T10:13:36.822Z"
   },
   {
    "duration": 95,
    "start_time": "2022-03-15T10:13:47.246Z"
   },
   {
    "duration": 84,
    "start_time": "2022-03-15T10:14:08.854Z"
   },
   {
    "duration": 83,
    "start_time": "2022-03-15T10:19:52.822Z"
   },
   {
    "duration": 89,
    "start_time": "2022-03-15T10:20:08.848Z"
   },
   {
    "duration": 90,
    "start_time": "2022-03-15T10:21:07.416Z"
   },
   {
    "duration": 82,
    "start_time": "2022-03-15T10:38:11.366Z"
   },
   {
    "duration": 120,
    "start_time": "2022-03-15T10:44:29.680Z"
   },
   {
    "duration": 13,
    "start_time": "2022-03-15T11:35:30.900Z"
   },
   {
    "duration": 31,
    "start_time": "2022-03-15T11:38:13.184Z"
   },
   {
    "duration": 51,
    "start_time": "2022-03-15T11:40:06.852Z"
   },
   {
    "duration": 34,
    "start_time": "2022-03-15T11:40:15.212Z"
   },
   {
    "duration": 81,
    "start_time": "2022-03-15T11:55:51.975Z"
   },
   {
    "duration": 79,
    "start_time": "2022-03-15T11:56:28.394Z"
   },
   {
    "duration": 40,
    "start_time": "2022-03-15T11:56:44.410Z"
   },
   {
    "duration": 37,
    "start_time": "2022-03-15T11:56:47.683Z"
   },
   {
    "duration": 56,
    "start_time": "2022-03-15T11:56:53.315Z"
   },
   {
    "duration": 49,
    "start_time": "2022-03-15T11:57:46.662Z"
   },
   {
    "duration": 3,
    "start_time": "2022-03-15T12:10:32.680Z"
   },
   {
    "duration": 79,
    "start_time": "2022-03-15T12:11:53.592Z"
   },
   {
    "duration": 81,
    "start_time": "2022-03-15T12:12:02.273Z"
   },
   {
    "duration": 4,
    "start_time": "2022-03-15T12:12:08.864Z"
   },
   {
    "duration": 5,
    "start_time": "2022-03-15T12:12:20.248Z"
   },
   {
    "duration": 5,
    "start_time": "2022-03-15T12:14:41.540Z"
   },
   {
    "duration": 12,
    "start_time": "2022-03-15T12:15:59.191Z"
   },
   {
    "duration": 11,
    "start_time": "2022-03-15T12:16:02.142Z"
   },
   {
    "duration": 38,
    "start_time": "2022-03-15T12:16:14.742Z"
   },
   {
    "duration": 37,
    "start_time": "2022-03-15T12:27:59.184Z"
   },
   {
    "duration": 37,
    "start_time": "2022-03-15T12:31:22.046Z"
   },
   {
    "duration": 85,
    "start_time": "2022-03-15T12:32:27.439Z"
   },
   {
    "duration": 81,
    "start_time": "2022-03-15T12:32:37.086Z"
   },
   {
    "duration": 36,
    "start_time": "2022-03-15T12:35:22.603Z"
   },
   {
    "duration": 36,
    "start_time": "2022-03-15T12:39:11.400Z"
   },
   {
    "duration": 232,
    "start_time": "2022-03-15T12:42:54.738Z"
   },
   {
    "duration": 246,
    "start_time": "2022-03-15T12:43:11.781Z"
   },
   {
    "duration": 10,
    "start_time": "2022-03-15T12:43:26.668Z"
   },
   {
    "duration": 78,
    "start_time": "2022-03-15T12:44:48.590Z"
   },
   {
    "duration": 85,
    "start_time": "2022-03-15T12:44:57.935Z"
   },
   {
    "duration": 80,
    "start_time": "2022-03-15T12:45:35.985Z"
   },
   {
    "duration": 9,
    "start_time": "2022-03-15T12:47:04.019Z"
   },
   {
    "duration": 9,
    "start_time": "2022-03-15T13:05:09.251Z"
   },
   {
    "duration": 34,
    "start_time": "2022-03-15T13:05:18.861Z"
   },
   {
    "duration": 9,
    "start_time": "2022-03-15T13:06:02.366Z"
   },
   {
    "duration": 9,
    "start_time": "2022-03-15T13:06:20.336Z"
   },
   {
    "duration": 42,
    "start_time": "2022-03-15T13:06:25.487Z"
   },
   {
    "duration": 9,
    "start_time": "2022-03-15T13:06:32.535Z"
   },
   {
    "duration": 36,
    "start_time": "2022-03-15T13:06:53.831Z"
   },
   {
    "duration": 305,
    "start_time": "2022-03-15T13:12:07.628Z"
   },
   {
    "duration": 314,
    "start_time": "2022-03-15T13:12:33.159Z"
   },
   {
    "duration": 308,
    "start_time": "2022-03-15T13:12:43.048Z"
   },
   {
    "duration": 273,
    "start_time": "2022-03-15T13:13:39.273Z"
   },
   {
    "duration": 416,
    "start_time": "2022-03-15T13:23:42.055Z"
   },
   {
    "duration": 298,
    "start_time": "2022-03-15T13:23:56.823Z"
   },
   {
    "duration": 307,
    "start_time": "2022-03-15T13:24:41.761Z"
   },
   {
    "duration": 388,
    "start_time": "2022-03-15T13:28:56.311Z"
   },
   {
    "duration": 98,
    "start_time": "2022-03-15T13:29:22.151Z"
   },
   {
    "duration": 7,
    "start_time": "2022-03-15T13:29:27.167Z"
   },
   {
    "duration": 8,
    "start_time": "2022-03-15T13:29:29.104Z"
   },
   {
    "duration": 9,
    "start_time": "2022-03-15T13:33:46.093Z"
   },
   {
    "duration": 87,
    "start_time": "2022-03-15T13:33:53.187Z"
   },
   {
    "duration": 36,
    "start_time": "2022-03-15T13:33:57.223Z"
   },
   {
    "duration": 9,
    "start_time": "2022-03-15T13:33:59.253Z"
   },
   {
    "duration": 48,
    "start_time": "2022-03-15T13:34:03.182Z"
   },
   {
    "duration": 17,
    "start_time": "2022-03-15T13:36:48.067Z"
   },
   {
    "duration": 277,
    "start_time": "2022-03-15T13:42:13.210Z"
   },
   {
    "duration": 257,
    "start_time": "2022-03-15T13:42:20.307Z"
   },
   {
    "duration": 247,
    "start_time": "2022-03-15T13:42:59.630Z"
   },
   {
    "duration": 265,
    "start_time": "2022-03-15T13:44:00.614Z"
   },
   {
    "duration": 13,
    "start_time": "2022-03-15T13:54:49.693Z"
   },
   {
    "duration": 251,
    "start_time": "2022-03-15T14:01:28.651Z"
   },
   {
    "duration": 260,
    "start_time": "2022-03-15T14:01:37.238Z"
   },
   {
    "duration": 20,
    "start_time": "2022-03-15T14:02:00.408Z"
   },
   {
    "duration": 19,
    "start_time": "2022-03-15T14:02:06.215Z"
   },
   {
    "duration": 27,
    "start_time": "2022-03-15T14:02:59.799Z"
   },
   {
    "duration": 280,
    "start_time": "2022-03-15T14:03:32.961Z"
   },
   {
    "duration": 17,
    "start_time": "2022-03-15T14:05:38.797Z"
   },
   {
    "duration": 74,
    "start_time": "2022-03-15T14:06:22.591Z"
   },
   {
    "duration": 88,
    "start_time": "2022-03-15T14:06:26.020Z"
   },
   {
    "duration": 20,
    "start_time": "2022-03-15T14:06:44.102Z"
   },
   {
    "duration": 232,
    "start_time": "2022-03-15T14:08:51.217Z"
   },
   {
    "duration": 246,
    "start_time": "2022-03-15T14:09:22.785Z"
   },
   {
    "duration": 398,
    "start_time": "2022-03-15T14:09:30.242Z"
   },
   {
    "duration": 14,
    "start_time": "2022-03-15T14:09:59.890Z"
   },
   {
    "duration": 20,
    "start_time": "2022-03-15T14:12:19.045Z"
   },
   {
    "duration": 23,
    "start_time": "2022-03-15T14:13:43.593Z"
   },
   {
    "duration": 25,
    "start_time": "2022-03-15T14:13:48.383Z"
   },
   {
    "duration": 21,
    "start_time": "2022-03-15T14:14:16.433Z"
   },
   {
    "duration": 21,
    "start_time": "2022-03-15T14:16:00.050Z"
   },
   {
    "duration": 246,
    "start_time": "2022-03-15T14:16:29.580Z"
   },
   {
    "duration": 25,
    "start_time": "2022-03-15T14:16:58.533Z"
   },
   {
    "duration": 23,
    "start_time": "2022-03-15T14:20:14.431Z"
   },
   {
    "duration": 25,
    "start_time": "2022-03-15T14:20:39.297Z"
   },
   {
    "duration": 21,
    "start_time": "2022-03-15T14:21:37.675Z"
   },
   {
    "duration": 28,
    "start_time": "2022-03-15T14:23:02.076Z"
   },
   {
    "duration": 17,
    "start_time": "2022-03-15T14:23:31.928Z"
   },
   {
    "duration": 19,
    "start_time": "2022-03-15T14:23:46.630Z"
   },
   {
    "duration": 23,
    "start_time": "2022-03-15T14:24:08.526Z"
   },
   {
    "duration": 87,
    "start_time": "2022-03-15T14:27:42.170Z"
   },
   {
    "duration": 29,
    "start_time": "2022-03-15T14:27:48.875Z"
   },
   {
    "duration": 32,
    "start_time": "2022-03-15T14:31:13.159Z"
   },
   {
    "duration": 78,
    "start_time": "2022-03-15T14:33:01.450Z"
   },
   {
    "duration": 52,
    "start_time": "2022-03-15T14:33:22.493Z"
   },
   {
    "duration": 72,
    "start_time": "2022-03-15T14:34:08.214Z"
   },
   {
    "duration": 52,
    "start_time": "2022-03-15T14:34:36.487Z"
   },
   {
    "duration": 77,
    "start_time": "2022-03-15T14:35:05.135Z"
   },
   {
    "duration": 50,
    "start_time": "2022-03-15T14:35:36.040Z"
   },
   {
    "duration": 84,
    "start_time": "2022-03-15T14:36:10.145Z"
   },
   {
    "duration": 46,
    "start_time": "2022-03-15T14:36:13.881Z"
   },
   {
    "duration": 59,
    "start_time": "2022-03-15T14:36:15.009Z"
   },
   {
    "duration": 49,
    "start_time": "2022-03-15T14:36:34.912Z"
   },
   {
    "duration": 75,
    "start_time": "2022-03-15T14:36:45.025Z"
   },
   {
    "duration": 54,
    "start_time": "2022-03-15T14:37:03.243Z"
   },
   {
    "duration": 95,
    "start_time": "2022-03-15T14:38:42.249Z"
   },
   {
    "duration": 77,
    "start_time": "2022-03-15T14:40:45.910Z"
   },
   {
    "duration": 102,
    "start_time": "2022-03-15T14:40:58.150Z"
   },
   {
    "duration": 76,
    "start_time": "2022-03-15T14:41:29.360Z"
   },
   {
    "duration": 74,
    "start_time": "2022-03-15T14:41:51.480Z"
   },
   {
    "duration": 67,
    "start_time": "2022-03-15T14:44:20.259Z"
   },
   {
    "duration": 678,
    "start_time": "2022-03-15T15:17:12.146Z"
   },
   {
    "duration": 696,
    "start_time": "2022-03-15T15:19:59.309Z"
   },
   {
    "duration": 593,
    "start_time": "2022-03-15T15:23:08.339Z"
   },
   {
    "duration": 269,
    "start_time": "2022-03-15T15:24:37.933Z"
   },
   {
    "duration": 274,
    "start_time": "2022-03-15T15:25:04.358Z"
   },
   {
    "duration": 267,
    "start_time": "2022-03-15T15:26:55.353Z"
   },
   {
    "duration": 720,
    "start_time": "2022-03-15T15:27:26.377Z"
   },
   {
    "duration": 266,
    "start_time": "2022-03-15T15:27:41.850Z"
   },
   {
    "duration": 54,
    "start_time": "2022-03-15T15:27:55.033Z"
   },
   {
    "duration": 19,
    "start_time": "2022-03-15T15:28:35.171Z"
   },
   {
    "duration": 81,
    "start_time": "2022-03-15T15:29:41.331Z"
   },
   {
    "duration": 35,
    "start_time": "2022-03-15T15:29:44.245Z"
   },
   {
    "duration": 39,
    "start_time": "2022-03-15T15:29:55.004Z"
   },
   {
    "duration": 21,
    "start_time": "2022-03-15T15:30:00.204Z"
   },
   {
    "duration": 9,
    "start_time": "2022-03-15T15:30:10.381Z"
   },
   {
    "duration": 20,
    "start_time": "2022-03-15T15:30:11.549Z"
   },
   {
    "duration": 44,
    "start_time": "2022-03-15T15:30:50.014Z"
   },
   {
    "duration": 47,
    "start_time": "2022-03-15T15:30:59.494Z"
   },
   {
    "duration": 44,
    "start_time": "2022-03-15T15:31:28.696Z"
   },
   {
    "duration": 21,
    "start_time": "2022-03-15T15:31:38.375Z"
   },
   {
    "duration": 59,
    "start_time": "2022-03-15T15:31:45.671Z"
   },
   {
    "duration": 70,
    "start_time": "2022-03-15T15:36:03.868Z"
   },
   {
    "duration": 38,
    "start_time": "2022-03-15T17:38:38.452Z"
   },
   {
    "duration": 69,
    "start_time": "2022-03-15T17:39:56.311Z"
   },
   {
    "duration": 114,
    "start_time": "2022-03-15T17:42:42.394Z"
   },
   {
    "duration": 79,
    "start_time": "2022-03-15T17:44:55.796Z"
   },
   {
    "duration": 119,
    "start_time": "2022-03-15T17:45:18.671Z"
   },
   {
    "duration": 85,
    "start_time": "2022-03-15T17:45:41.519Z"
   },
   {
    "duration": 50,
    "start_time": "2022-03-15T17:46:26.713Z"
   },
   {
    "duration": 79,
    "start_time": "2022-03-15T17:46:38.586Z"
   },
   {
    "duration": 35,
    "start_time": "2022-03-15T17:46:43.161Z"
   },
   {
    "duration": 82,
    "start_time": "2022-03-15T17:46:45.768Z"
   },
   {
    "duration": 96,
    "start_time": "2022-03-15T17:47:43.050Z"
   },
   {
    "duration": 85,
    "start_time": "2022-03-15T17:47:54.930Z"
   },
   {
    "duration": 84,
    "start_time": "2022-03-15T17:48:56.771Z"
   },
   {
    "duration": 63,
    "start_time": "2022-03-15T17:49:06.332Z"
   },
   {
    "duration": 50,
    "start_time": "2022-03-15T17:49:13.700Z"
   },
   {
    "duration": 82,
    "start_time": "2022-03-15T17:49:30.804Z"
   },
   {
    "duration": 85,
    "start_time": "2022-03-15T18:09:01.576Z"
   },
   {
    "duration": 98,
    "start_time": "2022-03-15T18:09:35.850Z"
   },
   {
    "duration": 88,
    "start_time": "2022-03-15T18:09:55.191Z"
   },
   {
    "duration": 7159,
    "start_time": "2022-03-15T18:10:01.010Z"
   },
   {
    "duration": -21,
    "start_time": "2022-03-15T18:10:08.195Z"
   },
   {
    "duration": 52,
    "start_time": "2022-03-15T18:10:35.859Z"
   },
   {
    "duration": 100,
    "start_time": "2022-03-15T18:10:41.454Z"
   },
   {
    "duration": 106,
    "start_time": "2022-03-15T18:11:23.214Z"
   },
   {
    "duration": 137,
    "start_time": "2022-03-15T18:12:18.998Z"
   },
   {
    "duration": 135,
    "start_time": "2022-03-15T18:13:02.576Z"
   },
   {
    "duration": 112,
    "start_time": "2022-03-15T18:13:20.505Z"
   },
   {
    "duration": 114,
    "start_time": "2022-03-15T18:13:32.039Z"
   },
   {
    "duration": 95,
    "start_time": "2022-03-15T18:14:05.601Z"
   },
   {
    "duration": 48,
    "start_time": "2022-03-15T18:14:21.441Z"
   },
   {
    "duration": 35,
    "start_time": "2022-03-15T18:14:35.554Z"
   },
   {
    "duration": 89,
    "start_time": "2022-03-15T18:14:53.625Z"
   },
   {
    "duration": 118,
    "start_time": "2022-03-15T18:15:03.801Z"
   },
   {
    "duration": 16,
    "start_time": "2022-03-15T18:16:06.509Z"
   },
   {
    "duration": 41,
    "start_time": "2022-03-15T18:16:13.971Z"
   },
   {
    "duration": 39,
    "start_time": "2022-03-15T18:16:36.236Z"
   },
   {
    "duration": 42,
    "start_time": "2022-03-15T18:17:07.741Z"
   },
   {
    "duration": 34,
    "start_time": "2022-03-15T18:17:31.133Z"
   },
   {
    "duration": 62,
    "start_time": "2022-03-15T18:17:47.497Z"
   },
   {
    "duration": 34,
    "start_time": "2022-03-15T18:18:28.366Z"
   },
   {
    "duration": 80,
    "start_time": "2022-03-15T18:18:44.950Z"
   },
   {
    "duration": 40,
    "start_time": "2022-03-15T18:19:43.889Z"
   },
   {
    "duration": 59,
    "start_time": "2022-03-15T18:20:10.650Z"
   },
   {
    "duration": 39,
    "start_time": "2022-03-15T18:20:14.489Z"
   },
   {
    "duration": 46,
    "start_time": "2022-03-15T18:20:28.802Z"
   },
   {
    "duration": 107,
    "start_time": "2022-03-15T18:20:43.972Z"
   },
   {
    "duration": 50,
    "start_time": "2022-03-15T18:20:47.955Z"
   },
   {
    "duration": 33,
    "start_time": "2022-03-15T18:20:51.875Z"
   },
   {
    "duration": 48,
    "start_time": "2022-03-15T18:22:02.410Z"
   },
   {
    "duration": 85,
    "start_time": "2022-03-15T18:23:11.389Z"
   },
   {
    "duration": 1664,
    "start_time": "2022-03-15T18:24:34.312Z"
   },
   {
    "duration": 320,
    "start_time": "2022-03-15T18:25:49.434Z"
   },
   {
    "duration": 89,
    "start_time": "2022-03-15T18:26:54.411Z"
   },
   {
    "duration": 86,
    "start_time": "2022-03-15T18:27:01.891Z"
   },
   {
    "duration": 87,
    "start_time": "2022-03-15T18:27:53.132Z"
   },
   {
    "duration": 111,
    "start_time": "2022-03-15T18:27:59.947Z"
   },
   {
    "duration": 46,
    "start_time": "2022-03-15T18:28:04.757Z"
   },
   {
    "duration": 88,
    "start_time": "2022-03-15T18:28:06.652Z"
   },
   {
    "duration": 20,
    "start_time": "2022-03-15T18:30:05.142Z"
   },
   {
    "duration": 37,
    "start_time": "2022-03-15T18:30:20.809Z"
   },
   {
    "duration": 53,
    "start_time": "2022-03-15T18:30:33.528Z"
   },
   {
    "duration": 105,
    "start_time": "2022-03-15T18:30:45.446Z"
   },
   {
    "duration": 54,
    "start_time": "2022-03-15T18:30:46.008Z"
   },
   {
    "duration": 15,
    "start_time": "2022-03-15T18:30:46.968Z"
   },
   {
    "duration": 31,
    "start_time": "2022-03-15T18:30:48.848Z"
   },
   {
    "duration": 51,
    "start_time": "2022-03-15T18:30:49.657Z"
   },
   {
    "duration": 268,
    "start_time": "2022-03-15T18:31:56.514Z"
   },
   {
    "duration": 46,
    "start_time": "2022-03-15T18:32:11.755Z"
   },
   {
    "duration": 62,
    "start_time": "2022-03-15T18:32:28.652Z"
   },
   {
    "duration": 53,
    "start_time": "2022-03-15T18:32:33.490Z"
   },
   {
    "duration": 23,
    "start_time": "2022-03-15T18:32:36.420Z"
   },
   {
    "duration": 35,
    "start_time": "2022-03-15T18:32:36.906Z"
   },
   {
    "duration": 51,
    "start_time": "2022-03-15T18:32:40.186Z"
   },
   {
    "duration": 18,
    "start_time": "2022-03-15T18:32:42.850Z"
   },
   {
    "duration": 33,
    "start_time": "2022-03-15T18:32:43.715Z"
   },
   {
    "duration": 49,
    "start_time": "2022-03-15T18:32:44.891Z"
   },
   {
    "duration": 95,
    "start_time": "2022-03-15T18:32:48.700Z"
   },
   {
    "duration": 49,
    "start_time": "2022-03-15T18:32:49.180Z"
   },
   {
    "duration": 15,
    "start_time": "2022-03-15T18:32:49.331Z"
   },
   {
    "duration": 35,
    "start_time": "2022-03-15T18:32:50.379Z"
   },
   {
    "duration": 49,
    "start_time": "2022-03-15T18:32:51.258Z"
   },
   {
    "duration": 71,
    "start_time": "2022-03-15T18:41:49.169Z"
   },
   {
    "duration": 9759,
    "start_time": "2022-03-15T18:42:41.659Z"
   },
   {
    "duration": 74,
    "start_time": "2022-03-15T18:43:04.883Z"
   },
   {
    "duration": 71,
    "start_time": "2022-03-15T18:43:19.636Z"
   },
   {
    "duration": 68,
    "start_time": "2022-03-15T18:43:36.316Z"
   },
   {
    "duration": 73,
    "start_time": "2022-03-15T18:43:55.126Z"
   },
   {
    "duration": 112,
    "start_time": "2022-03-15T18:44:24.696Z"
   },
   {
    "duration": 146,
    "start_time": "2022-03-15T18:44:49.366Z"
   },
   {
    "duration": 98,
    "start_time": "2022-03-15T18:45:02.247Z"
   },
   {
    "duration": 65,
    "start_time": "2022-03-15T18:45:13.902Z"
   },
   {
    "duration": 81,
    "start_time": "2022-03-15T18:45:24.055Z"
   },
   {
    "duration": 61,
    "start_time": "2022-03-15T18:45:44.098Z"
   },
   {
    "duration": 15,
    "start_time": "2022-03-15T18:45:47.135Z"
   },
   {
    "duration": 38,
    "start_time": "2022-03-15T18:45:49.091Z"
   },
   {
    "duration": 50,
    "start_time": "2022-03-15T18:45:55.038Z"
   },
   {
    "duration": 15,
    "start_time": "2022-03-15T18:46:40.615Z"
   },
   {
    "duration": 32,
    "start_time": "2022-03-15T18:46:41.735Z"
   },
   {
    "duration": 47,
    "start_time": "2022-03-15T18:46:42.807Z"
   },
   {
    "duration": 122,
    "start_time": "2022-03-15T18:46:48.192Z"
   },
   {
    "duration": 87,
    "start_time": "2022-03-15T18:46:49.296Z"
   },
   {
    "duration": 14,
    "start_time": "2022-03-15T18:46:50.295Z"
   },
   {
    "duration": 40,
    "start_time": "2022-03-15T18:46:51.567Z"
   },
   {
    "duration": 48,
    "start_time": "2022-03-15T18:46:52.929Z"
   },
   {
    "duration": 14,
    "start_time": "2022-03-15T18:47:38.585Z"
   },
   {
    "duration": 48,
    "start_time": "2022-03-15T18:50:52.757Z"
   },
   {
    "duration": 96,
    "start_time": "2022-03-15T18:51:01.703Z"
   },
   {
    "duration": 66,
    "start_time": "2022-03-15T18:51:02.182Z"
   },
   {
    "duration": 16,
    "start_time": "2022-03-15T18:51:02.318Z"
   },
   {
    "duration": 33,
    "start_time": "2022-03-15T18:51:03.462Z"
   },
   {
    "duration": 50,
    "start_time": "2022-03-15T18:51:04.486Z"
   },
   {
    "duration": 54,
    "start_time": "2022-03-15T18:52:29.826Z"
   },
   {
    "duration": 57,
    "start_time": "2022-03-15T18:52:40.696Z"
   },
   {
    "duration": 52,
    "start_time": "2022-03-15T18:52:50.929Z"
   },
   {
    "duration": 53,
    "start_time": "2022-03-15T18:54:34.212Z"
   },
   {
    "duration": 92,
    "start_time": "2022-03-15T18:54:41.387Z"
   },
   {
    "duration": 74,
    "start_time": "2022-03-15T18:54:41.771Z"
   },
   {
    "duration": 14,
    "start_time": "2022-03-15T18:54:42.803Z"
   },
   {
    "duration": 32,
    "start_time": "2022-03-15T18:54:43.851Z"
   },
   {
    "duration": 53,
    "start_time": "2022-03-15T18:54:44.051Z"
   },
   {
    "duration": 53,
    "start_time": "2022-03-15T18:56:18.222Z"
   },
   {
    "duration": 47,
    "start_time": "2022-03-15T18:56:56.799Z"
   },
   {
    "duration": 45,
    "start_time": "2022-03-15T19:00:13.564Z"
   },
   {
    "duration": 46,
    "start_time": "2022-03-15T19:01:13.486Z"
   },
   {
    "duration": 54,
    "start_time": "2022-03-15T19:06:50.518Z"
   },
   {
    "duration": 90,
    "start_time": "2022-03-15T19:06:55.278Z"
   },
   {
    "duration": 61,
    "start_time": "2022-03-15T19:06:55.709Z"
   },
   {
    "duration": 13,
    "start_time": "2022-03-15T19:06:56.461Z"
   },
   {
    "duration": 33,
    "start_time": "2022-03-15T19:06:57.276Z"
   },
   {
    "duration": 48,
    "start_time": "2022-03-15T19:06:58.092Z"
   },
   {
    "duration": 99,
    "start_time": "2022-03-15T19:25:23.996Z"
   },
   {
    "duration": 72,
    "start_time": "2022-03-15T19:25:24.409Z"
   },
   {
    "duration": 15,
    "start_time": "2022-03-15T19:25:25.112Z"
   },
   {
    "duration": 34,
    "start_time": "2022-03-15T19:25:26.057Z"
   },
   {
    "duration": 52,
    "start_time": "2022-03-15T19:25:28.394Z"
   },
   {
    "duration": 58,
    "start_time": "2022-03-15T19:28:07.477Z"
   },
   {
    "duration": 99,
    "start_time": "2022-03-15T19:28:13.350Z"
   },
   {
    "duration": 16,
    "start_time": "2022-03-15T19:28:13.812Z"
   },
   {
    "duration": 33,
    "start_time": "2022-03-15T19:28:14.516Z"
   },
   {
    "duration": 99,
    "start_time": "2022-03-15T19:28:15.413Z"
   },
   {
    "duration": 155,
    "start_time": "2022-03-15T19:28:18.772Z"
   },
   {
    "duration": 63,
    "start_time": "2022-03-15T19:28:19.309Z"
   },
   {
    "duration": 17,
    "start_time": "2022-03-15T19:28:19.485Z"
   },
   {
    "duration": 41,
    "start_time": "2022-03-15T19:28:19.668Z"
   },
   {
    "duration": 49,
    "start_time": "2022-03-15T19:28:20.429Z"
   },
   {
    "duration": 40,
    "start_time": "2022-03-15T19:33:31.875Z"
   },
   {
    "duration": 92,
    "start_time": "2022-03-15T19:33:36.532Z"
   },
   {
    "duration": 61,
    "start_time": "2022-03-15T19:33:37.653Z"
   },
   {
    "duration": 14,
    "start_time": "2022-03-15T19:33:38.964Z"
   },
   {
    "duration": 45,
    "start_time": "2022-03-15T19:33:39.860Z"
   },
   {
    "duration": 43,
    "start_time": "2022-03-15T19:33:41.171Z"
   },
   {
    "duration": 97,
    "start_time": "2022-03-15T19:34:39.885Z"
   },
   {
    "duration": 2115,
    "start_time": "2022-03-15T19:34:40.389Z"
   },
   {
    "duration": 1298,
    "start_time": "2022-03-15T19:34:42.508Z"
   },
   {
    "duration": 1137,
    "start_time": "2022-03-15T19:34:43.810Z"
   },
   {
    "duration": 2190,
    "start_time": "2022-03-15T19:34:44.949Z"
   },
   {
    "duration": 95,
    "start_time": "2022-03-15T19:35:00.152Z"
   },
   {
    "duration": 62,
    "start_time": "2022-03-15T19:35:08.094Z"
   },
   {
    "duration": 13,
    "start_time": "2022-03-15T19:35:26.550Z"
   },
   {
    "duration": 33,
    "start_time": "2022-03-15T19:35:27.198Z"
   },
   {
    "duration": 46,
    "start_time": "2022-03-15T19:35:29.415Z"
   },
   {
    "duration": 99,
    "start_time": "2022-03-15T19:36:52.026Z"
   },
   {
    "duration": 63,
    "start_time": "2022-03-15T19:36:52.498Z"
   },
   {
    "duration": 14,
    "start_time": "2022-03-15T19:36:52.672Z"
   },
   {
    "duration": 31,
    "start_time": "2022-03-15T19:36:53.401Z"
   },
   {
    "duration": 46,
    "start_time": "2022-03-15T19:36:53.904Z"
   },
   {
    "duration": 201,
    "start_time": "2022-03-15T19:43:53.274Z"
   },
   {
    "duration": 7,
    "start_time": "2022-03-15T19:43:56.021Z"
   },
   {
    "duration": 5,
    "start_time": "2022-03-15T19:45:53.982Z"
   },
   {
    "duration": 7,
    "start_time": "2022-03-15T19:46:07.365Z"
   },
   {
    "duration": 24,
    "start_time": "2022-03-15T19:53:27.457Z"
   },
   {
    "duration": 21,
    "start_time": "2022-03-15T19:53:33.376Z"
   },
   {
    "duration": 22,
    "start_time": "2022-03-15T19:53:44.385Z"
   },
   {
    "duration": 7,
    "start_time": "2022-03-15T19:54:30.074Z"
   },
   {
    "duration": 7,
    "start_time": "2022-03-15T19:54:36.538Z"
   },
   {
    "duration": 7,
    "start_time": "2022-03-15T19:55:16.236Z"
   },
   {
    "duration": 101,
    "start_time": "2022-03-15T19:55:21.404Z"
   },
   {
    "duration": 60,
    "start_time": "2022-03-15T19:55:21.907Z"
   },
   {
    "duration": 13,
    "start_time": "2022-03-15T19:55:22.067Z"
   },
   {
    "duration": 33,
    "start_time": "2022-03-15T19:55:22.259Z"
   },
   {
    "duration": 44,
    "start_time": "2022-03-15T19:55:23.340Z"
   },
   {
    "duration": 5,
    "start_time": "2022-03-15T19:55:25.764Z"
   },
   {
    "duration": 7,
    "start_time": "2022-03-15T19:55:28.228Z"
   },
   {
    "duration": 6,
    "start_time": "2022-03-15T19:55:30.219Z"
   },
   {
    "duration": 7,
    "start_time": "2022-03-15T19:55:34.011Z"
   },
   {
    "duration": 7,
    "start_time": "2022-03-15T19:55:36.044Z"
   },
   {
    "duration": 12,
    "start_time": "2022-03-15T19:56:20.405Z"
   },
   {
    "duration": 23,
    "start_time": "2022-03-15T19:57:08.950Z"
   },
   {
    "duration": 22,
    "start_time": "2022-03-15T19:59:20.986Z"
   },
   {
    "duration": 32,
    "start_time": "2022-03-15T19:59:47.474Z"
   },
   {
    "duration": 223,
    "start_time": "2022-03-15T20:00:33.180Z"
   },
   {
    "duration": 23,
    "start_time": "2022-03-15T20:02:15.765Z"
   },
   {
    "duration": 23,
    "start_time": "2022-03-15T20:02:33.776Z"
   },
   {
    "duration": 224,
    "start_time": "2022-03-15T20:03:49.440Z"
   },
   {
    "duration": 28,
    "start_time": "2022-03-15T20:04:02.344Z"
   },
   {
    "duration": 33,
    "start_time": "2022-03-15T20:04:14.752Z"
   },
   {
    "duration": 194,
    "start_time": "2022-03-15T20:05:26.475Z"
   },
   {
    "duration": 201,
    "start_time": "2022-03-15T20:05:31.899Z"
   },
   {
    "duration": 21,
    "start_time": "2022-03-15T20:06:10.282Z"
   },
   {
    "duration": 224,
    "start_time": "2022-03-15T20:06:51.516Z"
   },
   {
    "duration": 19,
    "start_time": "2022-03-15T20:07:00.237Z"
   },
   {
    "duration": 65,
    "start_time": "2022-03-15T20:09:11.256Z"
   },
   {
    "duration": 53,
    "start_time": "2022-03-15T20:11:06.019Z"
   },
   {
    "duration": 52,
    "start_time": "2022-03-15T20:11:10.667Z"
   },
   {
    "duration": 269,
    "start_time": "2022-03-15T20:12:16.940Z"
   },
   {
    "duration": 54,
    "start_time": "2022-03-15T20:12:38.165Z"
   },
   {
    "duration": 134,
    "start_time": "2022-03-15T20:13:29.062Z"
   },
   {
    "duration": 58,
    "start_time": "2022-03-15T20:13:29.470Z"
   },
   {
    "duration": 14,
    "start_time": "2022-03-15T20:13:29.621Z"
   },
   {
    "duration": 33,
    "start_time": "2022-03-15T20:13:29.757Z"
   },
   {
    "duration": 57,
    "start_time": "2022-03-15T20:13:29.910Z"
   },
   {
    "duration": 3,
    "start_time": "2022-03-15T20:13:31.149Z"
   },
   {
    "duration": 8,
    "start_time": "2022-03-15T20:13:32.663Z"
   },
   {
    "duration": 5,
    "start_time": "2022-03-15T20:13:33.925Z"
   },
   {
    "duration": 7,
    "start_time": "2022-03-15T20:13:36.661Z"
   },
   {
    "duration": 54,
    "start_time": "2022-03-15T20:13:38.965Z"
   },
   {
    "duration": 41,
    "start_time": "2022-03-15T20:13:45.710Z"
   },
   {
    "duration": 39,
    "start_time": "2022-03-15T20:16:12.698Z"
   },
   {
    "duration": 60,
    "start_time": "2022-03-15T20:16:38.676Z"
   },
   {
    "duration": 38,
    "start_time": "2022-03-15T20:16:54.382Z"
   },
   {
    "duration": 62,
    "start_time": "2022-03-15T20:18:07.646Z"
   },
   {
    "duration": 98,
    "start_time": "2022-03-15T20:18:16.845Z"
   },
   {
    "duration": 67,
    "start_time": "2022-03-15T20:18:17.301Z"
   },
   {
    "duration": 23,
    "start_time": "2022-03-15T20:18:17.430Z"
   },
   {
    "duration": 50,
    "start_time": "2022-03-15T20:18:17.581Z"
   },
   {
    "duration": 44,
    "start_time": "2022-03-15T20:18:17.747Z"
   },
   {
    "duration": 3,
    "start_time": "2022-03-15T20:18:18.211Z"
   },
   {
    "duration": 9,
    "start_time": "2022-03-15T20:18:19.005Z"
   },
   {
    "duration": 6,
    "start_time": "2022-03-15T20:18:19.268Z"
   },
   {
    "duration": 7,
    "start_time": "2022-03-15T20:18:19.764Z"
   },
   {
    "duration": 58,
    "start_time": "2022-03-15T20:18:20.716Z"
   },
   {
    "duration": 49,
    "start_time": "2022-03-15T20:18:21.516Z"
   },
   {
    "duration": 37,
    "start_time": "2022-03-15T20:21:22.002Z"
   },
   {
    "duration": 7,
    "start_time": "2022-03-15T20:21:25.384Z"
   },
   {
    "duration": 4,
    "start_time": "2022-03-15T20:21:25.610Z"
   },
   {
    "duration": 7,
    "start_time": "2022-03-15T20:21:26.178Z"
   },
   {
    "duration": 40,
    "start_time": "2022-03-15T20:21:27.769Z"
   },
   {
    "duration": 103,
    "start_time": "2022-03-15T20:21:31.314Z"
   },
   {
    "duration": 64,
    "start_time": "2022-03-15T20:21:31.770Z"
   },
   {
    "duration": 16,
    "start_time": "2022-03-15T20:21:31.928Z"
   },
   {
    "duration": 35,
    "start_time": "2022-03-15T20:21:32.096Z"
   },
   {
    "duration": 48,
    "start_time": "2022-03-15T20:21:32.249Z"
   },
   {
    "duration": 3,
    "start_time": "2022-03-15T20:21:32.704Z"
   },
   {
    "duration": 7,
    "start_time": "2022-03-15T20:21:33.008Z"
   },
   {
    "duration": 5,
    "start_time": "2022-03-15T20:21:33.168Z"
   },
   {
    "duration": 7,
    "start_time": "2022-03-15T20:21:33.705Z"
   },
   {
    "duration": 62,
    "start_time": "2022-03-15T20:21:34.289Z"
   },
   {
    "duration": 38,
    "start_time": "2022-03-15T20:21:34.673Z"
   },
   {
    "duration": 9,
    "start_time": "2022-03-16T06:08:06.374Z"
   },
   {
    "duration": 6,
    "start_time": "2022-03-16T06:10:35.825Z"
   },
   {
    "duration": 10,
    "start_time": "2022-03-16T06:13:05.892Z"
   },
   {
    "duration": 10,
    "start_time": "2022-03-16T06:14:04.838Z"
   },
   {
    "duration": 10,
    "start_time": "2022-03-16T06:14:29.231Z"
   },
   {
    "duration": 8,
    "start_time": "2022-03-16T06:14:38.447Z"
   },
   {
    "duration": 88,
    "start_time": "2022-03-16T06:28:28.754Z"
   },
   {
    "duration": 5,
    "start_time": "2022-03-16T06:37:18.552Z"
   },
   {
    "duration": 2430,
    "start_time": "2022-03-16T06:37:46.784Z"
   },
   {
    "duration": 2743,
    "start_time": "2022-03-16T06:37:51.938Z"
   },
   {
    "duration": 6,
    "start_time": "2022-03-16T06:39:40.452Z"
   },
   {
    "duration": 11,
    "start_time": "2022-03-16T06:40:11.611Z"
   },
   {
    "duration": 187,
    "start_time": "2022-03-16T06:46:35.750Z"
   },
   {
    "duration": 13,
    "start_time": "2022-03-16T06:46:58.326Z"
   },
   {
    "duration": 12,
    "start_time": "2022-03-16T06:47:10.214Z"
   },
   {
    "duration": 10,
    "start_time": "2022-03-16T06:47:16.854Z"
   },
   {
    "duration": 208,
    "start_time": "2022-03-16T06:47:34.767Z"
   },
   {
    "duration": 181,
    "start_time": "2022-03-16T06:56:46.805Z"
   },
   {
    "duration": 16,
    "start_time": "2022-03-16T07:00:17.265Z"
   },
   {
    "duration": 188,
    "start_time": "2022-03-16T07:00:35.850Z"
   },
   {
    "duration": 214,
    "start_time": "2022-03-16T07:00:39.658Z"
   },
   {
    "duration": 16,
    "start_time": "2022-03-16T07:01:03.282Z"
   },
   {
    "duration": 8,
    "start_time": "2022-03-16T07:02:25.237Z"
   },
   {
    "duration": 9,
    "start_time": "2022-03-16T07:07:05.463Z"
   },
   {
    "duration": 15,
    "start_time": "2022-03-16T07:08:25.653Z"
   },
   {
    "duration": 198,
    "start_time": "2022-03-16T07:08:45.485Z"
   },
   {
    "duration": 202,
    "start_time": "2022-03-16T07:09:42.855Z"
   },
   {
    "duration": 1502,
    "start_time": "2022-03-16T07:10:21.791Z"
   },
   {
    "duration": 192,
    "start_time": "2022-03-16T07:10:38.754Z"
   },
   {
    "duration": 15,
    "start_time": "2022-03-16T07:10:58.969Z"
   },
   {
    "duration": 9,
    "start_time": "2022-03-16T07:11:13.441Z"
   },
   {
    "duration": 15,
    "start_time": "2022-03-16T07:15:39.785Z"
   },
   {
    "duration": 192,
    "start_time": "2022-03-16T07:15:52.273Z"
   },
   {
    "duration": 239,
    "start_time": "2022-03-16T07:18:06.692Z"
   },
   {
    "duration": 6,
    "start_time": "2022-03-16T07:20:07.255Z"
   },
   {
    "duration": 7,
    "start_time": "2022-03-16T07:20:10.938Z"
   },
   {
    "duration": 111,
    "start_time": "2022-03-16T07:20:30.576Z"
   },
   {
    "duration": 61,
    "start_time": "2022-03-16T07:20:31.143Z"
   },
   {
    "duration": 16,
    "start_time": "2022-03-16T07:20:31.367Z"
   },
   {
    "duration": 32,
    "start_time": "2022-03-16T07:20:31.591Z"
   },
   {
    "duration": 47,
    "start_time": "2022-03-16T07:20:31.904Z"
   },
   {
    "duration": 3,
    "start_time": "2022-03-16T07:20:33.487Z"
   },
   {
    "duration": 7,
    "start_time": "2022-03-16T07:20:34.127Z"
   },
   {
    "duration": 5,
    "start_time": "2022-03-16T07:20:34.335Z"
   },
   {
    "duration": 8,
    "start_time": "2022-03-16T07:20:34.584Z"
   },
   {
    "duration": 63,
    "start_time": "2022-03-16T07:20:35.504Z"
   },
   {
    "duration": 40,
    "start_time": "2022-03-16T07:20:36.048Z"
   },
   {
    "duration": 4,
    "start_time": "2022-03-16T07:20:37.472Z"
   },
   {
    "duration": 7,
    "start_time": "2022-03-16T07:20:39.304Z"
   },
   {
    "duration": 6,
    "start_time": "2022-03-16T07:20:42.919Z"
   },
   {
    "duration": 16,
    "start_time": "2022-03-16T07:20:56.008Z"
   },
   {
    "duration": 190,
    "start_time": "2022-03-16T07:22:06.714Z"
   },
   {
    "duration": 512,
    "start_time": "2022-03-16T07:22:58.523Z"
   },
   {
    "duration": 239,
    "start_time": "2022-03-16T07:43:32.354Z"
   },
   {
    "duration": 229,
    "start_time": "2022-03-16T07:43:45.579Z"
   },
   {
    "duration": 6,
    "start_time": "2022-03-16T07:48:16.689Z"
   },
   {
    "duration": 6,
    "start_time": "2022-03-16T07:48:23.318Z"
   },
   {
    "duration": 14,
    "start_time": "2022-03-16T07:48:27.322Z"
   },
   {
    "duration": 15,
    "start_time": "2022-03-16T08:04:58.610Z"
   },
   {
    "duration": 17,
    "start_time": "2022-03-16T08:06:44.692Z"
   },
   {
    "duration": 30,
    "start_time": "2022-03-16T08:14:00.470Z"
   },
   {
    "duration": 72,
    "start_time": "2022-03-16T08:28:27.988Z"
   },
   {
    "duration": 61,
    "start_time": "2022-03-16T08:29:30.134Z"
   },
   {
    "duration": 60,
    "start_time": "2022-03-16T08:32:21.594Z"
   },
   {
    "duration": 308,
    "start_time": "2022-03-16T08:32:57.891Z"
   },
   {
    "duration": 37,
    "start_time": "2022-03-16T08:33:11.531Z"
   },
   {
    "duration": 217,
    "start_time": "2022-03-16T08:34:07.021Z"
   },
   {
    "duration": 37,
    "start_time": "2022-03-16T08:34:12.637Z"
   },
   {
    "duration": 27,
    "start_time": "2022-03-16T08:34:17.758Z"
   },
   {
    "duration": 9,
    "start_time": "2022-03-16T08:39:09.404Z"
   },
   {
    "duration": 62,
    "start_time": "2022-03-16T08:48:46.322Z"
   },
   {
    "duration": 63,
    "start_time": "2022-03-16T08:49:07.674Z"
   },
   {
    "duration": 69,
    "start_time": "2022-03-16T08:50:17.577Z"
   },
   {
    "duration": 5,
    "start_time": "2022-03-16T08:50:39.453Z"
   },
   {
    "duration": 12,
    "start_time": "2022-03-16T08:52:07.719Z"
   },
   {
    "duration": 38,
    "start_time": "2022-03-16T08:52:15.159Z"
   },
   {
    "duration": 16,
    "start_time": "2022-03-16T08:53:21.882Z"
   },
   {
    "duration": 23,
    "start_time": "2022-03-16T08:53:35.305Z"
   },
   {
    "duration": 25,
    "start_time": "2022-03-16T08:53:41.050Z"
   },
   {
    "duration": 13,
    "start_time": "2022-03-16T08:53:54.121Z"
   },
   {
    "duration": 27,
    "start_time": "2022-03-16T08:54:01.250Z"
   },
   {
    "duration": 40,
    "start_time": "2022-03-16T08:54:09.697Z"
   },
   {
    "duration": 17,
    "start_time": "2022-03-16T08:54:26.202Z"
   },
   {
    "duration": 13,
    "start_time": "2022-03-16T08:54:36.123Z"
   },
   {
    "duration": 38,
    "start_time": "2022-03-16T08:54:38.843Z"
   },
   {
    "duration": 20,
    "start_time": "2022-03-16T08:55:15.444Z"
   },
   {
    "duration": 38,
    "start_time": "2022-03-16T08:55:47.477Z"
   },
   {
    "duration": 38,
    "start_time": "2022-03-16T08:56:29.654Z"
   },
   {
    "duration": 17,
    "start_time": "2022-03-16T08:57:51.441Z"
   },
   {
    "duration": 37,
    "start_time": "2022-03-16T08:58:39.041Z"
   },
   {
    "duration": 5,
    "start_time": "2022-03-16T08:59:42.219Z"
   },
   {
    "duration": 17,
    "start_time": "2022-03-16T08:59:43.810Z"
   },
   {
    "duration": 6,
    "start_time": "2022-03-16T08:59:55.906Z"
   },
   {
    "duration": 18,
    "start_time": "2022-03-16T08:59:57.426Z"
   },
   {
    "duration": 29,
    "start_time": "2022-03-16T09:00:05.444Z"
   },
   {
    "duration": 24,
    "start_time": "2022-03-16T09:00:13.060Z"
   },
   {
    "duration": 35,
    "start_time": "2022-03-16T09:00:21.675Z"
   },
   {
    "duration": 7,
    "start_time": "2022-03-16T09:08:16.295Z"
   },
   {
    "duration": 7,
    "start_time": "2022-03-16T09:08:43.696Z"
   },
   {
    "duration": 8,
    "start_time": "2022-03-16T09:09:15.889Z"
   },
   {
    "duration": 16,
    "start_time": "2022-03-16T09:11:16.755Z"
   },
   {
    "duration": 13,
    "start_time": "2022-03-16T09:17:27.693Z"
   },
   {
    "duration": 13,
    "start_time": "2022-03-16T09:21:36.827Z"
   },
   {
    "duration": 14,
    "start_time": "2022-03-16T09:30:52.465Z"
   },
   {
    "duration": 13,
    "start_time": "2022-03-16T09:40:24.735Z"
   },
   {
    "duration": 11,
    "start_time": "2022-03-16T09:41:14.208Z"
   },
   {
    "duration": 13,
    "start_time": "2022-03-16T09:41:30.680Z"
   },
   {
    "duration": 13,
    "start_time": "2022-03-16T09:41:33.057Z"
   },
   {
    "duration": 4,
    "start_time": "2022-03-16T09:47:37.553Z"
   },
   {
    "duration": 198,
    "start_time": "2022-03-16T09:47:39.569Z"
   },
   {
    "duration": 49,
    "start_time": "2022-03-16T09:48:06.898Z"
   },
   {
    "duration": 7,
    "start_time": "2022-03-16T09:48:14.538Z"
   },
   {
    "duration": 13,
    "start_time": "2022-03-16T09:48:17.961Z"
   },
   {
    "duration": 3,
    "start_time": "2022-03-16T09:48:19.345Z"
   },
   {
    "duration": 189,
    "start_time": "2022-03-16T09:48:20.137Z"
   },
   {
    "duration": 4620,
    "start_time": "2022-03-16T09:48:27.194Z"
   },
   {
    "duration": 24,
    "start_time": "2022-03-16T09:51:38.807Z"
   },
   {
    "duration": 283,
    "start_time": "2022-03-16T09:53:03.225Z"
   },
   {
    "duration": 27,
    "start_time": "2022-03-16T09:53:23.401Z"
   },
   {
    "duration": 14,
    "start_time": "2022-03-16T09:54:02.146Z"
   },
   {
    "duration": 3,
    "start_time": "2022-03-16T09:54:02.498Z"
   },
   {
    "duration": 26,
    "start_time": "2022-03-16T09:54:03.043Z"
   },
   {
    "duration": 29,
    "start_time": "2022-03-16T09:55:04.924Z"
   },
   {
    "duration": 28,
    "start_time": "2022-03-16T09:55:47.509Z"
   },
   {
    "duration": 26,
    "start_time": "2022-03-16T09:59:24.042Z"
   },
   {
    "duration": 12,
    "start_time": "2022-03-16T09:59:35.340Z"
   },
   {
    "duration": 29,
    "start_time": "2022-03-16T10:02:50.928Z"
   },
   {
    "duration": 30,
    "start_time": "2022-03-16T10:03:36.720Z"
   },
   {
    "duration": 38,
    "start_time": "2022-03-16T10:09:07.401Z"
   },
   {
    "duration": 35,
    "start_time": "2022-03-16T10:09:41.467Z"
   },
   {
    "duration": 28,
    "start_time": "2022-03-16T10:09:52.443Z"
   },
   {
    "duration": 22,
    "start_time": "2022-03-16T10:10:35.179Z"
   },
   {
    "duration": 8,
    "start_time": "2022-03-16T10:12:51.814Z"
   },
   {
    "duration": 16,
    "start_time": "2022-03-16T10:12:54.470Z"
   },
   {
    "duration": 27,
    "start_time": "2022-03-16T10:12:56.750Z"
   },
   {
    "duration": 14,
    "start_time": "2022-03-16T10:14:27.392Z"
   },
   {
    "duration": 28,
    "start_time": "2022-03-16T10:14:27.984Z"
   },
   {
    "duration": 20,
    "start_time": "2022-03-16T10:14:28.546Z"
   },
   {
    "duration": 9,
    "start_time": "2022-03-16T10:15:35.458Z"
   },
   {
    "duration": 8,
    "start_time": "2022-03-16T10:17:22.325Z"
   },
   {
    "duration": 98,
    "start_time": "2022-03-16T10:17:31.629Z"
   },
   {
    "duration": 60,
    "start_time": "2022-03-16T10:17:32.061Z"
   },
   {
    "duration": 15,
    "start_time": "2022-03-16T10:17:32.197Z"
   },
   {
    "duration": 36,
    "start_time": "2022-03-16T10:17:32.349Z"
   },
   {
    "duration": 46,
    "start_time": "2022-03-16T10:17:32.494Z"
   },
   {
    "duration": 3,
    "start_time": "2022-03-16T10:17:32.972Z"
   },
   {
    "duration": 8,
    "start_time": "2022-03-16T10:17:33.300Z"
   },
   {
    "duration": 5,
    "start_time": "2022-03-16T10:17:34.053Z"
   },
   {
    "duration": 7,
    "start_time": "2022-03-16T10:17:34.276Z"
   },
   {
    "duration": 60,
    "start_time": "2022-03-16T10:17:35.092Z"
   },
   {
    "duration": 42,
    "start_time": "2022-03-16T10:17:35.636Z"
   },
   {
    "duration": 3,
    "start_time": "2022-03-16T10:17:36.204Z"
   },
   {
    "duration": 15,
    "start_time": "2022-03-16T10:17:36.597Z"
   },
   {
    "duration": 17,
    "start_time": "2022-03-16T10:17:36.757Z"
   },
   {
    "duration": 30,
    "start_time": "2022-03-16T10:17:43.309Z"
   },
   {
    "duration": 28,
    "start_time": "2022-03-16T10:17:43.821Z"
   },
   {
    "duration": 8,
    "start_time": "2022-03-16T10:17:44.460Z"
   },
   {
    "duration": 6,
    "start_time": "2022-03-16T10:17:46.316Z"
   },
   {
    "duration": 35,
    "start_time": "2022-03-16T10:17:46.509Z"
   },
   {
    "duration": 8,
    "start_time": "2022-03-16T10:17:49.087Z"
   },
   {
    "duration": 15,
    "start_time": "2022-03-16T10:17:49.250Z"
   },
   {
    "duration": 31,
    "start_time": "2022-03-16T10:17:53.694Z"
   },
   {
    "duration": 24,
    "start_time": "2022-03-16T10:17:54.893Z"
   },
   {
    "duration": 3,
    "start_time": "2022-03-16T10:17:55.941Z"
   },
   {
    "duration": 9,
    "start_time": "2022-03-16T10:17:57.197Z"
   },
   {
    "duration": 10,
    "start_time": "2022-03-16T10:18:43.599Z"
   },
   {
    "duration": 69,
    "start_time": "2022-03-16T10:19:52.896Z"
   },
   {
    "duration": 99,
    "start_time": "2022-03-16T10:20:12.761Z"
   },
   {
    "duration": 68,
    "start_time": "2022-03-16T10:20:22.233Z"
   },
   {
    "duration": 62,
    "start_time": "2022-03-16T10:21:56.228Z"
   },
   {
    "duration": 108,
    "start_time": "2022-03-16T10:22:31.172Z"
   },
   {
    "duration": 12,
    "start_time": "2022-03-16T10:23:42.935Z"
   },
   {
    "duration": 110,
    "start_time": "2022-03-16T10:28:53.662Z"
   },
   {
    "duration": 39,
    "start_time": "2022-03-16T10:29:32.543Z"
   },
   {
    "duration": 226,
    "start_time": "2022-03-16T10:36:38.385Z"
   },
   {
    "duration": 20,
    "start_time": "2022-03-16T10:36:48.337Z"
   },
   {
    "duration": 3,
    "start_time": "2022-03-16T10:43:23.556Z"
   },
   {
    "duration": 14,
    "start_time": "2022-03-16T10:44:54.853Z"
   },
   {
    "duration": 18,
    "start_time": "2022-03-16T10:44:55.597Z"
   },
   {
    "duration": 201,
    "start_time": "2022-03-16T10:44:57.797Z"
   },
   {
    "duration": 21,
    "start_time": "2022-03-16T10:46:09.952Z"
   },
   {
    "duration": 180,
    "start_time": "2022-03-16T10:52:55.825Z"
   },
   {
    "duration": 237,
    "start_time": "2022-03-16T10:53:55.538Z"
   },
   {
    "duration": 40,
    "start_time": "2022-03-16T10:56:32.022Z"
   },
   {
    "duration": 45,
    "start_time": "2022-03-16T10:57:01.784Z"
   },
   {
    "duration": 40,
    "start_time": "2022-03-16T10:57:24.977Z"
   },
   {
    "duration": 229,
    "start_time": "2022-03-16T10:59:55.675Z"
   },
   {
    "duration": 42,
    "start_time": "2022-03-16T11:00:20.300Z"
   },
   {
    "duration": 40,
    "start_time": "2022-03-16T11:00:31.628Z"
   },
   {
    "duration": 48,
    "start_time": "2022-03-16T11:00:40.749Z"
   },
   {
    "duration": 57,
    "start_time": "2022-03-16T11:03:07.072Z"
   },
   {
    "duration": 21,
    "start_time": "2022-03-16T11:03:17.831Z"
   },
   {
    "duration": 64,
    "start_time": "2022-03-16T11:03:19.823Z"
   },
   {
    "duration": 66,
    "start_time": "2022-03-16T11:03:26.320Z"
   },
   {
    "duration": 99,
    "start_time": "2022-03-16T11:03:29.424Z"
   },
   {
    "duration": 27,
    "start_time": "2022-03-16T11:03:42.296Z"
   },
   {
    "duration": 215,
    "start_time": "2022-03-16T11:03:56.200Z"
   },
   {
    "duration": 29,
    "start_time": "2022-03-16T11:04:33.995Z"
   },
   {
    "duration": 4681,
    "start_time": "2022-03-16T11:05:37.930Z"
   },
   {
    "duration": 4605,
    "start_time": "2022-03-16T11:05:47.964Z"
   },
   {
    "duration": 15,
    "start_time": "2022-03-16T11:06:10.172Z"
   },
   {
    "duration": 178,
    "start_time": "2022-03-16T11:06:35.150Z"
   },
   {
    "duration": 194,
    "start_time": "2022-03-16T11:06:50.549Z"
   },
   {
    "duration": 13,
    "start_time": "2022-03-16T11:07:15.638Z"
   },
   {
    "duration": 4751,
    "start_time": "2022-03-16T11:12:58.758Z"
   },
   {
    "duration": 1955,
    "start_time": "2022-03-16T11:13:01.557Z"
   },
   {
    "duration": 13,
    "start_time": "2022-03-16T11:13:19.159Z"
   },
   {
    "duration": 38,
    "start_time": "2022-03-16T11:13:32.472Z"
   },
   {
    "duration": 4474,
    "start_time": "2022-03-16T11:16:25.124Z"
   },
   {
    "duration": 1973,
    "start_time": "2022-03-16T11:16:27.628Z"
   },
   {
    "duration": 204,
    "start_time": "2022-03-16T11:18:55.760Z"
   },
   {
    "duration": 48,
    "start_time": "2022-03-16T11:19:27.256Z"
   },
   {
    "duration": 14,
    "start_time": "2022-03-16T11:19:28.535Z"
   },
   {
    "duration": 48,
    "start_time": "2022-03-16T11:19:43.744Z"
   },
   {
    "duration": 14,
    "start_time": "2022-03-16T11:19:46.040Z"
   },
   {
    "duration": 12,
    "start_time": "2022-03-16T11:21:45.363Z"
   },
   {
    "duration": 62,
    "start_time": "2022-03-16T11:24:44.160Z"
   },
   {
    "duration": 26,
    "start_time": "2022-03-16T11:27:56.916Z"
   },
   {
    "duration": 26,
    "start_time": "2022-03-16T11:28:44.709Z"
   },
   {
    "duration": 217,
    "start_time": "2022-03-16T11:29:06.061Z"
   },
   {
    "duration": 26,
    "start_time": "2022-03-16T11:30:01.471Z"
   },
   {
    "duration": 28,
    "start_time": "2022-03-16T11:30:08.567Z"
   },
   {
    "duration": 29,
    "start_time": "2022-03-16T11:31:42.130Z"
   },
   {
    "duration": 19,
    "start_time": "2022-03-16T11:32:45.740Z"
   },
   {
    "duration": 170,
    "start_time": "2022-03-16T11:33:34.317Z"
   },
   {
    "duration": 29,
    "start_time": "2022-03-16T11:33:56.942Z"
   },
   {
    "duration": 19,
    "start_time": "2022-03-16T11:34:19.670Z"
   },
   {
    "duration": 45,
    "start_time": "2022-03-16T11:34:40.166Z"
   },
   {
    "duration": 89,
    "start_time": "2022-03-16T11:35:25.184Z"
   },
   {
    "duration": 60,
    "start_time": "2022-03-16T11:35:25.662Z"
   },
   {
    "duration": 13,
    "start_time": "2022-03-16T11:35:25.804Z"
   },
   {
    "duration": 31,
    "start_time": "2022-03-16T11:35:25.942Z"
   },
   {
    "duration": 46,
    "start_time": "2022-03-16T11:35:26.079Z"
   },
   {
    "duration": 4,
    "start_time": "2022-03-16T11:35:26.589Z"
   },
   {
    "duration": 7,
    "start_time": "2022-03-16T11:35:26.894Z"
   },
   {
    "duration": 5,
    "start_time": "2022-03-16T11:35:27.061Z"
   },
   {
    "duration": 7,
    "start_time": "2022-03-16T11:35:27.222Z"
   },
   {
    "duration": 59,
    "start_time": "2022-03-16T11:35:27.551Z"
   },
   {
    "duration": 38,
    "start_time": "2022-03-16T11:35:27.726Z"
   },
   {
    "duration": 3,
    "start_time": "2022-03-16T11:35:27.886Z"
   },
   {
    "duration": 14,
    "start_time": "2022-03-16T11:35:28.238Z"
   },
   {
    "duration": 14,
    "start_time": "2022-03-16T11:35:28.406Z"
   },
   {
    "duration": 28,
    "start_time": "2022-03-16T11:35:28.575Z"
   },
   {
    "duration": 28,
    "start_time": "2022-03-16T11:35:28.919Z"
   },
   {
    "duration": 7,
    "start_time": "2022-03-16T11:35:29.286Z"
   },
   {
    "duration": 5,
    "start_time": "2022-03-16T11:35:29.462Z"
   },
   {
    "duration": 34,
    "start_time": "2022-03-16T11:35:29.631Z"
   },
   {
    "duration": 8,
    "start_time": "2022-03-16T11:35:30.319Z"
   },
   {
    "duration": 17,
    "start_time": "2022-03-16T11:35:30.486Z"
   },
   {
    "duration": 20,
    "start_time": "2022-03-16T11:35:30.654Z"
   },
   {
    "duration": 195,
    "start_time": "2022-03-16T11:35:31.167Z"
   },
   {
    "duration": 1997,
    "start_time": "2022-03-16T11:35:29.368Z"
   },
   {
    "duration": 38,
    "start_time": "2022-03-16T11:35:31.695Z"
   },
   {
    "duration": 1009,
    "start_time": "2022-03-16T11:36:10.385Z"
   },
   {
    "duration": 1246,
    "start_time": "2022-03-16T11:36:16.640Z"
   },
   {
    "duration": 6,
    "start_time": "2022-03-16T11:36:39.097Z"
   },
   {
    "duration": 209,
    "start_time": "2022-03-16T11:40:03.462Z"
   },
   {
    "duration": 90,
    "start_time": "2022-03-16T11:40:29.487Z"
   },
   {
    "duration": 61,
    "start_time": "2022-03-16T11:40:30.063Z"
   },
   {
    "duration": 16,
    "start_time": "2022-03-16T11:40:30.270Z"
   },
   {
    "duration": 34,
    "start_time": "2022-03-16T11:40:30.454Z"
   },
   {
    "duration": 47,
    "start_time": "2022-03-16T11:40:30.655Z"
   },
   {
    "duration": 3,
    "start_time": "2022-03-16T11:40:31.262Z"
   },
   {
    "duration": 7,
    "start_time": "2022-03-16T11:40:31.677Z"
   },
   {
    "duration": 4,
    "start_time": "2022-03-16T11:40:31.878Z"
   },
   {
    "duration": 9,
    "start_time": "2022-03-16T11:40:32.398Z"
   },
   {
    "duration": 58,
    "start_time": "2022-03-16T11:40:36.046Z"
   },
   {
    "duration": 42,
    "start_time": "2022-03-16T11:40:36.886Z"
   },
   {
    "duration": 3,
    "start_time": "2022-03-16T11:40:38.013Z"
   },
   {
    "duration": 16,
    "start_time": "2022-03-16T11:40:39.702Z"
   },
   {
    "duration": 16,
    "start_time": "2022-03-16T11:40:41.326Z"
   },
   {
    "duration": 29,
    "start_time": "2022-03-16T11:40:50.983Z"
   },
   {
    "duration": 29,
    "start_time": "2022-03-16T11:40:51.998Z"
   },
   {
    "duration": 7,
    "start_time": "2022-03-16T11:40:53.573Z"
   },
   {
    "duration": 5,
    "start_time": "2022-03-16T11:40:54.197Z"
   },
   {
    "duration": 35,
    "start_time": "2022-03-16T11:40:55.863Z"
   },
   {
    "duration": 8,
    "start_time": "2022-03-16T11:40:57.518Z"
   },
   {
    "duration": 16,
    "start_time": "2022-03-16T11:40:58.031Z"
   },
   {
    "duration": 19,
    "start_time": "2022-03-16T11:40:58.751Z"
   },
   {
    "duration": 253,
    "start_time": "2022-03-16T11:41:00.718Z"
   },
   {
    "duration": 186,
    "start_time": "2022-03-16T11:41:29.297Z"
   },
   {
    "duration": 44,
    "start_time": "2022-03-16T11:42:07.657Z"
   },
   {
    "duration": 286,
    "start_time": "2022-03-16T11:42:21.409Z"
   },
   {
    "duration": 63,
    "start_time": "2022-03-16T11:42:27.209Z"
   },
   {
    "duration": 239,
    "start_time": "2022-03-16T11:43:00.011Z"
   },
   {
    "duration": 48,
    "start_time": "2022-03-16T11:43:18.236Z"
   },
   {
    "duration": 12,
    "start_time": "2022-03-16T11:43:26.578Z"
   },
   {
    "duration": 7,
    "start_time": "2022-03-16T11:43:28.522Z"
   },
   {
    "duration": 2033,
    "start_time": "2022-03-16T11:43:47.402Z"
   },
   {
    "duration": 4878,
    "start_time": "2022-03-16T11:43:52.690Z"
   },
   {
    "duration": 4914,
    "start_time": "2022-03-16T11:43:58.067Z"
   },
   {
    "duration": 5004,
    "start_time": "2022-03-16T11:45:56.999Z"
   },
   {
    "duration": 273,
    "start_time": "2022-03-16T11:47:22.096Z"
   },
   {
    "duration": 19,
    "start_time": "2022-03-16T11:47:24.967Z"
   },
   {
    "duration": 49,
    "start_time": "2022-03-16T11:47:27.632Z"
   },
   {
    "duration": 8,
    "start_time": "2022-03-16T11:47:29.984Z"
   },
   {
    "duration": 4630,
    "start_time": "2022-03-16T11:47:38.091Z"
   },
   {
    "duration": 5038,
    "start_time": "2022-03-16T11:48:00.587Z"
   },
   {
    "duration": 101,
    "start_time": "2022-03-16T11:50:32.525Z"
   },
   {
    "duration": 61,
    "start_time": "2022-03-16T11:50:33.886Z"
   },
   {
    "duration": 16,
    "start_time": "2022-03-16T11:50:34.364Z"
   },
   {
    "duration": 38,
    "start_time": "2022-03-16T11:50:34.845Z"
   },
   {
    "duration": 51,
    "start_time": "2022-03-16T11:50:35.309Z"
   },
   {
    "duration": 3,
    "start_time": "2022-03-16T11:50:36.668Z"
   },
   {
    "duration": 6,
    "start_time": "2022-03-16T11:50:37.628Z"
   },
   {
    "duration": 5,
    "start_time": "2022-03-16T11:50:38.116Z"
   },
   {
    "duration": 7,
    "start_time": "2022-03-16T11:50:38.572Z"
   },
   {
    "duration": 57,
    "start_time": "2022-03-16T11:50:39.469Z"
   },
   {
    "duration": 43,
    "start_time": "2022-03-16T11:50:39.964Z"
   },
   {
    "duration": 4,
    "start_time": "2022-03-16T11:50:40.444Z"
   },
   {
    "duration": 19,
    "start_time": "2022-03-16T11:50:41.364Z"
   },
   {
    "duration": 17,
    "start_time": "2022-03-16T11:50:41.844Z"
   },
   {
    "duration": 30,
    "start_time": "2022-03-16T11:50:42.317Z"
   },
   {
    "duration": 28,
    "start_time": "2022-03-16T11:50:43.277Z"
   },
   {
    "duration": 7,
    "start_time": "2022-03-16T11:50:44.269Z"
   },
   {
    "duration": 5,
    "start_time": "2022-03-16T11:50:44.757Z"
   },
   {
    "duration": 34,
    "start_time": "2022-03-16T11:50:45.222Z"
   },
   {
    "duration": 8,
    "start_time": "2022-03-16T11:50:47.109Z"
   },
   {
    "duration": 15,
    "start_time": "2022-03-16T11:50:47.988Z"
   },
   {
    "duration": 19,
    "start_time": "2022-03-16T11:50:48.477Z"
   },
   {
    "duration": 45,
    "start_time": "2022-03-16T11:50:50.028Z"
   },
   {
    "duration": 8,
    "start_time": "2022-03-16T11:50:51.645Z"
   },
   {
    "duration": 4781,
    "start_time": "2022-03-16T11:50:54.605Z"
   },
   {
    "duration": 4824,
    "start_time": "2022-03-16T11:51:30.407Z"
   },
   {
    "duration": 5467,
    "start_time": "2022-03-16T11:51:49.519Z"
   },
   {
    "duration": 180,
    "start_time": "2022-03-16T11:53:25.241Z"
   },
   {
    "duration": 188,
    "start_time": "2022-03-16T11:53:49.665Z"
   },
   {
    "duration": 32,
    "start_time": "2022-03-16T11:54:06.507Z"
   },
   {
    "duration": 32,
    "start_time": "2022-03-16T11:54:32.691Z"
   },
   {
    "duration": 96,
    "start_time": "2022-03-16T11:54:49.163Z"
   },
   {
    "duration": 59,
    "start_time": "2022-03-16T11:54:49.587Z"
   },
   {
    "duration": 15,
    "start_time": "2022-03-16T11:54:49.702Z"
   },
   {
    "duration": 36,
    "start_time": "2022-03-16T11:54:49.827Z"
   },
   {
    "duration": 47,
    "start_time": "2022-03-16T11:54:49.970Z"
   },
   {
    "duration": 4,
    "start_time": "2022-03-16T11:54:50.384Z"
   },
   {
    "duration": 7,
    "start_time": "2022-03-16T11:54:50.634Z"
   },
   {
    "duration": 5,
    "start_time": "2022-03-16T11:54:50.762Z"
   },
   {
    "duration": 7,
    "start_time": "2022-03-16T11:54:50.883Z"
   },
   {
    "duration": 57,
    "start_time": "2022-03-16T11:54:51.147Z"
   },
   {
    "duration": 40,
    "start_time": "2022-03-16T11:54:51.289Z"
   },
   {
    "duration": 3,
    "start_time": "2022-03-16T11:54:51.426Z"
   },
   {
    "duration": 16,
    "start_time": "2022-03-16T11:54:51.698Z"
   },
   {
    "duration": 18,
    "start_time": "2022-03-16T11:54:51.842Z"
   },
   {
    "duration": 29,
    "start_time": "2022-03-16T11:54:51.987Z"
   },
   {
    "duration": 30,
    "start_time": "2022-03-16T11:54:52.306Z"
   },
   {
    "duration": 9,
    "start_time": "2022-03-16T11:54:52.642Z"
   },
   {
    "duration": 5,
    "start_time": "2022-03-16T11:54:52.826Z"
   },
   {
    "duration": 34,
    "start_time": "2022-03-16T11:54:53.018Z"
   },
   {
    "duration": 8,
    "start_time": "2022-03-16T11:54:53.690Z"
   },
   {
    "duration": 15,
    "start_time": "2022-03-16T11:54:53.867Z"
   },
   {
    "duration": 21,
    "start_time": "2022-03-16T11:54:54.043Z"
   },
   {
    "duration": 42,
    "start_time": "2022-03-16T11:54:54.914Z"
   },
   {
    "duration": 8,
    "start_time": "2022-03-16T11:54:55.138Z"
   },
   {
    "duration": 36,
    "start_time": "2022-03-16T11:54:56.995Z"
   },
   {
    "duration": 5194,
    "start_time": "2022-03-16T11:54:57.227Z"
   },
   {
    "duration": 31,
    "start_time": "2022-03-16T11:55:04.868Z"
   },
   {
    "duration": 31,
    "start_time": "2022-03-16T11:57:25.943Z"
   },
   {
    "duration": 42,
    "start_time": "2022-03-16T11:57:32.889Z"
   },
   {
    "duration": 37,
    "start_time": "2022-03-16T11:58:23.384Z"
   },
   {
    "duration": 7,
    "start_time": "2022-03-16T11:58:46.624Z"
   },
   {
    "duration": 189,
    "start_time": "2022-03-16T11:58:54.592Z"
   },
   {
    "duration": 181,
    "start_time": "2022-03-16T11:58:57.296Z"
   },
   {
    "duration": 95,
    "start_time": "2022-03-16T11:59:00.681Z"
   },
   {
    "duration": 66,
    "start_time": "2022-03-16T11:59:01.186Z"
   },
   {
    "duration": 18,
    "start_time": "2022-03-16T11:59:01.369Z"
   },
   {
    "duration": 48,
    "start_time": "2022-03-16T11:59:01.545Z"
   },
   {
    "duration": 45,
    "start_time": "2022-03-16T11:59:01.729Z"
   },
   {
    "duration": 8,
    "start_time": "2022-03-16T11:59:02.321Z"
   },
   {
    "duration": 7,
    "start_time": "2022-03-16T11:59:02.712Z"
   },
   {
    "duration": 5,
    "start_time": "2022-03-16T11:59:02.904Z"
   },
   {
    "duration": 7,
    "start_time": "2022-03-16T11:59:03.120Z"
   },
   {
    "duration": 59,
    "start_time": "2022-03-16T11:59:03.529Z"
   },
   {
    "duration": 40,
    "start_time": "2022-03-16T11:59:03.721Z"
   },
   {
    "duration": 3,
    "start_time": "2022-03-16T11:59:03.937Z"
   },
   {
    "duration": 16,
    "start_time": "2022-03-16T11:59:04.353Z"
   },
   {
    "duration": 15,
    "start_time": "2022-03-16T11:59:04.576Z"
   },
   {
    "duration": 31,
    "start_time": "2022-03-16T11:59:04.817Z"
   },
   {
    "duration": 35,
    "start_time": "2022-03-16T11:59:05.305Z"
   },
   {
    "duration": 8,
    "start_time": "2022-03-16T11:59:06.064Z"
   },
   {
    "duration": 5,
    "start_time": "2022-03-16T11:59:06.425Z"
   },
   {
    "duration": 36,
    "start_time": "2022-03-16T11:59:06.681Z"
   },
   {
    "duration": 10,
    "start_time": "2022-03-16T11:59:08.136Z"
   },
   {
    "duration": 18,
    "start_time": "2022-03-16T11:59:08.800Z"
   },
   {
    "duration": 20,
    "start_time": "2022-03-16T11:59:09.352Z"
   },
   {
    "duration": 45,
    "start_time": "2022-03-16T11:59:11.345Z"
   },
   {
    "duration": 8,
    "start_time": "2022-03-16T11:59:11.857Z"
   },
   {
    "duration": 28,
    "start_time": "2022-03-16T11:59:12.648Z"
   },
   {
    "duration": 30,
    "start_time": "2022-03-16T12:01:57.741Z"
   },
   {
    "duration": 28,
    "start_time": "2022-03-16T12:02:31.320Z"
   },
   {
    "duration": 9,
    "start_time": "2022-03-16T12:03:06.503Z"
   },
   {
    "duration": 210,
    "start_time": "2022-03-16T12:03:12.552Z"
   },
   {
    "duration": 9,
    "start_time": "2022-03-16T12:03:17.432Z"
   },
   {
    "duration": 31,
    "start_time": "2022-03-16T12:04:02.881Z"
   },
   {
    "duration": 24,
    "start_time": "2022-03-16T12:08:49.328Z"
   },
   {
    "duration": 35,
    "start_time": "2022-03-16T12:09:07.488Z"
   },
   {
    "duration": 30,
    "start_time": "2022-03-16T12:09:55.578Z"
   },
   {
    "duration": 27,
    "start_time": "2022-03-16T12:11:31.443Z"
   },
   {
    "duration": 184,
    "start_time": "2022-03-16T12:13:43.902Z"
   },
   {
    "duration": 503,
    "start_time": "2022-03-16T12:13:59.215Z"
   },
   {
    "duration": 20,
    "start_time": "2022-03-16T12:14:28.657Z"
   },
   {
    "duration": 21,
    "start_time": "2022-03-16T12:16:13.362Z"
   },
   {
    "duration": 15,
    "start_time": "2022-03-16T12:17:04.404Z"
   },
   {
    "duration": 19,
    "start_time": "2022-03-16T12:17:29.035Z"
   },
   {
    "duration": 32,
    "start_time": "2022-03-16T12:18:30.598Z"
   },
   {
    "duration": 19,
    "start_time": "2022-03-16T12:18:49.774Z"
   },
   {
    "duration": 18,
    "start_time": "2022-03-16T12:19:00.102Z"
   },
   {
    "duration": 92,
    "start_time": "2022-03-16T12:19:59.422Z"
   },
   {
    "duration": 63,
    "start_time": "2022-03-16T12:19:59.998Z"
   },
   {
    "duration": 15,
    "start_time": "2022-03-16T12:20:00.177Z"
   },
   {
    "duration": 34,
    "start_time": "2022-03-16T12:20:00.353Z"
   },
   {
    "duration": 45,
    "start_time": "2022-03-16T12:20:00.532Z"
   },
   {
    "duration": 3,
    "start_time": "2022-03-16T12:20:01.084Z"
   },
   {
    "duration": 7,
    "start_time": "2022-03-16T12:20:01.476Z"
   },
   {
    "duration": 6,
    "start_time": "2022-03-16T12:20:01.670Z"
   },
   {
    "duration": 8,
    "start_time": "2022-03-16T12:20:01.863Z"
   },
   {
    "duration": 59,
    "start_time": "2022-03-16T12:20:02.267Z"
   },
   {
    "duration": 42,
    "start_time": "2022-03-16T12:20:02.484Z"
   },
   {
    "duration": 3,
    "start_time": "2022-03-16T12:20:02.689Z"
   },
   {
    "duration": 17,
    "start_time": "2022-03-16T12:20:03.087Z"
   },
   {
    "duration": 16,
    "start_time": "2022-03-16T12:20:03.287Z"
   },
   {
    "duration": 29,
    "start_time": "2022-03-16T12:20:03.487Z"
   },
   {
    "duration": 31,
    "start_time": "2022-03-16T12:20:03.882Z"
   },
   {
    "duration": 9,
    "start_time": "2022-03-16T12:20:04.307Z"
   },
   {
    "duration": 4,
    "start_time": "2022-03-16T12:20:04.516Z"
   },
   {
    "duration": 36,
    "start_time": "2022-03-16T12:20:04.719Z"
   },
   {
    "duration": 8,
    "start_time": "2022-03-16T12:20:05.585Z"
   },
   {
    "duration": 17,
    "start_time": "2022-03-16T12:20:05.802Z"
   },
   {
    "duration": 20,
    "start_time": "2022-03-16T12:20:05.999Z"
   },
   {
    "duration": 41,
    "start_time": "2022-03-16T12:20:06.639Z"
   },
   {
    "duration": 12,
    "start_time": "2022-03-16T12:20:06.852Z"
   },
   {
    "duration": 29,
    "start_time": "2022-03-16T12:20:07.278Z"
   },
   {
    "duration": 18,
    "start_time": "2022-03-16T12:20:07.710Z"
   },
   {
    "duration": 39,
    "start_time": "2022-03-16T12:20:27.297Z"
   },
   {
    "duration": 4,
    "start_time": "2022-03-16T12:24:44.511Z"
   },
   {
    "duration": 36,
    "start_time": "2022-03-16T12:24:46.095Z"
   },
   {
    "duration": 4,
    "start_time": "2022-03-16T12:25:28.104Z"
   },
   {
    "duration": 38,
    "start_time": "2022-03-16T12:25:28.591Z"
   },
   {
    "duration": 8,
    "start_time": "2022-03-16T12:25:39.336Z"
   },
   {
    "duration": 14,
    "start_time": "2022-03-16T12:25:39.480Z"
   },
   {
    "duration": 19,
    "start_time": "2022-03-16T12:25:39.616Z"
   },
   {
    "duration": 229,
    "start_time": "2022-03-16T12:25:40.039Z"
   },
   {
    "duration": 2107,
    "start_time": "2022-03-16T12:25:38.163Z"
   },
   {
    "duration": 31,
    "start_time": "2022-03-16T12:25:40.487Z"
   },
   {
    "duration": 15,
    "start_time": "2022-03-16T12:25:40.792Z"
   },
   {
    "duration": 19,
    "start_time": "2022-03-16T12:25:48.824Z"
   },
   {
    "duration": 91,
    "start_time": "2022-03-16T12:26:36.238Z"
   },
   {
    "duration": 77,
    "start_time": "2022-03-16T12:26:36.332Z"
   },
   {
    "duration": 14,
    "start_time": "2022-03-16T12:26:36.412Z"
   },
   {
    "duration": 64,
    "start_time": "2022-03-16T12:26:36.429Z"
   },
   {
    "duration": 45,
    "start_time": "2022-03-16T12:26:36.495Z"
   },
   {
    "duration": 3,
    "start_time": "2022-03-16T12:26:36.543Z"
   },
   {
    "duration": 36,
    "start_time": "2022-03-16T12:26:36.548Z"
   },
   {
    "duration": 5,
    "start_time": "2022-03-16T12:26:36.588Z"
   },
   {
    "duration": 16,
    "start_time": "2022-03-16T12:26:36.596Z"
   },
   {
    "duration": 80,
    "start_time": "2022-03-16T12:26:36.614Z"
   },
   {
    "duration": 41,
    "start_time": "2022-03-16T12:26:36.696Z"
   },
   {
    "duration": 3,
    "start_time": "2022-03-16T12:26:36.740Z"
   },
   {
    "duration": 49,
    "start_time": "2022-03-16T12:26:36.745Z"
   },
   {
    "duration": 14,
    "start_time": "2022-03-16T12:26:36.797Z"
   },
   {
    "duration": 31,
    "start_time": "2022-03-16T12:26:36.813Z"
   },
   {
    "duration": 64,
    "start_time": "2022-03-16T12:26:36.847Z"
   },
   {
    "duration": 8,
    "start_time": "2022-03-16T12:26:36.913Z"
   },
   {
    "duration": 5,
    "start_time": "2022-03-16T12:26:36.923Z"
   },
   {
    "duration": 64,
    "start_time": "2022-03-16T12:26:36.930Z"
   },
   {
    "duration": 8,
    "start_time": "2022-03-16T12:26:36.997Z"
   },
   {
    "duration": 19,
    "start_time": "2022-03-16T12:26:37.008Z"
   },
   {
    "duration": 55,
    "start_time": "2022-03-16T12:26:37.029Z"
   },
   {
    "duration": 40,
    "start_time": "2022-03-16T12:26:37.088Z"
   },
   {
    "duration": 11,
    "start_time": "2022-03-16T12:26:37.130Z"
   },
   {
    "duration": 57,
    "start_time": "2022-03-16T12:26:37.144Z"
   },
   {
    "duration": 20,
    "start_time": "2022-03-16T12:26:37.204Z"
   },
   {
    "duration": 132,
    "start_time": "2022-03-16T12:36:38.673Z"
   },
   {
    "duration": 445,
    "start_time": "2022-03-27T07:17:23.819Z"
   },
   {
    "duration": 36,
    "start_time": "2022-03-27T07:17:24.266Z"
   },
   {
    "duration": 12,
    "start_time": "2022-03-27T07:17:24.303Z"
   },
   {
    "duration": 37,
    "start_time": "2022-03-27T07:17:24.317Z"
   },
   {
    "duration": 44,
    "start_time": "2022-03-27T07:17:24.356Z"
   },
   {
    "duration": 2,
    "start_time": "2022-03-27T07:17:24.401Z"
   },
   {
    "duration": 37,
    "start_time": "2022-03-27T07:17:24.404Z"
   },
   {
    "duration": 13,
    "start_time": "2022-03-27T07:17:24.442Z"
   },
   {
    "duration": 26,
    "start_time": "2022-03-27T07:17:24.456Z"
   },
   {
    "duration": 63,
    "start_time": "2022-03-27T07:17:24.484Z"
   },
   {
    "duration": 30,
    "start_time": "2022-03-27T07:17:24.549Z"
   },
   {
    "duration": 3,
    "start_time": "2022-03-27T07:17:24.580Z"
   },
   {
    "duration": 28,
    "start_time": "2022-03-27T07:17:24.584Z"
   },
   {
    "duration": 37,
    "start_time": "2022-03-27T07:17:24.614Z"
   },
   {
    "duration": 29,
    "start_time": "2022-03-27T07:17:24.652Z"
   },
   {
    "duration": 47,
    "start_time": "2022-03-27T07:17:24.683Z"
   },
   {
    "duration": 17,
    "start_time": "2022-03-27T07:17:24.732Z"
   },
   {
    "duration": 24,
    "start_time": "2022-03-27T07:17:24.750Z"
   },
   {
    "duration": 45,
    "start_time": "2022-03-27T07:17:24.776Z"
   },
   {
    "duration": 6,
    "start_time": "2022-03-27T07:17:24.823Z"
   },
   {
    "duration": 22,
    "start_time": "2022-03-27T07:17:24.831Z"
   },
   {
    "duration": 36,
    "start_time": "2022-03-27T07:17:24.855Z"
   },
   {
    "duration": 55,
    "start_time": "2022-03-27T07:17:24.893Z"
   },
   {
    "duration": 7,
    "start_time": "2022-03-27T07:17:24.950Z"
   },
   {
    "duration": 22,
    "start_time": "2022-03-27T07:17:24.959Z"
   },
   {
    "duration": 27,
    "start_time": "2022-03-27T07:17:24.983Z"
   },
   {
    "duration": 5,
    "start_time": "2022-03-27T07:25:28.112Z"
   },
   {
    "duration": 4,
    "start_time": "2022-03-27T07:25:38.352Z"
   },
   {
    "duration": 4,
    "start_time": "2022-03-27T07:25:41.742Z"
   },
   {
    "duration": 17,
    "start_time": "2022-03-27T07:28:11.790Z"
   },
   {
    "duration": 78,
    "start_time": "2022-03-27T07:28:14.732Z"
   },
   {
    "duration": 35,
    "start_time": "2022-03-27T07:28:14.812Z"
   },
   {
    "duration": 8,
    "start_time": "2022-03-27T07:28:14.848Z"
   },
   {
    "duration": 33,
    "start_time": "2022-03-27T07:28:14.858Z"
   },
   {
    "duration": 17,
    "start_time": "2022-03-27T07:28:17.222Z"
   },
   {
    "duration": 17,
    "start_time": "2022-03-27T07:28:18.633Z"
   },
   {
    "duration": 24,
    "start_time": "2022-03-27T07:28:32.086Z"
   },
   {
    "duration": 16,
    "start_time": "2022-03-27T07:28:35.264Z"
   },
   {
    "duration": 4,
    "start_time": "2022-03-27T07:30:05.814Z"
   },
   {
    "duration": 76,
    "start_time": "2022-03-27T07:30:41.963Z"
   },
   {
    "duration": 45,
    "start_time": "2022-03-27T07:30:42.041Z"
   },
   {
    "duration": 8,
    "start_time": "2022-03-27T07:30:42.087Z"
   },
   {
    "duration": 7,
    "start_time": "2022-03-27T07:30:42.097Z"
   },
   {
    "duration": 61,
    "start_time": "2022-03-27T07:30:46.646Z"
   },
   {
    "duration": 8,
    "start_time": "2022-03-27T07:30:59.925Z"
   },
   {
    "duration": 3,
    "start_time": "2022-03-27T07:31:30.677Z"
   },
   {
    "duration": 8,
    "start_time": "2022-03-27T07:31:34.768Z"
   },
   {
    "duration": 21,
    "start_time": "2022-03-27T07:31:38.570Z"
   },
   {
    "duration": 10,
    "start_time": "2022-03-27T07:31:50.460Z"
   },
   {
    "duration": 7,
    "start_time": "2022-03-27T07:32:52.079Z"
   },
   {
    "duration": 7,
    "start_time": "2022-03-27T07:33:01.811Z"
   },
   {
    "duration": 7,
    "start_time": "2022-03-27T07:33:05.130Z"
   },
   {
    "duration": 22,
    "start_time": "2022-03-27T07:33:36.871Z"
   },
   {
    "duration": 86,
    "start_time": "2022-03-27T07:33:43.893Z"
   },
   {
    "duration": 31,
    "start_time": "2022-03-27T07:33:43.981Z"
   },
   {
    "duration": 7,
    "start_time": "2022-03-27T07:33:44.013Z"
   },
   {
    "duration": 10,
    "start_time": "2022-03-27T07:33:44.021Z"
   },
   {
    "duration": 33,
    "start_time": "2022-03-27T07:33:44.032Z"
   },
   {
    "duration": 3,
    "start_time": "2022-03-27T07:33:53.683Z"
   },
   {
    "duration": 19,
    "start_time": "2022-03-27T07:34:00.932Z"
   },
   {
    "duration": 19,
    "start_time": "2022-03-27T07:34:33.794Z"
   },
   {
    "duration": 19,
    "start_time": "2022-03-27T07:34:52.914Z"
   },
   {
    "duration": 7,
    "start_time": "2022-03-27T07:35:32.916Z"
   },
   {
    "duration": 452,
    "start_time": "2022-03-27T07:36:12.427Z"
   },
   {
    "duration": 36,
    "start_time": "2022-03-27T07:36:12.881Z"
   },
   {
    "duration": 8,
    "start_time": "2022-03-27T07:36:12.919Z"
   },
   {
    "duration": 6,
    "start_time": "2022-03-27T07:36:12.929Z"
   },
   {
    "duration": 8,
    "start_time": "2022-03-27T07:36:12.938Z"
   },
   {
    "duration": 41,
    "start_time": "2022-03-27T07:36:12.948Z"
   },
   {
    "duration": 24,
    "start_time": "2022-03-27T07:36:12.991Z"
   },
   {
    "duration": 2,
    "start_time": "2022-03-27T07:36:13.016Z"
   },
   {
    "duration": 9,
    "start_time": "2022-03-27T07:36:13.020Z"
   },
   {
    "duration": 6,
    "start_time": "2022-03-27T07:36:13.030Z"
   },
   {
    "duration": 6,
    "start_time": "2022-03-27T07:36:13.037Z"
   },
   {
    "duration": 89,
    "start_time": "2022-03-27T07:36:13.044Z"
   },
   {
    "duration": 49,
    "start_time": "2022-03-27T07:36:13.135Z"
   },
   {
    "duration": 2,
    "start_time": "2022-03-27T07:36:13.188Z"
   },
   {
    "duration": 27,
    "start_time": "2022-03-27T07:36:13.192Z"
   },
   {
    "duration": 13,
    "start_time": "2022-03-27T07:36:13.221Z"
   },
   {
    "duration": 32,
    "start_time": "2022-03-27T07:36:13.236Z"
   },
   {
    "duration": 34,
    "start_time": "2022-03-27T07:36:13.270Z"
   },
   {
    "duration": 6,
    "start_time": "2022-03-27T07:36:13.306Z"
   },
   {
    "duration": 11,
    "start_time": "2022-03-27T07:36:13.314Z"
   },
   {
    "duration": 44,
    "start_time": "2022-03-27T07:36:13.327Z"
   },
   {
    "duration": 10,
    "start_time": "2022-03-27T07:36:13.373Z"
   },
   {
    "duration": 18,
    "start_time": "2022-03-27T07:36:13.385Z"
   },
   {
    "duration": 25,
    "start_time": "2022-03-27T07:36:13.405Z"
   },
   {
    "duration": 40,
    "start_time": "2022-03-27T07:36:13.433Z"
   },
   {
    "duration": 12,
    "start_time": "2022-03-27T07:36:13.475Z"
   },
   {
    "duration": 24,
    "start_time": "2022-03-27T07:36:13.488Z"
   },
   {
    "duration": 28,
    "start_time": "2022-03-27T07:36:13.514Z"
   },
   {
    "duration": 7,
    "start_time": "2022-03-27T07:38:01.841Z"
   },
   {
    "duration": 14,
    "start_time": "2022-04-01T09:35:19.235Z"
   },
   {
    "duration": 513,
    "start_time": "2022-04-01T09:35:25.327Z"
   },
   {
    "duration": 124,
    "start_time": "2022-04-01T09:35:25.843Z"
   },
   {
    "duration": 60,
    "start_time": "2022-04-01T09:35:25.969Z"
   },
   {
    "duration": 40,
    "start_time": "2022-04-01T09:35:26.031Z"
   },
   {
    "duration": 10,
    "start_time": "2022-04-01T09:35:26.074Z"
   },
   {
    "duration": 13,
    "start_time": "2022-04-01T09:35:26.086Z"
   },
   {
    "duration": 7,
    "start_time": "2022-04-01T09:35:26.101Z"
   },
   {
    "duration": 99,
    "start_time": "2022-04-01T09:36:28.055Z"
   },
   {
    "duration": 27,
    "start_time": "2022-04-01T09:36:56.644Z"
   },
   {
    "duration": 37,
    "start_time": "2022-04-01T09:40:22.383Z"
   },
   {
    "duration": 150,
    "start_time": "2022-04-01T09:50:48.797Z"
   },
   {
    "duration": 8,
    "start_time": "2022-04-01T09:55:26.347Z"
   },
   {
    "duration": 34,
    "start_time": "2022-04-01T09:57:41.156Z"
   },
   {
    "duration": 33,
    "start_time": "2022-04-01T09:58:02.985Z"
   },
   {
    "duration": 35,
    "start_time": "2022-04-01T09:58:22.032Z"
   },
   {
    "duration": 116,
    "start_time": "2022-04-01T09:59:56.097Z"
   },
   {
    "duration": 35,
    "start_time": "2022-04-01T10:00:19.722Z"
   },
   {
    "duration": 80,
    "start_time": "2022-04-01T10:09:13.477Z"
   },
   {
    "duration": 62,
    "start_time": "2022-04-01T10:10:37.234Z"
   },
   {
    "duration": 50,
    "start_time": "2022-04-01T10:11:05.498Z"
   },
   {
    "duration": 30,
    "start_time": "2022-04-01T10:12:02.339Z"
   },
   {
    "duration": 28,
    "start_time": "2022-04-01T10:12:10.987Z"
   },
   {
    "duration": 52,
    "start_time": "2022-04-01T10:12:27.892Z"
   },
   {
    "duration": 51,
    "start_time": "2022-04-01T10:12:37.908Z"
   },
   {
    "duration": 46,
    "start_time": "2022-04-01T10:12:51.637Z"
   },
   {
    "duration": 46,
    "start_time": "2022-04-01T10:12:55.611Z"
   },
   {
    "duration": 4,
    "start_time": "2022-04-01T10:13:04.390Z"
   },
   {
    "duration": 109,
    "start_time": "2022-04-01T10:13:04.396Z"
   },
   {
    "duration": 77,
    "start_time": "2022-04-01T10:13:04.508Z"
   },
   {
    "duration": 11,
    "start_time": "2022-04-01T10:13:04.587Z"
   },
   {
    "duration": 11,
    "start_time": "2022-04-01T10:13:04.601Z"
   },
   {
    "duration": 12,
    "start_time": "2022-04-01T10:13:04.614Z"
   },
   {
    "duration": 66,
    "start_time": "2022-04-01T10:13:04.628Z"
   },
   {
    "duration": 37,
    "start_time": "2022-04-01T10:13:04.696Z"
   },
   {
    "duration": 40,
    "start_time": "2022-04-01T10:13:04.737Z"
   },
   {
    "duration": 4,
    "start_time": "2022-04-01T10:13:04.779Z"
   },
   {
    "duration": 34,
    "start_time": "2022-04-01T10:13:04.788Z"
   },
   {
    "duration": 45,
    "start_time": "2022-04-01T10:13:04.825Z"
   },
   {
    "duration": 6,
    "start_time": "2022-04-01T10:13:04.873Z"
   },
   {
    "duration": 10,
    "start_time": "2022-04-01T10:13:04.881Z"
   },
   {
    "duration": 4,
    "start_time": "2022-04-01T10:17:57.205Z"
   },
   {
    "duration": 112,
    "start_time": "2022-04-01T10:17:57.212Z"
   },
   {
    "duration": 68,
    "start_time": "2022-04-01T10:17:57.327Z"
   },
   {
    "duration": 11,
    "start_time": "2022-04-01T10:17:57.397Z"
   },
   {
    "duration": 9,
    "start_time": "2022-04-01T10:17:57.411Z"
   },
   {
    "duration": 10,
    "start_time": "2022-04-01T10:17:57.422Z"
   },
   {
    "duration": 27,
    "start_time": "2022-04-01T10:17:57.468Z"
   },
   {
    "duration": 34,
    "start_time": "2022-04-01T10:17:57.497Z"
   },
   {
    "duration": 38,
    "start_time": "2022-04-01T10:17:57.533Z"
   },
   {
    "duration": 3,
    "start_time": "2022-04-01T10:17:57.573Z"
   },
   {
    "duration": 32,
    "start_time": "2022-04-01T10:17:57.580Z"
   },
   {
    "duration": 7,
    "start_time": "2022-04-01T10:17:57.614Z"
   },
   {
    "duration": 44,
    "start_time": "2022-04-01T10:17:57.623Z"
   },
   {
    "duration": 6,
    "start_time": "2022-04-01T10:17:57.670Z"
   },
   {
    "duration": 58,
    "start_time": "2022-04-01T10:17:57.678Z"
   },
   {
    "duration": 72,
    "start_time": "2022-04-01T10:17:57.738Z"
   },
   {
    "duration": 3,
    "start_time": "2022-04-01T10:17:57.813Z"
   },
   {
    "duration": 18,
    "start_time": "2022-04-01T10:17:57.818Z"
   },
   {
    "duration": 40,
    "start_time": "2022-04-01T10:17:57.838Z"
   },
   {
    "duration": 27,
    "start_time": "2022-04-01T10:17:57.881Z"
   },
   {
    "duration": 31,
    "start_time": "2022-04-01T10:17:57.910Z"
   },
   {
    "duration": 8,
    "start_time": "2022-04-01T10:17:57.967Z"
   },
   {
    "duration": 5,
    "start_time": "2022-04-01T10:17:57.977Z"
   },
   {
    "duration": 36,
    "start_time": "2022-04-01T10:17:57.984Z"
   },
   {
    "duration": 45,
    "start_time": "2022-04-01T10:17:58.022Z"
   },
   {
    "duration": 10,
    "start_time": "2022-04-01T10:17:58.069Z"
   },
   {
    "duration": 23,
    "start_time": "2022-04-01T10:17:58.081Z"
   },
   {
    "duration": 76,
    "start_time": "2022-04-01T10:17:58.106Z"
   },
   {
    "duration": 12,
    "start_time": "2022-04-01T10:17:58.187Z"
   },
   {
    "duration": 26,
    "start_time": "2022-04-01T10:17:58.201Z"
   },
   {
    "duration": 46,
    "start_time": "2022-04-01T10:17:58.229Z"
   },
   {
    "duration": 2306,
    "start_time": "2022-04-01T10:20:14.684Z"
   },
   {
    "duration": 2281,
    "start_time": "2022-04-01T10:21:23.605Z"
   },
   {
    "duration": 2576,
    "start_time": "2022-04-01T10:25:26.198Z"
   },
   {
    "duration": 5,
    "start_time": "2022-04-01T10:26:50.082Z"
   },
   {
    "duration": 110,
    "start_time": "2022-04-01T10:26:50.090Z"
   },
   {
    "duration": 74,
    "start_time": "2022-04-01T10:26:50.203Z"
   },
   {
    "duration": 11,
    "start_time": "2022-04-01T10:26:50.280Z"
   },
   {
    "duration": 9,
    "start_time": "2022-04-01T10:26:50.295Z"
   },
   {
    "duration": 10,
    "start_time": "2022-04-01T10:26:50.307Z"
   },
   {
    "duration": 69,
    "start_time": "2022-04-01T10:26:50.320Z"
   },
   {
    "duration": 34,
    "start_time": "2022-04-01T10:26:50.391Z"
   },
   {
    "duration": 9,
    "start_time": "2022-04-01T10:26:50.427Z"
   },
   {
    "duration": 3,
    "start_time": "2022-04-01T10:26:50.467Z"
   },
   {
    "duration": 38,
    "start_time": "2022-04-01T10:26:50.474Z"
   },
   {
    "duration": 6,
    "start_time": "2022-04-01T10:26:50.515Z"
   },
   {
    "duration": 13,
    "start_time": "2022-04-01T10:26:50.524Z"
   },
   {
    "duration": 30,
    "start_time": "2022-04-01T10:26:50.539Z"
   },
   {
    "duration": 63,
    "start_time": "2022-04-01T10:26:50.571Z"
   },
   {
    "duration": 30,
    "start_time": "2022-04-01T10:31:37.773Z"
   },
   {
    "duration": 4,
    "start_time": "2022-04-01T11:00:03.865Z"
   },
   {
    "duration": 4,
    "start_time": "2022-04-01T11:00:16.052Z"
   },
   {
    "duration": 123,
    "start_time": "2022-04-01T11:00:16.059Z"
   },
   {
    "duration": 54,
    "start_time": "2022-04-01T11:00:16.185Z"
   },
   {
    "duration": 37,
    "start_time": "2022-04-01T11:00:16.241Z"
   },
   {
    "duration": 11,
    "start_time": "2022-04-01T11:00:16.281Z"
   },
   {
    "duration": 13,
    "start_time": "2022-04-01T11:00:16.293Z"
   },
   {
    "duration": 66,
    "start_time": "2022-04-01T11:00:16.308Z"
   },
   {
    "duration": 36,
    "start_time": "2022-04-01T11:00:16.376Z"
   },
   {
    "duration": 11,
    "start_time": "2022-04-01T11:00:16.414Z"
   },
   {
    "duration": 3,
    "start_time": "2022-04-01T11:00:16.428Z"
   },
   {
    "duration": 34,
    "start_time": "2022-04-01T11:00:16.470Z"
   },
   {
    "duration": 7,
    "start_time": "2022-04-01T11:00:16.506Z"
   },
   {
    "duration": 5,
    "start_time": "2022-04-01T11:00:16.515Z"
   },
   {
    "duration": 6,
    "start_time": "2022-04-01T11:00:16.523Z"
   },
   {
    "duration": 96,
    "start_time": "2022-04-01T11:00:16.531Z"
   },
   {
    "duration": 76,
    "start_time": "2022-04-01T11:00:16.629Z"
   },
   {
    "duration": 3,
    "start_time": "2022-04-01T11:00:16.707Z"
   },
   {
    "duration": 17,
    "start_time": "2022-04-01T11:00:16.713Z"
   },
   {
    "duration": 41,
    "start_time": "2022-04-01T11:00:16.733Z"
   },
   {
    "duration": 28,
    "start_time": "2022-04-01T11:00:16.776Z"
   },
   {
    "duration": 32,
    "start_time": "2022-04-01T11:00:16.807Z"
   },
   {
    "duration": 33,
    "start_time": "2022-04-01T11:00:16.841Z"
   },
   {
    "duration": 4,
    "start_time": "2022-04-01T11:00:16.876Z"
   },
   {
    "duration": 36,
    "start_time": "2022-04-01T11:00:16.882Z"
   },
   {
    "duration": 7,
    "start_time": "2022-04-01T11:00:16.920Z"
   },
   {
    "duration": 46,
    "start_time": "2022-04-01T11:00:16.929Z"
   },
   {
    "duration": 28,
    "start_time": "2022-04-01T11:00:16.977Z"
   },
   {
    "duration": 5,
    "start_time": "2022-04-01T11:07:43.635Z"
   },
   {
    "duration": 128,
    "start_time": "2022-04-01T11:07:43.643Z"
   },
   {
    "duration": 72,
    "start_time": "2022-04-01T11:07:43.774Z"
   },
   {
    "duration": 15,
    "start_time": "2022-04-01T11:07:43.869Z"
   },
   {
    "duration": 15,
    "start_time": "2022-04-01T11:07:43.889Z"
   },
   {
    "duration": 15,
    "start_time": "2022-04-01T11:07:43.907Z"
   },
   {
    "duration": 85,
    "start_time": "2022-04-01T11:07:43.924Z"
   },
   {
    "duration": 73,
    "start_time": "2022-04-01T11:07:44.012Z"
   },
   {
    "duration": 11,
    "start_time": "2022-04-01T11:07:44.087Z"
   },
   {
    "duration": 3,
    "start_time": "2022-04-01T11:07:44.100Z"
   },
   {
    "duration": 98,
    "start_time": "2022-04-01T11:07:44.106Z"
   },
   {
    "duration": 7,
    "start_time": "2022-04-01T11:07:44.207Z"
   },
   {
    "duration": 7,
    "start_time": "2022-04-01T11:07:44.221Z"
   },
   {
    "duration": 41,
    "start_time": "2022-04-01T11:07:44.230Z"
   },
   {
    "duration": 99,
    "start_time": "2022-04-01T11:07:44.274Z"
   },
   {
    "duration": 68,
    "start_time": "2022-04-01T11:07:44.376Z"
   },
   {
    "duration": 22,
    "start_time": "2022-04-01T11:07:44.447Z"
   },
   {
    "duration": 21,
    "start_time": "2022-04-01T11:07:44.472Z"
   },
   {
    "duration": 16,
    "start_time": "2022-04-01T11:07:44.496Z"
   },
   {
    "duration": 61,
    "start_time": "2022-04-01T11:07:44.515Z"
   },
   {
    "duration": 30,
    "start_time": "2022-04-01T11:07:44.579Z"
   },
   {
    "duration": 12,
    "start_time": "2022-04-01T11:07:44.613Z"
   },
   {
    "duration": 6,
    "start_time": "2022-04-01T11:07:44.627Z"
   },
   {
    "duration": 39,
    "start_time": "2022-04-01T11:07:44.668Z"
   },
   {
    "duration": 8,
    "start_time": "2022-04-01T11:07:44.709Z"
   },
   {
    "duration": 9,
    "start_time": "2022-04-01T11:07:44.720Z"
   },
   {
    "duration": 54,
    "start_time": "2022-04-01T11:07:44.732Z"
   },
   {
    "duration": 43,
    "start_time": "2022-04-01T11:07:44.788Z"
   },
   {
    "duration": 41,
    "start_time": "2022-04-01T11:07:44.834Z"
   },
   {
    "duration": 28,
    "start_time": "2022-04-01T11:07:44.877Z"
   },
   {
    "duration": 291,
    "start_time": "2022-04-01T11:11:53.736Z"
   },
   {
    "duration": 29,
    "start_time": "2022-04-01T11:32:14.168Z"
   },
   {
    "duration": 22,
    "start_time": "2022-04-01T11:35:35.830Z"
   },
   {
    "duration": 22,
    "start_time": "2022-04-01T11:35:50.455Z"
   },
   {
    "duration": 55,
    "start_time": "2022-04-01T11:36:04.496Z"
   },
   {
    "duration": 58,
    "start_time": "2022-04-01T11:37:23.532Z"
   },
   {
    "duration": 30,
    "start_time": "2022-04-01T11:39:26.097Z"
   },
   {
    "duration": 28,
    "start_time": "2022-04-01T11:39:51.994Z"
   },
   {
    "duration": 17,
    "start_time": "2022-04-01T13:14:30.634Z"
   },
   {
    "duration": 22,
    "start_time": "2022-04-01T13:14:46.997Z"
   },
   {
    "duration": 6,
    "start_time": "2022-04-01T13:15:54.734Z"
   },
   {
    "duration": 5,
    "start_time": "2022-04-01T13:16:02.375Z"
   },
   {
    "duration": 4,
    "start_time": "2022-04-01T13:16:26.488Z"
   },
   {
    "duration": 127,
    "start_time": "2022-04-01T13:19:12.240Z"
   },
   {
    "duration": 125,
    "start_time": "2022-04-01T13:19:23.092Z"
   },
   {
    "duration": 4,
    "start_time": "2022-04-01T13:19:30.039Z"
   },
   {
    "duration": 129,
    "start_time": "2022-04-01T13:19:30.045Z"
   },
   {
    "duration": 58,
    "start_time": "2022-04-01T13:19:30.178Z"
   },
   {
    "duration": 13,
    "start_time": "2022-04-01T13:19:30.268Z"
   },
   {
    "duration": 13,
    "start_time": "2022-04-01T13:19:30.284Z"
   },
   {
    "duration": 14,
    "start_time": "2022-04-01T13:19:30.299Z"
   },
   {
    "duration": 68,
    "start_time": "2022-04-01T13:19:30.316Z"
   },
   {
    "duration": 38,
    "start_time": "2022-04-01T13:19:30.387Z"
   },
   {
    "duration": 42,
    "start_time": "2022-04-01T13:19:30.428Z"
   },
   {
    "duration": 3,
    "start_time": "2022-04-01T13:19:30.472Z"
   },
   {
    "duration": 47,
    "start_time": "2022-04-01T13:19:30.479Z"
   },
   {
    "duration": 7,
    "start_time": "2022-04-01T13:19:30.528Z"
   },
   {
    "duration": 31,
    "start_time": "2022-04-01T13:19:30.537Z"
   },
   {
    "duration": 21,
    "start_time": "2022-04-01T13:19:30.570Z"
   },
   {
    "duration": 77,
    "start_time": "2022-04-01T13:19:30.594Z"
   },
   {
    "duration": 51,
    "start_time": "2022-04-01T13:19:30.673Z"
   },
   {
    "duration": 3,
    "start_time": "2022-04-01T13:19:30.726Z"
   },
   {
    "duration": 44,
    "start_time": "2022-04-01T13:19:30.732Z"
   },
   {
    "duration": 16,
    "start_time": "2022-04-01T13:19:30.779Z"
   },
   {
    "duration": 30,
    "start_time": "2022-04-01T13:19:30.797Z"
   },
   {
    "duration": 66,
    "start_time": "2022-04-01T13:19:30.830Z"
   },
   {
    "duration": 22,
    "start_time": "2022-04-01T13:19:30.898Z"
   },
   {
    "duration": 5,
    "start_time": "2022-04-01T13:19:30.922Z"
   },
   {
    "duration": 59,
    "start_time": "2022-04-01T13:19:30.930Z"
   },
   {
    "duration": 8,
    "start_time": "2022-04-01T13:19:30.992Z"
   },
   {
    "duration": 17,
    "start_time": "2022-04-01T13:19:31.002Z"
   },
   {
    "duration": 48,
    "start_time": "2022-04-01T13:19:31.021Z"
   },
   {
    "duration": 45,
    "start_time": "2022-04-01T13:19:31.072Z"
   },
   {
    "duration": 13,
    "start_time": "2022-04-01T13:19:31.122Z"
   },
   {
    "duration": 57,
    "start_time": "2022-04-01T13:19:31.137Z"
   },
   {
    "duration": 19,
    "start_time": "2022-04-01T13:19:31.196Z"
   },
   {
    "duration": 57,
    "start_time": "2022-04-01T13:19:31.217Z"
   },
   {
    "duration": 167,
    "start_time": "2022-04-01T13:19:31.277Z"
   },
   {
    "duration": 125,
    "start_time": "2022-04-01T13:20:10.800Z"
   },
   {
    "duration": 136,
    "start_time": "2022-04-01T13:20:25.717Z"
   },
   {
    "duration": 391,
    "start_time": "2022-04-02T10:02:28.260Z"
   },
   {
    "duration": 96,
    "start_time": "2022-04-02T10:02:28.653Z"
   },
   {
    "duration": 40,
    "start_time": "2022-04-02T10:02:28.751Z"
   },
   {
    "duration": 9,
    "start_time": "2022-04-02T10:02:28.793Z"
   },
   {
    "duration": 32,
    "start_time": "2022-04-02T10:02:28.804Z"
   },
   {
    "duration": 9,
    "start_time": "2022-04-02T10:02:28.837Z"
   },
   {
    "duration": 21,
    "start_time": "2022-04-02T10:02:28.848Z"
   },
   {
    "duration": 26,
    "start_time": "2022-04-02T10:02:28.870Z"
   },
   {
    "duration": 38,
    "start_time": "2022-04-02T10:02:28.897Z"
   },
   {
    "duration": 7,
    "start_time": "2022-04-02T10:03:49.720Z"
   },
   {
    "duration": 5,
    "start_time": "2022-04-02T10:04:50.574Z"
   },
   {
    "duration": 13,
    "start_time": "2022-04-02T10:38:09.695Z"
   },
   {
    "duration": 2,
    "start_time": "2022-04-02T10:38:12.424Z"
   },
   {
    "duration": 93,
    "start_time": "2022-04-02T10:38:12.428Z"
   },
   {
    "duration": 44,
    "start_time": "2022-04-02T10:38:12.523Z"
   },
   {
    "duration": 8,
    "start_time": "2022-04-02T10:38:12.570Z"
   },
   {
    "duration": 7,
    "start_time": "2022-04-02T10:38:12.580Z"
   },
   {
    "duration": 15,
    "start_time": "2022-04-02T10:38:12.589Z"
   },
   {
    "duration": 47,
    "start_time": "2022-04-02T10:38:12.605Z"
   },
   {
    "duration": 27,
    "start_time": "2022-04-02T10:38:12.654Z"
   },
   {
    "duration": 6,
    "start_time": "2022-04-02T10:38:12.682Z"
   },
   {
    "duration": 5,
    "start_time": "2022-04-02T10:38:12.691Z"
   },
   {
    "duration": 38,
    "start_time": "2022-04-02T10:38:12.698Z"
   },
   {
    "duration": 3,
    "start_time": "2022-04-02T10:38:12.738Z"
   },
   {
    "duration": 27,
    "start_time": "2022-04-02T10:38:12.743Z"
   },
   {
    "duration": 5,
    "start_time": "2022-04-02T10:38:12.772Z"
   },
   {
    "duration": 6,
    "start_time": "2022-04-02T10:38:12.779Z"
   },
   {
    "duration": 46,
    "start_time": "2022-04-02T10:38:12.786Z"
   },
   {
    "duration": 47,
    "start_time": "2022-04-02T10:38:12.833Z"
   },
   {
    "duration": 35,
    "start_time": "2022-04-02T10:38:12.881Z"
   },
   {
    "duration": 3,
    "start_time": "2022-04-02T10:38:12.932Z"
   },
   {
    "duration": 15,
    "start_time": "2022-04-02T10:38:12.936Z"
   },
   {
    "duration": 11,
    "start_time": "2022-04-02T10:38:12.953Z"
   },
   {
    "duration": 19,
    "start_time": "2022-04-02T10:38:12.965Z"
   },
   {
    "duration": 49,
    "start_time": "2022-04-02T10:38:12.986Z"
   },
   {
    "duration": 9,
    "start_time": "2022-04-02T10:38:13.036Z"
   },
   {
    "duration": 20,
    "start_time": "2022-04-02T10:38:13.046Z"
   },
   {
    "duration": 27,
    "start_time": "2022-04-02T10:38:13.067Z"
   },
   {
    "duration": 5,
    "start_time": "2022-04-02T10:38:13.096Z"
   },
   {
    "duration": 8,
    "start_time": "2022-04-02T10:38:13.104Z"
   },
   {
    "duration": 15,
    "start_time": "2022-04-02T10:38:13.132Z"
   },
   {
    "duration": 12,
    "start_time": "2022-04-02T10:38:13.149Z"
   },
   {
    "duration": 32,
    "start_time": "2022-04-02T10:38:13.162Z"
   },
   {
    "duration": 9,
    "start_time": "2022-04-02T10:38:13.195Z"
   },
   {
    "duration": 21,
    "start_time": "2022-04-02T10:38:13.232Z"
   },
   {
    "duration": 14,
    "start_time": "2022-04-02T10:38:13.255Z"
   },
   {
    "duration": 21,
    "start_time": "2022-04-02T10:38:13.270Z"
   },
   {
    "duration": 12,
    "start_time": "2022-04-02T10:38:22.317Z"
   },
   {
    "duration": 11,
    "start_time": "2022-04-02T10:38:30.634Z"
   },
   {
    "duration": 145,
    "start_time": "2022-04-02T14:21:40.443Z"
   },
   {
    "duration": 388,
    "start_time": "2022-04-02T14:22:29.495Z"
   },
   {
    "duration": 114,
    "start_time": "2022-04-02T14:22:29.886Z"
   },
   {
    "duration": 59,
    "start_time": "2022-04-02T14:22:30.002Z"
   },
   {
    "duration": 11,
    "start_time": "2022-04-02T14:22:30.064Z"
   },
   {
    "duration": 9,
    "start_time": "2022-04-02T14:22:30.077Z"
   },
   {
    "duration": 17,
    "start_time": "2022-04-02T14:22:30.087Z"
   },
   {
    "duration": 48,
    "start_time": "2022-04-02T14:22:30.105Z"
   },
   {
    "duration": 37,
    "start_time": "2022-04-02T14:22:30.154Z"
   },
   {
    "duration": 6,
    "start_time": "2022-04-02T14:22:30.192Z"
   },
   {
    "duration": 10,
    "start_time": "2022-04-02T14:22:30.201Z"
   },
   {
    "duration": 28,
    "start_time": "2022-04-02T14:22:30.213Z"
   },
   {
    "duration": 6,
    "start_time": "2022-04-02T14:22:30.243Z"
   },
   {
    "duration": 32,
    "start_time": "2022-04-02T14:22:30.251Z"
   },
   {
    "duration": 140,
    "start_time": "2022-04-02T14:22:30.284Z"
   },
   {
    "duration": 0,
    "start_time": "2022-04-02T14:22:30.426Z"
   },
   {
    "duration": 0,
    "start_time": "2022-04-02T14:22:30.427Z"
   },
   {
    "duration": 0,
    "start_time": "2022-04-02T14:22:30.428Z"
   },
   {
    "duration": 0,
    "start_time": "2022-04-02T14:22:30.429Z"
   },
   {
    "duration": 0,
    "start_time": "2022-04-02T14:22:30.430Z"
   },
   {
    "duration": 0,
    "start_time": "2022-04-02T14:22:30.432Z"
   },
   {
    "duration": 0,
    "start_time": "2022-04-02T14:22:30.433Z"
   },
   {
    "duration": 0,
    "start_time": "2022-04-02T14:22:30.434Z"
   },
   {
    "duration": 0,
    "start_time": "2022-04-02T14:22:30.435Z"
   },
   {
    "duration": 0,
    "start_time": "2022-04-02T14:22:30.436Z"
   },
   {
    "duration": 0,
    "start_time": "2022-04-02T14:22:30.436Z"
   },
   {
    "duration": 0,
    "start_time": "2022-04-02T14:22:30.438Z"
   },
   {
    "duration": 0,
    "start_time": "2022-04-02T14:22:30.439Z"
   },
   {
    "duration": 0,
    "start_time": "2022-04-02T14:22:30.440Z"
   },
   {
    "duration": 0,
    "start_time": "2022-04-02T14:22:30.441Z"
   },
   {
    "duration": 0,
    "start_time": "2022-04-02T14:22:30.442Z"
   },
   {
    "duration": 0,
    "start_time": "2022-04-02T14:22:30.443Z"
   },
   {
    "duration": 0,
    "start_time": "2022-04-02T14:22:30.444Z"
   },
   {
    "duration": 0,
    "start_time": "2022-04-02T14:22:30.445Z"
   },
   {
    "duration": 0,
    "start_time": "2022-04-02T14:22:30.446Z"
   },
   {
    "duration": 0,
    "start_time": "2022-04-02T14:22:30.447Z"
   },
   {
    "duration": 0,
    "start_time": "2022-04-02T14:22:30.448Z"
   },
   {
    "duration": 0,
    "start_time": "2022-04-02T14:22:30.449Z"
   },
   {
    "duration": 0,
    "start_time": "2022-04-02T14:22:30.450Z"
   },
   {
    "duration": 2,
    "start_time": "2022-04-02T14:42:49.672Z"
   },
   {
    "duration": 99,
    "start_time": "2022-04-02T14:42:49.676Z"
   },
   {
    "duration": 39,
    "start_time": "2022-04-02T14:42:49.777Z"
   },
   {
    "duration": 10,
    "start_time": "2022-04-02T14:42:49.832Z"
   },
   {
    "duration": 8,
    "start_time": "2022-04-02T14:42:49.844Z"
   },
   {
    "duration": 9,
    "start_time": "2022-04-02T14:42:49.854Z"
   },
   {
    "duration": 22,
    "start_time": "2022-04-02T14:42:49.865Z"
   },
   {
    "duration": 64,
    "start_time": "2022-04-02T14:42:49.889Z"
   },
   {
    "duration": 2,
    "start_time": "2022-04-02T14:44:43.336Z"
   },
   {
    "duration": 123,
    "start_time": "2022-04-02T14:44:43.340Z"
   },
   {
    "duration": 37,
    "start_time": "2022-04-02T14:44:43.465Z"
   },
   {
    "duration": 27,
    "start_time": "2022-04-02T14:44:43.504Z"
   },
   {
    "duration": 8,
    "start_time": "2022-04-02T14:44:43.534Z"
   },
   {
    "duration": 21,
    "start_time": "2022-04-02T14:44:43.543Z"
   },
   {
    "duration": 42,
    "start_time": "2022-04-02T14:44:43.567Z"
   },
   {
    "duration": 39,
    "start_time": "2022-04-02T14:44:43.611Z"
   },
   {
    "duration": 7,
    "start_time": "2022-04-02T14:44:43.652Z"
   },
   {
    "duration": 34,
    "start_time": "2022-04-02T14:44:43.661Z"
   },
   {
    "duration": 9,
    "start_time": "2022-04-02T14:44:48.503Z"
   },
   {
    "duration": 3,
    "start_time": "2022-04-02T14:52:39.339Z"
   },
   {
    "duration": 107,
    "start_time": "2022-04-02T14:52:39.344Z"
   },
   {
    "duration": 41,
    "start_time": "2022-04-02T14:52:39.453Z"
   },
   {
    "duration": 12,
    "start_time": "2022-04-02T14:52:39.495Z"
   },
   {
    "duration": 33,
    "start_time": "2022-04-02T14:52:39.509Z"
   },
   {
    "duration": 18,
    "start_time": "2022-04-02T14:52:39.544Z"
   },
   {
    "duration": 34,
    "start_time": "2022-04-02T14:52:39.565Z"
   },
   {
    "duration": 3,
    "start_time": "2022-04-02T14:52:49.658Z"
   },
   {
    "duration": 102,
    "start_time": "2022-04-02T14:52:49.663Z"
   },
   {
    "duration": 40,
    "start_time": "2022-04-02T14:52:49.767Z"
   },
   {
    "duration": 26,
    "start_time": "2022-04-02T14:52:49.809Z"
   },
   {
    "duration": 8,
    "start_time": "2022-04-02T14:52:49.837Z"
   },
   {
    "duration": 25,
    "start_time": "2022-04-02T14:52:49.846Z"
   },
   {
    "duration": 23,
    "start_time": "2022-04-02T14:52:49.872Z"
   },
   {
    "duration": 40,
    "start_time": "2022-04-02T14:52:49.897Z"
   },
   {
    "duration": 6,
    "start_time": "2022-04-02T14:52:49.939Z"
   },
   {
    "duration": 17,
    "start_time": "2022-04-02T14:52:49.947Z"
   },
   {
    "duration": 12,
    "start_time": "2022-04-02T14:52:49.966Z"
   },
   {
    "duration": 5,
    "start_time": "2022-04-02T14:52:49.980Z"
   },
   {
    "duration": 50,
    "start_time": "2022-04-02T14:52:49.986Z"
   },
   {
    "duration": 5,
    "start_time": "2022-04-02T14:52:50.037Z"
   },
   {
    "duration": 23,
    "start_time": "2022-04-02T14:52:50.044Z"
   },
   {
    "duration": 13,
    "start_time": "2022-04-02T14:52:50.069Z"
   },
   {
    "duration": 62,
    "start_time": "2022-04-02T14:52:50.083Z"
   },
   {
    "duration": 36,
    "start_time": "2022-04-02T14:52:50.147Z"
   },
   {
    "duration": 3,
    "start_time": "2022-04-02T14:52:50.184Z"
   },
   {
    "duration": 25,
    "start_time": "2022-04-02T14:52:50.189Z"
   },
   {
    "duration": 26,
    "start_time": "2022-04-02T14:52:50.216Z"
   },
   {
    "duration": 25,
    "start_time": "2022-04-02T14:52:50.244Z"
   },
   {
    "duration": 38,
    "start_time": "2022-04-02T14:52:50.271Z"
   },
   {
    "duration": 20,
    "start_time": "2022-04-02T14:52:50.311Z"
   },
   {
    "duration": 15,
    "start_time": "2022-04-02T14:52:50.332Z"
   },
   {
    "duration": 56,
    "start_time": "2022-04-02T14:52:50.349Z"
   },
   {
    "duration": 10,
    "start_time": "2022-04-02T14:52:50.407Z"
   },
   {
    "duration": 16,
    "start_time": "2022-04-02T14:52:50.419Z"
   },
   {
    "duration": 20,
    "start_time": "2022-04-02T14:52:50.439Z"
   },
   {
    "duration": 17,
    "start_time": "2022-04-02T14:52:50.460Z"
   },
   {
    "duration": 33,
    "start_time": "2022-04-02T14:52:50.479Z"
   },
   {
    "duration": 14,
    "start_time": "2022-04-02T14:52:50.513Z"
   },
   {
    "duration": 43,
    "start_time": "2022-04-02T14:52:50.529Z"
   },
   {
    "duration": 10,
    "start_time": "2022-04-02T14:52:50.574Z"
   },
   {
    "duration": 40,
    "start_time": "2022-04-02T14:52:50.585Z"
   },
   {
    "duration": 18,
    "start_time": "2022-04-02T14:52:50.627Z"
   },
   {
    "duration": 33,
    "start_time": "2022-04-02T14:52:50.646Z"
   },
   {
    "duration": 371,
    "start_time": "2022-04-04T11:43:10.348Z"
   },
   {
    "duration": 96,
    "start_time": "2022-04-04T11:43:10.721Z"
   },
   {
    "duration": 38,
    "start_time": "2022-04-04T11:43:10.819Z"
   },
   {
    "duration": 9,
    "start_time": "2022-04-04T11:43:10.859Z"
   },
   {
    "duration": 39,
    "start_time": "2022-04-04T11:43:10.870Z"
   },
   {
    "duration": 8,
    "start_time": "2022-04-04T11:43:10.911Z"
   },
   {
    "duration": 21,
    "start_time": "2022-04-04T11:43:10.921Z"
   },
   {
    "duration": 60,
    "start_time": "2022-04-04T11:43:10.945Z"
   },
   {
    "duration": 7,
    "start_time": "2022-04-04T11:43:11.007Z"
   },
   {
    "duration": 6,
    "start_time": "2022-04-04T11:43:11.018Z"
   },
   {
    "duration": 9,
    "start_time": "2022-04-04T11:43:11.026Z"
   },
   {
    "duration": 2,
    "start_time": "2022-04-04T11:43:11.037Z"
   },
   {
    "duration": 63,
    "start_time": "2022-04-04T11:43:11.041Z"
   },
   {
    "duration": 5,
    "start_time": "2022-04-04T11:43:11.106Z"
   },
   {
    "duration": 5,
    "start_time": "2022-04-04T11:43:11.113Z"
   },
   {
    "duration": 6,
    "start_time": "2022-04-04T11:43:11.120Z"
   },
   {
    "duration": 74,
    "start_time": "2022-04-04T11:43:11.128Z"
   },
   {
    "duration": 35,
    "start_time": "2022-04-04T11:43:11.205Z"
   },
   {
    "duration": 2,
    "start_time": "2022-04-04T11:43:11.242Z"
   },
   {
    "duration": 12,
    "start_time": "2022-04-04T11:43:11.246Z"
   },
   {
    "duration": 10,
    "start_time": "2022-04-04T11:43:11.260Z"
   },
   {
    "duration": 19,
    "start_time": "2022-04-04T11:43:11.302Z"
   },
   {
    "duration": 22,
    "start_time": "2022-04-04T11:43:11.323Z"
   },
   {
    "duration": 9,
    "start_time": "2022-04-04T11:43:11.346Z"
   },
   {
    "duration": 5,
    "start_time": "2022-04-04T11:43:11.357Z"
   },
   {
    "duration": 54,
    "start_time": "2022-04-04T11:43:11.363Z"
   },
   {
    "duration": 7,
    "start_time": "2022-04-04T11:43:11.419Z"
   },
   {
    "duration": 7,
    "start_time": "2022-04-04T11:43:11.429Z"
   },
   {
    "duration": 15,
    "start_time": "2022-04-04T11:43:11.438Z"
   },
   {
    "duration": 10,
    "start_time": "2022-04-04T11:43:11.455Z"
   },
   {
    "duration": 47,
    "start_time": "2022-04-04T11:43:11.467Z"
   },
   {
    "duration": 13,
    "start_time": "2022-04-04T11:43:11.515Z"
   },
   {
    "duration": 31,
    "start_time": "2022-04-04T11:43:11.530Z"
   },
   {
    "duration": 8,
    "start_time": "2022-04-04T11:43:11.564Z"
   },
   {
    "duration": 21,
    "start_time": "2022-04-04T11:43:11.602Z"
   },
   {
    "duration": 13,
    "start_time": "2022-04-04T11:43:11.625Z"
   },
   {
    "duration": 20,
    "start_time": "2022-04-04T11:43:11.640Z"
   },
   {
    "duration": 2396,
    "start_time": "2022-09-30T08:35:38.963Z"
   },
   {
    "duration": 1195,
    "start_time": "2022-09-30T08:35:41.362Z"
   },
   {
    "duration": 401,
    "start_time": "2022-09-30T08:35:42.559Z"
   },
   {
    "duration": 300,
    "start_time": "2022-09-30T08:35:42.963Z"
   },
   {
    "duration": 90,
    "start_time": "2022-09-30T08:35:43.266Z"
   },
   {
    "duration": 106,
    "start_time": "2022-09-30T08:35:43.358Z"
   },
   {
    "duration": 200,
    "start_time": "2022-09-30T08:35:43.466Z"
   },
   {
    "duration": 199,
    "start_time": "2022-09-30T08:35:43.668Z"
   },
   {
    "duration": 98,
    "start_time": "2022-09-30T08:35:43.957Z"
   },
   {
    "duration": 100,
    "start_time": "2022-09-30T08:35:44.060Z"
   },
   {
    "duration": 194,
    "start_time": "2022-09-30T08:35:44.162Z"
   },
   {
    "duration": 8,
    "start_time": "2022-09-30T08:35:44.359Z"
   },
   {
    "duration": 300,
    "start_time": "2022-09-30T08:35:44.456Z"
   },
   {
    "duration": 96,
    "start_time": "2022-09-30T08:35:44.760Z"
   },
   {
    "duration": 196,
    "start_time": "2022-09-30T08:35:44.858Z"
   },
   {
    "duration": 202,
    "start_time": "2022-09-30T08:35:45.057Z"
   },
   {
    "duration": 498,
    "start_time": "2022-09-30T08:35:45.262Z"
   },
   {
    "duration": 393,
    "start_time": "2022-09-30T08:35:45.763Z"
   },
   {
    "duration": 3,
    "start_time": "2022-09-30T08:35:46.158Z"
   },
   {
    "duration": 101,
    "start_time": "2022-09-30T08:35:46.163Z"
   },
   {
    "duration": 99,
    "start_time": "2022-09-30T08:35:46.266Z"
   },
   {
    "duration": 111,
    "start_time": "2022-09-30T08:35:46.454Z"
   },
   {
    "duration": 299,
    "start_time": "2022-09-30T08:35:46.656Z"
   },
   {
    "duration": 98,
    "start_time": "2022-09-30T08:35:46.958Z"
   },
   {
    "duration": 98,
    "start_time": "2022-09-30T08:35:47.059Z"
   },
   {
    "duration": 304,
    "start_time": "2022-09-30T08:35:47.161Z"
   },
   {
    "duration": 8,
    "start_time": "2022-09-30T08:35:47.553Z"
   },
   {
    "duration": 202,
    "start_time": "2022-09-30T08:35:47.563Z"
   },
   {
    "duration": 302,
    "start_time": "2022-09-30T08:35:47.854Z"
   },
   {
    "duration": 197,
    "start_time": "2022-09-30T08:35:48.159Z"
   },
   {
    "duration": 97,
    "start_time": "2022-09-30T08:35:48.358Z"
   },
   {
    "duration": 299,
    "start_time": "2022-09-30T08:35:48.458Z"
   },
   {
    "duration": 397,
    "start_time": "2022-09-30T08:35:48.759Z"
   },
   {
    "duration": 97,
    "start_time": "2022-09-30T08:35:49.159Z"
   },
   {
    "duration": 305,
    "start_time": "2022-09-30T08:35:49.258Z"
   },
   {
    "duration": 195,
    "start_time": "2022-09-30T08:35:49.566Z"
   },
   {
    "duration": 200,
    "start_time": "2022-09-30T08:35:49.764Z"
   },
   {
    "duration": 424,
    "start_time": "2022-10-03T15:10:46.001Z"
   },
   {
    "duration": 187,
    "start_time": "2022-10-03T15:10:46.427Z"
   },
   {
    "duration": 50,
    "start_time": "2022-10-03T15:10:46.615Z"
   },
   {
    "duration": 33,
    "start_time": "2022-10-03T15:10:46.667Z"
   },
   {
    "duration": 11,
    "start_time": "2022-10-03T15:10:46.702Z"
   },
   {
    "duration": 17,
    "start_time": "2022-10-03T15:10:46.715Z"
   },
   {
    "duration": 29,
    "start_time": "2022-10-03T15:10:46.734Z"
   },
   {
    "duration": 63,
    "start_time": "2022-10-03T15:10:46.765Z"
   },
   {
    "duration": 9,
    "start_time": "2022-10-03T15:10:46.829Z"
   },
   {
    "duration": 32,
    "start_time": "2022-10-03T15:10:46.840Z"
   },
   {
    "duration": 8,
    "start_time": "2022-10-03T15:10:46.874Z"
   },
   {
    "duration": 2,
    "start_time": "2022-10-03T15:10:46.895Z"
   },
   {
    "duration": 29,
    "start_time": "2022-10-03T15:10:46.899Z"
   },
   {
    "duration": 5,
    "start_time": "2022-10-03T15:10:46.932Z"
   },
   {
    "duration": 7,
    "start_time": "2022-10-03T15:10:46.939Z"
   },
   {
    "duration": 8,
    "start_time": "2022-10-03T15:10:46.947Z"
   },
   {
    "duration": 75,
    "start_time": "2022-10-03T15:10:46.957Z"
   },
   {
    "duration": 37,
    "start_time": "2022-10-03T15:10:47.033Z"
   },
   {
    "duration": 23,
    "start_time": "2022-10-03T15:10:47.072Z"
   },
   {
    "duration": 16,
    "start_time": "2022-10-03T15:10:47.097Z"
   },
   {
    "duration": 12,
    "start_time": "2022-10-03T15:10:47.114Z"
   },
   {
    "duration": 19,
    "start_time": "2022-10-03T15:10:47.128Z"
   },
   {
    "duration": 46,
    "start_time": "2022-10-03T15:10:47.149Z"
   },
   {
    "duration": 10,
    "start_time": "2022-10-03T15:10:47.197Z"
   },
   {
    "duration": 7,
    "start_time": "2022-10-03T15:10:47.208Z"
   },
   {
    "duration": 30,
    "start_time": "2022-10-03T15:10:47.216Z"
   },
   {
    "duration": 7,
    "start_time": "2022-10-03T15:10:47.248Z"
   },
   {
    "duration": 9,
    "start_time": "2022-10-03T15:10:47.256Z"
   },
   {
    "duration": 40,
    "start_time": "2022-10-03T15:10:47.266Z"
   },
   {
    "duration": 11,
    "start_time": "2022-10-03T15:10:47.307Z"
   },
   {
    "duration": 17,
    "start_time": "2022-10-03T15:10:47.320Z"
   },
   {
    "duration": 13,
    "start_time": "2022-10-03T15:10:47.338Z"
   },
   {
    "duration": 61,
    "start_time": "2022-10-03T15:10:47.352Z"
   },
   {
    "duration": 10,
    "start_time": "2022-10-03T15:10:47.414Z"
   },
   {
    "duration": 23,
    "start_time": "2022-10-03T15:10:47.426Z"
   },
   {
    "duration": 15,
    "start_time": "2022-10-03T15:10:47.451Z"
   },
   {
    "duration": 50,
    "start_time": "2022-10-03T15:10:47.468Z"
   }
  ],
  "kernelspec": {
   "display_name": "Python 3 (ipykernel)",
   "language": "python",
   "name": "python3"
  },
  "language_info": {
   "codemirror_mode": {
    "name": "ipython",
    "version": 3
   },
   "file_extension": ".py",
   "mimetype": "text/x-python",
   "name": "python",
   "nbconvert_exporter": "python",
   "pygments_lexer": "ipython3",
   "version": "3.10.1"
  },
  "toc": {
   "base_numbering": 1,
   "nav_menu": {},
   "number_sections": true,
   "sideBar": true,
   "skip_h1_title": true,
   "title_cell": "Table of Contents",
   "title_sidebar": "Contents",
   "toc_cell": false,
   "toc_position": {
    "height": "calc(100% - 180px)",
    "left": "10px",
    "top": "150px",
    "width": "253px"
   },
   "toc_section_display": true,
   "toc_window_display": true
  }
 },
 "nbformat": 4,
 "nbformat_minor": 5
}
