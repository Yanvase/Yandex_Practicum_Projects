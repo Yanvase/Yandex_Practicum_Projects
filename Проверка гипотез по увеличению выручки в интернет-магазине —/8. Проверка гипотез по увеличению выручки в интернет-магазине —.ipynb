{
 "cells": [
  {
   "cell_type": "code",
   "execution_count": 1,
   "id": "937ec91d",
   "metadata": {},
   "outputs": [
    {
     "data": {
      "text/html": [
       "<style>.container { width:90% !important; }</style>"
      ],
      "text/plain": [
       "<IPython.core.display.HTML object>"
      ]
     },
     "metadata": {},
     "output_type": "display_data"
    }
   ],
   "source": [
    "# Адаптируем размер тетрадки\n",
    "from IPython.display import display, HTML\n",
    "display(HTML(\"<style>.container { width:90% !important; }</style>\"))"
   ]
  },
  {
   "cell_type": "markdown",
   "id": "6f0b58e7",
   "metadata": {},
   "source": [
    "<a id='31-bullet'></a>\n",
    "## Название проэкта: \n",
    "<b> Принятие решений в бизнесе </b>\n",
    "    \n",
    "## Цель проекта: \n",
    "<b>Приоритизация гипотез, запуск A/B-теста и анализ результатов. </b>\n",
    "\n",
    "\n",
    "## Описание проекта:\n",
    "Вы — аналитик крупного интернет-магазина. Вместе с отделом маркетинга вы подготовили список гипотез для увеличения выручки.\n",
    "\n",
    "    \n",
    "## Описание данных:\n",
    "\n",
    "Данные для первой части:\n",
    "\n",
    "Файл /datasets/hypothesis.csv.\n",
    "* Hypothesis — краткое описание гипотезы;\n",
    "* Reach — охват пользователей по 10-балльной шкале;\n",
    "* Impact — влияние на пользователей по 10-балльной шкале;\n",
    "* Confidence — уверенность в гипотезе по 10-балльной шкале;\n",
    "* Efforts — затраты ресурсов на проверку гипотезы по 10-балльной шкале. Чем больше значение Efforts, тем дороже проверка гипотезы.\n",
    "\n",
    "Данные для второй части: \n",
    "\n",
    "Файл /datasets/orders.csv. Скачать датасет\n",
    "* transactionId — идентификатор заказа;\n",
    "* visitorId — идентификатор пользователя, совершившего заказ;\n",
    "* date — дата, когда был совершён заказ;\n",
    "* revenue — выручка заказа;\n",
    "* group — группа A/B-теста, в которую попал заказ.\n",
    "\n",
    "Файл /datasets/visitors.csv. Скачать датасет\n",
    "* date — дата;\n",
    "* group — группа A/B-теста;\n",
    "* visitors — количество пользователей в указанную дату в указанной группе A/B-теста\n",
    "\n",
    "## Данное исследование разделим на несколько частей:\n",
    "\n",
    "##### [Часть 1. Изучение общей информации:](#1-bullet)\n",
    "* [1. Изучение файлов с данными, получение общей информации, загрузка библиотек.](#1-bullet)\n",
    "\n",
    "##### [Часть 2. Подготка данных:](#2-bullet)\n",
    "\n",
    "\n",
    "##### [Часть 3. Приоритизация гипотез:](#3-bullet)\n",
    "* [1. Применим фреймворк ICE для приоритизации гипотез. Отсортируем их по убыванию приоритета.](#4-bullet)\n",
    "* [2. Применим фреймворк RICE для приоритизации гипотез. Отсортируем их по убыванию приоритета.](#5-bullet)\n",
    "* [3. Укажем, как изменилась приоритизация гипотез при применении RICE вместо ICE. Объясним, почему так произошло.](#7-bullet)\n",
    "\n",
    "\n",
    "\n",
    "##### [Часть 4. Анализ A/B-теста:](#11-bullet)\n",
    "* [1. Построим график кумулятивной выручки по группам. Сделаем выводы и предположения.](#12-bullet)\n",
    "* [2 Построим график кумулятивного среднего чека по группам. Сделаем выводы и предположения.](#13-bullet)\n",
    "* [3 Построим график относительного изменения кумулятивного среднего чека группы B к группе A. Сделаем выводы и предположения.](#14-bullet)\n",
    "* [4 Построим график кумулятивной конверсии по группам. Сделаем выводы и предположения.](#15-bullet)\n",
    "* [5 Построим график относительного изменения кумулятивной конверсии группы B к группе A. Сделаем выводы и предположения.](#16-bullet)\n",
    "* [6. Построим точечный график количества заказов по пользователям. Сделаем выводы и предположения.](#17-bullet)\n",
    "* [7. Посчитаем 95-й и 99-й перцентили количества заказов на пользователя. Выберим границу для определения аномальных пользователей.](#18-bullet)\n",
    "* [8. Построим точечный график стоимостей заказов. Сделаем выводы и предположения.](#19-bullet)\n",
    "* [9. Посчитаем 95-й и 99-й перцентили стоимости заказов. Выберим границу для определения аномальных заказов.](#20-bullet)\n",
    "* [10. Посчитаем статистическую значимость различий в конверсии между группами по «сырым» данным. Сделаем выводы и предположения.](#21-bullet)\n",
    "* [11. Посчитаем статистическую значимость различий в среднем чеке заказа между группами по «сырым» данным. Сделаем выводы и предположения.](#22-bullet)\n",
    "* [12. Посчитаем статистическую значимость различий в конверсии между группами по «очищенным» данным. Сделаем выводы и предположения.](#23-bullet)\n",
    "* [13. Посчитаем статистическую значимость различий в среднем чеке заказа между группами по «очищенным» данным. Сделаем выводы и предположения.](#24-bullet)\n",
    "* [14. Примем решение по результатам теста и объясните его. Варианты решений:](#25-bullet) \n",
    "    * 1. Остановить тест, зафиксировать победу одной из групп. \n",
    "    * 2. Остановить тест, зафиксировать отсутствие различий между группами. \n",
    "    * 3. Продолжить тест.\n",
    "\n",
    "##### [Часть 7. Выводы](#30-bullet)\n",
    "    \n"
   ]
  },
  {
   "cell_type": "markdown",
   "id": "2687d33e",
   "metadata": {},
   "source": [
    "<a id='1-bullet'></a>\n",
    "# Изучение общей информации:"
   ]
  },
  {
   "cell_type": "code",
   "execution_count": 2,
   "id": "fb450758",
   "metadata": {},
   "outputs": [],
   "source": [
    "import pandas as pd\n",
    "import matplotlib as mlt\n",
    "import numpy as np \n",
    "import seaborn as sns\n",
    "import matplotlib.pyplot as plt\n",
    "from datetime import datetime, timedelta\n",
    "import scipy.stats as stats"
   ]
  },
  {
   "cell_type": "code",
   "execution_count": 3,
   "id": "f7598a34",
   "metadata": {},
   "outputs": [],
   "source": [
    "try:\n",
    "    hypothesis = pd.read_csv('/datasets/hypothesis.csv')\n",
    "except:\n",
    "    hypothesis = pd.read_csv('hypothesis.csv')\n",
    "try:\n",
    "    orders = pd.read_csv('/datasets/orders.csv')\n",
    "except:\n",
    "    orders = pd.read_csv('orders.csv')\n",
    "try:\n",
    "    visitors = pd.read_csv('/datasets/visitors.csv')\n",
    "except:\n",
    "    visitors = pd.read_csv('visitors.csv')"
   ]
  },
  {
   "cell_type": "code",
   "execution_count": 4,
   "id": "7fea9935",
   "metadata": {},
   "outputs": [
    {
     "name": "stdout",
     "output_type": "stream",
     "text": [
      "<class 'pandas.core.frame.DataFrame'>\n",
      "RangeIndex: 9 entries, 0 to 8\n",
      "Data columns (total 5 columns):\n",
      " #   Column      Non-Null Count  Dtype \n",
      "---  ------      --------------  ----- \n",
      " 0   Hypothesis  9 non-null      object\n",
      " 1   Reach       9 non-null      int64 \n",
      " 2   Impact      9 non-null      int64 \n",
      " 3   Confidence  9 non-null      int64 \n",
      " 4   Efforts     9 non-null      int64 \n",
      "dtypes: int64(4), object(1)\n",
      "memory usage: 488.0+ bytes\n",
      "<class 'pandas.core.frame.DataFrame'>\n",
      "RangeIndex: 1197 entries, 0 to 1196\n",
      "Data columns (total 5 columns):\n",
      " #   Column         Non-Null Count  Dtype \n",
      "---  ------         --------------  ----- \n",
      " 0   transactionId  1197 non-null   int64 \n",
      " 1   visitorId      1197 non-null   int64 \n",
      " 2   date           1197 non-null   object\n",
      " 3   revenue        1197 non-null   int64 \n",
      " 4   group          1197 non-null   object\n",
      "dtypes: int64(3), object(2)\n",
      "memory usage: 46.9+ KB\n",
      "<class 'pandas.core.frame.DataFrame'>\n",
      "RangeIndex: 62 entries, 0 to 61\n",
      "Data columns (total 3 columns):\n",
      " #   Column    Non-Null Count  Dtype \n",
      "---  ------    --------------  ----- \n",
      " 0   date      62 non-null     object\n",
      " 1   group     62 non-null     object\n",
      " 2   visitors  62 non-null     int64 \n",
      "dtypes: int64(1), object(2)\n",
      "memory usage: 1.6+ KB\n"
     ]
    },
    {
     "data": {
      "text/html": [
       "<div>\n",
       "<style scoped>\n",
       "    .dataframe tbody tr th:only-of-type {\n",
       "        vertical-align: middle;\n",
       "    }\n",
       "\n",
       "    .dataframe tbody tr th {\n",
       "        vertical-align: top;\n",
       "    }\n",
       "\n",
       "    .dataframe thead th {\n",
       "        text-align: right;\n",
       "    }\n",
       "</style>\n",
       "<table border=\"1\" class=\"dataframe\">\n",
       "  <thead>\n",
       "    <tr style=\"text-align: right;\">\n",
       "      <th></th>\n",
       "      <th>Hypothesis</th>\n",
       "      <th>Reach</th>\n",
       "      <th>Impact</th>\n",
       "      <th>Confidence</th>\n",
       "      <th>Efforts</th>\n",
       "    </tr>\n",
       "  </thead>\n",
       "  <tbody>\n",
       "    <tr>\n",
       "      <th>0</th>\n",
       "      <td>Добавить два новых канала привлечения трафика,...</td>\n",
       "      <td>3</td>\n",
       "      <td>10</td>\n",
       "      <td>8</td>\n",
       "      <td>6</td>\n",
       "    </tr>\n",
       "    <tr>\n",
       "      <th>1</th>\n",
       "      <td>Запустить собственную службу доставки, что сок...</td>\n",
       "      <td>2</td>\n",
       "      <td>5</td>\n",
       "      <td>4</td>\n",
       "      <td>10</td>\n",
       "    </tr>\n",
       "    <tr>\n",
       "      <th>2</th>\n",
       "      <td>Добавить блоки рекомендаций товаров на сайт ин...</td>\n",
       "      <td>8</td>\n",
       "      <td>3</td>\n",
       "      <td>7</td>\n",
       "      <td>3</td>\n",
       "    </tr>\n",
       "    <tr>\n",
       "      <th>3</th>\n",
       "      <td>Изменить структура категорий, что увеличит кон...</td>\n",
       "      <td>8</td>\n",
       "      <td>3</td>\n",
       "      <td>3</td>\n",
       "      <td>8</td>\n",
       "    </tr>\n",
       "    <tr>\n",
       "      <th>4</th>\n",
       "      <td>Изменить цвет фона главной страницы, чтобы уве...</td>\n",
       "      <td>3</td>\n",
       "      <td>1</td>\n",
       "      <td>1</td>\n",
       "      <td>1</td>\n",
       "    </tr>\n",
       "  </tbody>\n",
       "</table>\n",
       "</div>"
      ],
      "text/plain": [
       "                                          Hypothesis  Reach  Impact  \\\n",
       "0  Добавить два новых канала привлечения трафика,...      3      10   \n",
       "1  Запустить собственную службу доставки, что сок...      2       5   \n",
       "2  Добавить блоки рекомендаций товаров на сайт ин...      8       3   \n",
       "3  Изменить структура категорий, что увеличит кон...      8       3   \n",
       "4  Изменить цвет фона главной страницы, чтобы уве...      3       1   \n",
       "\n",
       "   Confidence  Efforts  \n",
       "0           8        6  \n",
       "1           4       10  \n",
       "2           7        3  \n",
       "3           3        8  \n",
       "4           1        1  "
      ]
     },
     "metadata": {},
     "output_type": "display_data"
    },
    {
     "data": {
      "text/plain": [
       "None"
      ]
     },
     "metadata": {},
     "output_type": "display_data"
    },
    {
     "data": {
      "text/html": [
       "<div>\n",
       "<style scoped>\n",
       "    .dataframe tbody tr th:only-of-type {\n",
       "        vertical-align: middle;\n",
       "    }\n",
       "\n",
       "    .dataframe tbody tr th {\n",
       "        vertical-align: top;\n",
       "    }\n",
       "\n",
       "    .dataframe thead th {\n",
       "        text-align: right;\n",
       "    }\n",
       "</style>\n",
       "<table border=\"1\" class=\"dataframe\">\n",
       "  <thead>\n",
       "    <tr style=\"text-align: right;\">\n",
       "      <th></th>\n",
       "      <th>transactionId</th>\n",
       "      <th>visitorId</th>\n",
       "      <th>date</th>\n",
       "      <th>revenue</th>\n",
       "      <th>group</th>\n",
       "    </tr>\n",
       "  </thead>\n",
       "  <tbody>\n",
       "    <tr>\n",
       "      <th>0</th>\n",
       "      <td>3667963787</td>\n",
       "      <td>3312258926</td>\n",
       "      <td>2019-08-15</td>\n",
       "      <td>1650</td>\n",
       "      <td>B</td>\n",
       "    </tr>\n",
       "    <tr>\n",
       "      <th>1</th>\n",
       "      <td>2804400009</td>\n",
       "      <td>3642806036</td>\n",
       "      <td>2019-08-15</td>\n",
       "      <td>730</td>\n",
       "      <td>B</td>\n",
       "    </tr>\n",
       "    <tr>\n",
       "      <th>2</th>\n",
       "      <td>2961555356</td>\n",
       "      <td>4069496402</td>\n",
       "      <td>2019-08-15</td>\n",
       "      <td>400</td>\n",
       "      <td>A</td>\n",
       "    </tr>\n",
       "    <tr>\n",
       "      <th>3</th>\n",
       "      <td>3797467345</td>\n",
       "      <td>1196621759</td>\n",
       "      <td>2019-08-15</td>\n",
       "      <td>9759</td>\n",
       "      <td>B</td>\n",
       "    </tr>\n",
       "    <tr>\n",
       "      <th>4</th>\n",
       "      <td>2282983706</td>\n",
       "      <td>2322279887</td>\n",
       "      <td>2019-08-15</td>\n",
       "      <td>2308</td>\n",
       "      <td>B</td>\n",
       "    </tr>\n",
       "  </tbody>\n",
       "</table>\n",
       "</div>"
      ],
      "text/plain": [
       "   transactionId   visitorId        date  revenue group\n",
       "0     3667963787  3312258926  2019-08-15     1650     B\n",
       "1     2804400009  3642806036  2019-08-15      730     B\n",
       "2     2961555356  4069496402  2019-08-15      400     A\n",
       "3     3797467345  1196621759  2019-08-15     9759     B\n",
       "4     2282983706  2322279887  2019-08-15     2308     B"
      ]
     },
     "metadata": {},
     "output_type": "display_data"
    },
    {
     "data": {
      "text/plain": [
       "None"
      ]
     },
     "metadata": {},
     "output_type": "display_data"
    },
    {
     "data": {
      "text/html": [
       "<div>\n",
       "<style scoped>\n",
       "    .dataframe tbody tr th:only-of-type {\n",
       "        vertical-align: middle;\n",
       "    }\n",
       "\n",
       "    .dataframe tbody tr th {\n",
       "        vertical-align: top;\n",
       "    }\n",
       "\n",
       "    .dataframe thead th {\n",
       "        text-align: right;\n",
       "    }\n",
       "</style>\n",
       "<table border=\"1\" class=\"dataframe\">\n",
       "  <thead>\n",
       "    <tr style=\"text-align: right;\">\n",
       "      <th></th>\n",
       "      <th>date</th>\n",
       "      <th>group</th>\n",
       "      <th>visitors</th>\n",
       "    </tr>\n",
       "  </thead>\n",
       "  <tbody>\n",
       "    <tr>\n",
       "      <th>0</th>\n",
       "      <td>2019-08-01</td>\n",
       "      <td>A</td>\n",
       "      <td>719</td>\n",
       "    </tr>\n",
       "    <tr>\n",
       "      <th>1</th>\n",
       "      <td>2019-08-02</td>\n",
       "      <td>A</td>\n",
       "      <td>619</td>\n",
       "    </tr>\n",
       "    <tr>\n",
       "      <th>2</th>\n",
       "      <td>2019-08-03</td>\n",
       "      <td>A</td>\n",
       "      <td>507</td>\n",
       "    </tr>\n",
       "    <tr>\n",
       "      <th>3</th>\n",
       "      <td>2019-08-04</td>\n",
       "      <td>A</td>\n",
       "      <td>717</td>\n",
       "    </tr>\n",
       "    <tr>\n",
       "      <th>4</th>\n",
       "      <td>2019-08-05</td>\n",
       "      <td>A</td>\n",
       "      <td>756</td>\n",
       "    </tr>\n",
       "  </tbody>\n",
       "</table>\n",
       "</div>"
      ],
      "text/plain": [
       "         date group  visitors\n",
       "0  2019-08-01     A       719\n",
       "1  2019-08-02     A       619\n",
       "2  2019-08-03     A       507\n",
       "3  2019-08-04     A       717\n",
       "4  2019-08-05     A       756"
      ]
     },
     "metadata": {},
     "output_type": "display_data"
    },
    {
     "data": {
      "text/plain": [
       "None"
      ]
     },
     "metadata": {},
     "output_type": "display_data"
    },
    {
     "name": "stdout",
     "output_type": "stream",
     "text": [
      "Пропуски:\n"
     ]
    },
    {
     "data": {
      "text/plain": [
       "0"
      ]
     },
     "metadata": {},
     "output_type": "display_data"
    },
    {
     "data": {
      "text/plain": [
       "0"
      ]
     },
     "metadata": {},
     "output_type": "display_data"
    },
    {
     "data": {
      "text/plain": [
       "0"
      ]
     },
     "metadata": {},
     "output_type": "display_data"
    }
   ],
   "source": [
    "display(hypothesis.head(), hypothesis.info(), \n",
    "        orders.head(), orders.info(), \n",
    "        visitors.head(), visitors.info()\n",
    "       )\n",
    "print('Пропуски:')\n",
    "display(hypothesis.duplicated().sum(),\n",
    "       orders.duplicated().sum(),\n",
    "       visitors.duplicated().sum()\n",
    "       )"
   ]
  },
  {
   "cell_type": "markdown",
   "id": "b9048f85",
   "metadata": {},
   "source": [
    "<b> Вывод:\n",
    "Имеем 3 базы данных:\n",
    "* В файле hypothesis.csv 9 гипотез по увеличению выручки интернет-магазина с указанными параметрами Reach, Impact, Confidence, Effort.\n",
    "* В файле orders.csv и visitors.csv описаны результаты проведенного A/B теста.\n",
    "\n",
    "<b>\n",
    "В данных нет проблем с пропусками или дубликатами, но все столбцы начинаются с заглавных, а даты имеют не правильный тип данных.\n"
   ]
  },
  {
   "cell_type": "markdown",
   "id": "64045eda",
   "metadata": {},
   "source": [
    "<a id='2-bullet'></a>\n",
    "# Подготка данных:"
   ]
  },
  {
   "cell_type": "code",
   "execution_count": 5,
   "id": "75e634fd",
   "metadata": {},
   "outputs": [
    {
     "name": "stdout",
     "output_type": "stream",
     "text": [
      "количество пересекающихся пользователей в группах: 89\n"
     ]
    }
   ],
   "source": [
    "# Проверим наличие пересекающихся пользователей в группах\n",
    "\n",
    "orders_twinsA = orders[orders['group'] == 'A']\n",
    "orders_twinsB = orders[orders['group'] == 'B']\n",
    "twins_id = pd.DataFrame(orders_twinsA[orders_twinsA['visitorId'].isin(orders_twinsB['visitorId'])])\n",
    "twins_id = twins_id.drop('group', axis=1).drop_duplicates().reset_index(drop=True)\n",
    "print('количество пересекающихся пользователей в группах:', twins_id['visitorId'].count())"
   ]
  },
  {
   "cell_type": "code",
   "execution_count": 6,
   "id": "2d5dbf04",
   "metadata": {},
   "outputs": [
    {
     "name": "stdout",
     "output_type": "stream",
     "text": [
      "<class 'pandas.core.frame.DataFrame'>\n",
      "RangeIndex: 9 entries, 0 to 8\n",
      "Data columns (total 5 columns):\n",
      " #   Column      Non-Null Count  Dtype \n",
      "---  ------      --------------  ----- \n",
      " 0   hypothesis  9 non-null      object\n",
      " 1   reach       9 non-null      int64 \n",
      " 2   impact      9 non-null      int64 \n",
      " 3   confidence  9 non-null      int64 \n",
      " 4   efforts     9 non-null      int64 \n",
      "dtypes: int64(4), object(1)\n",
      "memory usage: 488.0+ bytes\n",
      "<class 'pandas.core.frame.DataFrame'>\n",
      "Int64Index: 1016 entries, 0 to 1196\n",
      "Data columns (total 5 columns):\n",
      " #   Column          Non-Null Count  Dtype         \n",
      "---  ------          --------------  -----         \n",
      " 0   transaction_id  1016 non-null   int64         \n",
      " 1   visitor_id      1016 non-null   int64         \n",
      " 2   date            1016 non-null   datetime64[ns]\n",
      " 3   revenue         1016 non-null   int64         \n",
      " 4   group           1016 non-null   object        \n",
      "dtypes: datetime64[ns](1), int64(3), object(1)\n",
      "memory usage: 47.6+ KB\n",
      "<class 'pandas.core.frame.DataFrame'>\n",
      "RangeIndex: 62 entries, 0 to 61\n",
      "Data columns (total 3 columns):\n",
      " #   Column    Non-Null Count  Dtype         \n",
      "---  ------    --------------  -----         \n",
      " 0   date      62 non-null     datetime64[ns]\n",
      " 1   group     62 non-null     object        \n",
      " 2   visitors  62 non-null     int64         \n",
      "dtypes: datetime64[ns](1), int64(1), object(1)\n",
      "memory usage: 1.6+ KB\n"
     ]
    },
    {
     "data": {
      "text/html": [
       "<div>\n",
       "<style scoped>\n",
       "    .dataframe tbody tr th:only-of-type {\n",
       "        vertical-align: middle;\n",
       "    }\n",
       "\n",
       "    .dataframe tbody tr th {\n",
       "        vertical-align: top;\n",
       "    }\n",
       "\n",
       "    .dataframe thead th {\n",
       "        text-align: right;\n",
       "    }\n",
       "</style>\n",
       "<table border=\"1\" class=\"dataframe\">\n",
       "  <thead>\n",
       "    <tr style=\"text-align: right;\">\n",
       "      <th></th>\n",
       "      <th>hypothesis</th>\n",
       "      <th>reach</th>\n",
       "      <th>impact</th>\n",
       "      <th>confidence</th>\n",
       "      <th>efforts</th>\n",
       "    </tr>\n",
       "  </thead>\n",
       "  <tbody>\n",
       "    <tr>\n",
       "      <th>0</th>\n",
       "      <td>Добавить два новых канала привлечения трафика,...</td>\n",
       "      <td>3</td>\n",
       "      <td>10</td>\n",
       "      <td>8</td>\n",
       "      <td>6</td>\n",
       "    </tr>\n",
       "    <tr>\n",
       "      <th>1</th>\n",
       "      <td>Запустить собственную службу доставки, что сок...</td>\n",
       "      <td>2</td>\n",
       "      <td>5</td>\n",
       "      <td>4</td>\n",
       "      <td>10</td>\n",
       "    </tr>\n",
       "    <tr>\n",
       "      <th>2</th>\n",
       "      <td>Добавить блоки рекомендаций товаров на сайт ин...</td>\n",
       "      <td>8</td>\n",
       "      <td>3</td>\n",
       "      <td>7</td>\n",
       "      <td>3</td>\n",
       "    </tr>\n",
       "    <tr>\n",
       "      <th>3</th>\n",
       "      <td>Изменить структура категорий, что увеличит кон...</td>\n",
       "      <td>8</td>\n",
       "      <td>3</td>\n",
       "      <td>3</td>\n",
       "      <td>8</td>\n",
       "    </tr>\n",
       "    <tr>\n",
       "      <th>4</th>\n",
       "      <td>Изменить цвет фона главной страницы, чтобы уве...</td>\n",
       "      <td>3</td>\n",
       "      <td>1</td>\n",
       "      <td>1</td>\n",
       "      <td>1</td>\n",
       "    </tr>\n",
       "  </tbody>\n",
       "</table>\n",
       "</div>"
      ],
      "text/plain": [
       "                                          hypothesis  reach  impact  \\\n",
       "0  Добавить два новых канала привлечения трафика,...      3      10   \n",
       "1  Запустить собственную службу доставки, что сок...      2       5   \n",
       "2  Добавить блоки рекомендаций товаров на сайт ин...      8       3   \n",
       "3  Изменить структура категорий, что увеличит кон...      8       3   \n",
       "4  Изменить цвет фона главной страницы, чтобы уве...      3       1   \n",
       "\n",
       "   confidence  efforts  \n",
       "0           8        6  \n",
       "1           4       10  \n",
       "2           7        3  \n",
       "3           3        8  \n",
       "4           1        1  "
      ]
     },
     "metadata": {},
     "output_type": "display_data"
    },
    {
     "data": {
      "text/plain": [
       "None"
      ]
     },
     "metadata": {},
     "output_type": "display_data"
    },
    {
     "data": {
      "text/html": [
       "<div>\n",
       "<style scoped>\n",
       "    .dataframe tbody tr th:only-of-type {\n",
       "        vertical-align: middle;\n",
       "    }\n",
       "\n",
       "    .dataframe tbody tr th {\n",
       "        vertical-align: top;\n",
       "    }\n",
       "\n",
       "    .dataframe thead th {\n",
       "        text-align: right;\n",
       "    }\n",
       "</style>\n",
       "<table border=\"1\" class=\"dataframe\">\n",
       "  <thead>\n",
       "    <tr style=\"text-align: right;\">\n",
       "      <th></th>\n",
       "      <th>transaction_id</th>\n",
       "      <th>visitor_id</th>\n",
       "      <th>date</th>\n",
       "      <th>revenue</th>\n",
       "      <th>group</th>\n",
       "    </tr>\n",
       "  </thead>\n",
       "  <tbody>\n",
       "    <tr>\n",
       "      <th>0</th>\n",
       "      <td>3667963787</td>\n",
       "      <td>3312258926</td>\n",
       "      <td>2019-08-15</td>\n",
       "      <td>1650</td>\n",
       "      <td>B</td>\n",
       "    </tr>\n",
       "    <tr>\n",
       "      <th>1</th>\n",
       "      <td>2804400009</td>\n",
       "      <td>3642806036</td>\n",
       "      <td>2019-08-15</td>\n",
       "      <td>730</td>\n",
       "      <td>B</td>\n",
       "    </tr>\n",
       "    <tr>\n",
       "      <th>3</th>\n",
       "      <td>3797467345</td>\n",
       "      <td>1196621759</td>\n",
       "      <td>2019-08-15</td>\n",
       "      <td>9759</td>\n",
       "      <td>B</td>\n",
       "    </tr>\n",
       "    <tr>\n",
       "      <th>4</th>\n",
       "      <td>2282983706</td>\n",
       "      <td>2322279887</td>\n",
       "      <td>2019-08-15</td>\n",
       "      <td>2308</td>\n",
       "      <td>B</td>\n",
       "    </tr>\n",
       "    <tr>\n",
       "      <th>5</th>\n",
       "      <td>182168103</td>\n",
       "      <td>935554773</td>\n",
       "      <td>2019-08-15</td>\n",
       "      <td>2210</td>\n",
       "      <td>B</td>\n",
       "    </tr>\n",
       "  </tbody>\n",
       "</table>\n",
       "</div>"
      ],
      "text/plain": [
       "   transaction_id  visitor_id       date  revenue group\n",
       "0      3667963787  3312258926 2019-08-15     1650     B\n",
       "1      2804400009  3642806036 2019-08-15      730     B\n",
       "3      3797467345  1196621759 2019-08-15     9759     B\n",
       "4      2282983706  2322279887 2019-08-15     2308     B\n",
       "5       182168103   935554773 2019-08-15     2210     B"
      ]
     },
     "metadata": {},
     "output_type": "display_data"
    },
    {
     "data": {
      "text/plain": [
       "None"
      ]
     },
     "metadata": {},
     "output_type": "display_data"
    },
    {
     "data": {
      "text/html": [
       "<div>\n",
       "<style scoped>\n",
       "    .dataframe tbody tr th:only-of-type {\n",
       "        vertical-align: middle;\n",
       "    }\n",
       "\n",
       "    .dataframe tbody tr th {\n",
       "        vertical-align: top;\n",
       "    }\n",
       "\n",
       "    .dataframe thead th {\n",
       "        text-align: right;\n",
       "    }\n",
       "</style>\n",
       "<table border=\"1\" class=\"dataframe\">\n",
       "  <thead>\n",
       "    <tr style=\"text-align: right;\">\n",
       "      <th></th>\n",
       "      <th>date</th>\n",
       "      <th>group</th>\n",
       "      <th>visitors</th>\n",
       "    </tr>\n",
       "  </thead>\n",
       "  <tbody>\n",
       "    <tr>\n",
       "      <th>0</th>\n",
       "      <td>2019-08-01</td>\n",
       "      <td>A</td>\n",
       "      <td>719</td>\n",
       "    </tr>\n",
       "    <tr>\n",
       "      <th>1</th>\n",
       "      <td>2019-08-02</td>\n",
       "      <td>A</td>\n",
       "      <td>619</td>\n",
       "    </tr>\n",
       "    <tr>\n",
       "      <th>2</th>\n",
       "      <td>2019-08-03</td>\n",
       "      <td>A</td>\n",
       "      <td>507</td>\n",
       "    </tr>\n",
       "    <tr>\n",
       "      <th>3</th>\n",
       "      <td>2019-08-04</td>\n",
       "      <td>A</td>\n",
       "      <td>717</td>\n",
       "    </tr>\n",
       "    <tr>\n",
       "      <th>4</th>\n",
       "      <td>2019-08-05</td>\n",
       "      <td>A</td>\n",
       "      <td>756</td>\n",
       "    </tr>\n",
       "  </tbody>\n",
       "</table>\n",
       "</div>"
      ],
      "text/plain": [
       "        date group  visitors\n",
       "0 2019-08-01     A       719\n",
       "1 2019-08-02     A       619\n",
       "2 2019-08-03     A       507\n",
       "3 2019-08-04     A       717\n",
       "4 2019-08-05     A       756"
      ]
     },
     "metadata": {},
     "output_type": "display_data"
    },
    {
     "data": {
      "text/plain": [
       "None"
      ]
     },
     "metadata": {},
     "output_type": "display_data"
    }
   ],
   "source": [
    "# удалим пересекающихся пользователей\n",
    "orders = orders[~orders['visitorId'].isin(twins_id['visitorId'])]\n",
    "\n",
    "# Приведем столбцы к нижнему регистру:\n",
    "hypothesis.columns = hypothesis.columns.str.lower()\n",
    "\n",
    "\n",
    "# Преобразование данных о времени:\n",
    "orders['date'] = pd.to_datetime(orders['date'])\n",
    "visitors['date'] = pd.to_datetime(visitors['date'])\n",
    "\n",
    "# Для лучшей читаемости переименуем столбцы:\n",
    "orders = orders.rename(columns={ 'transactionId' : 'transaction_id', \n",
    "                                'visitorId' : 'visitor_id'})\n",
    "# Частично снимем ограничения на показ значении в таблицах:\n",
    "pd.set_option('display.max_rows', None)\n",
    "pd.set_option('display.max_columns', None)\n",
    "pd.set_option('display.max_colwidth', 50)\n",
    "\n",
    "# Проверим:\n",
    "display(hypothesis.head(), hypothesis.info(), \n",
    "        orders.head(), orders.info(), \n",
    "        visitors.head(), visitors.info()\n",
    "       )"
   ]
  },
  {
   "cell_type": "markdown",
   "id": "967b3b52",
   "metadata": {},
   "source": [
    "<a id='3-bullet'></a>\n",
    "# Приоритизация гипотез:"
   ]
  },
  {
   "cell_type": "markdown",
   "id": "949d5784",
   "metadata": {},
   "source": [
    "<a id='4-bullet'></a>\n",
    "## Применим фреймворк ICE для приоритизации гипотез. Отсортируем их по убыванию приоритета."
   ]
  },
  {
   "cell_type": "code",
   "execution_count": 7,
   "id": "b1b3a334",
   "metadata": {
    "scrolled": true
   },
   "outputs": [
    {
     "data": {
      "text/html": [
       "<div>\n",
       "<style scoped>\n",
       "    .dataframe tbody tr th:only-of-type {\n",
       "        vertical-align: middle;\n",
       "    }\n",
       "\n",
       "    .dataframe tbody tr th {\n",
       "        vertical-align: top;\n",
       "    }\n",
       "\n",
       "    .dataframe thead th {\n",
       "        text-align: right;\n",
       "    }\n",
       "</style>\n",
       "<table border=\"1\" class=\"dataframe\">\n",
       "  <thead>\n",
       "    <tr style=\"text-align: right;\">\n",
       "      <th></th>\n",
       "      <th>hypothesis</th>\n",
       "      <th>ice</th>\n",
       "    </tr>\n",
       "  </thead>\n",
       "  <tbody>\n",
       "    <tr>\n",
       "      <th>8</th>\n",
       "      <td>Запустить акцию, дающую скидку на товар в день...</td>\n",
       "      <td>16.200000</td>\n",
       "    </tr>\n",
       "    <tr>\n",
       "      <th>0</th>\n",
       "      <td>Добавить два новых канала привлечения трафика,...</td>\n",
       "      <td>13.333333</td>\n",
       "    </tr>\n",
       "    <tr>\n",
       "      <th>7</th>\n",
       "      <td>Добавить форму подписки на все основные страни...</td>\n",
       "      <td>11.200000</td>\n",
       "    </tr>\n",
       "    <tr>\n",
       "      <th>6</th>\n",
       "      <td>Показать на главной странице баннеры с актуаль...</td>\n",
       "      <td>8.000000</td>\n",
       "    </tr>\n",
       "    <tr>\n",
       "      <th>2</th>\n",
       "      <td>Добавить блоки рекомендаций товаров на сайт ин...</td>\n",
       "      <td>7.000000</td>\n",
       "    </tr>\n",
       "    <tr>\n",
       "      <th>1</th>\n",
       "      <td>Запустить собственную службу доставки, что сок...</td>\n",
       "      <td>2.000000</td>\n",
       "    </tr>\n",
       "    <tr>\n",
       "      <th>5</th>\n",
       "      <td>Добавить страницу отзывов клиентов о магазине,...</td>\n",
       "      <td>1.333333</td>\n",
       "    </tr>\n",
       "    <tr>\n",
       "      <th>3</th>\n",
       "      <td>Изменить структура категорий, что увеличит кон...</td>\n",
       "      <td>1.125000</td>\n",
       "    </tr>\n",
       "    <tr>\n",
       "      <th>4</th>\n",
       "      <td>Изменить цвет фона главной страницы, чтобы уве...</td>\n",
       "      <td>1.000000</td>\n",
       "    </tr>\n",
       "  </tbody>\n",
       "</table>\n",
       "</div>"
      ],
      "text/plain": [
       "                                          hypothesis        ice\n",
       "8  Запустить акцию, дающую скидку на товар в день...  16.200000\n",
       "0  Добавить два новых канала привлечения трафика,...  13.333333\n",
       "7  Добавить форму подписки на все основные страни...  11.200000\n",
       "6  Показать на главной странице баннеры с актуаль...   8.000000\n",
       "2  Добавить блоки рекомендаций товаров на сайт ин...   7.000000\n",
       "1  Запустить собственную службу доставки, что сок...   2.000000\n",
       "5  Добавить страницу отзывов клиентов о магазине,...   1.333333\n",
       "3  Изменить структура категорий, что увеличит кон...   1.125000\n",
       "4  Изменить цвет фона главной страницы, чтобы уве...   1.000000"
      ]
     },
     "metadata": {},
     "output_type": "display_data"
    }
   ],
   "source": [
    "hypothesis['ice'] = hypothesis['impact'] * hypothesis['confidence'] / hypothesis['efforts']\n",
    "display(hypothesis[['hypothesis' , 'ice']].sort_values(by = 'ice', ascending = False))"
   ]
  },
  {
   "cell_type": "markdown",
   "id": "1d05b10e",
   "metadata": {},
   "source": [
    "<b>\n",
    "При применении фреймворка для приоритизации гипотез ICE, лидируют гипотезы 8,0 и 7"
   ]
  },
  {
   "cell_type": "markdown",
   "id": "6aaae6c5",
   "metadata": {},
   "source": [
    "<a id='5-bullet'></a>\n",
    "## Применим фреймворк RICE для приоритизации гипотез. Отсортируем их по убыванию приоритета."
   ]
  },
  {
   "cell_type": "code",
   "execution_count": 8,
   "id": "763cf2f0",
   "metadata": {
    "scrolled": true
   },
   "outputs": [
    {
     "data": {
      "text/html": [
       "<div>\n",
       "<style scoped>\n",
       "    .dataframe tbody tr th:only-of-type {\n",
       "        vertical-align: middle;\n",
       "    }\n",
       "\n",
       "    .dataframe tbody tr th {\n",
       "        vertical-align: top;\n",
       "    }\n",
       "\n",
       "    .dataframe thead th {\n",
       "        text-align: right;\n",
       "    }\n",
       "</style>\n",
       "<table border=\"1\" class=\"dataframe\">\n",
       "  <thead>\n",
       "    <tr style=\"text-align: right;\">\n",
       "      <th></th>\n",
       "      <th>hypothesis</th>\n",
       "      <th>rice</th>\n",
       "    </tr>\n",
       "  </thead>\n",
       "  <tbody>\n",
       "    <tr>\n",
       "      <th>7</th>\n",
       "      <td>Добавить форму подписки на все основные страни...</td>\n",
       "      <td>112.0</td>\n",
       "    </tr>\n",
       "    <tr>\n",
       "      <th>2</th>\n",
       "      <td>Добавить блоки рекомендаций товаров на сайт ин...</td>\n",
       "      <td>56.0</td>\n",
       "    </tr>\n",
       "    <tr>\n",
       "      <th>0</th>\n",
       "      <td>Добавить два новых канала привлечения трафика,...</td>\n",
       "      <td>40.0</td>\n",
       "    </tr>\n",
       "    <tr>\n",
       "      <th>6</th>\n",
       "      <td>Показать на главной странице баннеры с актуаль...</td>\n",
       "      <td>40.0</td>\n",
       "    </tr>\n",
       "    <tr>\n",
       "      <th>8</th>\n",
       "      <td>Запустить акцию, дающую скидку на товар в день...</td>\n",
       "      <td>16.2</td>\n",
       "    </tr>\n",
       "    <tr>\n",
       "      <th>3</th>\n",
       "      <td>Изменить структура категорий, что увеличит кон...</td>\n",
       "      <td>9.0</td>\n",
       "    </tr>\n",
       "    <tr>\n",
       "      <th>1</th>\n",
       "      <td>Запустить собственную службу доставки, что сок...</td>\n",
       "      <td>4.0</td>\n",
       "    </tr>\n",
       "    <tr>\n",
       "      <th>5</th>\n",
       "      <td>Добавить страницу отзывов клиентов о магазине,...</td>\n",
       "      <td>4.0</td>\n",
       "    </tr>\n",
       "    <tr>\n",
       "      <th>4</th>\n",
       "      <td>Изменить цвет фона главной страницы, чтобы уве...</td>\n",
       "      <td>3.0</td>\n",
       "    </tr>\n",
       "  </tbody>\n",
       "</table>\n",
       "</div>"
      ],
      "text/plain": [
       "                                          hypothesis   rice\n",
       "7  Добавить форму подписки на все основные страни...  112.0\n",
       "2  Добавить блоки рекомендаций товаров на сайт ин...   56.0\n",
       "0  Добавить два новых канала привлечения трафика,...   40.0\n",
       "6  Показать на главной странице баннеры с актуаль...   40.0\n",
       "8  Запустить акцию, дающую скидку на товар в день...   16.2\n",
       "3  Изменить структура категорий, что увеличит кон...    9.0\n",
       "1  Запустить собственную службу доставки, что сок...    4.0\n",
       "5  Добавить страницу отзывов клиентов о магазине,...    4.0\n",
       "4  Изменить цвет фона главной страницы, чтобы уве...    3.0"
      ]
     },
     "metadata": {},
     "output_type": "display_data"
    }
   ],
   "source": [
    "hypothesis['rice'] = hypothesis['reach'] * hypothesis['impact'] * hypothesis['confidence'] / hypothesis['efforts']\n",
    "display(hypothesis[['hypothesis' , 'rice']].sort_values(by = 'rice', ascending = False))"
   ]
  },
  {
   "cell_type": "markdown",
   "id": "8663db85",
   "metadata": {},
   "source": [
    "<b>\n",
    "При применении фреймворка для приоритизации гипотез RICE, лидируют гипотезы 7,2 и 0"
   ]
  },
  {
   "cell_type": "markdown",
   "id": "aa937c42",
   "metadata": {},
   "source": [
    "<a id='7-bullet'></a>\n",
    "## Укажем, как изменилась приоритизация гипотез при применении RICE вместо ICE. Объясним, почему так произошло."
   ]
  },
  {
   "cell_type": "markdown",
   "id": "df6443d3",
   "metadata": {},
   "source": [
    "<b>\n",
    "Фреймворк RICE дает более точну оценку приоритета так как учитывает не только силу гипотезы но и принимает во внимание охват, из-за чего, при его приминении, лидируют гипотезы 7,2 и 0."
   ]
  },
  {
   "cell_type": "markdown",
   "id": "a55b04e1",
   "metadata": {},
   "source": [
    "<a id='11-bullet'></a>\n",
    "# Анализ A/B-теста:"
   ]
  },
  {
   "cell_type": "markdown",
   "id": "91cabf24",
   "metadata": {},
   "source": [
    "<a id='12-bullet'></a>\n",
    "## 1. Построим график кумулятивной выручки по группам. Сделаем выводы и предположения."
   ]
  },
  {
   "cell_type": "code",
   "execution_count": 9,
   "id": "5b390cd8",
   "metadata": {
    "scrolled": false
   },
   "outputs": [
    {
     "name": "stdout",
     "output_type": "stream",
     "text": [
      "        date group  orders  buyers  revenue  visitors\n",
      "0 2019-08-01     A      23      19   142779       719\n",
      "1 2019-08-01     B      17      17    59758       713\n",
      "2 2019-08-02     A      42      36   234381      1338\n",
      "3 2019-08-02     B      40      39   221801      1294\n",
      "4 2019-08-03     A      66      60   346854      1845\n"
     ]
    },
    {
     "data": {
      "image/png": "[encoded data removed]",
      "text/plain": [
       "<Figure size 432x288 with 1 Axes>"
      ]
     },
     "metadata": {
      "needs_background": "light"
     },
     "output_type": "display_data"
    }
   ],
   "source": [
    "# создаем массив уникальных пар значений дат и групп теста\n",
    "datesGroups = orders[['date','group']].drop_duplicates()\n",
    "\n",
    "# получаем агрегированные кумулятивные по дням данные о заказах \n",
    "ordersAggregated = (datesGroups\n",
    "                    .apply(lambda x: orders[np\n",
    "                                            .logical_and(orders['date'] <= x['date'], orders['group'] == x['group'])]\n",
    "                    .agg({'date' : 'max', 'group' : 'max', 'transaction_id' : 'nunique', 'visitor_id' : 'nunique', 'revenue' : 'sum'}), axis=1)\n",
    "                    .sort_values(by=['date','group'])\n",
    "                   )\n",
    "\n",
    "# получаем агрегированные кумулятивные по дням данные о посетителях \n",
    "visitorsAggregated = (datesGroups\n",
    "                      .apply(lambda x: visitors[np.logical_and(visitors['date'] <= x['date'], visitors['group'] == x['group'])]\n",
    "                      .agg({'date' : 'max', 'group' : 'max', 'visitors' : 'sum'}), axis=1)\n",
    "                      .sort_values(by=['date','group'])\n",
    "                     )\n",
    "\n",
    "# объединяем кумулятивные данные в одной таблице и присваиваем ее столбцам понятные названия\n",
    "cumulativeData = ordersAggregated.merge(visitorsAggregated, left_on=['date', 'group'], right_on=['date', 'group'])\n",
    "cumulativeData.columns = ['date', 'group', 'orders', 'buyers', 'revenue', 'visitors']\n",
    "\n",
    "print(cumulativeData.head(5))\n",
    "\n",
    "# датафрейм с кумулятивным количеством заказов и кумулятивной выручкой по дням в группе А:\n",
    "cumulativeRevenueA = cumulativeData[cumulativeData['group']=='A'][['date','revenue', 'orders']]\n",
    "\n",
    "# датафрейм с кумулятивным количеством заказов и кумулятивной выручкой по дням в группе B:\n",
    "cumulativeRevenueB = cumulativeData[cumulativeData['group']=='B'][['date','revenue', 'orders']]\n",
    "\n",
    "# Строим график выручки группы А\n",
    "plt.plot(cumulativeRevenueA['date'], cumulativeRevenueA['revenue'], label='A')\n",
    "\n",
    "# Строим график выручки группы B\n",
    "plt.plot(cumulativeRevenueB['date'], cumulativeRevenueB['revenue'], label='B')\n",
    "\n",
    "plt.suptitle(\"График кумулятивной выручки по группам\")\n",
    "plt.ylabel('Количество')\n",
    "plt.xlabel('Год')\n",
    "plt.legend()\n",
    "plt.xticks(rotation = 45)\n",
    "plt.show()"
   ]
  },
  {
   "cell_type": "markdown",
   "id": "d5289ea6",
   "metadata": {},
   "source": [
    "<b> Вывод:\n",
    "В середине теста сегмент B резко отрываеися от сегмента A. Возможной причиной могут быть аномально большие заказы."
   ]
  },
  {
   "cell_type": "markdown",
   "id": "a806d84d",
   "metadata": {},
   "source": [
    "<a id='13-bullet'></a>\n",
    "## 2. Построим график кумулятивного среднего чека по группам. Сделаем выводы и предположения."
   ]
  },
  {
   "cell_type": "code",
   "execution_count": 10,
   "id": "94402bc8",
   "metadata": {
    "scrolled": true
   },
   "outputs": [
    {
     "data": {
      "image/png": "[encoded data removed]",
      "text/plain": [
       "<Figure size 432x288 with 1 Axes>"
      ]
     },
     "metadata": {
      "needs_background": "light"
     },
     "output_type": "display_data"
    }
   ],
   "source": [
    "plt.plot(cumulativeRevenueA['date'], cumulativeRevenueA['revenue']/cumulativeRevenueA['orders'], label='A')\n",
    "plt.plot(cumulativeRevenueB['date'], cumulativeRevenueB['revenue']/cumulativeRevenueB['orders'], label='B')\n",
    "plt.legend()\n",
    "plt.suptitle(\"График кумулятивного среднего чека по группам\")\n",
    "plt.ylabel('Количество')\n",
    "plt.xlabel('Год')\n",
    "plt.xticks(rotation = 45)\n",
    "plt.show()"
   ]
  },
  {
   "cell_type": "markdown",
   "id": "0bf2e9c1",
   "metadata": {},
   "source": [
    "<b> Вывод:\n",
    "В середине теста сегмент B резко отрываеися от сегмента A. Возможной причиной могут быть аномально большие заказы."
   ]
  },
  {
   "cell_type": "markdown",
   "id": "44a8f108",
   "metadata": {},
   "source": [
    "<a id='14-bullet'></a>\n",
    "## 3. Построим график относительного изменения кумулятивного среднего чека группы B к группе A. Сделаем выводы и предположения."
   ]
  },
  {
   "cell_type": "code",
   "execution_count": 11,
   "id": "2408021e",
   "metadata": {
    "scrolled": true
   },
   "outputs": [
    {
     "data": {
      "image/png": "[encoded data removed]",
      "text/plain": [
       "<Figure size 432x288 with 1 Axes>"
      ]
     },
     "metadata": {
      "needs_background": "light"
     },
     "output_type": "display_data"
    }
   ],
   "source": [
    "# собираем данные изменения кумулятивного среднего чека в одном датафрейме\n",
    "mergedCumulativeRevenue = cumulativeRevenueA.merge(cumulativeRevenueB, left_on='date', right_on='date', how='left', suffixes=['A', 'B'])\n",
    "\n",
    "# cтроим отношение средних чеков\n",
    "plt.plot(mergedCumulativeRevenue['date'], (mergedCumulativeRevenue['revenueB']/mergedCumulativeRevenue['ordersB'])/(mergedCumulativeRevenue['revenueA']/mergedCumulativeRevenue['ordersA'])-1)\n",
    "\n",
    "# добавляем ось X\n",
    "plt.axhline(y=0, color='black', linestyle='--')\n",
    "\n",
    "plt.suptitle(\"График относительного изменения кумулятивного среднего чека группы B к группе A\")\n",
    "plt.ylabel('Изменения')\n",
    "plt.xlabel('Год')\n",
    "plt.xticks(rotation = 45)\n",
    "plt.show()"
   ]
  },
  {
   "cell_type": "markdown",
   "id": "3ac14677",
   "metadata": {},
   "source": [
    "<b> Вывод:\n",
    "Результаты теста значительно менялись в нескольких датах. Возможно это даты аномальных заказов."
   ]
  },
  {
   "cell_type": "markdown",
   "id": "9900abcd",
   "metadata": {},
   "source": [
    "<a id='15-bullet'></a>\n",
    "## 4. Построим график кумулятивной конверсии по группам. Сделаем выводы и предположения."
   ]
  },
  {
   "cell_type": "code",
   "execution_count": 12,
   "id": "747ff64d",
   "metadata": {
    "scrolled": false
   },
   "outputs": [
    {
     "data": {
      "image/png": "[encoded data removed]",
      "text/plain": [
       "<Figure size 432x288 with 1 Axes>"
      ]
     },
     "metadata": {
      "needs_background": "light"
     },
     "output_type": "display_data"
    }
   ],
   "source": [
    "# считаем кумулятивную конверсию\n",
    "cumulativeData['conversion'] = cumulativeData['orders']/cumulativeData['visitors']\n",
    "\n",
    "# отделяем данные по группе A\n",
    "cumulativeDataA = cumulativeData[cumulativeData['group']=='A']\n",
    "\n",
    "# отделяем данные по группе B\n",
    "cumulativeDataB = cumulativeData[cumulativeData['group']=='B']\n",
    "\n",
    "# строим графики\n",
    "plt.plot(cumulativeDataA['date'], cumulativeDataA['conversion'], label='A')\n",
    "plt.plot(cumulativeDataB['date'], cumulativeDataB['conversion'], label='B')\n",
    "plt.legend()\n",
    "\n",
    "# задаем масштаб осей\n",
    "plt.axis([datetime(2019, 8, 1), datetime(2019, 9, 1), 0, 0.05])\n",
    "\n",
    "plt.suptitle(\"График кумулятивной конверсии по группам\")\n",
    "plt.ylabel('Конверсия')\n",
    "plt.xlabel('Год')\n",
    "plt.xticks(rotation = 45)\n",
    "plt.show()"
   ]
  },
  {
   "cell_type": "markdown",
   "id": "83f3f363",
   "metadata": {},
   "source": [
    "<b> Вывод:\n",
    "В начале теста сегмент A имел большую конверсию, однако сегмент В превзошел его и зафиксировался выше сегмента А"
   ]
  },
  {
   "cell_type": "markdown",
   "id": "b857e7b6",
   "metadata": {},
   "source": [
    "<a id='16-bullet'></a>\n",
    "## 5. Построим график относительного изменения кумулятивной конверсии группы B к группе A. Сделаем выводы и предположения."
   ]
  },
  {
   "cell_type": "code",
   "execution_count": 13,
   "id": "352dd7ad",
   "metadata": {
    "scrolled": true
   },
   "outputs": [
    {
     "data": {
      "image/png": "[encoded data removed]",
      "text/plain": [
       "<Figure size 432x288 with 1 Axes>"
      ]
     },
     "metadata": {
      "needs_background": "light"
     },
     "output_type": "display_data"
    }
   ],
   "source": [
    "# собираем данные изменения кумулятивной конверсии в одном датафрейме\n",
    "mergedCumulativeConversions = cumulativeDataA[['date','conversion']].merge(cumulativeDataB[['date','conversion']], \n",
    "                                                                           left_on='date', right_on='date', how='left', \n",
    "                                                                           suffixes=['A', 'B'])\n",
    "\n",
    "# cтроим отношение конверсии\n",
    "plt.plot(mergedCumulativeConversions['date'], \n",
    "         mergedCumulativeConversions['conversionB']/mergedCumulativeConversions['conversionA']-1, \n",
    "         label=\"Относительный прирост конверсии группы B относительно группы A\")\n",
    "plt.legend()\n",
    "\n",
    "# добавляем оси X\n",
    "plt.axhline(y=0, color='black', linestyle='--')\n",
    "plt.axhline(y=0.15, color='grey', linestyle='--')\n",
    "plt.axis([datetime(2019, 8, 1), datetime(2019, 9, 1), -0.5, 0.5])\n",
    "\n",
    "plt.suptitle(\"График относительного изменения кумулятивной конверсии группы B к группе A\")\n",
    "plt.ylabel('Количество')\n",
    "plt.xlabel('Год')\n",
    "plt.xticks(rotation = 45)\n",
    "plt.show()"
   ]
  },
  {
   "cell_type": "markdown",
   "id": "2db45fdb",
   "metadata": {},
   "source": [
    "<b> Вывод:\n",
    "Почти с самого начала группа B лидирует по конверсии относительно группы A на 15%. Вероятно аномальные заказы в группе В могли повлиять на результат."
   ]
  },
  {
   "cell_type": "markdown",
   "id": "720bb6e3",
   "metadata": {},
   "source": [
    "<a id='17-bullet'></a>\n",
    "## 6. Построим точечный график количества заказов по пользователям. Сделаем выводы и предположения."
   ]
  },
  {
   "cell_type": "code",
   "execution_count": 14,
   "id": "7cd0d5ab",
   "metadata": {
    "scrolled": false
   },
   "outputs": [
    {
     "name": "stdout",
     "output_type": "stream",
     "text": [
      "     visitor_id  orders\n",
      "908  3967698036       3\n",
      "55    249864742       3\n",
      "478  2108163459       3\n",
      "687  2988190573       3\n",
      "890  3908431265       3\n"
     ]
    },
    {
     "data": {
      "image/png": "[encoded data removed]",
      "text/plain": [
       "<Figure size 432x288 with 1 Axes>"
      ]
     },
     "metadata": {
      "needs_background": "light"
     },
     "output_type": "display_data"
    }
   ],
   "source": [
    "ordersByUsers = (\n",
    "    orders.groupby('visitor_id', as_index=False)\n",
    "    .agg({'transaction_id': 'nunique'})\n",
    ")\n",
    "ordersByUsers.columns = ['visitor_id', 'orders']\n",
    "\n",
    "print(ordersByUsers.sort_values(by='orders', ascending=False).head())\n",
    "\n",
    "# серия из чисел от 0 до количества наблюдений в ordersByUsers\n",
    "x_values = pd.Series(range(0, len(ordersByUsers)))\n",
    "plt.scatter(x_values , ordersByUsers['orders'])\n",
    "plt.suptitle(\"График количества заказов по пользователям\")\n",
    "plt.ylabel('Количество заказов')\n",
    "plt.xlabel('Пользователи')\n",
    "plt.show()"
   ]
  },
  {
   "cell_type": "markdown",
   "id": "e3b00bb1",
   "metadata": {},
   "source": [
    "<b> Вывод:\n",
    "Пользователей которые заказали больше 2х раз очень мало. Их можно считать аномальными."
   ]
  },
  {
   "cell_type": "markdown",
   "id": "1502dcf7",
   "metadata": {},
   "source": [
    "<a id='18-bullet'></a>\n",
    "## 8. Посчитаем 95-й и 99-й перцентили количества заказов на пользователя. Выберим границу для определения аномальных пользователей."
   ]
  },
  {
   "cell_type": "code",
   "execution_count": 15,
   "id": "ffdfc280",
   "metadata": {},
   "outputs": [
    {
     "data": {
      "text/plain": [
       "array([1., 1., 2.])"
      ]
     },
     "execution_count": 15,
     "metadata": {},
     "output_type": "execute_result"
    }
   ],
   "source": [
    "np.percentile(ordersByUsers['orders'],[ 90, 95, 99])"
   ]
  },
  {
   "cell_type": "markdown",
   "id": "e117b2a7",
   "metadata": {},
   "source": [
    "<b> Вывод:\n",
    "* Только 10% пользователей заказали больше 1 раза.\n",
    "* Только 5% пользователей заказали больше 1 раз. \n",
    "* Только 1% пользователей заказали больше 2 раз. "
   ]
  },
  {
   "cell_type": "markdown",
   "id": "bb260055",
   "metadata": {},
   "source": [
    "<a id='19-bullet'></a>\n",
    "## Построим точечный график стоимостей заказов. Сделаем выводы и предположения."
   ]
  },
  {
   "cell_type": "code",
   "execution_count": 16,
   "id": "950a4e8a",
   "metadata": {
    "scrolled": false
   },
   "outputs": [
    {
     "data": {
      "image/png": "[encoded data removed]",
      "text/plain": [
       "<Figure size 432x288 with 1 Axes>"
      ]
     },
     "metadata": {
      "needs_background": "light"
     },
     "output_type": "display_data"
    }
   ],
   "source": [
    "x_values = pd.Series(range(0, len(orders['revenue'])))\n",
    "plt.scatter( x_values, orders['revenue'])\n",
    "plt.suptitle(\"График стоимостей заказов\")\n",
    "plt.ylabel('Стоимость заказов')\n",
    "plt.xlabel('Пользователи')\n",
    "plt.show()"
   ]
  },
  {
   "cell_type": "markdown",
   "id": "81955eae",
   "metadata": {},
   "source": [
    "<b> Вывод:\n",
    "Есть выбросы в районе 200 000 и 1 300 000. Возможно они и повлияли на результат."
   ]
  },
  {
   "cell_type": "markdown",
   "id": "b95451fa",
   "metadata": {},
   "source": [
    "<a id='20-bullet'></a>\n",
    "## Посчитаем 95-й и 99-й перцентили стоимости заказов. Выберим границу для определения аномальных заказов."
   ]
  },
  {
   "cell_type": "code",
   "execution_count": 17,
   "id": "528cdfb6",
   "metadata": {},
   "outputs": [
    {
     "data": {
      "text/plain": [
       "array([17990., 26785., 53904.])"
      ]
     },
     "execution_count": 17,
     "metadata": {},
     "output_type": "execute_result"
    }
   ],
   "source": [
    "np.percentile(orders['revenue'], [ 90 , 95 , 99])"
   ]
  },
  {
   "cell_type": "markdown",
   "id": "98339745",
   "metadata": {},
   "source": [
    "<b> Вывод:\n",
    "* Только 10% пользователей заказали на сумму больше 17 990.\n",
    "* Только 5% пользователей заказали на сумму больше 26 785.\n",
    "* Только 1% пользователей заказали на сумму больше 53 904."
   ]
  },
  {
   "cell_type": "markdown",
   "id": "af3f88c8",
   "metadata": {},
   "source": [
    "<a id='21-bullet'></a>\n",
    "## Посчитаем статистическую значимость различий в конверсии между группами по «сырым» данным. Сделаем выводы и предположения."
   ]
  },
  {
   "cell_type": "markdown",
   "id": "af68cea5",
   "metadata": {},
   "source": [
    "<b> Для проверки статистической значимости выбрал тест Манна-Уитни так как в выборки присутствуют выбросы."
   ]
  },
  {
   "cell_type": "markdown",
   "id": "bde9d9b1",
   "metadata": {},
   "source": [
    "### Сформулируем гипотезы: \n",
    "* Нулевая: различий в конверсии между группами нет. \n",
    "* Альтернативная: различия в конверсии между группами есть."
   ]
  },
  {
   "cell_type": "code",
   "execution_count": 20,
   "id": "b619cbcd",
   "metadata": {},
   "outputs": [
    {
     "name": "stdout",
     "output_type": "stream",
     "text": [
      "p-value: 0.01102\n",
      "Средний относительный прирост группы B к группе A: 0.160\n",
      "Отвергаем нулевую гипотезу\n"
     ]
    }
   ],
   "source": [
    "# Вычислим количество заказов на покупателя в каждой группе\n",
    "ordersByUsersA = orders[orders['group']=='A'].groupby('visitor_id', as_index=False).agg({'transaction_id' : pd.Series.nunique})\n",
    "ordersByUsersA.columns = ['visitor_id', 'orders']\n",
    "ordersByUsersB = orders[orders['group']=='B'].groupby('visitor_id', as_index=False).agg({'transaction_id' : pd.Series.nunique})\n",
    "ordersByUsersB.columns = ['visitor_id', 'orders']\n",
    "\n",
    "# добавим 0 заказов всем посетителям, которые ничего не купили\n",
    "sampleA = pd.concat([ordersByUsersA['orders'],pd.Series(0, index=np.arange(visitors[visitors['group']=='A']['visitors'].sum() - len(ordersByUsersA['orders'])), name='orders')],axis=0)\n",
    "sampleB = pd.concat([ordersByUsersB['orders'],pd.Series(0, index=np.arange(visitors[visitors['group']=='B']['visitors'].sum() - len(ordersByUsersB['orders'])), name='orders')],axis=0)\n",
    "\n",
    "alpha = 0.05\n",
    "p_value = stats.mannwhitneyu(sampleA, sampleB, alternative=\"two-sided\")[1]\n",
    "\n",
    "print(\"p-value: {0:.5f}\".format(stats.mannwhitneyu(sampleA, sampleB, alternative=\"two-sided\")[1]))\n",
    "print(\"Средний относительный прирост группы B к группе A: {0:.3f}\".format(sampleB.mean()/sampleA.mean()-1))\n",
    "if (p_value < alpha):\n",
    "    print(\"Отвергаем нулевую гипотезу\")\n",
    "else:\n",
    "    print(\"Не получилось отвергнуть нулевую гипотезу\")"
   ]
  },
  {
   "cell_type": "markdown",
   "id": "30b9a837",
   "metadata": {},
   "source": [
    "<b> Вывод:\n",
    "P-value меньше 0.05. Значит, есть причины отвергнуть нулевую гипотезу и считать, что есть различия в конверсии между группами. "
   ]
  },
  {
   "cell_type": "markdown",
   "id": "1da84529",
   "metadata": {},
   "source": [
    "<a id='22-bullet'></a>\n",
    "## Посчитаем статистическую значимость различий в среднем чеке заказа между группами по «сырым» данным. Сделаем выводы и предположения."
   ]
  },
  {
   "cell_type": "markdown",
   "id": "7e02a97e",
   "metadata": {},
   "source": [
    "### Сформулируем гипотезы: \n",
    "* Нулевая: различий в среднем чеке между группами нет. \n",
    "* Альтернативная: различий в среднем чеке между группами есть."
   ]
  },
  {
   "cell_type": "code",
   "execution_count": null,
   "id": "d1d864fe",
   "metadata": {
    "scrolled": true
   },
   "outputs": [],
   "source": [
    "# считаем статистическую значимость различий в среднем чеке\n",
    "p_value = stats.mannwhitneyu(orders[orders['group']=='A']['revenue'], \n",
    "                             orders[orders['group']=='B']['revenue'], alternative=\"two-sided\")[1]\n",
    "\n",
    "print('P-value = ', round(p_value,3))\n",
    "\n",
    "print('Относительный прирост группы B к группе A: {0:.3f}'.format(orders[orders['group']=='B']['revenue'].mean()/\n",
    "                       orders[orders['group']=='A']['revenue'].mean()-1)) \n",
    "\n",
    "if (p_value < alpha):\n",
    "    print(\"Отвергаем нулевую гипотезу\")\n",
    "else:\n",
    "    print(\"Не получилось отвергнуть нулевую гипотезу\")"
   ]
  },
  {
   "cell_type": "markdown",
   "id": "17dae353",
   "metadata": {},
   "source": [
    "<b> Вывод:\n",
    "P-value больше 0.05. Значит, причин отвергать нулевую гипотезу и считать, что в среднем чеке между группами есть различия, нет."
   ]
  },
  {
   "cell_type": "markdown",
   "id": "76c25fd1",
   "metadata": {},
   "source": [
    "###  Промежуточные выводы:\n",
    "    \n",
    "Посчитав статистическую значимость конверсии и различий в среднем чеке заказа между группами по «сырым» данным мы выявили, что есть статистически значимые различия в конверсии между группами. Нет статистически значимых различий в среднем чеке но при этом есть относительный прирост группы B к группе A в обоих случиях. Нужно очистить данные и проверить гипотезы снова."
   ]
  },
  {
   "cell_type": "markdown",
   "id": "82ca7aa6",
   "metadata": {},
   "source": [
    "<a id='23-bullet'></a>\n",
    "## Посчитаем статистическую значимость различий в конверсии между группами по «очищенным» данным. Сделаем выводы и предположения."
   ]
  },
  {
   "cell_type": "markdown",
   "id": "edbfe284",
   "metadata": {},
   "source": [
    "### Гипотезы: \n",
    "* Нулевая: различий в конверсии между группами нет. \n",
    "* Альтернативная: различия в конверсии между группами есть."
   ]
  },
  {
   "cell_type": "code",
   "execution_count": null,
   "id": "0d7a1b74",
   "metadata": {},
   "outputs": [],
   "source": [
    "# подготовим очищенные данные\n",
    "# за выбросы посчитаем пользователей выше 95ого перцентиля\n",
    "\n",
    "ordersByUsersA = (orders[orders['group'] == 'A']\n",
    "    .groupby('visitor_id', as_index=False)\n",
    "    .agg({'transaction_id': pd.Series.nunique})\n",
    ")\n",
    "ordersByUsersA.columns = ['visitor_id', 'orders']\n",
    "\n",
    "\n",
    "ordersByUsersB = (\n",
    "    orders[orders['group'] == 'B']\n",
    "    .groupby('visitor_id', as_index=False)\n",
    "    .agg({'transaction_id': pd.Series.nunique})\n",
    ")\n",
    "ordersByUsersB.columns = ['visitor_id', 'orders']\n",
    "\n",
    "usersWithManyOrders = pd.concat(\n",
    "    [\n",
    "        ordersByUsersA[ordersByUsersA['orders'] > 1]['visitor_id'],\n",
    "        ordersByUsersB[ordersByUsersB['orders'] > 1]['visitor_id'],\n",
    "    ],\n",
    "    axis=0,\n",
    ")\n",
    "usersWithExpensiveOrders = orders[orders['revenue'] > 26785]['visitor_id']\n",
    "abnormalUsers = (\n",
    "    pd.concat([usersWithManyOrders, usersWithExpensiveOrders], axis=0)\n",
    "    .drop_duplicates()\n",
    "    .sort_values()\n",
    ")\n"
   ]
  },
  {
   "cell_type": "code",
   "execution_count": null,
   "id": "0031200c",
   "metadata": {},
   "outputs": [],
   "source": [
    "sampleAFiltered = pd.concat(\n",
    "    [ordersByUsersA[np.logical_not(ordersByUsersA['visitor_id'].isin(abnormalUsers))]['orders'],\n",
    "        pd.Series(0,index=np.arange(visitors[visitors['group']=='A']['visitors'].sum() - len(ordersByUsersA['orders'])),\n",
    "            name='orders')],axis=0,)\n",
    "\n",
    "sampleBFiltered = pd.concat(\n",
    "    [ordersByUsersB[np.logical_not(ordersByUsersB['visitor_id'].isin(abnormalUsers))\n",
    "        ]['orders'], pd.Series( 0, index=np.arange( visitors[visitors['group']=='A']['visitors'].sum() - len(ordersByUsersB['orders']) ),\n",
    "            name='orders')],axis=0,) \n",
    "\n",
    "p_value = stats.mannwhitneyu(sampleAFiltered, sampleBFiltered, alternative=\"two-sided\")[1]\n",
    "\n",
    "print('P-value = ', round(p_value,3))\n",
    "print('Относительный прирост группы B к группе A: {0:.3f}'.format(sampleBFiltered.mean()/sampleAFiltered.mean()-1)) \n",
    "if (p_value < alpha):\n",
    "    print(\"Отвергаем нулевую гипотезу\")\n",
    "else:\n",
    "    print(\"Не получилось отвергнуть нулевую гипотезу\")"
   ]
  },
  {
   "cell_type": "markdown",
   "id": "9dda3215",
   "metadata": {},
   "source": [
    "<b> Вывод:\n",
    "P-value меньше 0.05. Значит, есть причины отвергнуть нулевую гипотезу и считать, что есть различия в конверсии между группами. "
   ]
  },
  {
   "cell_type": "markdown",
   "id": "f69da821",
   "metadata": {},
   "source": [
    "<a id='24-bullet'></a>\n",
    "## Посчитаем статистическую значимость различий в среднем чеке заказа между группами по «очищенным» данным. Сделаем выводы и предположения."
   ]
  },
  {
   "cell_type": "markdown",
   "id": "5321ce6c",
   "metadata": {},
   "source": [
    "### Гипотезы: \n",
    "* Нулевая: различий в среднем чеке между группами нет. \n",
    "* Альтернативная: различий в среднем чеке между группами есть."
   ]
  },
  {
   "cell_type": "code",
   "execution_count": null,
   "id": "efffaf6c",
   "metadata": {},
   "outputs": [],
   "source": [
    "# считаем статистическую значимость различий в среднем чеке\n",
    "p_value = stats.mannwhitneyu(orders[ \n",
    "                    np.logical_and(orders['group'] == 'A',\n",
    "                    np.logical_not(orders['visitor_id'].isin(abnormalUsers)),)]['revenue'],\n",
    "            orders[ np.logical_and( orders['group'] == 'B',\n",
    "                    np.logical_not(orders['visitor_id'].isin(abnormalUsers)),)]['revenue'], alternative=\"two-sided\")[1]\n",
    "\n",
    "\n",
    "print('P-value = ', round(p_value,3))\n",
    "\n",
    "print('Относительный прирост группы B к группе A: {0:.3f}'.format(orders[ \n",
    "    np.logical_and( orders['group'] == 'B',\n",
    "                np.logical_not(orders['visitor_id'].isin(abnormalUsers)),)]['revenue'].mean()\n",
    "        / orders[ np.logical_and( orders['group'] == 'A',\n",
    "                np.logical_not(orders['visitor_id'].isin(abnormalUsers)),)]['revenue'].mean()- 1))\n",
    "\n",
    "if (p_value < alpha):\n",
    "    print(\"Отвергаем нулевую гипотезу\")\n",
    "else:\n",
    "    print(\"Не получилось отвергнуть нулевую гипотезу\")"
   ]
  },
  {
   "cell_type": "markdown",
   "id": "48b63e87",
   "metadata": {},
   "source": [
    "P-value больше 0.05. Значит, причин отвергать нулевую гипотезу и считать, что в среднем чеке между группами есть различия, нет."
   ]
  },
  {
   "cell_type": "markdown",
   "id": "be9c92de",
   "metadata": {},
   "source": [
    "###  Промежуточные выводы:\n",
    "    \n",
    "Посчитав статистическую значимость конверсии и различий в среднем чеке заказа между группами по «очищенным» данным мы выявили, есть статистически значимые различия в конверсии между группами. Нет статистически значимых различий в среднем чеке но при этом есть относительный прирост группы B к группе A в конверсии на 18 %."
   ]
  },
  {
   "cell_type": "markdown",
   "id": "9b9d64fd",
   "metadata": {},
   "source": [
    "<a id='25-bullet'></a>\n",
    "## Примем решение по результатам теста и объясните его. Варианты решений:"
   ]
  },
  {
   "cell_type": "markdown",
   "id": "5ffb84ba",
   "metadata": {},
   "source": [
    "Имеющиеся факты:\n",
    "* Анализ очищенных данных сообщает, что между группами есть сатистически значимые различия в конверсии. \n",
    "* Относительный прирост конверсии группы В к конверсии группы А равен 18%.\n",
    "* Между группами нет сатистически значимых различий в среднем чеке. \n",
    "* Относительный прирост в среднем чеке группы B к группе A равен -3%.\n",
    "\n",
    "Исходя из фактов, рекомендую остановить тест, зафиксировав победу группы В так как на протяжении почти всего исследования группа В лидировала по всем показателям и после статистического анализа мы получили сатистически значимые различия в конверсии в в пользу данной группы."
   ]
  },
  {
   "cell_type": "markdown",
   "id": "b73f7b13",
   "metadata": {},
   "source": [
    "<a id='30-bullet'></a>\n",
    "# Выводы:"
   ]
  },
  {
   "cell_type": "markdown",
   "id": "51c9a2c8",
   "metadata": {},
   "source": [
    "* [Мы применили фреймворки ICE и RICE для приоритизации гипотез и распределили их по по убыванию приоритета.](#3-bullet)\n",
    "* [Указали как изменилась приоритизация гипотез при применении RICE вместо ICE.](#7-bullet)\n",
    "* Построили Графики:\n",
    "    * [кумулятивной выручки по группам](#12-bullet)\n",
    "    * [кумулятивного среднего чека по группам](#13-bullet)\n",
    "    * [относительного изменения кумулятивного среднего чека группы B к группе A](#14-bullet)\n",
    "    * [кумулятивной конверсии по группам](#15-bullet)\n",
    "    * [относительного изменения кумулятивной конверсии группы B к группе A](#16-bullet)\n",
    "    * [точечный график количества заказов по пользователям](#17-bullet)\n",
    "* [Посчитали 95-й и 99-й перцентили количества заказов на пользователя](#18-bullet)\n",
    "    * Выбали границу для определения аномальных пользователей\n",
    "    * Построили точечный график стоимостей заказов\n",
    "    * Сделали выводы и предположения\n",
    "* [Посчитали 95-й и 99-й перцентили стоимости заказов](#20-bullet)\n",
    "    * Выберим границу для определения аномальных заказов.\n",
    "* Посчитали:\n",
    "    * [статистическую значимость различий в конверсии между группами по «сырым» данным.](#21-bullet)\n",
    "    * [статистическую значимость различий в среднем чеке заказа между группами по «сырым» данным.](#22-bullet)\n",
    "    * [статистическую значимость различий в конверсии между группами по «очищенным» данным.](#23-bullet)\n",
    "    * [статистическую значимость различий в среднем чеке заказа между группами по «очищенным» данным.](#24-bullet)\n",
    "* [Приняли решение по результатам теста и объясните его.](#25-bullet) "
   ]
  },
  {
   "cell_type": "markdown",
   "id": "95ec3108",
   "metadata": {},
   "source": [
    "# [Вернуться к началу.](#31-bullet)"
   ]
  },
  {
   "cell_type": "code",
   "execution_count": null,
   "id": "cbd3e398",
   "metadata": {},
   "outputs": [],
   "source": []
  }
 ],
 "metadata": {
  "ExecuteTimeLog": [
   {
    "duration": 1332,
    "start_time": "2022-07-25T15:50:02.922Z"
   },
   {
    "duration": 181,
    "start_time": "2022-07-25T15:50:04.257Z"
   },
   {
    "duration": 53,
    "start_time": "2022-07-25T15:50:04.439Z"
   },
   {
    "duration": 63,
    "start_time": "2022-07-25T15:50:04.494Z"
   },
   {
    "duration": 9,
    "start_time": "2022-07-25T15:50:04.558Z"
   },
   {
    "duration": 8,
    "start_time": "2022-07-25T15:50:04.568Z"
   },
   {
    "duration": 587,
    "start_time": "2022-07-25T15:50:04.578Z"
   },
   {
    "duration": 198,
    "start_time": "2022-07-25T15:50:05.167Z"
   },
   {
    "duration": 320,
    "start_time": "2022-07-25T15:50:05.367Z"
   },
   {
    "duration": 181,
    "start_time": "2022-07-25T15:50:05.689Z"
   },
   {
    "duration": 294,
    "start_time": "2022-07-25T15:50:05.872Z"
   },
   {
    "duration": 136,
    "start_time": "2022-07-25T15:50:06.168Z"
   },
   {
    "duration": 6,
    "start_time": "2022-07-25T15:50:06.305Z"
   },
   {
    "duration": 135,
    "start_time": "2022-07-25T15:50:06.323Z"
   },
   {
    "duration": 6,
    "start_time": "2022-07-25T15:50:06.460Z"
   },
   {
    "duration": 179,
    "start_time": "2022-07-25T15:50:06.468Z"
   },
   {
    "duration": 99,
    "start_time": "2022-07-25T15:50:06.649Z"
   },
   {
    "duration": 0,
    "start_time": "2022-07-25T15:50:06.750Z"
   },
   {
    "duration": 0,
    "start_time": "2022-07-25T15:50:06.751Z"
   },
   {
    "duration": 0,
    "start_time": "2022-07-25T15:50:06.752Z"
   },
   {
    "duration": 0,
    "start_time": "2022-07-25T15:50:06.754Z"
   },
   {
    "duration": 1156,
    "start_time": "2022-07-25T15:51:01.728Z"
   },
   {
    "duration": 75,
    "start_time": "2022-07-25T15:51:02.886Z"
   },
   {
    "duration": 66,
    "start_time": "2022-07-25T15:51:02.963Z"
   },
   {
    "duration": 55,
    "start_time": "2022-07-25T15:51:03.032Z"
   },
   {
    "duration": 43,
    "start_time": "2022-07-25T15:51:03.089Z"
   },
   {
    "duration": 12,
    "start_time": "2022-07-25T15:51:03.134Z"
   },
   {
    "duration": 586,
    "start_time": "2022-07-25T15:51:03.149Z"
   },
   {
    "duration": 183,
    "start_time": "2022-07-25T15:51:03.737Z"
   },
   {
    "duration": 288,
    "start_time": "2022-07-25T15:51:03.923Z"
   },
   {
    "duration": 181,
    "start_time": "2022-07-25T15:51:04.222Z"
   },
   {
    "duration": 331,
    "start_time": "2022-07-25T15:51:04.406Z"
   },
   {
    "duration": 134,
    "start_time": "2022-07-25T15:51:04.738Z"
   },
   {
    "duration": 6,
    "start_time": "2022-07-25T15:51:04.875Z"
   },
   {
    "duration": 168,
    "start_time": "2022-07-25T15:51:04.882Z"
   },
   {
    "duration": 6,
    "start_time": "2022-07-25T15:51:05.052Z"
   },
   {
    "duration": 202,
    "start_time": "2022-07-25T15:51:05.060Z"
   },
   {
    "duration": 12,
    "start_time": "2022-07-25T15:51:05.264Z"
   },
   {
    "duration": 194,
    "start_time": "2022-07-25T15:51:05.278Z"
   },
   {
    "duration": 27,
    "start_time": "2022-07-25T15:51:05.474Z"
   },
   {
    "duration": 28,
    "start_time": "2022-07-25T15:51:05.503Z"
   },
   {
    "duration": 54,
    "start_time": "2022-07-26T09:08:53.805Z"
   },
   {
    "duration": 1392,
    "start_time": "2022-07-26T09:08:57.992Z"
   },
   {
    "duration": 191,
    "start_time": "2022-07-26T09:08:59.386Z"
   },
   {
    "duration": 59,
    "start_time": "2022-07-26T09:08:59.579Z"
   },
   {
    "duration": 45,
    "start_time": "2022-07-26T09:08:59.640Z"
   },
   {
    "duration": 41,
    "start_time": "2022-07-26T09:08:59.687Z"
   },
   {
    "duration": 13,
    "start_time": "2022-07-26T09:08:59.731Z"
   },
   {
    "duration": 603,
    "start_time": "2022-07-26T09:08:59.746Z"
   },
   {
    "duration": 204,
    "start_time": "2022-07-26T09:09:00.351Z"
   },
   {
    "duration": 315,
    "start_time": "2022-07-26T09:09:00.557Z"
   },
   {
    "duration": 212,
    "start_time": "2022-07-26T09:09:00.874Z"
   },
   {
    "duration": 352,
    "start_time": "2022-07-26T09:09:01.088Z"
   },
   {
    "duration": 148,
    "start_time": "2022-07-26T09:09:01.443Z"
   },
   {
    "duration": 5,
    "start_time": "2022-07-26T09:09:01.593Z"
   },
   {
    "duration": 170,
    "start_time": "2022-07-26T09:09:01.600Z"
   },
   {
    "duration": 5,
    "start_time": "2022-07-26T09:09:01.772Z"
   },
   {
    "duration": 216,
    "start_time": "2022-07-26T09:09:01.779Z"
   },
   {
    "duration": 12,
    "start_time": "2022-07-26T09:09:01.998Z"
   },
   {
    "duration": 180,
    "start_time": "2022-07-26T09:09:02.024Z"
   },
   {
    "duration": 50,
    "start_time": "2022-07-26T09:09:02.206Z"
   },
   {
    "duration": 14,
    "start_time": "2022-07-26T09:09:02.257Z"
   },
   {
    "duration": 16,
    "start_time": "2022-07-26T09:09:28.729Z"
   },
   {
    "duration": 90,
    "start_time": "2022-07-26T09:15:34.812Z"
   },
   {
    "duration": 279,
    "start_time": "2022-07-26T09:22:22.239Z"
   },
   {
    "duration": 286,
    "start_time": "2022-07-26T09:22:30.185Z"
   },
   {
    "duration": 201,
    "start_time": "2022-07-26T09:27:24.038Z"
   },
   {
    "duration": 179,
    "start_time": "2022-07-26T09:27:36.347Z"
   },
   {
    "duration": 332,
    "start_time": "2022-07-26T09:27:47.688Z"
   },
   {
    "duration": 296,
    "start_time": "2022-07-26T09:28:01.190Z"
   },
   {
    "duration": 176,
    "start_time": "2022-07-26T09:28:07.230Z"
   },
   {
    "duration": 468,
    "start_time": "2022-07-26T09:28:15.769Z"
   },
   {
    "duration": 485,
    "start_time": "2022-07-26T09:31:17.240Z"
   },
   {
    "duration": 518,
    "start_time": "2022-07-26T09:31:42.867Z"
   },
   {
    "duration": 244,
    "start_time": "2022-07-26T09:32:10.237Z"
   },
   {
    "duration": 340,
    "start_time": "2022-07-26T09:32:47.941Z"
   },
   {
    "duration": 330,
    "start_time": "2022-07-26T09:34:21.806Z"
   },
   {
    "duration": 306,
    "start_time": "2022-07-26T09:36:06.557Z"
   },
   {
    "duration": 302,
    "start_time": "2022-07-26T09:36:49.259Z"
   },
   {
    "duration": 407,
    "start_time": "2022-07-26T09:37:55.020Z"
   },
   {
    "duration": 271,
    "start_time": "2022-07-26T09:40:59.904Z"
   },
   {
    "duration": 359,
    "start_time": "2022-07-26T09:41:59.602Z"
   },
   {
    "duration": 359,
    "start_time": "2022-07-26T09:42:11.284Z"
   },
   {
    "duration": 356,
    "start_time": "2022-07-26T09:42:16.402Z"
   },
   {
    "duration": 190,
    "start_time": "2022-07-26T09:42:31.610Z"
   },
   {
    "duration": 356,
    "start_time": "2022-07-26T09:42:39.036Z"
   },
   {
    "duration": 340,
    "start_time": "2022-07-26T09:45:24.951Z"
   },
   {
    "duration": 394,
    "start_time": "2022-07-26T09:45:28.205Z"
   },
   {
    "duration": 429,
    "start_time": "2022-07-26T09:47:22.741Z"
   },
   {
    "duration": 162,
    "start_time": "2022-07-26T09:48:55.738Z"
   },
   {
    "duration": 128,
    "start_time": "2022-07-26T09:49:59.291Z"
   },
   {
    "duration": 136,
    "start_time": "2022-07-26T09:50:17.884Z"
   },
   {
    "duration": 145,
    "start_time": "2022-07-26T09:50:55.424Z"
   },
   {
    "duration": 158,
    "start_time": "2022-07-26T09:51:42.118Z"
   },
   {
    "duration": 155,
    "start_time": "2022-07-26T09:52:12.077Z"
   },
   {
    "duration": 9,
    "start_time": "2022-07-26T09:58:33.692Z"
   },
   {
    "duration": 9,
    "start_time": "2022-07-26T09:58:48.047Z"
   },
   {
    "duration": 5,
    "start_time": "2022-07-26T09:58:58.027Z"
   },
   {
    "duration": 95,
    "start_time": "2022-07-26T10:02:32.254Z"
   },
   {
    "duration": 64,
    "start_time": "2022-07-26T10:44:55.931Z"
   },
   {
    "duration": 61,
    "start_time": "2022-07-26T10:45:11.127Z"
   },
   {
    "duration": 12,
    "start_time": "2022-07-26T10:46:08.502Z"
   },
   {
    "duration": 88,
    "start_time": "2022-07-26T10:47:50.810Z"
   },
   {
    "duration": 1043,
    "start_time": "2022-07-26T10:48:58.097Z"
   },
   {
    "duration": 4,
    "start_time": "2022-07-26T10:49:13.466Z"
   },
   {
    "duration": 91,
    "start_time": "2022-07-26T10:49:13.473Z"
   },
   {
    "duration": 61,
    "start_time": "2022-07-26T10:49:13.566Z"
   },
   {
    "duration": 80,
    "start_time": "2022-07-26T10:49:13.629Z"
   },
   {
    "duration": 28,
    "start_time": "2022-07-26T10:49:17.779Z"
   },
   {
    "duration": 66,
    "start_time": "2022-07-26T10:50:44.212Z"
   },
   {
    "duration": 4,
    "start_time": "2022-07-26T10:50:48.631Z"
   },
   {
    "duration": 83,
    "start_time": "2022-07-26T10:50:48.639Z"
   },
   {
    "duration": 54,
    "start_time": "2022-07-26T10:50:48.724Z"
   },
   {
    "duration": 130,
    "start_time": "2022-07-26T10:50:48.781Z"
   },
   {
    "duration": 0,
    "start_time": "2022-07-26T10:50:48.913Z"
   },
   {
    "duration": 100,
    "start_time": "2022-07-26T10:50:53.485Z"
   },
   {
    "duration": 14,
    "start_time": "2022-07-26T10:51:48.487Z"
   },
   {
    "duration": 18,
    "start_time": "2022-07-26T10:52:59.321Z"
   },
   {
    "duration": 4,
    "start_time": "2022-07-26T10:53:15.039Z"
   },
   {
    "duration": 107,
    "start_time": "2022-07-26T10:53:15.045Z"
   },
   {
    "duration": 54,
    "start_time": "2022-07-26T10:53:15.154Z"
   },
   {
    "duration": 79,
    "start_time": "2022-07-26T10:53:15.222Z"
   },
   {
    "duration": 96,
    "start_time": "2022-07-26T10:53:17.047Z"
   },
   {
    "duration": 13,
    "start_time": "2022-07-26T10:53:17.960Z"
   },
   {
    "duration": 15,
    "start_time": "2022-07-26T10:53:31.570Z"
   },
   {
    "duration": 60,
    "start_time": "2022-07-26T10:53:40.738Z"
   },
   {
    "duration": 16,
    "start_time": "2022-07-26T10:53:51.552Z"
   },
   {
    "duration": 79,
    "start_time": "2022-07-26T10:54:04.329Z"
   },
   {
    "duration": 13,
    "start_time": "2022-07-26T10:54:26.986Z"
   },
   {
    "duration": 9,
    "start_time": "2022-07-26T10:54:36.814Z"
   },
   {
    "duration": 10,
    "start_time": "2022-07-26T10:55:48.173Z"
   },
   {
    "duration": 19,
    "start_time": "2022-07-26T10:56:04.316Z"
   },
   {
    "duration": 17,
    "start_time": "2022-07-26T10:56:19.566Z"
   },
   {
    "duration": 13,
    "start_time": "2022-07-26T10:56:39.888Z"
   },
   {
    "duration": 15,
    "start_time": "2022-07-26T10:56:48.746Z"
   },
   {
    "duration": 10,
    "start_time": "2022-07-26T10:57:13.160Z"
   },
   {
    "duration": 65,
    "start_time": "2022-07-26T10:57:20.726Z"
   },
   {
    "duration": 963,
    "start_time": "2022-07-26T10:57:59.009Z"
   },
   {
    "duration": 938,
    "start_time": "2022-07-26T10:58:20.969Z"
   },
   {
    "duration": 1030,
    "start_time": "2022-07-26T10:58:38.457Z"
   },
   {
    "duration": 3,
    "start_time": "2022-07-26T10:58:59.687Z"
   },
   {
    "duration": 94,
    "start_time": "2022-07-26T10:58:59.692Z"
   },
   {
    "duration": 54,
    "start_time": "2022-07-26T10:58:59.787Z"
   },
   {
    "duration": 10,
    "start_time": "2022-07-26T10:59:05.899Z"
   },
   {
    "duration": 12,
    "start_time": "2022-07-26T10:59:30.220Z"
   },
   {
    "duration": 23,
    "start_time": "2022-07-26T11:00:21.916Z"
   },
   {
    "duration": 17,
    "start_time": "2022-07-26T11:00:30.060Z"
   },
   {
    "duration": 10,
    "start_time": "2022-07-26T11:00:48.749Z"
   },
   {
    "duration": 811,
    "start_time": "2022-07-26T11:01:09.005Z"
   },
   {
    "duration": 11,
    "start_time": "2022-07-26T11:02:21.552Z"
   },
   {
    "duration": 940,
    "start_time": "2022-07-26T11:02:34.128Z"
   },
   {
    "duration": 8,
    "start_time": "2022-07-26T11:02:57.952Z"
   },
   {
    "duration": 753,
    "start_time": "2022-07-26T11:03:34.038Z"
   },
   {
    "duration": 8,
    "start_time": "2022-07-26T11:03:47.002Z"
   },
   {
    "duration": 10,
    "start_time": "2022-07-26T11:03:55.379Z"
   },
   {
    "duration": 10,
    "start_time": "2022-07-26T11:05:05.683Z"
   },
   {
    "duration": 52,
    "start_time": "2022-07-26T11:07:43.263Z"
   },
   {
    "duration": 12,
    "start_time": "2022-07-26T11:07:57.984Z"
   },
   {
    "duration": 1072,
    "start_time": "2022-07-26T11:16:43.149Z"
   },
   {
    "duration": 894,
    "start_time": "2022-07-26T11:18:42.263Z"
   },
   {
    "duration": 2479,
    "start_time": "2022-07-26T11:19:09.561Z"
   },
   {
    "duration": 13,
    "start_time": "2022-07-26T11:19:28.817Z"
   },
   {
    "duration": 10,
    "start_time": "2022-07-26T11:20:22.050Z"
   },
   {
    "duration": 4,
    "start_time": "2022-07-26T11:20:23.811Z"
   },
   {
    "duration": 955,
    "start_time": "2022-07-26T11:20:37.644Z"
   },
   {
    "duration": 30,
    "start_time": "2022-07-26T11:23:21.855Z"
   },
   {
    "duration": 28,
    "start_time": "2022-07-26T11:24:34.121Z"
   },
   {
    "duration": 20,
    "start_time": "2022-07-26T11:25:23.447Z"
   },
   {
    "duration": 4,
    "start_time": "2022-07-26T11:29:59.266Z"
   },
   {
    "duration": 9,
    "start_time": "2022-07-26T11:30:17.329Z"
   },
   {
    "duration": 12,
    "start_time": "2022-07-26T11:30:30.939Z"
   },
   {
    "duration": 9,
    "start_time": "2022-07-26T11:37:07.680Z"
   },
   {
    "duration": 11,
    "start_time": "2022-07-26T11:37:24.696Z"
   },
   {
    "duration": 9,
    "start_time": "2022-07-26T11:38:00.123Z"
   },
   {
    "duration": 10,
    "start_time": "2022-07-26T11:38:13.177Z"
   },
   {
    "duration": 10,
    "start_time": "2022-07-26T11:41:24.038Z"
   },
   {
    "duration": 10,
    "start_time": "2022-07-26T11:41:56.135Z"
   },
   {
    "duration": 4,
    "start_time": "2022-07-26T11:42:05.940Z"
   },
   {
    "duration": 84,
    "start_time": "2022-07-26T11:42:05.946Z"
   },
   {
    "duration": 63,
    "start_time": "2022-07-26T11:42:06.032Z"
   },
   {
    "duration": 8,
    "start_time": "2022-07-26T11:42:10.750Z"
   },
   {
    "duration": 8,
    "start_time": "2022-07-26T11:42:19.199Z"
   },
   {
    "duration": 7,
    "start_time": "2022-07-26T11:42:27.503Z"
   },
   {
    "duration": 802,
    "start_time": "2022-07-26T11:42:48.161Z"
   },
   {
    "duration": 8,
    "start_time": "2022-07-26T11:46:34.887Z"
   },
   {
    "duration": 3,
    "start_time": "2022-07-26T11:46:44.290Z"
   },
   {
    "duration": 75,
    "start_time": "2022-07-26T11:46:44.296Z"
   },
   {
    "duration": 56,
    "start_time": "2022-07-26T11:46:44.373Z"
   },
   {
    "duration": 8,
    "start_time": "2022-07-26T11:46:44.431Z"
   },
   {
    "duration": 9,
    "start_time": "2022-07-26T11:46:46.711Z"
   },
   {
    "duration": 22,
    "start_time": "2022-07-26T11:46:50.448Z"
   },
   {
    "duration": 10,
    "start_time": "2022-07-26T11:47:33.641Z"
   },
   {
    "duration": 24,
    "start_time": "2022-07-26T11:47:36.034Z"
   },
   {
    "duration": 841,
    "start_time": "2022-07-26T11:52:33.138Z"
   },
   {
    "duration": 99,
    "start_time": "2022-07-26T11:53:00.316Z"
   },
   {
    "duration": 10,
    "start_time": "2022-07-26T11:54:22.006Z"
   },
   {
    "duration": 6,
    "start_time": "2022-07-26T11:54:24.989Z"
   },
   {
    "duration": 5,
    "start_time": "2022-07-26T11:54:33.985Z"
   },
   {
    "duration": 8,
    "start_time": "2022-07-26T11:54:56.102Z"
   },
   {
    "duration": 5,
    "start_time": "2022-07-26T11:54:57.663Z"
   },
   {
    "duration": 7,
    "start_time": "2022-07-26T11:56:20.457Z"
   },
   {
    "duration": 6,
    "start_time": "2022-07-26T11:56:22.320Z"
   },
   {
    "duration": 6,
    "start_time": "2022-07-26T11:56:30.055Z"
   },
   {
    "duration": 8,
    "start_time": "2022-07-26T11:56:42.504Z"
   },
   {
    "duration": 6,
    "start_time": "2022-07-26T11:56:43.728Z"
   },
   {
    "duration": 4,
    "start_time": "2022-07-26T11:56:50.353Z"
   },
   {
    "duration": 74,
    "start_time": "2022-07-26T11:56:50.359Z"
   },
   {
    "duration": 45,
    "start_time": "2022-07-26T11:56:50.435Z"
   },
   {
    "duration": 7,
    "start_time": "2022-07-26T11:56:50.481Z"
   },
   {
    "duration": 7,
    "start_time": "2022-07-26T11:56:52.360Z"
   },
   {
    "duration": 16,
    "start_time": "2022-07-26T11:56:52.906Z"
   },
   {
    "duration": 10,
    "start_time": "2022-07-26T11:56:57.496Z"
   },
   {
    "duration": 16,
    "start_time": "2022-07-26T11:56:58.125Z"
   },
   {
    "duration": 3,
    "start_time": "2022-07-26T11:57:01.839Z"
   },
   {
    "duration": 95,
    "start_time": "2022-07-26T11:57:01.844Z"
   },
   {
    "duration": 43,
    "start_time": "2022-07-26T11:57:01.941Z"
   },
   {
    "duration": 12,
    "start_time": "2022-07-26T11:57:01.986Z"
   },
   {
    "duration": 51,
    "start_time": "2022-07-26T11:57:02.000Z"
   },
   {
    "duration": 17,
    "start_time": "2022-07-26T11:57:03.714Z"
   },
   {
    "duration": 106,
    "start_time": "2022-07-26T11:57:04.302Z"
   },
   {
    "duration": 437,
    "start_time": "2022-07-26T11:58:06.012Z"
   },
   {
    "duration": 7,
    "start_time": "2022-07-26T11:58:06.610Z"
   },
   {
    "duration": 7,
    "start_time": "2022-07-26T11:58:50.053Z"
   },
   {
    "duration": 5,
    "start_time": "2022-07-26T11:58:51.596Z"
   },
   {
    "duration": 3,
    "start_time": "2022-07-26T11:58:56.674Z"
   },
   {
    "duration": 79,
    "start_time": "2022-07-26T11:58:56.679Z"
   },
   {
    "duration": 53,
    "start_time": "2022-07-26T11:58:56.760Z"
   },
   {
    "duration": 8,
    "start_time": "2022-07-26T11:58:56.815Z"
   },
   {
    "duration": 9,
    "start_time": "2022-07-26T11:58:58.613Z"
   },
   {
    "duration": 6,
    "start_time": "2022-07-26T11:58:58.813Z"
   },
   {
    "duration": 10,
    "start_time": "2022-07-26T11:59:55.693Z"
   },
   {
    "duration": 14,
    "start_time": "2022-07-26T11:59:56.181Z"
   },
   {
    "duration": 9,
    "start_time": "2022-07-26T12:00:11.117Z"
   },
   {
    "duration": 14,
    "start_time": "2022-07-26T12:00:12.243Z"
   },
   {
    "duration": 3,
    "start_time": "2022-07-26T12:01:13.885Z"
   },
   {
    "duration": 86,
    "start_time": "2022-07-26T12:01:13.890Z"
   },
   {
    "duration": 45,
    "start_time": "2022-07-26T12:01:13.978Z"
   },
   {
    "duration": 9,
    "start_time": "2022-07-26T12:01:14.025Z"
   },
   {
    "duration": 10,
    "start_time": "2022-07-26T12:01:16.246Z"
   },
   {
    "duration": 14,
    "start_time": "2022-07-26T12:01:16.759Z"
   },
   {
    "duration": 12,
    "start_time": "2022-07-26T12:01:45.073Z"
   },
   {
    "duration": 10,
    "start_time": "2022-07-26T12:02:02.136Z"
   },
   {
    "duration": 7,
    "start_time": "2022-07-26T12:02:27.242Z"
   },
   {
    "duration": 17,
    "start_time": "2022-07-26T12:02:28.353Z"
   },
   {
    "duration": 3,
    "start_time": "2022-07-26T12:02:36.217Z"
   },
   {
    "duration": 81,
    "start_time": "2022-07-26T12:02:36.222Z"
   },
   {
    "duration": 56,
    "start_time": "2022-07-26T12:02:36.305Z"
   },
   {
    "duration": 37,
    "start_time": "2022-07-26T12:02:36.363Z"
   },
   {
    "duration": 16,
    "start_time": "2022-07-26T12:02:36.401Z"
   },
   {
    "duration": 9,
    "start_time": "2022-07-26T12:02:51.730Z"
   },
   {
    "duration": 15,
    "start_time": "2022-07-26T12:02:52.322Z"
   },
   {
    "duration": 106,
    "start_time": "2022-07-26T12:03:14.856Z"
   },
   {
    "duration": 50,
    "start_time": "2022-07-26T12:03:38.012Z"
   },
   {
    "duration": 3,
    "start_time": "2022-07-26T12:03:42.371Z"
   },
   {
    "duration": 75,
    "start_time": "2022-07-26T12:03:42.377Z"
   },
   {
    "duration": 51,
    "start_time": "2022-07-26T12:03:42.454Z"
   },
   {
    "duration": 11,
    "start_time": "2022-07-26T12:03:42.507Z"
   },
   {
    "duration": 20,
    "start_time": "2022-07-26T12:03:42.519Z"
   },
   {
    "duration": 89,
    "start_time": "2022-07-26T12:03:42.542Z"
   },
   {
    "duration": 10,
    "start_time": "2022-07-26T12:03:42.632Z"
   },
   {
    "duration": 17,
    "start_time": "2022-07-26T12:03:42.644Z"
   },
   {
    "duration": 563,
    "start_time": "2022-07-26T12:03:42.664Z"
   },
   {
    "duration": 214,
    "start_time": "2022-07-26T12:03:43.228Z"
   },
   {
    "duration": 299,
    "start_time": "2022-07-26T12:03:43.444Z"
   },
   {
    "duration": 228,
    "start_time": "2022-07-26T12:03:43.745Z"
   },
   {
    "duration": 378,
    "start_time": "2022-07-26T12:03:43.974Z"
   },
   {
    "duration": 324,
    "start_time": "2022-07-26T12:03:44.353Z"
   },
   {
    "duration": 21,
    "start_time": "2022-07-26T12:03:44.679Z"
   },
   {
    "duration": 176,
    "start_time": "2022-07-26T12:03:44.703Z"
   },
   {
    "duration": 6,
    "start_time": "2022-07-26T12:03:44.881Z"
   },
   {
    "duration": 202,
    "start_time": "2022-07-26T12:03:44.888Z"
   },
   {
    "duration": 25,
    "start_time": "2022-07-26T12:03:45.092Z"
   },
   {
    "duration": 163,
    "start_time": "2022-07-26T12:03:45.119Z"
   },
   {
    "duration": 47,
    "start_time": "2022-07-26T12:03:45.284Z"
   },
   {
    "duration": 16,
    "start_time": "2022-07-26T12:03:45.333Z"
   },
   {
    "duration": 919,
    "start_time": "2022-07-26T12:07:50.945Z"
   },
   {
    "duration": 3,
    "start_time": "2022-07-26T12:08:03.010Z"
   },
   {
    "duration": 79,
    "start_time": "2022-07-26T12:08:03.015Z"
   },
   {
    "duration": 55,
    "start_time": "2022-07-26T12:08:03.096Z"
   },
   {
    "duration": 9,
    "start_time": "2022-07-26T12:08:05.290Z"
   },
   {
    "duration": 48,
    "start_time": "2022-07-26T12:08:06.802Z"
   },
   {
    "duration": 1045,
    "start_time": "2022-07-26T12:08:55.995Z"
   },
   {
    "duration": 3,
    "start_time": "2022-07-26T12:09:00.245Z"
   },
   {
    "duration": 86,
    "start_time": "2022-07-26T12:09:00.250Z"
   },
   {
    "duration": 45,
    "start_time": "2022-07-26T12:09:00.338Z"
   },
   {
    "duration": 8,
    "start_time": "2022-07-26T12:09:00.386Z"
   },
   {
    "duration": 9,
    "start_time": "2022-07-26T12:09:03.652Z"
   },
   {
    "duration": 8,
    "start_time": "2022-07-26T12:09:10.804Z"
   },
   {
    "duration": 9,
    "start_time": "2022-07-26T12:10:13.949Z"
   },
   {
    "duration": 11,
    "start_time": "2022-07-26T12:10:36.678Z"
   },
   {
    "duration": 3,
    "start_time": "2022-07-26T12:10:41.334Z"
   },
   {
    "duration": 76,
    "start_time": "2022-07-26T12:10:41.339Z"
   },
   {
    "duration": 47,
    "start_time": "2022-07-26T12:10:41.417Z"
   },
   {
    "duration": 10,
    "start_time": "2022-07-26T12:10:41.466Z"
   },
   {
    "duration": 11,
    "start_time": "2022-07-26T12:10:45.069Z"
   },
   {
    "duration": 50,
    "start_time": "2022-07-26T12:10:45.569Z"
   },
   {
    "duration": 1019,
    "start_time": "2022-07-26T12:10:56.879Z"
   },
   {
    "duration": 0,
    "start_time": "2022-07-26T12:10:57.900Z"
   },
   {
    "duration": 3,
    "start_time": "2022-07-26T12:11:00.953Z"
   },
   {
    "duration": 93,
    "start_time": "2022-07-26T12:11:00.958Z"
   },
   {
    "duration": 58,
    "start_time": "2022-07-26T12:11:01.053Z"
   },
   {
    "duration": 11,
    "start_time": "2022-07-26T12:11:01.112Z"
   },
   {
    "duration": 77,
    "start_time": "2022-07-26T12:11:01.126Z"
   },
   {
    "duration": 1197,
    "start_time": "2022-07-26T12:11:06.734Z"
   },
   {
    "duration": 5,
    "start_time": "2022-07-26T12:11:22.538Z"
   },
   {
    "duration": 96,
    "start_time": "2022-07-26T12:11:22.546Z"
   },
   {
    "duration": 61,
    "start_time": "2022-07-26T12:11:22.644Z"
   },
   {
    "duration": 10,
    "start_time": "2022-07-26T12:11:22.707Z"
   },
   {
    "duration": 46,
    "start_time": "2022-07-26T12:11:22.718Z"
   },
   {
    "duration": 40,
    "start_time": "2022-07-26T12:11:22.766Z"
   },
   {
    "duration": 23,
    "start_time": "2022-07-26T12:11:22.808Z"
   },
   {
    "duration": 475,
    "start_time": "2022-07-26T12:11:22.834Z"
   },
   {
    "duration": 225,
    "start_time": "2022-07-26T12:11:23.312Z"
   },
   {
    "duration": 278,
    "start_time": "2022-07-26T12:11:23.538Z"
   },
   {
    "duration": 200,
    "start_time": "2022-07-26T12:11:23.818Z"
   },
   {
    "duration": 304,
    "start_time": "2022-07-26T12:11:24.020Z"
   },
   {
    "duration": 184,
    "start_time": "2022-07-26T12:11:24.326Z"
   },
   {
    "duration": 7,
    "start_time": "2022-07-26T12:11:24.512Z"
   },
   {
    "duration": 214,
    "start_time": "2022-07-26T12:11:24.521Z"
   },
   {
    "duration": 5,
    "start_time": "2022-07-26T12:11:24.736Z"
   },
   {
    "duration": 177,
    "start_time": "2022-07-26T12:11:24.743Z"
   },
   {
    "duration": 11,
    "start_time": "2022-07-26T12:11:24.922Z"
   },
   {
    "duration": 170,
    "start_time": "2022-07-26T12:11:24.936Z"
   },
   {
    "duration": 27,
    "start_time": "2022-07-26T12:11:25.108Z"
   },
   {
    "duration": 41,
    "start_time": "2022-07-26T12:11:25.137Z"
   },
   {
    "duration": 840,
    "start_time": "2022-07-26T12:12:49.793Z"
   },
   {
    "duration": 874,
    "start_time": "2022-07-26T12:12:50.771Z"
   },
   {
    "duration": 3,
    "start_time": "2022-07-26T12:12:56.223Z"
   },
   {
    "duration": 74,
    "start_time": "2022-07-26T12:12:56.229Z"
   },
   {
    "duration": 50,
    "start_time": "2022-07-26T12:12:56.305Z"
   },
   {
    "duration": 12,
    "start_time": "2022-07-26T12:12:56.357Z"
   },
   {
    "duration": 48,
    "start_time": "2022-07-26T12:12:56.398Z"
   },
   {
    "duration": 1052,
    "start_time": "2022-07-26T12:13:01.386Z"
   },
   {
    "duration": 4,
    "start_time": "2022-07-26T12:13:07.335Z"
   },
   {
    "duration": 76,
    "start_time": "2022-07-26T12:13:07.341Z"
   },
   {
    "duration": 46,
    "start_time": "2022-07-26T12:13:07.419Z"
   },
   {
    "duration": 11,
    "start_time": "2022-07-26T12:13:07.466Z"
   },
   {
    "duration": 70,
    "start_time": "2022-07-26T12:13:07.478Z"
   },
   {
    "duration": 14,
    "start_time": "2022-07-26T12:13:07.550Z"
   },
   {
    "duration": 46,
    "start_time": "2022-07-26T12:13:07.566Z"
   },
   {
    "duration": 461,
    "start_time": "2022-07-26T12:13:07.614Z"
   },
   {
    "duration": 195,
    "start_time": "2022-07-26T12:13:08.078Z"
   },
   {
    "duration": 379,
    "start_time": "2022-07-26T12:13:08.275Z"
   },
   {
    "duration": 193,
    "start_time": "2022-07-26T12:13:08.656Z"
   },
   {
    "duration": 302,
    "start_time": "2022-07-26T12:13:08.851Z"
   },
   {
    "duration": 165,
    "start_time": "2022-07-26T12:13:09.156Z"
   },
   {
    "duration": 5,
    "start_time": "2022-07-26T12:13:09.322Z"
   },
   {
    "duration": 152,
    "start_time": "2022-07-26T12:13:09.329Z"
   },
   {
    "duration": 15,
    "start_time": "2022-07-26T12:13:09.483Z"
   },
   {
    "duration": 186,
    "start_time": "2022-07-26T12:13:09.500Z"
   },
   {
    "duration": 17,
    "start_time": "2022-07-26T12:13:09.688Z"
   },
   {
    "duration": 228,
    "start_time": "2022-07-26T12:13:09.708Z"
   },
   {
    "duration": 62,
    "start_time": "2022-07-26T12:13:09.938Z"
   },
   {
    "duration": 20,
    "start_time": "2022-07-26T12:13:10.002Z"
   },
   {
    "duration": 3,
    "start_time": "2022-07-26T12:13:54.261Z"
   },
   {
    "duration": 74,
    "start_time": "2022-07-26T12:13:54.266Z"
   },
   {
    "duration": 63,
    "start_time": "2022-07-26T12:13:54.343Z"
   },
   {
    "duration": 21,
    "start_time": "2022-07-26T12:13:54.410Z"
   },
   {
    "duration": 0,
    "start_time": "2022-07-26T12:13:54.434Z"
   },
   {
    "duration": 0,
    "start_time": "2022-07-26T12:13:54.436Z"
   },
   {
    "duration": 0,
    "start_time": "2022-07-26T12:13:54.437Z"
   },
   {
    "duration": 0,
    "start_time": "2022-07-26T12:13:54.439Z"
   },
   {
    "duration": 0,
    "start_time": "2022-07-26T12:13:54.440Z"
   },
   {
    "duration": 0,
    "start_time": "2022-07-26T12:13:54.441Z"
   },
   {
    "duration": 0,
    "start_time": "2022-07-26T12:13:54.442Z"
   },
   {
    "duration": 0,
    "start_time": "2022-07-26T12:13:54.443Z"
   },
   {
    "duration": 0,
    "start_time": "2022-07-26T12:13:54.445Z"
   },
   {
    "duration": 0,
    "start_time": "2022-07-26T12:13:54.446Z"
   },
   {
    "duration": 0,
    "start_time": "2022-07-26T12:13:54.447Z"
   },
   {
    "duration": 0,
    "start_time": "2022-07-26T12:13:54.448Z"
   },
   {
    "duration": 0,
    "start_time": "2022-07-26T12:13:54.450Z"
   },
   {
    "duration": 0,
    "start_time": "2022-07-26T12:13:54.452Z"
   },
   {
    "duration": 0,
    "start_time": "2022-07-26T12:13:54.497Z"
   },
   {
    "duration": 0,
    "start_time": "2022-07-26T12:13:54.499Z"
   },
   {
    "duration": 1,
    "start_time": "2022-07-26T12:13:54.500Z"
   },
   {
    "duration": 3,
    "start_time": "2022-07-26T12:14:14.235Z"
   },
   {
    "duration": 78,
    "start_time": "2022-07-26T12:14:14.240Z"
   },
   {
    "duration": 47,
    "start_time": "2022-07-26T12:14:14.320Z"
   },
   {
    "duration": 10,
    "start_time": "2022-07-26T12:14:14.369Z"
   },
   {
    "duration": 37,
    "start_time": "2022-07-26T12:14:14.381Z"
   },
   {
    "duration": 0,
    "start_time": "2022-07-26T12:14:14.420Z"
   },
   {
    "duration": 0,
    "start_time": "2022-07-26T12:14:14.422Z"
   },
   {
    "duration": 0,
    "start_time": "2022-07-26T12:14:14.423Z"
   },
   {
    "duration": 0,
    "start_time": "2022-07-26T12:14:14.425Z"
   },
   {
    "duration": 0,
    "start_time": "2022-07-26T12:14:14.426Z"
   },
   {
    "duration": 0,
    "start_time": "2022-07-26T12:14:14.427Z"
   },
   {
    "duration": 0,
    "start_time": "2022-07-26T12:14:14.428Z"
   },
   {
    "duration": 0,
    "start_time": "2022-07-26T12:14:14.430Z"
   },
   {
    "duration": 0,
    "start_time": "2022-07-26T12:14:14.432Z"
   },
   {
    "duration": 0,
    "start_time": "2022-07-26T12:14:14.433Z"
   },
   {
    "duration": 0,
    "start_time": "2022-07-26T12:14:14.434Z"
   },
   {
    "duration": 0,
    "start_time": "2022-07-26T12:14:14.436Z"
   },
   {
    "duration": 0,
    "start_time": "2022-07-26T12:14:14.437Z"
   },
   {
    "duration": 0,
    "start_time": "2022-07-26T12:14:14.438Z"
   },
   {
    "duration": 0,
    "start_time": "2022-07-26T12:14:14.440Z"
   },
   {
    "duration": 0,
    "start_time": "2022-07-26T12:14:14.441Z"
   },
   {
    "duration": 8,
    "start_time": "2022-07-26T12:14:55.726Z"
   },
   {
    "duration": 922,
    "start_time": "2022-07-26T12:14:57.486Z"
   },
   {
    "duration": 10,
    "start_time": "2022-07-26T12:15:39.287Z"
   },
   {
    "duration": 48,
    "start_time": "2022-07-26T12:15:40.599Z"
   },
   {
    "duration": 3,
    "start_time": "2022-07-26T12:17:27.619Z"
   },
   {
    "duration": 82,
    "start_time": "2022-07-26T12:17:27.624Z"
   },
   {
    "duration": 46,
    "start_time": "2022-07-26T12:17:27.708Z"
   },
   {
    "duration": 9,
    "start_time": "2022-07-26T12:17:27.756Z"
   },
   {
    "duration": 71,
    "start_time": "2022-07-26T12:17:27.766Z"
   },
   {
    "duration": 9,
    "start_time": "2022-07-26T12:17:27.838Z"
   },
   {
    "duration": 13,
    "start_time": "2022-07-26T12:17:27.849Z"
   },
   {
    "duration": 487,
    "start_time": "2022-07-26T12:17:27.863Z"
   },
   {
    "duration": 198,
    "start_time": "2022-07-26T12:17:28.352Z"
   },
   {
    "duration": 292,
    "start_time": "2022-07-26T12:17:28.551Z"
   },
   {
    "duration": 192,
    "start_time": "2022-07-26T12:17:28.845Z"
   },
   {
    "duration": 276,
    "start_time": "2022-07-26T12:17:29.039Z"
   },
   {
    "duration": 156,
    "start_time": "2022-07-26T12:17:29.317Z"
   },
   {
    "duration": 5,
    "start_time": "2022-07-26T12:17:29.475Z"
   },
   {
    "duration": 142,
    "start_time": "2022-07-26T12:17:29.481Z"
   },
   {
    "duration": 5,
    "start_time": "2022-07-26T12:17:29.624Z"
   },
   {
    "duration": 276,
    "start_time": "2022-07-26T12:17:29.630Z"
   },
   {
    "duration": 11,
    "start_time": "2022-07-26T12:17:29.907Z"
   },
   {
    "duration": 150,
    "start_time": "2022-07-26T12:17:29.920Z"
   },
   {
    "duration": 46,
    "start_time": "2022-07-26T12:17:30.072Z"
   },
   {
    "duration": 13,
    "start_time": "2022-07-26T12:17:30.120Z"
   },
   {
    "duration": 249,
    "start_time": "2022-07-26T12:19:16.142Z"
   },
   {
    "duration": 140,
    "start_time": "2022-07-26T12:19:51.039Z"
   },
   {
    "duration": 138,
    "start_time": "2022-07-26T12:44:01.227Z"
   },
   {
    "duration": 44,
    "start_time": "2022-07-26T12:44:08.688Z"
   },
   {
    "duration": 19,
    "start_time": "2022-07-26T12:44:14.898Z"
   },
   {
    "duration": 8,
    "start_time": "2022-07-26T12:50:01.830Z"
   },
   {
    "duration": 11,
    "start_time": "2022-07-26T12:50:10.352Z"
   },
   {
    "duration": 4,
    "start_time": "2022-07-26T12:50:14.640Z"
   },
   {
    "duration": 94,
    "start_time": "2022-07-26T12:50:14.647Z"
   },
   {
    "duration": 64,
    "start_time": "2022-07-26T12:50:14.744Z"
   },
   {
    "duration": 20,
    "start_time": "2022-07-26T12:50:14.811Z"
   },
   {
    "duration": 82,
    "start_time": "2022-07-26T12:50:14.833Z"
   },
   {
    "duration": 12,
    "start_time": "2022-07-26T12:50:14.917Z"
   },
   {
    "duration": 11,
    "start_time": "2022-07-26T12:50:14.931Z"
   },
   {
    "duration": 530,
    "start_time": "2022-07-26T12:50:14.944Z"
   },
   {
    "duration": 228,
    "start_time": "2022-07-26T12:50:15.477Z"
   },
   {
    "duration": 313,
    "start_time": "2022-07-26T12:50:15.707Z"
   },
   {
    "duration": 210,
    "start_time": "2022-07-26T12:50:16.022Z"
   },
   {
    "duration": 366,
    "start_time": "2022-07-26T12:50:16.234Z"
   },
   {
    "duration": 159,
    "start_time": "2022-07-26T12:50:16.607Z"
   },
   {
    "duration": 6,
    "start_time": "2022-07-26T12:50:16.768Z"
   },
   {
    "duration": 169,
    "start_time": "2022-07-26T12:50:16.775Z"
   },
   {
    "duration": 4,
    "start_time": "2022-07-26T12:50:16.946Z"
   },
   {
    "duration": 203,
    "start_time": "2022-07-26T12:50:16.952Z"
   },
   {
    "duration": 194,
    "start_time": "2022-07-26T12:50:18.695Z"
   },
   {
    "duration": 9,
    "start_time": "2022-07-26T12:50:20.215Z"
   },
   {
    "duration": 49,
    "start_time": "2022-07-26T12:53:49.625Z"
   },
   {
    "duration": 115,
    "start_time": "2022-07-26T13:00:35.582Z"
   },
   {
    "duration": 173,
    "start_time": "2022-07-26T13:07:18.100Z"
   },
   {
    "duration": 12,
    "start_time": "2022-07-26T13:07:38.510Z"
   },
   {
    "duration": 3,
    "start_time": "2022-07-26T13:07:52.894Z"
   },
   {
    "duration": 79,
    "start_time": "2022-07-26T13:07:52.899Z"
   },
   {
    "duration": 55,
    "start_time": "2022-07-26T13:07:52.980Z"
   },
   {
    "duration": 10,
    "start_time": "2022-07-26T13:07:53.038Z"
   },
   {
    "duration": 111,
    "start_time": "2022-07-26T13:07:53.050Z"
   },
   {
    "duration": 10,
    "start_time": "2022-07-26T13:07:53.163Z"
   },
   {
    "duration": 12,
    "start_time": "2022-07-26T13:07:53.174Z"
   },
   {
    "duration": 518,
    "start_time": "2022-07-26T13:07:53.187Z"
   },
   {
    "duration": 266,
    "start_time": "2022-07-26T13:07:53.708Z"
   },
   {
    "duration": 435,
    "start_time": "2022-07-26T13:07:53.977Z"
   },
   {
    "duration": 222,
    "start_time": "2022-07-26T13:07:54.429Z"
   },
   {
    "duration": 369,
    "start_time": "2022-07-26T13:07:54.653Z"
   },
   {
    "duration": 167,
    "start_time": "2022-07-26T13:07:55.025Z"
   },
   {
    "duration": 20,
    "start_time": "2022-07-26T13:07:55.199Z"
   },
   {
    "duration": 173,
    "start_time": "2022-07-26T13:07:55.222Z"
   },
   {
    "duration": 9,
    "start_time": "2022-07-26T13:07:55.397Z"
   },
   {
    "duration": 216,
    "start_time": "2022-07-26T13:07:55.410Z"
   },
   {
    "duration": 13,
    "start_time": "2022-07-26T13:07:55.628Z"
   },
   {
    "duration": 12,
    "start_time": "2022-07-26T13:07:59.428Z"
   },
   {
    "duration": 31,
    "start_time": "2022-07-26T13:08:27.045Z"
   },
   {
    "duration": 20,
    "start_time": "2022-07-26T13:08:50.115Z"
   },
   {
    "duration": 66,
    "start_time": "2022-07-26T13:11:56.891Z"
   },
   {
    "duration": 4,
    "start_time": "2022-07-26T13:12:07.424Z"
   },
   {
    "duration": 83,
    "start_time": "2022-07-26T13:12:07.429Z"
   },
   {
    "duration": 45,
    "start_time": "2022-07-26T13:12:07.514Z"
   },
   {
    "duration": 9,
    "start_time": "2022-07-26T13:12:07.561Z"
   },
   {
    "duration": 74,
    "start_time": "2022-07-26T13:12:07.572Z"
   },
   {
    "duration": 11,
    "start_time": "2022-07-26T13:12:07.648Z"
   },
   {
    "duration": 42,
    "start_time": "2022-07-26T13:12:07.661Z"
   },
   {
    "duration": 475,
    "start_time": "2022-07-26T13:12:07.705Z"
   },
   {
    "duration": 204,
    "start_time": "2022-07-26T13:12:08.182Z"
   },
   {
    "duration": 310,
    "start_time": "2022-07-26T13:12:08.390Z"
   },
   {
    "duration": 219,
    "start_time": "2022-07-26T13:12:08.702Z"
   },
   {
    "duration": 311,
    "start_time": "2022-07-26T13:12:08.922Z"
   },
   {
    "duration": 147,
    "start_time": "2022-07-26T13:12:09.235Z"
   },
   {
    "duration": 15,
    "start_time": "2022-07-26T13:12:09.384Z"
   },
   {
    "duration": 139,
    "start_time": "2022-07-26T13:12:09.401Z"
   },
   {
    "duration": 5,
    "start_time": "2022-07-26T13:12:09.541Z"
   },
   {
    "duration": 283,
    "start_time": "2022-07-26T13:12:09.548Z"
   },
   {
    "duration": 11,
    "start_time": "2022-07-26T13:12:09.833Z"
   },
   {
    "duration": 142,
    "start_time": "2022-07-26T13:12:09.845Z"
   },
   {
    "duration": 38,
    "start_time": "2022-07-26T13:12:09.988Z"
   },
   {
    "duration": 14,
    "start_time": "2022-07-26T13:12:10.028Z"
   },
   {
    "duration": 1082,
    "start_time": "2022-07-27T05:59:24.685Z"
   },
   {
    "duration": 185,
    "start_time": "2022-07-27T05:59:25.769Z"
   },
   {
    "duration": 46,
    "start_time": "2022-07-27T05:59:25.956Z"
   },
   {
    "duration": 8,
    "start_time": "2022-07-27T05:59:26.004Z"
   },
   {
    "duration": 46,
    "start_time": "2022-07-27T05:59:26.014Z"
   },
   {
    "duration": 10,
    "start_time": "2022-07-27T05:59:26.061Z"
   },
   {
    "duration": 38,
    "start_time": "2022-07-27T05:59:26.073Z"
   },
   {
    "duration": 500,
    "start_time": "2022-07-27T05:59:26.113Z"
   },
   {
    "duration": 161,
    "start_time": "2022-07-27T05:59:26.615Z"
   },
   {
    "duration": 301,
    "start_time": "2022-07-27T05:59:26.779Z"
   },
   {
    "duration": 166,
    "start_time": "2022-07-27T05:59:27.081Z"
   },
   {
    "duration": 304,
    "start_time": "2022-07-27T05:59:27.248Z"
   },
   {
    "duration": 151,
    "start_time": "2022-07-27T05:59:27.553Z"
   },
   {
    "duration": 6,
    "start_time": "2022-07-27T05:59:27.705Z"
   },
   {
    "duration": 132,
    "start_time": "2022-07-27T05:59:27.712Z"
   },
   {
    "duration": 5,
    "start_time": "2022-07-27T05:59:27.845Z"
   },
   {
    "duration": 151,
    "start_time": "2022-07-27T05:59:27.851Z"
   },
   {
    "duration": 10,
    "start_time": "2022-07-27T05:59:28.003Z"
   },
   {
    "duration": 122,
    "start_time": "2022-07-27T05:59:28.015Z"
   },
   {
    "duration": 23,
    "start_time": "2022-07-27T05:59:28.139Z"
   },
   {
    "duration": 11,
    "start_time": "2022-07-27T05:59:28.164Z"
   },
   {
    "duration": 54,
    "start_time": "2022-08-08T16:46:18.648Z"
   },
   {
    "duration": 45,
    "start_time": "2022-08-14T20:54:50.621Z"
   },
   {
    "duration": 1143,
    "start_time": "2022-08-14T20:54:58.112Z"
   },
   {
    "duration": 256,
    "start_time": "2022-08-14T20:54:59.257Z"
   },
   {
    "duration": 59,
    "start_time": "2022-08-14T20:54:59.514Z"
   },
   {
    "duration": 17,
    "start_time": "2022-08-14T20:54:59.576Z"
   },
   {
    "duration": 75,
    "start_time": "2022-08-14T20:54:59.600Z"
   },
   {
    "duration": 22,
    "start_time": "2022-08-14T20:54:59.677Z"
   },
   {
    "duration": 30,
    "start_time": "2022-08-14T20:54:59.701Z"
   },
   {
    "duration": 590,
    "start_time": "2022-08-14T20:54:59.734Z"
   },
   {
    "duration": 202,
    "start_time": "2022-08-14T20:55:00.326Z"
   },
   {
    "duration": 289,
    "start_time": "2022-08-14T20:55:00.530Z"
   },
   {
    "duration": 206,
    "start_time": "2022-08-14T20:55:00.822Z"
   },
   {
    "duration": 310,
    "start_time": "2022-08-14T20:55:01.029Z"
   },
   {
    "duration": 179,
    "start_time": "2022-08-14T20:55:01.341Z"
   },
   {
    "duration": 5,
    "start_time": "2022-08-14T20:55:01.522Z"
   },
   {
    "duration": 151,
    "start_time": "2022-08-14T20:55:01.529Z"
   },
   {
    "duration": 17,
    "start_time": "2022-08-14T20:55:01.681Z"
   },
   {
    "duration": 226,
    "start_time": "2022-08-14T20:55:01.699Z"
   },
   {
    "duration": 11,
    "start_time": "2022-08-14T20:55:01.927Z"
   },
   {
    "duration": 189,
    "start_time": "2022-08-14T20:55:01.940Z"
   },
   {
    "duration": 34,
    "start_time": "2022-08-14T20:55:02.131Z"
   },
   {
    "duration": 34,
    "start_time": "2022-08-14T20:55:02.167Z"
   },
   {
    "duration": 1020,
    "start_time": "2022-08-14T20:55:11.331Z"
   },
   {
    "duration": 1150,
    "start_time": "2022-08-14T20:55:19.572Z"
   },
   {
    "duration": 1216,
    "start_time": "2022-08-14T20:55:23.460Z"
   },
   {
    "duration": 2052,
    "start_time": "2022-09-30T08:35:25.713Z"
   },
   {
    "duration": 186,
    "start_time": "2022-09-30T08:35:27.768Z"
   },
   {
    "duration": 110,
    "start_time": "2022-09-30T08:35:27.956Z"
   },
   {
    "duration": 11,
    "start_time": "2022-09-30T08:35:28.068Z"
   },
   {
    "duration": 175,
    "start_time": "2022-09-30T08:35:28.081Z"
   },
   {
    "duration": 13,
    "start_time": "2022-09-30T08:35:28.258Z"
   },
   {
    "duration": 12,
    "start_time": "2022-09-30T08:35:28.273Z"
   },
   {
    "duration": 1993,
    "start_time": "2022-09-30T08:35:28.287Z"
   },
   {
    "duration": 986,
    "start_time": "2022-09-30T08:35:30.282Z"
   },
   {
    "duration": 1288,
    "start_time": "2022-09-30T08:35:31.271Z"
   },
   {
    "duration": 1206,
    "start_time": "2022-09-30T08:35:32.562Z"
   },
   {
    "duration": 1793,
    "start_time": "2022-09-30T08:35:33.770Z"
   },
   {
    "duration": 900,
    "start_time": "2022-09-30T08:35:35.565Z"
   },
   {
    "duration": 88,
    "start_time": "2022-09-30T08:35:36.468Z"
   },
   {
    "duration": 1201,
    "start_time": "2022-09-30T08:35:36.559Z"
   },
   {
    "duration": 92,
    "start_time": "2022-09-30T08:35:37.762Z"
   },
   {
    "duration": 2808,
    "start_time": "2022-09-30T08:35:37.856Z"
   },
   {
    "duration": 0,
    "start_time": "2022-09-30T08:35:40.667Z"
   },
   {
    "duration": 0,
    "start_time": "2022-09-30T08:35:40.668Z"
   },
   {
    "duration": 0,
    "start_time": "2022-09-30T08:35:40.669Z"
   },
   {
    "duration": 0,
    "start_time": "2022-09-30T08:35:40.670Z"
   },
   {
    "duration": 1125,
    "start_time": "2022-10-10T12:03:08.360Z"
   },
   {
    "duration": 191,
    "start_time": "2022-10-10T12:03:09.487Z"
   },
   {
    "duration": 49,
    "start_time": "2022-10-10T12:03:09.679Z"
   },
   {
    "duration": 8,
    "start_time": "2022-10-10T12:03:09.730Z"
   },
   {
    "duration": 66,
    "start_time": "2022-10-10T12:03:09.740Z"
   },
   {
    "duration": 11,
    "start_time": "2022-10-10T12:03:09.807Z"
   },
   {
    "duration": 10,
    "start_time": "2022-10-10T12:03:09.819Z"
   },
   {
    "duration": 607,
    "start_time": "2022-10-10T12:03:09.831Z"
   },
   {
    "duration": 190,
    "start_time": "2022-10-10T12:03:10.440Z"
   },
   {
    "duration": 262,
    "start_time": "2022-10-10T12:03:10.632Z"
   },
   {
    "duration": 185,
    "start_time": "2022-10-10T12:03:10.896Z"
   },
   {
    "duration": 304,
    "start_time": "2022-10-10T12:03:11.082Z"
   },
   {
    "duration": 151,
    "start_time": "2022-10-10T12:03:11.388Z"
   },
   {
    "duration": 5,
    "start_time": "2022-10-10T12:03:11.541Z"
   },
   {
    "duration": 152,
    "start_time": "2022-10-10T12:03:11.548Z"
   },
   {
    "duration": 5,
    "start_time": "2022-10-10T12:03:11.701Z"
   },
   {
    "duration": 252,
    "start_time": "2022-10-10T12:03:11.708Z"
   },
   {
    "duration": 0,
    "start_time": "2022-10-10T12:03:11.962Z"
   },
   {
    "duration": 0,
    "start_time": "2022-10-10T12:03:11.963Z"
   },
   {
    "duration": 0,
    "start_time": "2022-10-10T12:03:11.964Z"
   },
   {
    "duration": 0,
    "start_time": "2022-10-10T12:03:11.965Z"
   },
   {
    "duration": 2854,
    "start_time": "2022-10-11T07:20:02.680Z"
   },
   {
    "duration": 297,
    "start_time": "2022-10-11T07:20:05.539Z"
   },
   {
    "duration": 185,
    "start_time": "2022-10-11T07:20:05.840Z"
   },
   {
    "duration": 12,
    "start_time": "2022-10-11T07:20:06.027Z"
   },
   {
    "duration": 138,
    "start_time": "2022-10-11T07:20:06.089Z"
   },
   {
    "duration": 82,
    "start_time": "2022-10-11T07:20:06.229Z"
   },
   {
    "duration": 92,
    "start_time": "2022-10-11T07:20:06.317Z"
   },
   {
    "duration": 2289,
    "start_time": "2022-10-11T07:20:06.414Z"
   },
   {
    "duration": 986,
    "start_time": "2022-10-11T07:20:08.712Z"
   },
   {
    "duration": 817,
    "start_time": "2022-10-11T07:20:09.700Z"
   },
   {
    "duration": 811,
    "start_time": "2022-10-11T07:20:10.526Z"
   },
   {
    "duration": 1065,
    "start_time": "2022-10-11T07:20:11.339Z"
   },
   {
    "duration": 518,
    "start_time": "2022-10-11T07:20:12.405Z"
   },
   {
    "duration": 94,
    "start_time": "2022-10-11T07:20:12.930Z"
   },
   {
    "duration": 770,
    "start_time": "2022-10-11T07:20:13.033Z"
   },
   {
    "duration": 17,
    "start_time": "2022-10-11T07:20:13.810Z"
   },
   {
    "duration": 1296,
    "start_time": "2022-10-11T07:20:13.896Z"
   },
   {
    "duration": 0,
    "start_time": "2022-10-11T07:20:15.195Z"
   },
   {
    "duration": 0,
    "start_time": "2022-10-11T07:20:15.203Z"
   },
   {
    "duration": 0,
    "start_time": "2022-10-11T07:20:15.211Z"
   },
   {
    "duration": 0,
    "start_time": "2022-10-11T07:20:15.213Z"
   }
  ],
  "kernelspec": {
   "display_name": "Python 3 (ipykernel)",
   "language": "python",
   "name": "python3"
  },
  "language_info": {
   "codemirror_mode": {
    "name": "ipython",
    "version": 3
   },
   "file_extension": ".py",
   "mimetype": "text/x-python",
   "name": "python",
   "nbconvert_exporter": "python",
   "pygments_lexer": "ipython3",
   "version": "3.10.1"
  },
  "toc": {
   "base_numbering": 1,
   "nav_menu": {},
   "number_sections": true,
   "sideBar": true,
   "skip_h1_title": false,
   "title_cell": "Table of Contents",
   "title_sidebar": "Contents",
   "toc_cell": false,
   "toc_position": {},
   "toc_section_display": true,
   "toc_window_display": false
  }
 },
 "nbformat": 4,
 "nbformat_minor": 5
}
