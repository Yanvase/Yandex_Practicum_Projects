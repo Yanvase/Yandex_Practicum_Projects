{
 "cells": [
  {
   "cell_type": "code",
   "execution_count": 1,
   "id": "944fc8fa",
   "metadata": {},
   "outputs": [
    {
     "data": {
      "text/html": [
       "<style>.container { width:90% !important; }</style>"
      ],
      "text/plain": [
       "<IPython.core.display.HTML object>"
      ]
     },
     "metadata": {},
     "output_type": "display_data"
    }
   ],
   "source": [
    "from IPython.display import display, HTML\n",
    "display(HTML(\"<style>.container { width:90% !important; }</style>\"))"
   ]
  },
  {
   "cell_type": "markdown",
   "id": "a695a5fd",
   "metadata": {},
   "source": [
    "<a id='31-bullet'></a>\n",
    "\n",
    "<b> Название проекта: </b>\n",
    "    \n",
    "Анализ базы данных   \n",
    "\n",
    "<b> Данное исследование разделим на несколько частей:<b/>\n",
    "\n",
    "##### Часть 1. Изучение общей информации:\n",
    "* [1. Изучение файлов с данными, получение общей информации, загрузка библиотек.](#1-bullet)\n",
    "\n",
    "##### Часть 2. EDA:\n",
    "* [1. Посчитайте, сколько книг вышло после 1 января 2000 года;](#2.1-bullet)\n",
    "* [2. Для каждой книги посчитайте количество обзоров и среднюю оценку;](#2.2-bullet)\n",
    "* [3. Определите издательство, которое выпустило наибольшее число книг толще 50 страниц — так вы исключите из анализа брошюры;](#2.3-bullet)\n",
    "* [4. Определите автора с самой высокой средней оценкой книг — учитывайте только книги с 50 и более оценками;](#2.4-bullet)\n",
    "* [5. Посчитайте среднее количество обзоров от пользователей, которые поставили больше 50 оценок.](#2.5-bullet)\n",
    "\n",
    "##### Часть 6. Общий вывод:\n",
    "* [1. Общий вывод и рекомендации.](#6-bullet)  \n",
    "   \n",
    "\n",
    "  \n",
    "<b> Описание данных проекта:</b>\n",
    "    \n",
    "**Таблица `books`**\n",
    "\n",
    "Содержит данные о книгах:\n",
    "\n",
    "- `book_id` — идентификатор книги;\n",
    "- `author_id` — идентификатор автора;\n",
    "- `title` — название книги;\n",
    "- `num_pages` — количество страниц;\n",
    "- `publication_date` — дата публикации книги;\n",
    "- `publisher_id` — идентификатор издателя.\n",
    "\n",
    "**Таблица `authors`**\n",
    "\n",
    "Содержит данные об авторах:\n",
    "\n",
    "- `author_id` — идентификатор автора;\n",
    "- `author` — имя автора.\n",
    "\n",
    "**Таблица `publishers`**\n",
    "\n",
    "Содержит данные об издательствах:\n",
    "\n",
    "- `publisher_id` — идентификатор издательства;\n",
    "- `publisher` — название издательства;\n",
    "\n",
    "**Таблица `ratings`**\n",
    "\n",
    "Содержит данные о пользовательских оценках книг:\n",
    "\n",
    "- `rating_id` — идентификатор оценки;\n",
    "- `book_id` — идентификатор книги;\n",
    "- `username` — имя пользователя, оставившего оценку;\n",
    "- `rating` — оценка книги.\n",
    "\n",
    "**Таблица `reviews`**\n",
    "\n",
    "Содержит данные о пользовательских обзорах на книги:\n",
    "\n",
    "- `review_id` — идентификатор обзора;\n",
    "- `book_id` — идентификатор книги;\n",
    "- `username` — имя пользователя, написавшего обзор;\n",
    "- `text` — текст обзора."
   ]
  },
  {
   "cell_type": "markdown",
   "id": "87f8c671",
   "metadata": {},
   "source": [
    "<a id='1-bullet'></a>\n",
    "# Изучение общей информации:"
   ]
  },
  {
   "cell_type": "markdown",
   "id": "56509088",
   "metadata": {},
   "source": [
    "## Изучение файлов с данными, получение общей информации, загрузка библиотек."
   ]
  },
  {
   "cell_type": "code",
   "execution_count": 2,
   "id": "64297507",
   "metadata": {},
   "outputs": [],
   "source": [
    "# импортируем библиотеки\n",
    "import pandas as pd\n",
    "from sqlalchemy import create_engine\n",
    "\n",
    "# устанавливаем параметры\n",
    "db_config =  # имя пользователя\n",
    "'pwd':  # пароль\n",
    "'host': \n",
    "'port':  # порт подключения\n",
    "'db':  # название базы данных\n",
    "connection_string = 'postgresql://{}:{}@{}:{}/{}'.format(db_config['user'],\n",
    " db_config['pwd'],\n",
    " db_config['host'],\n",
    " db_config['port'],\n",
    " db_config['db'])\n",
    "# сохраняем коннектор\n",
    "engine = create_engine(connection_string, connect_args={'sslmode':'require'}) "
   ]
  },
  {
   "cell_type": "code",
   "execution_count": 3,
   "id": "35d5fa6d",
   "metadata": {},
   "outputs": [],
   "source": [
    "def sql(query):\n",
    "    query = pd.io.sql.read_sql(query, con = engine)\n",
    "    return query"
   ]
  },
  {
   "cell_type": "code",
   "execution_count": 4,
   "id": "e11cfc9c",
   "metadata": {},
   "outputs": [
    {
     "name": "stdout",
     "output_type": "stream",
     "text": [
      "<class 'pandas.core.frame.DataFrame'>\n",
      "RangeIndex: 1000 entries, 0 to 999\n",
      "Data columns (total 6 columns):\n",
      " #   Column            Non-Null Count  Dtype \n",
      "---  ------            --------------  ----- \n",
      " 0   book_id           1000 non-null   int64 \n",
      " 1   author_id         1000 non-null   int64 \n",
      " 2   title             1000 non-null   object\n",
      " 3   num_pages         1000 non-null   int64 \n",
      " 4   publication_date  1000 non-null   object\n",
      " 5   publisher_id      1000 non-null   int64 \n",
      "dtypes: int64(4), object(2)\n",
      "memory usage: 47.0+ KB\n"
     ]
    },
    {
     "data": {
      "text/html": [
       "<div>\n",
       "<style scoped>\n",
       "    .dataframe tbody tr th:only-of-type {\n",
       "        vertical-align: middle;\n",
       "    }\n",
       "\n",
       "    .dataframe tbody tr th {\n",
       "        vertical-align: top;\n",
       "    }\n",
       "\n",
       "    .dataframe thead th {\n",
       "        text-align: right;\n",
       "    }\n",
       "</style>\n",
       "<table border=\"1\" class=\"dataframe\">\n",
       "  <thead>\n",
       "    <tr style=\"text-align: right;\">\n",
       "      <th></th>\n",
       "      <th>book_id</th>\n",
       "      <th>author_id</th>\n",
       "      <th>title</th>\n",
       "      <th>num_pages</th>\n",
       "      <th>publication_date</th>\n",
       "      <th>publisher_id</th>\n",
       "    </tr>\n",
       "  </thead>\n",
       "  <tbody>\n",
       "    <tr>\n",
       "      <th>0</th>\n",
       "      <td>1</td>\n",
       "      <td>546</td>\n",
       "      <td>'Salem's Lot</td>\n",
       "      <td>594</td>\n",
       "      <td>2005-11-01</td>\n",
       "      <td>93</td>\n",
       "    </tr>\n",
       "    <tr>\n",
       "      <th>1</th>\n",
       "      <td>2</td>\n",
       "      <td>465</td>\n",
       "      <td>1 000 Places to See Before You Die</td>\n",
       "      <td>992</td>\n",
       "      <td>2003-05-22</td>\n",
       "      <td>336</td>\n",
       "    </tr>\n",
       "    <tr>\n",
       "      <th>2</th>\n",
       "      <td>3</td>\n",
       "      <td>407</td>\n",
       "      <td>13 Little Blue Envelopes (Little Blue Envelope...</td>\n",
       "      <td>322</td>\n",
       "      <td>2010-12-21</td>\n",
       "      <td>135</td>\n",
       "    </tr>\n",
       "    <tr>\n",
       "      <th>3</th>\n",
       "      <td>4</td>\n",
       "      <td>82</td>\n",
       "      <td>1491: New Revelations of the Americas Before C...</td>\n",
       "      <td>541</td>\n",
       "      <td>2006-10-10</td>\n",
       "      <td>309</td>\n",
       "    </tr>\n",
       "    <tr>\n",
       "      <th>4</th>\n",
       "      <td>5</td>\n",
       "      <td>125</td>\n",
       "      <td>1776</td>\n",
       "      <td>386</td>\n",
       "      <td>2006-07-04</td>\n",
       "      <td>268</td>\n",
       "    </tr>\n",
       "  </tbody>\n",
       "</table>\n",
       "</div>"
      ],
      "text/plain": [
       "   book_id  author_id                                              title  \\\n",
       "0        1        546                                       'Salem's Lot   \n",
       "1        2        465                 1 000 Places to See Before You Die   \n",
       "2        3        407  13 Little Blue Envelopes (Little Blue Envelope...   \n",
       "3        4         82  1491: New Revelations of the Americas Before C...   \n",
       "4        5        125                                               1776   \n",
       "\n",
       "   num_pages publication_date  publisher_id  \n",
       "0        594       2005-11-01            93  \n",
       "1        992       2003-05-22           336  \n",
       "2        322       2010-12-21           135  \n",
       "3        541       2006-10-10           309  \n",
       "4        386       2006-07-04           268  "
      ]
     },
     "execution_count": 4,
     "metadata": {},
     "output_type": "execute_result"
    }
   ],
   "source": [
    "books = \"\"\"\n",
    "SELECT * FROM books\n",
    "\"\"\"\n",
    "sql(books).info()\n",
    "sql(books).head()"
   ]
  },
  {
   "cell_type": "code",
   "execution_count": 5,
   "id": "536c7a80",
   "metadata": {},
   "outputs": [
    {
     "name": "stdout",
     "output_type": "stream",
     "text": [
      "<class 'pandas.core.frame.DataFrame'>\n",
      "RangeIndex: 636 entries, 0 to 635\n",
      "Data columns (total 2 columns):\n",
      " #   Column     Non-Null Count  Dtype \n",
      "---  ------     --------------  ----- \n",
      " 0   author_id  636 non-null    int64 \n",
      " 1   author     636 non-null    object\n",
      "dtypes: int64(1), object(1)\n",
      "memory usage: 10.1+ KB\n"
     ]
    },
    {
     "data": {
      "text/html": [
       "<div>\n",
       "<style scoped>\n",
       "    .dataframe tbody tr th:only-of-type {\n",
       "        vertical-align: middle;\n",
       "    }\n",
       "\n",
       "    .dataframe tbody tr th {\n",
       "        vertical-align: top;\n",
       "    }\n",
       "\n",
       "    .dataframe thead th {\n",
       "        text-align: right;\n",
       "    }\n",
       "</style>\n",
       "<table border=\"1\" class=\"dataframe\">\n",
       "  <thead>\n",
       "    <tr style=\"text-align: right;\">\n",
       "      <th></th>\n",
       "      <th>author_id</th>\n",
       "      <th>author</th>\n",
       "    </tr>\n",
       "  </thead>\n",
       "  <tbody>\n",
       "    <tr>\n",
       "      <th>0</th>\n",
       "      <td>1</td>\n",
       "      <td>A.S. Byatt</td>\n",
       "    </tr>\n",
       "    <tr>\n",
       "      <th>1</th>\n",
       "      <td>2</td>\n",
       "      <td>Aesop/Laura Harris/Laura Gibbs</td>\n",
       "    </tr>\n",
       "    <tr>\n",
       "      <th>2</th>\n",
       "      <td>3</td>\n",
       "      <td>Agatha Christie</td>\n",
       "    </tr>\n",
       "    <tr>\n",
       "      <th>3</th>\n",
       "      <td>4</td>\n",
       "      <td>Alan Brennert</td>\n",
       "    </tr>\n",
       "    <tr>\n",
       "      <th>4</th>\n",
       "      <td>5</td>\n",
       "      <td>Alan Moore/David   Lloyd</td>\n",
       "    </tr>\n",
       "  </tbody>\n",
       "</table>\n",
       "</div>"
      ],
      "text/plain": [
       "   author_id                          author\n",
       "0          1                      A.S. Byatt\n",
       "1          2  Aesop/Laura Harris/Laura Gibbs\n",
       "2          3                 Agatha Christie\n",
       "3          4                   Alan Brennert\n",
       "4          5        Alan Moore/David   Lloyd"
      ]
     },
     "execution_count": 5,
     "metadata": {},
     "output_type": "execute_result"
    }
   ],
   "source": [
    "authors = \"\"\"\n",
    "SELECT * FROM authors\n",
    "\"\"\"\n",
    "sql(authors).info()\n",
    "sql(authors).head()"
   ]
  },
  {
   "cell_type": "code",
   "execution_count": 6,
   "id": "007a263c",
   "metadata": {
    "scrolled": false
   },
   "outputs": [
    {
     "name": "stdout",
     "output_type": "stream",
     "text": [
      "<class 'pandas.core.frame.DataFrame'>\n",
      "RangeIndex: 340 entries, 0 to 339\n",
      "Data columns (total 2 columns):\n",
      " #   Column        Non-Null Count  Dtype \n",
      "---  ------        --------------  ----- \n",
      " 0   publisher_id  340 non-null    int64 \n",
      " 1   publisher     340 non-null    object\n",
      "dtypes: int64(1), object(1)\n",
      "memory usage: 5.4+ KB\n"
     ]
    },
    {
     "data": {
      "text/html": [
       "<div>\n",
       "<style scoped>\n",
       "    .dataframe tbody tr th:only-of-type {\n",
       "        vertical-align: middle;\n",
       "    }\n",
       "\n",
       "    .dataframe tbody tr th {\n",
       "        vertical-align: top;\n",
       "    }\n",
       "\n",
       "    .dataframe thead th {\n",
       "        text-align: right;\n",
       "    }\n",
       "</style>\n",
       "<table border=\"1\" class=\"dataframe\">\n",
       "  <thead>\n",
       "    <tr style=\"text-align: right;\">\n",
       "      <th></th>\n",
       "      <th>publisher_id</th>\n",
       "      <th>publisher</th>\n",
       "    </tr>\n",
       "  </thead>\n",
       "  <tbody>\n",
       "    <tr>\n",
       "      <th>0</th>\n",
       "      <td>1</td>\n",
       "      <td>Ace</td>\n",
       "    </tr>\n",
       "    <tr>\n",
       "      <th>1</th>\n",
       "      <td>2</td>\n",
       "      <td>Ace Book</td>\n",
       "    </tr>\n",
       "    <tr>\n",
       "      <th>2</th>\n",
       "      <td>3</td>\n",
       "      <td>Ace Books</td>\n",
       "    </tr>\n",
       "    <tr>\n",
       "      <th>3</th>\n",
       "      <td>4</td>\n",
       "      <td>Ace Hardcover</td>\n",
       "    </tr>\n",
       "    <tr>\n",
       "      <th>4</th>\n",
       "      <td>5</td>\n",
       "      <td>Addison Wesley Publishing Company</td>\n",
       "    </tr>\n",
       "  </tbody>\n",
       "</table>\n",
       "</div>"
      ],
      "text/plain": [
       "   publisher_id                          publisher\n",
       "0             1                                Ace\n",
       "1             2                           Ace Book\n",
       "2             3                          Ace Books\n",
       "3             4                      Ace Hardcover\n",
       "4             5  Addison Wesley Publishing Company"
      ]
     },
     "execution_count": 6,
     "metadata": {},
     "output_type": "execute_result"
    }
   ],
   "source": [
    "publishers = \"\"\"\n",
    "SELECT * FROM publishers\n",
    "\"\"\"\n",
    "sql(publishers).info()\n",
    "sql(publishers).head()"
   ]
  },
  {
   "cell_type": "code",
   "execution_count": 7,
   "id": "5512905b",
   "metadata": {},
   "outputs": [
    {
     "name": "stdout",
     "output_type": "stream",
     "text": [
      "<class 'pandas.core.frame.DataFrame'>\n",
      "RangeIndex: 6456 entries, 0 to 6455\n",
      "Data columns (total 4 columns):\n",
      " #   Column     Non-Null Count  Dtype \n",
      "---  ------     --------------  ----- \n",
      " 0   rating_id  6456 non-null   int64 \n",
      " 1   book_id    6456 non-null   int64 \n",
      " 2   username   6456 non-null   object\n",
      " 3   rating     6456 non-null   int64 \n",
      "dtypes: int64(3), object(1)\n",
      "memory usage: 201.9+ KB\n"
     ]
    },
    {
     "data": {
      "text/html": [
       "<div>\n",
       "<style scoped>\n",
       "    .dataframe tbody tr th:only-of-type {\n",
       "        vertical-align: middle;\n",
       "    }\n",
       "\n",
       "    .dataframe tbody tr th {\n",
       "        vertical-align: top;\n",
       "    }\n",
       "\n",
       "    .dataframe thead th {\n",
       "        text-align: right;\n",
       "    }\n",
       "</style>\n",
       "<table border=\"1\" class=\"dataframe\">\n",
       "  <thead>\n",
       "    <tr style=\"text-align: right;\">\n",
       "      <th></th>\n",
       "      <th>rating_id</th>\n",
       "      <th>book_id</th>\n",
       "      <th>username</th>\n",
       "      <th>rating</th>\n",
       "    </tr>\n",
       "  </thead>\n",
       "  <tbody>\n",
       "    <tr>\n",
       "      <th>0</th>\n",
       "      <td>1</td>\n",
       "      <td>1</td>\n",
       "      <td>ryanfranco</td>\n",
       "      <td>4</td>\n",
       "    </tr>\n",
       "    <tr>\n",
       "      <th>1</th>\n",
       "      <td>2</td>\n",
       "      <td>1</td>\n",
       "      <td>grantpatricia</td>\n",
       "      <td>2</td>\n",
       "    </tr>\n",
       "    <tr>\n",
       "      <th>2</th>\n",
       "      <td>3</td>\n",
       "      <td>1</td>\n",
       "      <td>brandtandrea</td>\n",
       "      <td>5</td>\n",
       "    </tr>\n",
       "    <tr>\n",
       "      <th>3</th>\n",
       "      <td>4</td>\n",
       "      <td>2</td>\n",
       "      <td>lorichen</td>\n",
       "      <td>3</td>\n",
       "    </tr>\n",
       "    <tr>\n",
       "      <th>4</th>\n",
       "      <td>5</td>\n",
       "      <td>2</td>\n",
       "      <td>mariokeller</td>\n",
       "      <td>2</td>\n",
       "    </tr>\n",
       "  </tbody>\n",
       "</table>\n",
       "</div>"
      ],
      "text/plain": [
       "   rating_id  book_id       username  rating\n",
       "0          1        1     ryanfranco       4\n",
       "1          2        1  grantpatricia       2\n",
       "2          3        1   brandtandrea       5\n",
       "3          4        2       lorichen       3\n",
       "4          5        2    mariokeller       2"
      ]
     },
     "execution_count": 7,
     "metadata": {},
     "output_type": "execute_result"
    }
   ],
   "source": [
    "ratings = \"\"\"\n",
    "SELECT * FROM ratings\n",
    "\"\"\"\n",
    "sql(ratings).info()\n",
    "sql(ratings).head()"
   ]
  },
  {
   "cell_type": "code",
   "execution_count": 8,
   "id": "7808d4a8",
   "metadata": {},
   "outputs": [
    {
     "name": "stdout",
     "output_type": "stream",
     "text": [
      "<class 'pandas.core.frame.DataFrame'>\n",
      "RangeIndex: 2793 entries, 0 to 2792\n",
      "Data columns (total 4 columns):\n",
      " #   Column     Non-Null Count  Dtype \n",
      "---  ------     --------------  ----- \n",
      " 0   review_id  2793 non-null   int64 \n",
      " 1   book_id    2793 non-null   int64 \n",
      " 2   username   2793 non-null   object\n",
      " 3   text       2793 non-null   object\n",
      "dtypes: int64(2), object(2)\n",
      "memory usage: 87.4+ KB\n"
     ]
    },
    {
     "data": {
      "text/html": [
       "<div>\n",
       "<style scoped>\n",
       "    .dataframe tbody tr th:only-of-type {\n",
       "        vertical-align: middle;\n",
       "    }\n",
       "\n",
       "    .dataframe tbody tr th {\n",
       "        vertical-align: top;\n",
       "    }\n",
       "\n",
       "    .dataframe thead th {\n",
       "        text-align: right;\n",
       "    }\n",
       "</style>\n",
       "<table border=\"1\" class=\"dataframe\">\n",
       "  <thead>\n",
       "    <tr style=\"text-align: right;\">\n",
       "      <th></th>\n",
       "      <th>review_id</th>\n",
       "      <th>book_id</th>\n",
       "      <th>username</th>\n",
       "      <th>text</th>\n",
       "    </tr>\n",
       "  </thead>\n",
       "  <tbody>\n",
       "    <tr>\n",
       "      <th>0</th>\n",
       "      <td>1</td>\n",
       "      <td>1</td>\n",
       "      <td>brandtandrea</td>\n",
       "      <td>Mention society tell send professor analysis. ...</td>\n",
       "    </tr>\n",
       "    <tr>\n",
       "      <th>1</th>\n",
       "      <td>2</td>\n",
       "      <td>1</td>\n",
       "      <td>ryanfranco</td>\n",
       "      <td>Foot glass pretty audience hit themselves. Amo...</td>\n",
       "    </tr>\n",
       "    <tr>\n",
       "      <th>2</th>\n",
       "      <td>3</td>\n",
       "      <td>2</td>\n",
       "      <td>lorichen</td>\n",
       "      <td>Listen treat keep worry. Miss husband tax but ...</td>\n",
       "    </tr>\n",
       "    <tr>\n",
       "      <th>3</th>\n",
       "      <td>4</td>\n",
       "      <td>3</td>\n",
       "      <td>johnsonamanda</td>\n",
       "      <td>Finally month interesting blue could nature cu...</td>\n",
       "    </tr>\n",
       "    <tr>\n",
       "      <th>4</th>\n",
       "      <td>5</td>\n",
       "      <td>3</td>\n",
       "      <td>scotttamara</td>\n",
       "      <td>Nation purpose heavy give wait song will. List...</td>\n",
       "    </tr>\n",
       "  </tbody>\n",
       "</table>\n",
       "</div>"
      ],
      "text/plain": [
       "   review_id  book_id       username  \\\n",
       "0          1        1   brandtandrea   \n",
       "1          2        1     ryanfranco   \n",
       "2          3        2       lorichen   \n",
       "3          4        3  johnsonamanda   \n",
       "4          5        3    scotttamara   \n",
       "\n",
       "                                                text  \n",
       "0  Mention society tell send professor analysis. ...  \n",
       "1  Foot glass pretty audience hit themselves. Amo...  \n",
       "2  Listen treat keep worry. Miss husband tax but ...  \n",
       "3  Finally month interesting blue could nature cu...  \n",
       "4  Nation purpose heavy give wait song will. List...  "
      ]
     },
     "execution_count": 8,
     "metadata": {},
     "output_type": "execute_result"
    }
   ],
   "source": [
    "reviews = \"\"\"\n",
    "SELECT * FROM reviews\n",
    "\"\"\"\n",
    "sql(reviews).info()\n",
    "sql(reviews).head()"
   ]
  },
  {
   "cell_type": "code",
   "execution_count": 47,
   "id": "2db6fef7",
   "metadata": {},
   "outputs": [
    {
     "data": {
      "text/html": [
       "<div>\n",
       "<style scoped>\n",
       "    .dataframe tbody tr th:only-of-type {\n",
       "        vertical-align: middle;\n",
       "    }\n",
       "\n",
       "    .dataframe tbody tr th {\n",
       "        vertical-align: top;\n",
       "    }\n",
       "\n",
       "    .dataframe thead th {\n",
       "        text-align: right;\n",
       "    }\n",
       "</style>\n",
       "<table border=\"1\" class=\"dataframe\">\n",
       "  <thead>\n",
       "    <tr style=\"text-align: right;\">\n",
       "      <th></th>\n",
       "      <th>title</th>\n",
       "      <th>review_count</th>\n",
       "      <th>avg_rating</th>\n",
       "    </tr>\n",
       "  </thead>\n",
       "  <tbody>\n",
       "    <tr>\n",
       "      <th>0</th>\n",
       "      <td>Twilight (Twilight  #1)</td>\n",
       "      <td>7</td>\n",
       "      <td>3.662500</td>\n",
       "    </tr>\n",
       "    <tr>\n",
       "      <th>1</th>\n",
       "      <td>The Book Thief</td>\n",
       "      <td>6</td>\n",
       "      <td>4.264151</td>\n",
       "    </tr>\n",
       "    <tr>\n",
       "      <th>2</th>\n",
       "      <td>Outlander (Outlander  #1)</td>\n",
       "      <td>6</td>\n",
       "      <td>4.125000</td>\n",
       "    </tr>\n",
       "    <tr>\n",
       "      <th>3</th>\n",
       "      <td>Water for Elephants</td>\n",
       "      <td>6</td>\n",
       "      <td>3.977273</td>\n",
       "    </tr>\n",
       "    <tr>\n",
       "      <th>4</th>\n",
       "      <td>The Da Vinci Code (Robert Langdon  #2)</td>\n",
       "      <td>6</td>\n",
       "      <td>3.830508</td>\n",
       "    </tr>\n",
       "  </tbody>\n",
       "</table>\n",
       "</div>"
      ],
      "text/plain": [
       "                                    title  review_count  avg_rating\n",
       "0                 Twilight (Twilight  #1)             7    3.662500\n",
       "1                          The Book Thief             6    4.264151\n",
       "2               Outlander (Outlander  #1)             6    4.125000\n",
       "3                     Water for Elephants             6    3.977273\n",
       "4  The Da Vinci Code (Robert Langdon  #2)             6    3.830508"
      ]
     },
     "execution_count": 47,
     "metadata": {},
     "output_type": "execute_result"
    }
   ],
   "source": [
    "title_rating_review = \"\"\"\n",
    "        WITH\n",
    "        rev AS(\n",
    "                SELECT book_id, COUNT(review_id) AS review_count\n",
    "                FROM reviews\n",
    "                GROUP BY book_id),\n",
    "                \n",
    "        rat AS( SELECT book_id, AVG(rating) AS avg_rating\n",
    "                FROM ratings\n",
    "                GROUP BY book_id)\n",
    "                \n",
    "        SELECT title, rev.review_count, rat.avg_rating\n",
    "        FROM books AS b\n",
    "        LEFT JOIN rat USING(book_id)\n",
    "        LEFT JOIN rev USING(book_id)        \n",
    "        WHERE rev.review_count IS NOT NULL\n",
    "        ORDER BY rev.review_count DESC\n",
    "                \"\"\"\n",
    "sql(title_rating_review).head()"
   ]
  },
  {
   "cell_type": "markdown",
   "id": "7d6e545e",
   "metadata": {},
   "source": [
    "<b> Вывод:\n",
    "    \n",
    "    Имеем 5 таблиц с информацией о книгах (books), авторов (authors), издательствах (publishers), рейтинге (ratings) и обзоров (reviews). Данные полные, но есть проблема с типом данных даты 'publication_date' в books, при работе нужно учитывать."
   ]
  },
  {
   "cell_type": "markdown",
   "id": "1b13b1f6",
   "metadata": {},
   "source": [
    "<a id='2-bullet'></a>\n",
    "# Часть 2. EDA:"
   ]
  },
  {
   "cell_type": "markdown",
   "id": "d6e1271c",
   "metadata": {},
   "source": [
    "<a id='2.1-bullet'></a>\n",
    "## Посчитайте, сколько книг вышло после 1 января 2000 года;"
   ]
  },
  {
   "cell_type": "code",
   "execution_count": 9,
   "id": "655bd027",
   "metadata": {},
   "outputs": [
    {
     "data": {
      "text/html": [
       "<div>\n",
       "<style scoped>\n",
       "    .dataframe tbody tr th:only-of-type {\n",
       "        vertical-align: middle;\n",
       "    }\n",
       "\n",
       "    .dataframe tbody tr th {\n",
       "        vertical-align: top;\n",
       "    }\n",
       "\n",
       "    .dataframe thead th {\n",
       "        text-align: right;\n",
       "    }\n",
       "</style>\n",
       "<table border=\"1\" class=\"dataframe\">\n",
       "  <thead>\n",
       "    <tr style=\"text-align: right;\">\n",
       "      <th></th>\n",
       "      <th>books_after_01_01_2000</th>\n",
       "    </tr>\n",
       "  </thead>\n",
       "  <tbody>\n",
       "    <tr>\n",
       "      <th>0</th>\n",
       "      <td>819</td>\n",
       "    </tr>\n",
       "  </tbody>\n",
       "</table>\n",
       "</div>"
      ],
      "text/plain": [
       "   books_after_01_01_2000\n",
       "0                     819"
      ]
     },
     "execution_count": 9,
     "metadata": {},
     "output_type": "execute_result"
    }
   ],
   "source": [
    "books_after_01_01_2000 = \"\"\"\n",
    "                        SELECT count(DISTINCT book_id) AS books_after_01_01_2000\n",
    "                        FROM books\n",
    "                        WHERE CAST( publication_date AS date) > '2000.01.01'\n",
    "                        \"\"\"\n",
    "sql(books_after_01_01_2000)"
   ]
  },
  {
   "cell_type": "markdown",
   "id": "593070b5",
   "metadata": {},
   "source": [
    "<b> Вывод:</b>\n",
    "819 книг вышло после 1 января 2000 года"
   ]
  },
  {
   "cell_type": "markdown",
   "id": "cf20ee50",
   "metadata": {},
   "source": [
    "<a id='2.2-bullet'></a>\n",
    "## Для каждой книги посчитайте количество обзоров и среднюю оценку;"
   ]
  },
  {
   "cell_type": "code",
   "execution_count": 53,
   "id": "2a1d5eb6",
   "metadata": {},
   "outputs": [
    {
     "data": {
      "text/html": [
       "<div>\n",
       "<style scoped>\n",
       "    .dataframe tbody tr th:only-of-type {\n",
       "        vertical-align: middle;\n",
       "    }\n",
       "\n",
       "    .dataframe tbody tr th {\n",
       "        vertical-align: top;\n",
       "    }\n",
       "\n",
       "    .dataframe thead th {\n",
       "        text-align: right;\n",
       "    }\n",
       "</style>\n",
       "<table border=\"1\" class=\"dataframe\">\n",
       "  <thead>\n",
       "    <tr style=\"text-align: right;\">\n",
       "      <th></th>\n",
       "      <th>title</th>\n",
       "      <th>review_count</th>\n",
       "      <th>avg_rating</th>\n",
       "    </tr>\n",
       "  </thead>\n",
       "  <tbody>\n",
       "    <tr>\n",
       "      <th>0</th>\n",
       "      <td>Twilight (Twilight  #1)</td>\n",
       "      <td>7</td>\n",
       "      <td>3.662500</td>\n",
       "    </tr>\n",
       "    <tr>\n",
       "      <th>1</th>\n",
       "      <td>The Book Thief</td>\n",
       "      <td>6</td>\n",
       "      <td>4.264151</td>\n",
       "    </tr>\n",
       "    <tr>\n",
       "      <th>2</th>\n",
       "      <td>Outlander (Outlander  #1)</td>\n",
       "      <td>6</td>\n",
       "      <td>4.125000</td>\n",
       "    </tr>\n",
       "    <tr>\n",
       "      <th>3</th>\n",
       "      <td>Water for Elephants</td>\n",
       "      <td>6</td>\n",
       "      <td>3.977273</td>\n",
       "    </tr>\n",
       "    <tr>\n",
       "      <th>4</th>\n",
       "      <td>The Da Vinci Code (Robert Langdon  #2)</td>\n",
       "      <td>6</td>\n",
       "      <td>3.830508</td>\n",
       "    </tr>\n",
       "  </tbody>\n",
       "</table>\n",
       "</div>"
      ],
      "text/plain": [
       "                                    title  review_count  avg_rating\n",
       "0                 Twilight (Twilight  #1)             7    3.662500\n",
       "1                          The Book Thief             6    4.264151\n",
       "2               Outlander (Outlander  #1)             6    4.125000\n",
       "3                     Water for Elephants             6    3.977273\n",
       "4  The Da Vinci Code (Robert Langdon  #2)             6    3.830508"
      ]
     },
     "execution_count": 53,
     "metadata": {},
     "output_type": "execute_result"
    }
   ],
   "source": [
    "title_rating_review = \"\"\"\n",
    "        WITH\n",
    "        rev AS(\n",
    "                SELECT book_id, COUNT(review_id) AS review_count\n",
    "                FROM reviews\n",
    "                GROUP BY book_id),\n",
    "                \n",
    "        rat AS( SELECT book_id, AVG(rating) AS avg_rating\n",
    "                FROM ratings\n",
    "                GROUP BY book_id)\n",
    "                \n",
    "        SELECT title, rev.review_count, rat.avg_rating\n",
    "        FROM books AS b\n",
    "        LEFT JOIN rat USING(book_id)\n",
    "        LEFT JOIN rev USING(book_id)        \n",
    "        WHERE review_count IS NOT NULL\n",
    "        ORDER BY review_count DESC\n",
    "                \"\"\"\n",
    "sql(title_rating_review).head()"
   ]
  },
  {
   "cell_type": "code",
   "execution_count": 63,
   "id": "fb710f1c",
   "metadata": {},
   "outputs": [
    {
     "data": {
      "text/html": [
       "<div>\n",
       "<style scoped>\n",
       "    .dataframe tbody tr th:only-of-type {\n",
       "        vertical-align: middle;\n",
       "    }\n",
       "\n",
       "    .dataframe tbody tr th {\n",
       "        vertical-align: top;\n",
       "    }\n",
       "\n",
       "    .dataframe thead th {\n",
       "        text-align: right;\n",
       "    }\n",
       "</style>\n",
       "<table border=\"1\" class=\"dataframe\">\n",
       "  <thead>\n",
       "    <tr style=\"text-align: right;\">\n",
       "      <th></th>\n",
       "      <th>title</th>\n",
       "      <th>review_count</th>\n",
       "      <th>avg_rating</th>\n",
       "    </tr>\n",
       "  </thead>\n",
       "  <tbody>\n",
       "    <tr>\n",
       "      <th>0</th>\n",
       "      <td>A Woman of Substance (Emma Harte Saga #1)</td>\n",
       "      <td>2</td>\n",
       "      <td>5.0</td>\n",
       "    </tr>\n",
       "    <tr>\n",
       "      <th>1</th>\n",
       "      <td>Pop Goes the Weasel (Alex Cross  #5)</td>\n",
       "      <td>2</td>\n",
       "      <td>5.0</td>\n",
       "    </tr>\n",
       "    <tr>\n",
       "      <th>2</th>\n",
       "      <td>In the Hand of the Goddess (Song of the Liones...</td>\n",
       "      <td>2</td>\n",
       "      <td>5.0</td>\n",
       "    </tr>\n",
       "    <tr>\n",
       "      <th>3</th>\n",
       "      <td>Piercing the Darkness (Darkness  #2)</td>\n",
       "      <td>2</td>\n",
       "      <td>5.0</td>\n",
       "    </tr>\n",
       "    <tr>\n",
       "      <th>4</th>\n",
       "      <td>Act of Treason (Mitch Rapp  #9)</td>\n",
       "      <td>2</td>\n",
       "      <td>5.0</td>\n",
       "    </tr>\n",
       "    <tr>\n",
       "      <th>5</th>\n",
       "      <td>The Big Bad Wolf  (Alex Cross  #9)</td>\n",
       "      <td>2</td>\n",
       "      <td>5.0</td>\n",
       "    </tr>\n",
       "    <tr>\n",
       "      <th>6</th>\n",
       "      <td>My Name Is Asher Lev</td>\n",
       "      <td>2</td>\n",
       "      <td>5.0</td>\n",
       "    </tr>\n",
       "    <tr>\n",
       "      <th>7</th>\n",
       "      <td>Wherever You Go  There You Are: Mindfulness Me...</td>\n",
       "      <td>2</td>\n",
       "      <td>5.0</td>\n",
       "    </tr>\n",
       "    <tr>\n",
       "      <th>8</th>\n",
       "      <td>Dead Souls</td>\n",
       "      <td>2</td>\n",
       "      <td>5.0</td>\n",
       "    </tr>\n",
       "    <tr>\n",
       "      <th>9</th>\n",
       "      <td>March</td>\n",
       "      <td>2</td>\n",
       "      <td>5.0</td>\n",
       "    </tr>\n",
       "    <tr>\n",
       "      <th>10</th>\n",
       "      <td>Welcome to Temptation (Dempseys  #1)</td>\n",
       "      <td>2</td>\n",
       "      <td>5.0</td>\n",
       "    </tr>\n",
       "    <tr>\n",
       "      <th>11</th>\n",
       "      <td>Women</td>\n",
       "      <td>2</td>\n",
       "      <td>5.0</td>\n",
       "    </tr>\n",
       "    <tr>\n",
       "      <th>12</th>\n",
       "      <td>School's Out—Forever (Maximum Ride  #2)</td>\n",
       "      <td>3</td>\n",
       "      <td>5.0</td>\n",
       "    </tr>\n",
       "    <tr>\n",
       "      <th>13</th>\n",
       "      <td>Alas  Babylon</td>\n",
       "      <td>2</td>\n",
       "      <td>5.0</td>\n",
       "    </tr>\n",
       "    <tr>\n",
       "      <th>14</th>\n",
       "      <td>Crucial Conversations: Tools for Talking When ...</td>\n",
       "      <td>2</td>\n",
       "      <td>5.0</td>\n",
       "    </tr>\n",
       "    <tr>\n",
       "      <th>15</th>\n",
       "      <td>Triptych (Will Trent  #1)</td>\n",
       "      <td>2</td>\n",
       "      <td>5.0</td>\n",
       "    </tr>\n",
       "    <tr>\n",
       "      <th>16</th>\n",
       "      <td>Stolen (Women of the Otherworld  #2)</td>\n",
       "      <td>2</td>\n",
       "      <td>5.0</td>\n",
       "    </tr>\n",
       "    <tr>\n",
       "      <th>17</th>\n",
       "      <td>Geek Love</td>\n",
       "      <td>2</td>\n",
       "      <td>5.0</td>\n",
       "    </tr>\n",
       "    <tr>\n",
       "      <th>18</th>\n",
       "      <td>How to Be a Domestic Goddess: Baking and the A...</td>\n",
       "      <td>1</td>\n",
       "      <td>5.0</td>\n",
       "    </tr>\n",
       "    <tr>\n",
       "      <th>19</th>\n",
       "      <td>Captivating: Unveiling the Mystery of a Woman'...</td>\n",
       "      <td>2</td>\n",
       "      <td>5.0</td>\n",
       "    </tr>\n",
       "    <tr>\n",
       "      <th>20</th>\n",
       "      <td>The Adventures of Tom Sawyer and Adventures of...</td>\n",
       "      <td>1</td>\n",
       "      <td>5.0</td>\n",
       "    </tr>\n",
       "    <tr>\n",
       "      <th>21</th>\n",
       "      <td>Evening Class</td>\n",
       "      <td>2</td>\n",
       "      <td>5.0</td>\n",
       "    </tr>\n",
       "    <tr>\n",
       "      <th>22</th>\n",
       "      <td>The Woman in Black</td>\n",
       "      <td>2</td>\n",
       "      <td>5.0</td>\n",
       "    </tr>\n",
       "    <tr>\n",
       "      <th>23</th>\n",
       "      <td>The Ghost Map: The Story of London's Most Terr...</td>\n",
       "      <td>2</td>\n",
       "      <td>5.0</td>\n",
       "    </tr>\n",
       "    <tr>\n",
       "      <th>24</th>\n",
       "      <td>Stone of Farewell (Memory  Sorrow  and Thorn  #2)</td>\n",
       "      <td>1</td>\n",
       "      <td>5.0</td>\n",
       "    </tr>\n",
       "    <tr>\n",
       "      <th>25</th>\n",
       "      <td>Light in August</td>\n",
       "      <td>2</td>\n",
       "      <td>5.0</td>\n",
       "    </tr>\n",
       "    <tr>\n",
       "      <th>26</th>\n",
       "      <td>Hard Times</td>\n",
       "      <td>2</td>\n",
       "      <td>5.0</td>\n",
       "    </tr>\n",
       "    <tr>\n",
       "      <th>27</th>\n",
       "      <td>Angels Fall</td>\n",
       "      <td>2</td>\n",
       "      <td>5.0</td>\n",
       "    </tr>\n",
       "    <tr>\n",
       "      <th>28</th>\n",
       "      <td>Moneyball: The Art of Winning an Unfair Game</td>\n",
       "      <td>3</td>\n",
       "      <td>5.0</td>\n",
       "    </tr>\n",
       "    <tr>\n",
       "      <th>29</th>\n",
       "      <td>Emily of New Moon (Emily  #1)</td>\n",
       "      <td>2</td>\n",
       "      <td>5.0</td>\n",
       "    </tr>\n",
       "    <tr>\n",
       "      <th>30</th>\n",
       "      <td>A Fistful of Charms (The Hollows  #4)</td>\n",
       "      <td>2</td>\n",
       "      <td>5.0</td>\n",
       "    </tr>\n",
       "    <tr>\n",
       "      <th>31</th>\n",
       "      <td>Arrows of the Queen (Heralds of Valdemar  #1)</td>\n",
       "      <td>2</td>\n",
       "      <td>5.0</td>\n",
       "    </tr>\n",
       "    <tr>\n",
       "      <th>32</th>\n",
       "      <td>Neil Gaiman's Neverwhere</td>\n",
       "      <td>2</td>\n",
       "      <td>5.0</td>\n",
       "    </tr>\n",
       "    <tr>\n",
       "      <th>33</th>\n",
       "      <td>Plum Island (John Corey  #1)</td>\n",
       "      <td>2</td>\n",
       "      <td>5.0</td>\n",
       "    </tr>\n",
       "    <tr>\n",
       "      <th>34</th>\n",
       "      <td>The Walking Dead  Book One (The Walking Dead #...</td>\n",
       "      <td>2</td>\n",
       "      <td>5.0</td>\n",
       "    </tr>\n",
       "    <tr>\n",
       "      <th>35</th>\n",
       "      <td>The Demon-Haunted World: Science as a Candle i...</td>\n",
       "      <td>2</td>\n",
       "      <td>5.0</td>\n",
       "    </tr>\n",
       "    <tr>\n",
       "      <th>36</th>\n",
       "      <td>Misty of Chincoteague (Misty  #1)</td>\n",
       "      <td>2</td>\n",
       "      <td>5.0</td>\n",
       "    </tr>\n",
       "    <tr>\n",
       "      <th>37</th>\n",
       "      <td>The War of Art: Break Through the Blocks &amp; Win...</td>\n",
       "      <td>2</td>\n",
       "      <td>5.0</td>\n",
       "    </tr>\n",
       "    <tr>\n",
       "      <th>38</th>\n",
       "      <td>A Dirty Job (Grim Reaper  #1)</td>\n",
       "      <td>4</td>\n",
       "      <td>5.0</td>\n",
       "    </tr>\n",
       "    <tr>\n",
       "      <th>39</th>\n",
       "      <td>Evil Under the Sun (Hercule Poirot  #24)</td>\n",
       "      <td>2</td>\n",
       "      <td>5.0</td>\n",
       "    </tr>\n",
       "    <tr>\n",
       "      <th>40</th>\n",
       "      <td>Marvel 1602</td>\n",
       "      <td>2</td>\n",
       "      <td>5.0</td>\n",
       "    </tr>\n",
       "    <tr>\n",
       "      <th>41</th>\n",
       "      <td>Homage to Catalonia</td>\n",
       "      <td>2</td>\n",
       "      <td>5.0</td>\n",
       "    </tr>\n",
       "    <tr>\n",
       "      <th>42</th>\n",
       "      <td>Tai-Pan (Asian Saga  #2)</td>\n",
       "      <td>2</td>\n",
       "      <td>5.0</td>\n",
       "    </tr>\n",
       "  </tbody>\n",
       "</table>\n",
       "</div>"
      ],
      "text/plain": [
       "                                                title  review_count  \\\n",
       "0           A Woman of Substance (Emma Harte Saga #1)             2   \n",
       "1                Pop Goes the Weasel (Alex Cross  #5)             2   \n",
       "2   In the Hand of the Goddess (Song of the Liones...             2   \n",
       "3                Piercing the Darkness (Darkness  #2)             2   \n",
       "4                     Act of Treason (Mitch Rapp  #9)             2   \n",
       "5                  The Big Bad Wolf  (Alex Cross  #9)             2   \n",
       "6                                My Name Is Asher Lev             2   \n",
       "7   Wherever You Go  There You Are: Mindfulness Me...             2   \n",
       "8                                          Dead Souls             2   \n",
       "9                                               March             2   \n",
       "10               Welcome to Temptation (Dempseys  #1)             2   \n",
       "11                                              Women             2   \n",
       "12            School's Out—Forever (Maximum Ride  #2)             3   \n",
       "13                                      Alas  Babylon             2   \n",
       "14  Crucial Conversations: Tools for Talking When ...             2   \n",
       "15                          Triptych (Will Trent  #1)             2   \n",
       "16               Stolen (Women of the Otherworld  #2)             2   \n",
       "17                                          Geek Love             2   \n",
       "18  How to Be a Domestic Goddess: Baking and the A...             1   \n",
       "19  Captivating: Unveiling the Mystery of a Woman'...             2   \n",
       "20  The Adventures of Tom Sawyer and Adventures of...             1   \n",
       "21                                      Evening Class             2   \n",
       "22                                 The Woman in Black             2   \n",
       "23  The Ghost Map: The Story of London's Most Terr...             2   \n",
       "24  Stone of Farewell (Memory  Sorrow  and Thorn  #2)             1   \n",
       "25                                    Light in August             2   \n",
       "26                                         Hard Times             2   \n",
       "27                                        Angels Fall             2   \n",
       "28       Moneyball: The Art of Winning an Unfair Game             3   \n",
       "29                      Emily of New Moon (Emily  #1)             2   \n",
       "30              A Fistful of Charms (The Hollows  #4)             2   \n",
       "31      Arrows of the Queen (Heralds of Valdemar  #1)             2   \n",
       "32                           Neil Gaiman's Neverwhere             2   \n",
       "33                       Plum Island (John Corey  #1)             2   \n",
       "34  The Walking Dead  Book One (The Walking Dead #...             2   \n",
       "35  The Demon-Haunted World: Science as a Candle i...             2   \n",
       "36                  Misty of Chincoteague (Misty  #1)             2   \n",
       "37  The War of Art: Break Through the Blocks & Win...             2   \n",
       "38                      A Dirty Job (Grim Reaper  #1)             4   \n",
       "39           Evil Under the Sun (Hercule Poirot  #24)             2   \n",
       "40                                        Marvel 1602             2   \n",
       "41                                Homage to Catalonia             2   \n",
       "42                           Tai-Pan (Asian Saga  #2)             2   \n",
       "\n",
       "    avg_rating  \n",
       "0          5.0  \n",
       "1          5.0  \n",
       "2          5.0  \n",
       "3          5.0  \n",
       "4          5.0  \n",
       "5          5.0  \n",
       "6          5.0  \n",
       "7          5.0  \n",
       "8          5.0  \n",
       "9          5.0  \n",
       "10         5.0  \n",
       "11         5.0  \n",
       "12         5.0  \n",
       "13         5.0  \n",
       "14         5.0  \n",
       "15         5.0  \n",
       "16         5.0  \n",
       "17         5.0  \n",
       "18         5.0  \n",
       "19         5.0  \n",
       "20         5.0  \n",
       "21         5.0  \n",
       "22         5.0  \n",
       "23         5.0  \n",
       "24         5.0  \n",
       "25         5.0  \n",
       "26         5.0  \n",
       "27         5.0  \n",
       "28         5.0  \n",
       "29         5.0  \n",
       "30         5.0  \n",
       "31         5.0  \n",
       "32         5.0  \n",
       "33         5.0  \n",
       "34         5.0  \n",
       "35         5.0  \n",
       "36         5.0  \n",
       "37         5.0  \n",
       "38         5.0  \n",
       "39         5.0  \n",
       "40         5.0  \n",
       "41         5.0  \n",
       "42         5.0  "
      ]
     },
     "execution_count": 63,
     "metadata": {},
     "output_type": "execute_result"
    }
   ],
   "source": [
    "title_rating = \"\"\"\n",
    "        WITH\n",
    "        rev AS(\n",
    "                SELECT book_id, COUNT(review_id) AS review_count\n",
    "                FROM reviews\n",
    "                GROUP BY book_id),\n",
    "                \n",
    "        rat AS( SELECT book_id, AVG(rating) AS avg_rating\n",
    "                FROM ratings\n",
    "                GROUP BY book_id)\n",
    "                \n",
    "        SELECT title, rev.review_count, rat.avg_rating\n",
    "        FROM books AS b\n",
    "        LEFT JOIN rat USING(book_id)\n",
    "        LEFT JOIN rev USING(book_id)        \n",
    "        WHERE review_count IS NOT NULL\n",
    "        ORDER BY avg_rating DESC\n",
    "                \"\"\"\n",
    "sql(title_rating).head(43)"
   ]
  },
  {
   "cell_type": "code",
   "execution_count": 52,
   "id": "ef76c837",
   "metadata": {},
   "outputs": [
    {
     "data": {
      "text/html": [
       "<div>\n",
       "<style scoped>\n",
       "    .dataframe tbody tr th:only-of-type {\n",
       "        vertical-align: middle;\n",
       "    }\n",
       "\n",
       "    .dataframe tbody tr th {\n",
       "        vertical-align: top;\n",
       "    }\n",
       "\n",
       "    .dataframe thead th {\n",
       "        text-align: right;\n",
       "    }\n",
       "</style>\n",
       "<table border=\"1\" class=\"dataframe\">\n",
       "  <thead>\n",
       "    <tr style=\"text-align: right;\">\n",
       "      <th></th>\n",
       "      <th>title</th>\n",
       "      <th>review_count</th>\n",
       "      <th>avg_rating</th>\n",
       "    </tr>\n",
       "  </thead>\n",
       "  <tbody>\n",
       "    <tr>\n",
       "      <th>0</th>\n",
       "      <td>The Cat in the Hat and Other Dr. Seuss Favorites</td>\n",
       "      <td>None</td>\n",
       "      <td>5.000000</td>\n",
       "    </tr>\n",
       "    <tr>\n",
       "      <th>1</th>\n",
       "      <td>Leonardo's Notebooks</td>\n",
       "      <td>None</td>\n",
       "      <td>4.000000</td>\n",
       "    </tr>\n",
       "    <tr>\n",
       "      <th>2</th>\n",
       "      <td>Disney's Beauty and the Beast (A Little Golden...</td>\n",
       "      <td>None</td>\n",
       "      <td>4.000000</td>\n",
       "    </tr>\n",
       "    <tr>\n",
       "      <th>3</th>\n",
       "      <td>Essential Tales and Poems</td>\n",
       "      <td>None</td>\n",
       "      <td>4.000000</td>\n",
       "    </tr>\n",
       "    <tr>\n",
       "      <th>4</th>\n",
       "      <td>Anne Rice's The Vampire Lestat: A Graphic Novel</td>\n",
       "      <td>None</td>\n",
       "      <td>3.666667</td>\n",
       "    </tr>\n",
       "    <tr>\n",
       "      <th>5</th>\n",
       "      <td>The Natural Way to Draw</td>\n",
       "      <td>None</td>\n",
       "      <td>3.000000</td>\n",
       "    </tr>\n",
       "  </tbody>\n",
       "</table>\n",
       "</div>"
      ],
      "text/plain": [
       "                                               title review_count  avg_rating\n",
       "0   The Cat in the Hat and Other Dr. Seuss Favorites         None    5.000000\n",
       "1                               Leonardo's Notebooks         None    4.000000\n",
       "2  Disney's Beauty and the Beast (A Little Golden...         None    4.000000\n",
       "3                          Essential Tales and Poems         None    4.000000\n",
       "4    Anne Rice's The Vampire Lestat: A Graphic Novel         None    3.666667\n",
       "5                            The Natural Way to Draw         None    3.000000"
      ]
     },
     "execution_count": 52,
     "metadata": {},
     "output_type": "execute_result"
    }
   ],
   "source": [
    "title_no_review = \"\"\"\n",
    "        WITH\n",
    "        rev AS(\n",
    "                SELECT book_id, COUNT(review_id) AS review_count\n",
    "                FROM reviews\n",
    "                GROUP BY book_id),\n",
    "                \n",
    "        rat AS( SELECT book_id, AVG(rating) AS avg_rating\n",
    "                FROM ratings\n",
    "                GROUP BY book_id)\n",
    "                \n",
    "        SELECT title, rev.review_count, rat.avg_rating\n",
    "        FROM books AS b\n",
    "        LEFT JOIN rat USING(book_id)\n",
    "        LEFT JOIN rev USING(book_id)\n",
    "        WHERE review_count IS NULL\n",
    "        ORDER BY avg_rating DESC\n",
    "                \"\"\"\n",
    "sql(title_no_review)"
   ]
  },
  {
   "cell_type": "markdown",
   "id": "0d4010bb",
   "metadata": {},
   "source": [
    "<b> Вывод:</b>\n",
    "В таблице для каждой книги посчитано количество обзоров и средняя оценка. \n",
    "6  книг не имеют обзоров:\n",
    "* The Cat in the Hat and Other Dr. Seuss Favorites\n",
    "* Leonardo's Notebooks\t\n",
    "* Disney's Beauty and the Beast\n",
    "* Essential Tales and Poems\t\n",
    "* Anne Rice's The Vampire Lestat: A Graphic Novel\n",
    "* The Natural Way to Draw\n",
    "По количеству обзоров лидирует: Twilight (Twilight #1)\n",
    "По рейтингу 43 книги имеют среднюю оценку 5"
   ]
  },
  {
   "cell_type": "markdown",
   "id": "3a14b319",
   "metadata": {},
   "source": [
    "<a id='2.3-bullet'></a>\n",
    "## Определите издательство, которое выпустило наибольшее число книг толще 50 страниц"
   ]
  },
  {
   "cell_type": "code",
   "execution_count": 101,
   "id": "b52625ae",
   "metadata": {},
   "outputs": [
    {
     "data": {
      "text/html": [
       "<div>\n",
       "<style scoped>\n",
       "    .dataframe tbody tr th:only-of-type {\n",
       "        vertical-align: middle;\n",
       "    }\n",
       "\n",
       "    .dataframe tbody tr th {\n",
       "        vertical-align: top;\n",
       "    }\n",
       "\n",
       "    .dataframe thead th {\n",
       "        text-align: right;\n",
       "    }\n",
       "</style>\n",
       "<table border=\"1\" class=\"dataframe\">\n",
       "  <thead>\n",
       "    <tr style=\"text-align: right;\">\n",
       "      <th></th>\n",
       "      <th>publisher</th>\n",
       "      <th>book_count</th>\n",
       "    </tr>\n",
       "  </thead>\n",
       "  <tbody>\n",
       "    <tr>\n",
       "      <th>0</th>\n",
       "      <td>Penguin Books</td>\n",
       "      <td>42</td>\n",
       "    </tr>\n",
       "  </tbody>\n",
       "</table>\n",
       "</div>"
      ],
      "text/plain": [
       "       publisher  book_count\n",
       "0  Penguin Books          42"
      ]
     },
     "execution_count": 101,
     "metadata": {},
     "output_type": "execute_result"
    }
   ],
   "source": [
    "top_publisher = \"\"\"\n",
    "                SELECT publisher, COUNT(title) as book_count\n",
    "                FROM publishers as p\n",
    "                LEFT JOIN  books AS b ON p.publisher_id = b.publisher_id\n",
    "                WHERE num_pages > 50\n",
    "                GROUP BY publisher\n",
    "                ORDER BY book_count DESC\n",
    "                LIMIT 1\n",
    "                \"\"\"\n",
    "sql(top_publisher)"
   ]
  },
  {
   "cell_type": "markdown",
   "id": "4e2b0699",
   "metadata": {},
   "source": [
    "<b> Вывод:</b>\n",
    "издательство, которое выпустило наибольшее число книг толще 50 страниц: Penguin Books"
   ]
  },
  {
   "cell_type": "markdown",
   "id": "6192bc14",
   "metadata": {},
   "source": [
    "<a id='2.4-bullet'></a>\n",
    "## Определите автора с самой высокой средней оценкой книг — учитывайте только книги с 50 и более оценками;"
   ]
  },
  {
   "cell_type": "code",
   "execution_count": 12,
   "id": "679f2396",
   "metadata": {},
   "outputs": [
    {
     "data": {
      "text/html": [
       "<div>\n",
       "<style scoped>\n",
       "    .dataframe tbody tr th:only-of-type {\n",
       "        vertical-align: middle;\n",
       "    }\n",
       "\n",
       "    .dataframe tbody tr th {\n",
       "        vertical-align: top;\n",
       "    }\n",
       "\n",
       "    .dataframe thead th {\n",
       "        text-align: right;\n",
       "    }\n",
       "</style>\n",
       "<table border=\"1\" class=\"dataframe\">\n",
       "  <thead>\n",
       "    <tr style=\"text-align: right;\">\n",
       "      <th></th>\n",
       "      <th>author</th>\n",
       "      <th>avg_rating</th>\n",
       "    </tr>\n",
       "  </thead>\n",
       "  <tbody>\n",
       "    <tr>\n",
       "      <th>0</th>\n",
       "      <td>J.K. Rowling/Mary GrandPré</td>\n",
       "      <td>4.288462</td>\n",
       "    </tr>\n",
       "  </tbody>\n",
       "</table>\n",
       "</div>"
      ],
      "text/plain": [
       "                       author  avg_rating\n",
       "0  J.K. Rowling/Mary GrandPré    4.288462"
      ]
     },
     "execution_count": 12,
     "metadata": {},
     "output_type": "execute_result"
    }
   ],
   "source": [
    "top_author = \"\"\"\n",
    "        WITH\n",
    "        title AS(\n",
    "                SELECT title, b.author_id, count(rating) AS count_rating\n",
    "                FROM books as b\n",
    "                JOIN ratings AS rat ON b.book_id = rat.book_id\n",
    "                GROUP BY title, b.author_id\n",
    "                HAVING count(rating) > 50\n",
    "                ORDER BY count_rating DESC),\n",
    "        autor AS(\n",
    "                SELECT author, b.author_id, AVG(rating) AS avg_rating\n",
    "                FROM books as b\n",
    "                JOIN authors AS a ON b.author_id = a.author_id\n",
    "                JOIN ratings AS rat ON b.book_id = rat.book_id\n",
    "                GROUP BY author, b.author_id\n",
    "                ORDER BY avg_rating DESC)\n",
    "                \n",
    "        SELECT author, avg_rating\n",
    "        FROM title\n",
    "        JOIN autor USING(author_id)\n",
    "        ORDER BY avg_rating DESC\n",
    "        LIMIT 1\n",
    "                \"\"\"\n",
    "sql(top_author)"
   ]
  },
  {
   "cell_type": "markdown",
   "id": "02451dfe",
   "metadata": {},
   "source": [
    "<b> Вывод:</b>\n",
    "Автор с самой высокой средней оценкой книг — учитывая только книги с 50 и более оценками: J.K. Rowling/Mary GrandPré\t"
   ]
  },
  {
   "cell_type": "markdown",
   "id": "08bda5d5",
   "metadata": {},
   "source": [
    "<a id='2.5-bullet'></a>\n",
    "## Посчитайте среднее количество обзоров от пользователей, которые поставили больше 50 оценок."
   ]
  },
  {
   "cell_type": "code",
   "execution_count": 13,
   "id": "031d8ee0",
   "metadata": {},
   "outputs": [
    {
     "data": {
      "text/html": [
       "<div>\n",
       "<style scoped>\n",
       "    .dataframe tbody tr th:only-of-type {\n",
       "        vertical-align: middle;\n",
       "    }\n",
       "\n",
       "    .dataframe tbody tr th {\n",
       "        vertical-align: top;\n",
       "    }\n",
       "\n",
       "    .dataframe thead th {\n",
       "        text-align: right;\n",
       "    }\n",
       "</style>\n",
       "<table border=\"1\" class=\"dataframe\">\n",
       "  <thead>\n",
       "    <tr style=\"text-align: right;\">\n",
       "      <th></th>\n",
       "      <th>avg_review_number</th>\n",
       "    </tr>\n",
       "  </thead>\n",
       "  <tbody>\n",
       "    <tr>\n",
       "      <th>0</th>\n",
       "      <td>24.333333</td>\n",
       "    </tr>\n",
       "  </tbody>\n",
       "</table>\n",
       "</div>"
      ],
      "text/plain": [
       "   avg_review_number\n",
       "0          24.333333"
      ]
     },
     "execution_count": 13,
     "metadata": {},
     "output_type": "execute_result"
    }
   ],
   "source": [
    "avg_reviews = \"\"\"\n",
    "        WITH\n",
    "        rev AS (SELECT username, COUNT(text) AS review_number\n",
    "                FROM reviews\n",
    "                GROUP BY username\n",
    "                ORDER BY review_number DESC),\n",
    "                \n",
    "        rat AS (SELECT username, COUNT(rating) AS rating_number\n",
    "                FROM ratings\n",
    "                GROUP BY username\n",
    "                HAVING COUNT(rating) > 50\n",
    "                ORDER BY rating_number DESC)\n",
    "                \n",
    "        SELECT AVG(rev.review_number) AS avg_review_number\n",
    "        FROM rev \n",
    "        JOIN rat USING(username)\n",
    "                \"\"\"\n",
    "sql(avg_reviews)"
   ]
  },
  {
   "cell_type": "markdown",
   "id": "60c9b1dd",
   "metadata": {},
   "source": [
    "<b> Вывод:</b>\n",
    "Cреднее количество обзоров от пользователей, которые поставили больше 50 оценок: 24"
   ]
  },
  {
   "cell_type": "markdown",
   "id": "4787556c",
   "metadata": {},
   "source": [
    "<a id='6-bullet'></a>\n",
    "# Часть 3. Общий вывод:"
   ]
  },
  {
   "cell_type": "markdown",
   "id": "969c779f",
   "metadata": {},
   "source": [
    "<b> Из предложенных данных, мы обнаружили: </b>\n",
    "* Имеем 5 таблиц с информацией о книгах (books), авторов (authors), издательствах (publishers), рейтинге (ratings) и обзоров (reviews). \n",
    "* Данные полные, но есть проблема с типом данных даты 'publication_date' в books. При работе учлел.\n",
    "* 819 книг вышло после 1 января 2000 года.\n",
    "* В таблице для каждой книги посчитано количество обзоров и средняя оценка. \n",
    "    * 6  книг не имеют обзоров:\n",
    "        * The Cat in the Hat and Other Dr. Seuss Favorites\n",
    "        * Leonardo's Notebooks\t\n",
    "        * Disney's Beauty and the Beast\n",
    "        * Essential Tales and Poems\t\n",
    "        * Anne Rice's The Vampire Lestat: A Graphic Novel\n",
    "        * The Natural Way to Draw\n",
    "    * По количеству обзоров лидирует: Twilight (Twilight #1)\n",
    "    * По рейтингу 43 книги имеют среднюю оценку 5\n",
    "* Издательство, которое выпустило наибольшее число книг толще 50 страниц: Penguin Books\n",
    "* Автор с самой высокой средней оценкой книг — учитывая только книги с 50 и более оценками: J.K. Rowling/Mary GrandPré\n",
    "* Cреднее количество обзоров от пользователей, которые поставили больше 50 оценок: 24"
   ]
  },
  {
   "cell_type": "markdown",
   "id": "bcf031db",
   "metadata": {},
   "source": [
    "# [Вернуться к началу.](#31-bullet)"
   ]
  },
  {
   "cell_type": "code",
   "execution_count": null,
   "id": "a4c57f64",
   "metadata": {},
   "outputs": [],
   "source": []
  }
 ],
 "metadata": {
  "ExecuteTimeLog": [
   {
    "duration": 55,
    "start_time": "2022-10-13T20:47:00.266Z"
   },
   {
    "duration": 8442,
    "start_time": "2022-10-13T20:47:00.322Z"
   },
   {
    "duration": 3,
    "start_time": "2022-10-13T20:47:08.766Z"
   },
   {
    "duration": 108,
    "start_time": "2022-10-13T20:47:08.771Z"
   },
   {
    "duration": 11,
    "start_time": "2022-10-13T20:47:08.882Z"
   },
   {
    "duration": 23,
    "start_time": "2022-10-13T20:47:08.895Z"
   },
   {
    "duration": 22,
    "start_time": "2022-10-13T20:47:08.920Z"
   },
   {
    "duration": 15,
    "start_time": "2022-10-13T20:47:08.945Z"
   },
   {
    "duration": 22,
    "start_time": "2022-10-13T20:47:08.962Z"
   },
   {
    "duration": 45,
    "start_time": "2022-10-13T20:47:08.987Z"
   },
   {
    "duration": 16,
    "start_time": "2022-10-13T20:47:09.034Z"
   },
   {
    "duration": 16,
    "start_time": "2022-10-13T20:47:09.095Z"
   },
   {
    "duration": 39,
    "start_time": "2022-10-13T20:47:09.114Z"
   },
   {
    "duration": 24,
    "start_time": "2022-10-13T20:47:21.364Z"
   },
   {
    "duration": 99,
    "start_time": "2022-10-13T20:48:18.338Z"
   },
   {
    "duration": 36,
    "start_time": "2022-10-13T21:06:25.874Z"
   },
   {
    "duration": 5904,
    "start_time": "2022-10-13T21:06:25.912Z"
   },
   {
    "duration": 2,
    "start_time": "2022-10-13T21:06:31.818Z"
   },
   {
    "duration": 274,
    "start_time": "2022-10-13T21:06:31.822Z"
   },
   {
    "duration": 76,
    "start_time": "2022-10-13T21:06:32.098Z"
   },
   {
    "duration": 75,
    "start_time": "2022-10-13T21:06:32.176Z"
   },
   {
    "duration": 75,
    "start_time": "2022-10-13T21:06:32.253Z"
   },
   {
    "duration": 75,
    "start_time": "2022-10-13T21:06:32.330Z"
   },
   {
    "duration": 74,
    "start_time": "2022-10-13T21:06:32.407Z"
   },
   {
    "duration": 114,
    "start_time": "2022-10-13T21:06:32.483Z"
   },
   {
    "duration": 76,
    "start_time": "2022-10-13T21:06:32.598Z"
   },
   {
    "duration": 82,
    "start_time": "2022-10-13T21:06:32.676Z"
   },
   {
    "duration": 77,
    "start_time": "2022-10-13T21:06:32.759Z"
   },
   {
    "duration": 78,
    "start_time": "2022-10-13T21:08:28.424Z"
   },
   {
    "duration": 169,
    "start_time": "2022-10-13T21:09:11.514Z"
   },
   {
    "duration": 154,
    "start_time": "2022-10-13T21:09:49.369Z"
   },
   {
    "duration": 151,
    "start_time": "2022-10-13T21:09:49.553Z"
   },
   {
    "duration": 148,
    "start_time": "2022-10-13T21:09:49.745Z"
   },
   {
    "duration": 149,
    "start_time": "2022-10-13T21:09:49.921Z"
   },
   {
    "duration": 52,
    "start_time": "2022-10-14T08:11:36.691Z"
   },
   {
    "duration": 71,
    "start_time": "2022-10-14T08:11:44.618Z"
   },
   {
    "duration": 6904,
    "start_time": "2022-10-14T08:11:44.692Z"
   },
   {
    "duration": 3,
    "start_time": "2022-10-14T08:11:51.599Z"
   },
   {
    "duration": 403,
    "start_time": "2022-10-14T08:11:51.604Z"
   },
   {
    "duration": 156,
    "start_time": "2022-10-14T08:11:52.009Z"
   },
   {
    "duration": 157,
    "start_time": "2022-10-14T08:11:52.167Z"
   },
   {
    "duration": 196,
    "start_time": "2022-10-14T08:11:52.326Z"
   },
   {
    "duration": 241,
    "start_time": "2022-10-14T08:11:52.524Z"
   },
   {
    "duration": 76,
    "start_time": "2022-10-14T08:11:52.768Z"
   },
   {
    "duration": 88,
    "start_time": "2022-10-14T08:11:52.846Z"
   },
   {
    "duration": 76,
    "start_time": "2022-10-14T08:11:52.936Z"
   },
   {
    "duration": 80,
    "start_time": "2022-10-14T08:11:53.014Z"
   },
   {
    "duration": 73,
    "start_time": "2022-10-14T08:11:53.096Z"
   },
   {
    "duration": 216,
    "start_time": "2022-10-14T08:12:05.928Z"
   },
   {
    "duration": 40,
    "start_time": "2022-10-14T08:12:42.682Z"
   },
   {
    "duration": 6571,
    "start_time": "2022-10-14T08:12:42.724Z"
   },
   {
    "duration": 3,
    "start_time": "2022-10-14T08:12:49.299Z"
   },
   {
    "duration": 380,
    "start_time": "2022-10-14T08:12:49.304Z"
   },
   {
    "duration": 146,
    "start_time": "2022-10-14T08:12:49.687Z"
   },
   {
    "duration": 144,
    "start_time": "2022-10-14T08:12:49.834Z"
   },
   {
    "duration": 190,
    "start_time": "2022-10-14T08:12:49.980Z"
   },
   {
    "duration": 169,
    "start_time": "2022-10-14T08:12:50.173Z"
   },
   {
    "duration": 72,
    "start_time": "2022-10-14T08:12:50.343Z"
   },
   {
    "duration": 93,
    "start_time": "2022-10-14T08:12:50.417Z"
   },
   {
    "duration": 74,
    "start_time": "2022-10-14T08:12:50.512Z"
   },
   {
    "duration": 81,
    "start_time": "2022-10-14T08:12:50.588Z"
   },
   {
    "duration": 75,
    "start_time": "2022-10-14T08:12:50.671Z"
   },
   {
    "duration": 174,
    "start_time": "2022-10-14T08:13:47.727Z"
   },
   {
    "duration": 237,
    "start_time": "2022-10-14T08:13:48.311Z"
   },
   {
    "duration": 3,
    "start_time": "2022-10-14T08:13:48.792Z"
   },
   {
    "duration": 292,
    "start_time": "2022-10-14T08:13:58.144Z"
   },
   {
    "duration": 89,
    "start_time": "2022-10-14T08:19:07.788Z"
   },
   {
    "duration": 200,
    "start_time": "2022-10-14T08:20:18.378Z"
   },
   {
    "duration": 87,
    "start_time": "2022-10-14T08:20:25.113Z"
   },
   {
    "duration": 85,
    "start_time": "2022-10-14T08:23:43.453Z"
   },
   {
    "duration": 112,
    "start_time": "2022-10-14T08:27:22.521Z"
   },
   {
    "duration": 103,
    "start_time": "2022-10-14T08:29:08.038Z"
   },
   {
    "duration": 132,
    "start_time": "2022-10-14T08:29:31.485Z"
   },
   {
    "duration": 166,
    "start_time": "2022-10-14T08:29:39.135Z"
   },
   {
    "duration": 107,
    "start_time": "2022-10-14T08:29:51.806Z"
   },
   {
    "duration": 141,
    "start_time": "2022-10-14T08:30:11.415Z"
   },
   {
    "duration": 161,
    "start_time": "2022-10-14T08:30:19.727Z"
   },
   {
    "duration": 136,
    "start_time": "2022-10-14T08:30:38.653Z"
   },
   {
    "duration": 103,
    "start_time": "2022-10-14T08:31:03.745Z"
   },
   {
    "duration": 105,
    "start_time": "2022-10-14T08:32:53.017Z"
   },
   {
    "duration": 109,
    "start_time": "2022-10-14T08:33:06.040Z"
   },
   {
    "duration": 109,
    "start_time": "2022-10-14T08:33:27.793Z"
   },
   {
    "duration": 123,
    "start_time": "2022-10-14T08:33:34.441Z"
   },
   {
    "duration": 109,
    "start_time": "2022-10-14T08:33:39.944Z"
   },
   {
    "duration": 102,
    "start_time": "2022-10-14T08:34:24.837Z"
   },
   {
    "duration": 107,
    "start_time": "2022-10-14T08:35:47.899Z"
   },
   {
    "duration": 108,
    "start_time": "2022-10-14T08:36:04.818Z"
   },
   {
    "duration": 107,
    "start_time": "2022-10-14T08:36:13.035Z"
   },
   {
    "duration": 108,
    "start_time": "2022-10-14T08:37:46.492Z"
   },
   {
    "duration": 111,
    "start_time": "2022-10-14T08:38:03.916Z"
   },
   {
    "duration": 105,
    "start_time": "2022-10-14T08:40:20.202Z"
   },
   {
    "duration": 76,
    "start_time": "2022-10-14T08:40:59.807Z"
   },
   {
    "duration": 121,
    "start_time": "2022-10-14T08:41:15.291Z"
   },
   {
    "duration": 107,
    "start_time": "2022-10-14T08:41:31.093Z"
   },
   {
    "duration": 99,
    "start_time": "2022-10-14T08:43:29.530Z"
   },
   {
    "duration": 99,
    "start_time": "2022-10-14T08:43:38.923Z"
   },
   {
    "duration": 101,
    "start_time": "2022-10-14T08:45:33.086Z"
   },
   {
    "duration": 102,
    "start_time": "2022-10-14T08:45:48.517Z"
   },
   {
    "duration": 162,
    "start_time": "2022-10-14T08:46:17.535Z"
   },
   {
    "duration": 99,
    "start_time": "2022-10-14T08:46:25.085Z"
   },
   {
    "duration": 91,
    "start_time": "2022-10-14T08:46:43.311Z"
   },
   {
    "duration": 99,
    "start_time": "2022-10-14T08:46:50.877Z"
   },
   {
    "duration": 100,
    "start_time": "2022-10-14T08:47:04.910Z"
   },
   {
    "duration": 103,
    "start_time": "2022-10-14T08:47:17.820Z"
   },
   {
    "duration": 143,
    "start_time": "2022-10-14T08:47:40.871Z"
   },
   {
    "duration": 101,
    "start_time": "2022-10-14T08:47:48.375Z"
   },
   {
    "duration": 100,
    "start_time": "2022-10-14T08:47:51.743Z"
   },
   {
    "duration": 98,
    "start_time": "2022-10-14T08:47:58.647Z"
   },
   {
    "duration": 100,
    "start_time": "2022-10-14T08:48:22.242Z"
   },
   {
    "duration": 103,
    "start_time": "2022-10-14T08:48:30.513Z"
   },
   {
    "duration": 104,
    "start_time": "2022-10-14T08:48:45.474Z"
   },
   {
    "duration": 145,
    "start_time": "2022-10-14T08:52:24.902Z"
   },
   {
    "duration": 71,
    "start_time": "2022-10-14T08:54:47.063Z"
   },
   {
    "duration": 76,
    "start_time": "2022-10-14T08:55:54.049Z"
   },
   {
    "duration": 101,
    "start_time": "2022-10-14T08:56:20.114Z"
   },
   {
    "duration": 162,
    "start_time": "2022-10-14T08:56:37.563Z"
   },
   {
    "duration": 217,
    "start_time": "2022-10-14T08:56:53.239Z"
   },
   {
    "duration": 217,
    "start_time": "2022-10-14T08:57:03.795Z"
   },
   {
    "duration": 206,
    "start_time": "2022-10-14T08:57:04.170Z"
   },
   {
    "duration": 137,
    "start_time": "2022-10-14T08:58:53.093Z"
   },
   {
    "duration": 71,
    "start_time": "2022-10-14T08:59:09.806Z"
   },
   {
    "duration": 132,
    "start_time": "2022-10-14T08:59:32.054Z"
   },
   {
    "duration": 70,
    "start_time": "2022-10-14T08:59:43.271Z"
   },
   {
    "duration": 73,
    "start_time": "2022-10-14T08:59:53.485Z"
   },
   {
    "duration": 74,
    "start_time": "2022-10-14T09:00:49.424Z"
   },
   {
    "duration": 135,
    "start_time": "2022-10-14T09:01:05.785Z"
   },
   {
    "duration": 141,
    "start_time": "2022-10-14T09:01:23.025Z"
   },
   {
    "duration": 73,
    "start_time": "2022-10-14T09:01:32.635Z"
   },
   {
    "duration": 141,
    "start_time": "2022-10-14T09:01:39.328Z"
   },
   {
    "duration": 77,
    "start_time": "2022-10-14T09:01:50.771Z"
   },
   {
    "duration": 75,
    "start_time": "2022-10-14T09:02:39.077Z"
   },
   {
    "duration": 76,
    "start_time": "2022-10-14T09:02:57.298Z"
   },
   {
    "duration": 147,
    "start_time": "2022-10-14T09:03:37.206Z"
   },
   {
    "duration": 163,
    "start_time": "2022-10-14T09:05:14.286Z"
   },
   {
    "duration": 73,
    "start_time": "2022-10-14T09:05:18.399Z"
   },
   {
    "duration": 137,
    "start_time": "2022-10-14T09:05:51.744Z"
   },
   {
    "duration": 77,
    "start_time": "2022-10-14T09:05:59.799Z"
   },
   {
    "duration": 125,
    "start_time": "2022-10-14T09:06:10.907Z"
   },
   {
    "duration": 76,
    "start_time": "2022-10-14T09:06:35.321Z"
   },
   {
    "duration": 76,
    "start_time": "2022-10-14T09:08:52.597Z"
   },
   {
    "duration": 136,
    "start_time": "2022-10-14T09:11:55.424Z"
   },
   {
    "duration": 133,
    "start_time": "2022-10-14T09:12:15.826Z"
   },
   {
    "duration": 129,
    "start_time": "2022-10-14T09:12:42.530Z"
   },
   {
    "duration": 399,
    "start_time": "2022-10-14T09:12:59.856Z"
   },
   {
    "duration": 146,
    "start_time": "2022-10-14T09:13:09.276Z"
   },
   {
    "duration": 161,
    "start_time": "2022-10-14T09:13:34.707Z"
   },
   {
    "duration": 133,
    "start_time": "2022-10-14T09:14:32.613Z"
   },
   {
    "duration": 130,
    "start_time": "2022-10-14T09:14:47.909Z"
   },
   {
    "duration": 76,
    "start_time": "2022-10-14T09:16:00.350Z"
   },
   {
    "duration": 73,
    "start_time": "2022-10-14T09:16:33.832Z"
   }
  ],
  "kernelspec": {
   "display_name": "Python 3 (ipykernel)",
   "language": "python",
   "name": "python3"
  },
  "language_info": {
   "codemirror_mode": {
    "name": "ipython",
    "version": 3
   },
   "file_extension": ".py",
   "mimetype": "text/x-python",
   "name": "python",
   "nbconvert_exporter": "python",
   "pygments_lexer": "ipython3",
   "version": "3.10.1"
  },
  "toc": {
   "base_numbering": 1,
   "nav_menu": {},
   "number_sections": true,
   "sideBar": true,
   "skip_h1_title": false,
   "title_cell": "Table of Contents",
   "title_sidebar": "Contents",
   "toc_cell": false,
   "toc_position": {},
   "toc_section_display": true,
   "toc_window_display": false
  }
 },
 "nbformat": 4,
 "nbformat_minor": 5
}
