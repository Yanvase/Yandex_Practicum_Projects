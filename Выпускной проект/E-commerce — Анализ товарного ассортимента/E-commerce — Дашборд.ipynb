{
 "cells": [
  {
   "cell_type": "markdown",
   "metadata": {},
   "source": [
    "<b> Набор №2 </b>\n",
    "\n",
    "1. Постройте диаграмму, отображающую сумму покупок по дням.\n",
    "2. Постройте гистограмму, отображающую распределение заказов по сумме.\n",
    "3. Добавьте фильтр дашборда по дате совершения покупки.\n",
    "\n",
    "<b> Ссылка на дашборд:</b>\n",
    "https://public.tableau.com/views/Finalproject_16649879463250/Dashboard?:language=en-US&publish=yes&:display_count=n&:origin=viz_share_link"
   ]
  },
  {
   "cell_type": "code",
   "execution_count": null,
   "metadata": {},
   "outputs": [],
   "source": []
  }
 ],
 "metadata": {
  "kernelspec": {
   "display_name": "Python 3 (ipykernel)",
   "language": "python",
   "name": "python3"
  },
  "language_info": {
   "codemirror_mode": {
    "name": "ipython",
    "version": 3
   },
   "file_extension": ".py",
   "mimetype": "text/x-python",
   "name": "python",
   "nbconvert_exporter": "python",
   "pygments_lexer": "ipython3",
   "version": "3.9.5"
  },
  "toc": {
   "base_numbering": 1,
   "nav_menu": {},
   "number_sections": true,
   "sideBar": true,
   "skip_h1_title": true,
   "title_cell": "Table of Contents",
   "title_sidebar": "Contents",
   "toc_cell": false,
   "toc_position": {},
   "toc_section_display": true,
   "toc_window_display": false
  }
 },
 "nbformat": 4,
 "nbformat_minor": 2
}
